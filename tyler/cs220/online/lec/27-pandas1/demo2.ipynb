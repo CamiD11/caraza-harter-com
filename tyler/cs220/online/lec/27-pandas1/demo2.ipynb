{
 "cells": [
  {
   "cell_type": "markdown",
   "metadata": {},
   "source": [
    "# DataFrames"
   ]
  },
  {
   "cell_type": "code",
   "execution_count": 1,
   "metadata": {},
   "outputs": [],
   "source": [
    "import pandas as pd"
   ]
  },
  {
   "cell_type": "code",
   "execution_count": 2,
   "metadata": {},
   "outputs": [],
   "source": [
    "df = pd.read_csv(\"madison.csv\")"
   ]
  },
  {
   "cell_type": "code",
   "execution_count": 3,
   "metadata": {},
   "outputs": [
    {
     "data": {
      "text/plain": [
       "pandas.core.frame.DataFrame"
      ]
     },
     "execution_count": 3,
     "metadata": {},
     "output_type": "execute_result"
    }
   ],
   "source": [
    "type(df)"
   ]
  },
  {
   "cell_type": "code",
   "execution_count": 4,
   "metadata": {},
   "outputs": [
    {
     "data": {
      "text/html": [
       "<div>\n",
       "<style scoped>\n",
       "    .dataframe tbody tr th:only-of-type {\n",
       "        vertical-align: middle;\n",
       "    }\n",
       "\n",
       "    .dataframe tbody tr th {\n",
       "        vertical-align: top;\n",
       "    }\n",
       "\n",
       "    .dataframe thead th {\n",
       "        text-align: right;\n",
       "    }\n",
       "</style>\n",
       "<table border=\"1\" class=\"dataframe\">\n",
       "  <thead>\n",
       "    <tr style=\"text-align: right;\">\n",
       "      <th></th>\n",
       "      <th>agency_id</th>\n",
       "      <th>agency</th>\n",
       "      <th>2015</th>\n",
       "      <th>2016</th>\n",
       "      <th>2017</th>\n",
       "      <th>2018</th>\n",
       "    </tr>\n",
       "  </thead>\n",
       "  <tbody>\n",
       "    <tr>\n",
       "      <th>0</th>\n",
       "      <td>5</td>\n",
       "      <td>police</td>\n",
       "      <td>68063468.77</td>\n",
       "      <td>71325756.15</td>\n",
       "      <td>73247947.66</td>\n",
       "      <td>77875535.04</td>\n",
       "    </tr>\n",
       "    <tr>\n",
       "      <th>1</th>\n",
       "      <td>6</td>\n",
       "      <td>fire</td>\n",
       "      <td>49737578.77</td>\n",
       "      <td>51968340.48</td>\n",
       "      <td>53144053.32</td>\n",
       "      <td>55215007.26</td>\n",
       "    </tr>\n",
       "    <tr>\n",
       "      <th>2</th>\n",
       "      <td>9</td>\n",
       "      <td>library</td>\n",
       "      <td>16965434.25</td>\n",
       "      <td>18125521.39</td>\n",
       "      <td>19136347.73</td>\n",
       "      <td>19845065.80</td>\n",
       "    </tr>\n",
       "    <tr>\n",
       "      <th>3</th>\n",
       "      <td>12</td>\n",
       "      <td>parks</td>\n",
       "      <td>18371421.04</td>\n",
       "      <td>19159243.28</td>\n",
       "      <td>19316837.02</td>\n",
       "      <td>19760710.00</td>\n",
       "    </tr>\n",
       "    <tr>\n",
       "      <th>4</th>\n",
       "      <td>15</td>\n",
       "      <td>streets</td>\n",
       "      <td>25368879.94</td>\n",
       "      <td>28228621.80</td>\n",
       "      <td>26655754.42</td>\n",
       "      <td>27798933.74</td>\n",
       "    </tr>\n",
       "  </tbody>\n",
       "</table>\n",
       "</div>"
      ],
      "text/plain": [
       "   agency_id   agency         2015         2016         2017         2018\n",
       "0          5   police  68063468.77  71325756.15  73247947.66  77875535.04\n",
       "1          6     fire  49737578.77  51968340.48  53144053.32  55215007.26\n",
       "2          9  library  16965434.25  18125521.39  19136347.73  19845065.80\n",
       "3         12    parks  18371421.04  19159243.28  19316837.02  19760710.00\n",
       "4         15  streets  25368879.94  28228621.80  26655754.42  27798933.74"
      ]
     },
     "execution_count": 4,
     "metadata": {},
     "output_type": "execute_result"
    }
   ],
   "source": [
    "df"
   ]
  },
  {
   "cell_type": "code",
   "execution_count": 5,
   "metadata": {},
   "outputs": [
    {
     "data": {
      "text/plain": [
       "27798933.74000001"
      ]
     },
     "execution_count": 5,
     "metadata": {},
     "output_type": "execute_result"
    }
   ],
   "source": [
    "df.iat[-1, -1]"
   ]
  },
  {
   "cell_type": "code",
   "execution_count": 6,
   "metadata": {},
   "outputs": [
    {
     "data": {
      "text/plain": [
       "19159243.279999994"
      ]
     },
     "execution_count": 6,
     "metadata": {},
     "output_type": "execute_result"
    }
   ],
   "source": [
    "df.at[3, \"2016\"]"
   ]
  },
  {
   "cell_type": "code",
   "execution_count": 7,
   "metadata": {},
   "outputs": [
    {
     "data": {
      "text/plain": [
       "19136347.73"
      ]
     },
     "execution_count": 7,
     "metadata": {},
     "output_type": "execute_result"
    }
   ],
   "source": [
    "df.set_index(\"agency_id\").at[9, \"2017\"]"
   ]
  },
  {
   "cell_type": "code",
   "execution_count": 8,
   "metadata": {},
   "outputs": [
    {
     "data": {
      "text/html": [
       "<div>\n",
       "<style scoped>\n",
       "    .dataframe tbody tr th:only-of-type {\n",
       "        vertical-align: middle;\n",
       "    }\n",
       "\n",
       "    .dataframe tbody tr th {\n",
       "        vertical-align: top;\n",
       "    }\n",
       "\n",
       "    .dataframe thead th {\n",
       "        text-align: right;\n",
       "    }\n",
       "</style>\n",
       "<table border=\"1\" class=\"dataframe\">\n",
       "  <thead>\n",
       "    <tr style=\"text-align: right;\">\n",
       "      <th></th>\n",
       "      <th>agency</th>\n",
       "      <th>2015</th>\n",
       "      <th>2016</th>\n",
       "      <th>2017</th>\n",
       "      <th>2018</th>\n",
       "    </tr>\n",
       "    <tr>\n",
       "      <th>agency_id</th>\n",
       "      <th></th>\n",
       "      <th></th>\n",
       "      <th></th>\n",
       "      <th></th>\n",
       "      <th></th>\n",
       "    </tr>\n",
       "  </thead>\n",
       "  <tbody>\n",
       "    <tr>\n",
       "      <th>5</th>\n",
       "      <td>police</td>\n",
       "      <td>68063468.77</td>\n",
       "      <td>71325756.15</td>\n",
       "      <td>73247947.66</td>\n",
       "      <td>77875535.04</td>\n",
       "    </tr>\n",
       "    <tr>\n",
       "      <th>6</th>\n",
       "      <td>fire</td>\n",
       "      <td>49737578.77</td>\n",
       "      <td>51968340.48</td>\n",
       "      <td>53144053.32</td>\n",
       "      <td>55215007.26</td>\n",
       "    </tr>\n",
       "    <tr>\n",
       "      <th>9</th>\n",
       "      <td>library</td>\n",
       "      <td>16965434.25</td>\n",
       "      <td>18125521.39</td>\n",
       "      <td>19136347.73</td>\n",
       "      <td>19845065.80</td>\n",
       "    </tr>\n",
       "    <tr>\n",
       "      <th>12</th>\n",
       "      <td>parks</td>\n",
       "      <td>18371421.04</td>\n",
       "      <td>19159243.28</td>\n",
       "      <td>19316837.02</td>\n",
       "      <td>19760710.00</td>\n",
       "    </tr>\n",
       "    <tr>\n",
       "      <th>15</th>\n",
       "      <td>streets</td>\n",
       "      <td>25368879.94</td>\n",
       "      <td>28228621.80</td>\n",
       "      <td>26655754.42</td>\n",
       "      <td>27798933.74</td>\n",
       "    </tr>\n",
       "  </tbody>\n",
       "</table>\n",
       "</div>"
      ],
      "text/plain": [
       "            agency         2015         2016         2017         2018\n",
       "agency_id                                                             \n",
       "5           police  68063468.77  71325756.15  73247947.66  77875535.04\n",
       "6             fire  49737578.77  51968340.48  53144053.32  55215007.26\n",
       "9          library  16965434.25  18125521.39  19136347.73  19845065.80\n",
       "12           parks  18371421.04  19159243.28  19316837.02  19760710.00\n",
       "15         streets  25368879.94  28228621.80  26655754.42  27798933.74"
      ]
     },
     "execution_count": 8,
     "metadata": {},
     "output_type": "execute_result"
    }
   ],
   "source": [
    "df = df.set_index(\"agency_id\")\n",
    "df"
   ]
  },
  {
   "cell_type": "code",
   "execution_count": 9,
   "metadata": {},
   "outputs": [
    {
     "data": {
      "text/html": [
       "<div>\n",
       "<style scoped>\n",
       "    .dataframe tbody tr th:only-of-type {\n",
       "        vertical-align: middle;\n",
       "    }\n",
       "\n",
       "    .dataframe tbody tr th {\n",
       "        vertical-align: top;\n",
       "    }\n",
       "\n",
       "    .dataframe thead th {\n",
       "        text-align: right;\n",
       "    }\n",
       "</style>\n",
       "<table border=\"1\" class=\"dataframe\">\n",
       "  <thead>\n",
       "    <tr style=\"text-align: right;\">\n",
       "      <th></th>\n",
       "      <th>agency_id</th>\n",
       "      <th>2015</th>\n",
       "      <th>2016</th>\n",
       "      <th>2017</th>\n",
       "      <th>2018</th>\n",
       "    </tr>\n",
       "    <tr>\n",
       "      <th>agency</th>\n",
       "      <th></th>\n",
       "      <th></th>\n",
       "      <th></th>\n",
       "      <th></th>\n",
       "      <th></th>\n",
       "    </tr>\n",
       "  </thead>\n",
       "  <tbody>\n",
       "    <tr>\n",
       "      <th>police</th>\n",
       "      <td>5</td>\n",
       "      <td>68063468.77</td>\n",
       "      <td>71325756.15</td>\n",
       "      <td>73247947.66</td>\n",
       "      <td>77875535.04</td>\n",
       "    </tr>\n",
       "    <tr>\n",
       "      <th>fire</th>\n",
       "      <td>6</td>\n",
       "      <td>49737578.77</td>\n",
       "      <td>51968340.48</td>\n",
       "      <td>53144053.32</td>\n",
       "      <td>55215007.26</td>\n",
       "    </tr>\n",
       "    <tr>\n",
       "      <th>library</th>\n",
       "      <td>9</td>\n",
       "      <td>16965434.25</td>\n",
       "      <td>18125521.39</td>\n",
       "      <td>19136347.73</td>\n",
       "      <td>19845065.80</td>\n",
       "    </tr>\n",
       "    <tr>\n",
       "      <th>parks</th>\n",
       "      <td>12</td>\n",
       "      <td>18371421.04</td>\n",
       "      <td>19159243.28</td>\n",
       "      <td>19316837.02</td>\n",
       "      <td>19760710.00</td>\n",
       "    </tr>\n",
       "    <tr>\n",
       "      <th>streets</th>\n",
       "      <td>15</td>\n",
       "      <td>25368879.94</td>\n",
       "      <td>28228621.80</td>\n",
       "      <td>26655754.42</td>\n",
       "      <td>27798933.74</td>\n",
       "    </tr>\n",
       "  </tbody>\n",
       "</table>\n",
       "</div>"
      ],
      "text/plain": [
       "         agency_id         2015         2016         2017         2018\n",
       "agency                                                                \n",
       "police           5  68063468.77  71325756.15  73247947.66  77875535.04\n",
       "fire             6  49737578.77  51968340.48  53144053.32  55215007.26\n",
       "library          9  16965434.25  18125521.39  19136347.73  19845065.80\n",
       "parks           12  18371421.04  19159243.28  19316837.02  19760710.00\n",
       "streets         15  25368879.94  28228621.80  26655754.42  27798933.74"
      ]
     },
     "execution_count": 9,
     "metadata": {},
     "output_type": "execute_result"
    }
   ],
   "source": [
    "df = df.reset_index().set_index(\"agency\")\n",
    "df"
   ]
  },
  {
   "cell_type": "code",
   "execution_count": 10,
   "metadata": {},
   "outputs": [
    {
     "data": {
      "text/plain": [
       "55215007.26000002"
      ]
     },
     "execution_count": 10,
     "metadata": {},
     "output_type": "execute_result"
    }
   ],
   "source": [
    "df.loc[\"fire\", \"2018\"]"
   ]
  },
  {
   "cell_type": "code",
   "execution_count": 11,
   "metadata": {},
   "outputs": [
    {
     "data": {
      "text/html": [
       "<div>\n",
       "<style scoped>\n",
       "    .dataframe tbody tr th:only-of-type {\n",
       "        vertical-align: middle;\n",
       "    }\n",
       "\n",
       "    .dataframe tbody tr th {\n",
       "        vertical-align: top;\n",
       "    }\n",
       "\n",
       "    .dataframe thead th {\n",
       "        text-align: right;\n",
       "    }\n",
       "</style>\n",
       "<table border=\"1\" class=\"dataframe\">\n",
       "  <thead>\n",
       "    <tr style=\"text-align: right;\">\n",
       "      <th></th>\n",
       "      <th>2016</th>\n",
       "      <th>2017</th>\n",
       "      <th>2018</th>\n",
       "    </tr>\n",
       "    <tr>\n",
       "      <th>agency</th>\n",
       "      <th></th>\n",
       "      <th></th>\n",
       "      <th></th>\n",
       "    </tr>\n",
       "  </thead>\n",
       "  <tbody>\n",
       "    <tr>\n",
       "      <th>police</th>\n",
       "      <td>71325756.15</td>\n",
       "      <td>73247947.66</td>\n",
       "      <td>77875535.04</td>\n",
       "    </tr>\n",
       "    <tr>\n",
       "      <th>fire</th>\n",
       "      <td>51968340.48</td>\n",
       "      <td>53144053.32</td>\n",
       "      <td>55215007.26</td>\n",
       "    </tr>\n",
       "    <tr>\n",
       "      <th>library</th>\n",
       "      <td>18125521.39</td>\n",
       "      <td>19136347.73</td>\n",
       "      <td>19845065.80</td>\n",
       "    </tr>\n",
       "    <tr>\n",
       "      <th>parks</th>\n",
       "      <td>19159243.28</td>\n",
       "      <td>19316837.02</td>\n",
       "      <td>19760710.00</td>\n",
       "    </tr>\n",
       "    <tr>\n",
       "      <th>streets</th>\n",
       "      <td>28228621.80</td>\n",
       "      <td>26655754.42</td>\n",
       "      <td>27798933.74</td>\n",
       "    </tr>\n",
       "  </tbody>\n",
       "</table>\n",
       "</div>"
      ],
      "text/plain": [
       "                2016         2017         2018\n",
       "agency                                        \n",
       "police   71325756.15  73247947.66  77875535.04\n",
       "fire     51968340.48  53144053.32  55215007.26\n",
       "library  18125521.39  19136347.73  19845065.80\n",
       "parks    19159243.28  19316837.02  19760710.00\n",
       "streets  28228621.80  26655754.42  27798933.74"
      ]
     },
     "execution_count": 11,
     "metadata": {},
     "output_type": "execute_result"
    }
   ],
   "source": [
    "df2 = df.loc[:, \"2016\":]\n",
    "df2"
   ]
  },
  {
   "cell_type": "code",
   "execution_count": 12,
   "metadata": {},
   "outputs": [
    {
     "data": {
      "text/html": [
       "<div>\n",
       "<style scoped>\n",
       "    .dataframe tbody tr th:only-of-type {\n",
       "        vertical-align: middle;\n",
       "    }\n",
       "\n",
       "    .dataframe tbody tr th {\n",
       "        vertical-align: top;\n",
       "    }\n",
       "\n",
       "    .dataframe thead th {\n",
       "        text-align: right;\n",
       "    }\n",
       "</style>\n",
       "<table border=\"1\" class=\"dataframe\">\n",
       "  <thead>\n",
       "    <tr style=\"text-align: right;\">\n",
       "      <th></th>\n",
       "      <th>2016</th>\n",
       "      <th>2017</th>\n",
       "      <th>2018</th>\n",
       "    </tr>\n",
       "    <tr>\n",
       "      <th>agency</th>\n",
       "      <th></th>\n",
       "      <th></th>\n",
       "      <th></th>\n",
       "    </tr>\n",
       "  </thead>\n",
       "  <tbody>\n",
       "    <tr>\n",
       "      <th>police</th>\n",
       "      <td>71.325756</td>\n",
       "      <td>73.247948</td>\n",
       "      <td>77.875535</td>\n",
       "    </tr>\n",
       "    <tr>\n",
       "      <th>fire</th>\n",
       "      <td>51.968340</td>\n",
       "      <td>53.144053</td>\n",
       "      <td>55.215007</td>\n",
       "    </tr>\n",
       "    <tr>\n",
       "      <th>library</th>\n",
       "      <td>18.125521</td>\n",
       "      <td>19.136348</td>\n",
       "      <td>19.845066</td>\n",
       "    </tr>\n",
       "    <tr>\n",
       "      <th>parks</th>\n",
       "      <td>19.159243</td>\n",
       "      <td>19.316837</td>\n",
       "      <td>19.760710</td>\n",
       "    </tr>\n",
       "    <tr>\n",
       "      <th>streets</th>\n",
       "      <td>28.228622</td>\n",
       "      <td>26.655754</td>\n",
       "      <td>27.798934</td>\n",
       "    </tr>\n",
       "  </tbody>\n",
       "</table>\n",
       "</div>"
      ],
      "text/plain": [
       "              2016       2017       2018\n",
       "agency                                  \n",
       "police   71.325756  73.247948  77.875535\n",
       "fire     51.968340  53.144053  55.215007\n",
       "library  18.125521  19.136348  19.845066\n",
       "parks    19.159243  19.316837  19.760710\n",
       "streets  28.228622  26.655754  27.798934"
      ]
     },
     "execution_count": 12,
     "metadata": {},
     "output_type": "execute_result"
    }
   ],
   "source": [
    "df2 = df2 / 1000000\n",
    "df2"
   ]
  },
  {
   "cell_type": "code",
   "execution_count": 13,
   "metadata": {},
   "outputs": [
    {
     "data": {
      "text/plain": [
       "agency\n",
       "police     71.325756\n",
       "fire       51.968340\n",
       "library    18.125521\n",
       "parks      19.159243\n",
       "streets    28.228622\n",
       "Name: 2016, dtype: float64"
      ]
     },
     "execution_count": 13,
     "metadata": {},
     "output_type": "execute_result"
    }
   ],
   "source": [
    "df2[\"2016\"] # pull out a column"
   ]
  },
  {
   "cell_type": "code",
   "execution_count": 14,
   "metadata": {},
   "outputs": [
    {
     "data": {
      "text/plain": [
       "2016    18.125521\n",
       "2017    19.136348\n",
       "2018    19.845066\n",
       "Name: library, dtype: float64"
      ]
     },
     "execution_count": 14,
     "metadata": {},
     "output_type": "execute_result"
    }
   ],
   "source": [
    "df2.loc[\"library\"] # pull out a row if only one value is given"
   ]
  },
  {
   "cell_type": "code",
   "execution_count": 15,
   "metadata": {},
   "outputs": [
    {
     "data": {
      "text/plain": [
       "agency\n",
       "police     False\n",
       "fire       False\n",
       "library     True\n",
       "parks       True\n",
       "streets    False\n",
       "Name: 2018, dtype: bool"
      ]
     },
     "execution_count": 15,
     "metadata": {},
     "output_type": "execute_result"
    }
   ],
   "source": [
    "# show rows for all agencies that spent <$20 million in 2018\n",
    "df2[\"2018\"] < 20"
   ]
  },
  {
   "cell_type": "code",
   "execution_count": 16,
   "metadata": {},
   "outputs": [
    {
     "data": {
      "text/html": [
       "<div>\n",
       "<style scoped>\n",
       "    .dataframe tbody tr th:only-of-type {\n",
       "        vertical-align: middle;\n",
       "    }\n",
       "\n",
       "    .dataframe tbody tr th {\n",
       "        vertical-align: top;\n",
       "    }\n",
       "\n",
       "    .dataframe thead th {\n",
       "        text-align: right;\n",
       "    }\n",
       "</style>\n",
       "<table border=\"1\" class=\"dataframe\">\n",
       "  <thead>\n",
       "    <tr style=\"text-align: right;\">\n",
       "      <th></th>\n",
       "      <th>2016</th>\n",
       "      <th>2017</th>\n",
       "      <th>2018</th>\n",
       "    </tr>\n",
       "    <tr>\n",
       "      <th>agency</th>\n",
       "      <th></th>\n",
       "      <th></th>\n",
       "      <th></th>\n",
       "    </tr>\n",
       "  </thead>\n",
       "  <tbody>\n",
       "    <tr>\n",
       "      <th>library</th>\n",
       "      <td>18.125521</td>\n",
       "      <td>19.136348</td>\n",
       "      <td>19.845066</td>\n",
       "    </tr>\n",
       "    <tr>\n",
       "      <th>parks</th>\n",
       "      <td>19.159243</td>\n",
       "      <td>19.316837</td>\n",
       "      <td>19.760710</td>\n",
       "    </tr>\n",
       "  </tbody>\n",
       "</table>\n",
       "</div>"
      ],
      "text/plain": [
       "              2016       2017       2018\n",
       "agency                                  \n",
       "library  18.125521  19.136348  19.845066\n",
       "parks    19.159243  19.316837  19.760710"
      ]
     },
     "execution_count": 16,
     "metadata": {},
     "output_type": "execute_result"
    }
   ],
   "source": [
    "df2[df2[\"2018\"] < 20]"
   ]
  },
  {
   "cell_type": "code",
   "execution_count": 17,
   "metadata": {},
   "outputs": [
    {
     "data": {
      "text/html": [
       "<div>\n",
       "<style scoped>\n",
       "    .dataframe tbody tr th:only-of-type {\n",
       "        vertical-align: middle;\n",
       "    }\n",
       "\n",
       "    .dataframe tbody tr th {\n",
       "        vertical-align: top;\n",
       "    }\n",
       "\n",
       "    .dataframe thead th {\n",
       "        text-align: right;\n",
       "    }\n",
       "</style>\n",
       "<table border=\"1\" class=\"dataframe\">\n",
       "  <thead>\n",
       "    <tr style=\"text-align: right;\">\n",
       "      <th></th>\n",
       "      <th>2016</th>\n",
       "      <th>2017</th>\n",
       "      <th>2018</th>\n",
       "    </tr>\n",
       "    <tr>\n",
       "      <th>agency</th>\n",
       "      <th></th>\n",
       "      <th></th>\n",
       "      <th></th>\n",
       "    </tr>\n",
       "  </thead>\n",
       "  <tbody>\n",
       "    <tr>\n",
       "      <th>police</th>\n",
       "      <td>71.325756</td>\n",
       "      <td>73.247948</td>\n",
       "      <td>77.875535</td>\n",
       "    </tr>\n",
       "    <tr>\n",
       "      <th>fire</th>\n",
       "      <td>51.968340</td>\n",
       "      <td>53.144053</td>\n",
       "      <td>55.215007</td>\n",
       "    </tr>\n",
       "    <tr>\n",
       "      <th>library</th>\n",
       "      <td>18.125521</td>\n",
       "      <td>19.136348</td>\n",
       "      <td>19.845066</td>\n",
       "    </tr>\n",
       "    <tr>\n",
       "      <th>parks</th>\n",
       "      <td>19.159243</td>\n",
       "      <td>19.316837</td>\n",
       "      <td>19.760710</td>\n",
       "    </tr>\n",
       "    <tr>\n",
       "      <th>streets</th>\n",
       "      <td>28.228622</td>\n",
       "      <td>26.655754</td>\n",
       "      <td>27.798934</td>\n",
       "    </tr>\n",
       "  </tbody>\n",
       "</table>\n",
       "</div>"
      ],
      "text/plain": [
       "              2016       2017       2018\n",
       "agency                                  \n",
       "police   71.325756  73.247948  77.875535\n",
       "fire     51.968340  53.144053  55.215007\n",
       "library  18.125521  19.136348  19.845066\n",
       "parks    19.159243  19.316837  19.760710\n",
       "streets  28.228622  26.655754  27.798934"
      ]
     },
     "execution_count": 17,
     "metadata": {},
     "output_type": "execute_result"
    }
   ],
   "source": [
    "df2"
   ]
  },
  {
   "cell_type": "code",
   "execution_count": 18,
   "metadata": {},
   "outputs": [
    {
     "data": {
      "text/plain": [
       "2016    37.761497\n",
       "2017    38.300188\n",
       "2018    40.099050\n",
       "dtype: float64"
      ]
     },
     "execution_count": 18,
     "metadata": {},
     "output_type": "execute_result"
    }
   ],
   "source": [
    "df2.mean(axis=0) # 0 means down (per col)"
   ]
  },
  {
   "cell_type": "code",
   "execution_count": 19,
   "metadata": {},
   "outputs": [
    {
     "data": {
      "text/plain": [
       "agency\n",
       "police     74.149746\n",
       "fire       53.442467\n",
       "library    19.035645\n",
       "parks      19.412263\n",
       "streets    27.561103\n",
       "dtype: float64"
      ]
     },
     "execution_count": 19,
     "metadata": {},
     "output_type": "execute_result"
    }
   ],
   "source": [
    "df2.mean(axis=1) # 1 means across (per row)"
   ]
  },
  {
   "cell_type": "code",
   "execution_count": null,
   "metadata": {},
   "outputs": [],
   "source": []
  }
 ],
 "metadata": {
  "kernelspec": {
   "display_name": "Python 3",
   "language": "python",
   "name": "python3"
  },
  "language_info": {
   "codemirror_mode": {
    "name": "ipython",
    "version": 3
   },
   "file_extension": ".py",
   "mimetype": "text/x-python",
   "name": "python",
   "nbconvert_exporter": "python",
   "pygments_lexer": "ipython3",
   "version": "3.7.2"
  }
 },
 "nbformat": 4,
 "nbformat_minor": 2
}
