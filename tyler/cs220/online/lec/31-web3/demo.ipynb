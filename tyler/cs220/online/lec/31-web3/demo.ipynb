{
 "cells": [
  {
   "cell_type": "code",
   "execution_count": 56,
   "metadata": {},
   "outputs": [],
   "source": [
    "import os\n",
    "import requests\n",
    "from bs4 import BeautifulSoup\n",
    "import pandas as pd"
   ]
  },
  {
   "cell_type": "code",
   "execution_count": 4,
   "metadata": {},
   "outputs": [
    {
     "data": {
      "text/plain": [
       "<Response [200]>"
      ]
     },
     "execution_count": 4,
     "metadata": {},
     "output_type": "execute_result"
    }
   ],
   "source": [
    "# STAGE 1: find state URLs\n",
    "url = \"https://simple.wikipedia.org/wiki/List_of_U.S._states\"\n",
    "r = requests.get(url)\n",
    "r.raise_for_status()\n",
    "r"
   ]
  },
  {
   "cell_type": "code",
   "execution_count": 25,
   "metadata": {},
   "outputs": [],
   "source": [
    "doc = BeautifulSoup(r.text, \"html.parser\")\n",
    "type(doc)\n",
    "\n",
    "tables = doc.find_all(\"table\")\n",
    "assert len(tables) == 1\n",
    "tbl = tables[0]\n",
    "trs = tbl.find_all(\"tr\")\n",
    "assert len(trs) >= 50\n",
    "\n",
    "state_url = {} # key: state name, val: state URL\n",
    "for tr in trs[1:]:\n",
    "    th = tr.find(\"th\")\n",
    "    a = th.find(\"a\")\n",
    "    if a == None:\n",
    "        continue\n",
    "    url = \"https://simple.wikipedia.org\" + a.attrs[\"href\"]\n",
    "    state_url[a.get_text()] = url"
   ]
  },
  {
   "cell_type": "code",
   "execution_count": 35,
   "metadata": {},
   "outputs": [
    {
     "name": "stdout",
     "output_type": "stream",
     "text": [
      "Alabama https://simple.wikipedia.org/wiki/Alabama\n",
      "Alaska https://simple.wikipedia.org/wiki/Alaska\n",
      "Arizona https://simple.wikipedia.org/wiki/Arizona\n",
      "Arkansas https://simple.wikipedia.org/wiki/Arkansas\n",
      "California https://simple.wikipedia.org/wiki/California\n",
      "Colorado https://simple.wikipedia.org/wiki/Colorado\n",
      "Connecticut https://simple.wikipedia.org/wiki/Connecticut\n",
      "Delaware https://simple.wikipedia.org/wiki/Delaware\n",
      "Florida https://simple.wikipedia.org/wiki/Florida\n",
      "Georgia https://simple.wikipedia.org/wiki/Georgia_(U.S._state)\n",
      "Hawaii https://simple.wikipedia.org/wiki/Hawaii\n",
      "Idaho https://simple.wikipedia.org/wiki/Idaho\n",
      "Illinois https://simple.wikipedia.org/wiki/Illinois\n",
      "Indiana https://simple.wikipedia.org/wiki/Indiana\n",
      "Iowa https://simple.wikipedia.org/wiki/Iowa\n",
      "Kansas https://simple.wikipedia.org/wiki/Kansas\n",
      "Kentucky https://simple.wikipedia.org/wiki/Kentucky\n",
      "Louisiana https://simple.wikipedia.org/wiki/Louisiana\n",
      "Maine https://simple.wikipedia.org/wiki/Maine\n",
      "Maryland https://simple.wikipedia.org/wiki/Maryland\n",
      "Massachusetts https://simple.wikipedia.org/wiki/Massachusetts\n",
      "Michigan https://simple.wikipedia.org/wiki/Michigan\n",
      "Minnesota https://simple.wikipedia.org/wiki/Minnesota\n",
      "Mississippi https://simple.wikipedia.org/wiki/Mississippi\n",
      "Missouri https://simple.wikipedia.org/wiki/Missouri\n",
      "Montana https://simple.wikipedia.org/wiki/Montana\n",
      "Nebraska https://simple.wikipedia.org/wiki/Nebraska\n",
      "Nevada https://simple.wikipedia.org/wiki/Nevada\n",
      "New Hampshire https://simple.wikipedia.org/wiki/New_Hampshire\n",
      "New Jersey https://simple.wikipedia.org/wiki/New_Jersey\n",
      "New Mexico https://simple.wikipedia.org/wiki/New_Mexico\n",
      "New York https://simple.wikipedia.org/wiki/New_York_(state)\n",
      "North Carolina https://simple.wikipedia.org/wiki/North_Carolina\n",
      "North Dakota https://simple.wikipedia.org/wiki/North_Dakota\n",
      "Ohio https://simple.wikipedia.org/wiki/Ohio\n",
      "Oklahoma https://simple.wikipedia.org/wiki/Oklahoma\n",
      "Oregon https://simple.wikipedia.org/wiki/Oregon\n",
      "Pennsylvania https://simple.wikipedia.org/wiki/Pennsylvania\n",
      "Rhode Island https://simple.wikipedia.org/wiki/Rhode_Island\n",
      "South Carolina https://simple.wikipedia.org/wiki/South_Carolina\n",
      "South Dakota https://simple.wikipedia.org/wiki/South_Dakota\n",
      "Tennessee https://simple.wikipedia.org/wiki/Tennessee\n",
      "Texas https://simple.wikipedia.org/wiki/Texas\n",
      "Utah https://simple.wikipedia.org/wiki/Utah\n",
      "Vermont https://simple.wikipedia.org/wiki/Vermont\n",
      "Virginia https://simple.wikipedia.org/wiki/Virginia\n",
      "Washington https://simple.wikipedia.org/wiki/Washington\n",
      "West Virginia https://simple.wikipedia.org/wiki/West_Virginia\n",
      "Wisconsin https://simple.wikipedia.org/wiki/Wisconsin\n",
      "Wyoming https://simple.wikipedia.org/wiki/Wyoming\n"
     ]
    }
   ],
   "source": [
    "# STAGE 2: download HTML for all the states\n",
    "for state in list(state_url.keys()):\n",
    "    url = state_url[state]\n",
    "    print(state, url)\n",
    "    # 1: download from Internet\n",
    "    r = requests.get(url)\n",
    "    r.raise_for_status()\n",
    "    page_contents = r.text\n",
    "    \n",
    "    # 2: save it to a file\n",
    "    f = open(os.path.join(\"states\", state+\".html\"), \"w\")\n",
    "    f.write(page_contents)\n",
    "    f.close()"
   ]
  },
  {
   "cell_type": "code",
   "execution_count": 73,
   "metadata": {},
   "outputs": [],
   "source": [
    "df = pd.DataFrame()\n",
    "\n",
    "def load_state(path):\n",
    "    f = open(path)\n",
    "    html = f.read()\n",
    "    f.close()\n",
    "    doc = BeautifulSoup(html, \"html.parser\")\n",
    "    for tbl in doc.find_all(\"table\"):\n",
    "        if \"infobox\" in tbl.attrs.get(\"class\", []):\n",
    "            for row in tbl.find_all(\"tr\"):\n",
    "                cells = row.find_all([\"th\", \"td\"])\n",
    "                if len(cells) == 2:\n",
    "                    key = cells[0].get_text()\n",
    "                    val = cells[1].get_text()\n",
    "                    #print(key, \":\", val)\n",
    "                    name = path.split(\"/\")[-1].split(\".\")[0]\n",
    "                    df.loc[name, key] = val\n",
    "\n",
    "for file_name in os.listdir(\"states\"):\n",
    "    load_state(os.path.join(\"states\", file_name))"
   ]
  },
  {
   "cell_type": "code",
   "execution_count": 75,
   "metadata": {},
   "outputs": [
    {
     "data": {
      "text/plain": [
       "Ohio              Greater CincinnatiGreater Columbus(see footnot...\n",
       "South Carolina                                           Greenville\n",
       "Oregon                                   Portland metropolitan area\n",
       "Louisiana                                       Greater New Orleans\n",
       "Illinois                                            Greater Chicago\n",
       "New Hampshire                                     Manchester–Nashua\n",
       "North Carolina                                    Greater Charlotte\n",
       "New Jersey                                         Greater New York\n",
       "Mississippi                                         Greater Jackson\n",
       "Nevada                                             Las Vegas Valley\n",
       "Tennessee                                         Greater Nashville\n",
       "Rhode Island                                     Greater Providence\n",
       "Minnesota                                    Minneapolis–Saint Paul\n",
       "Montana                                  Billings metropolitan area\n",
       "Utah                                                 Salt Lake City\n",
       "New York                                 New York metropolitan area\n",
       "Florida                                                       Miami\n",
       "Vermont                                          Greater Burlington\n",
       "Oklahoma                                      Greater Oklahoma City\n",
       "Delaware                                                        NaN\n",
       "South Dakota                          Sioux Falls metropolitan area\n",
       "New Mexico                                      Greater Albuquerque\n",
       "Indiana                                        Greater Indianapolis\n",
       "Michigan                                              Metro Detroit\n",
       "Kentucky                                                Kentuckiana\n",
       "North Dakota                                Fargo metropolitan area\n",
       "Washington                                          Greater Seattle\n",
       "Connecticut                                        Greater New York\n",
       "Pennsylvania                                        Delaware Valley\n",
       "Maryland                            Baltimore-Washington Metro Area\n",
       "California                                      Greater Los Angeles\n",
       "Virginia                            Washington-Arlington-Alexandria\n",
       "Hawaii                                              Island of Oʻahu\n",
       "Alabama                                          Greater Birmingham\n",
       "Colorado                             Denver-Aurora-Lakewood, CO MSA\n",
       "Arkansas                                           Central Arkansas\n",
       "Missouri                                          Greater St. Louis\n",
       "Iowa                                Des Moines metropolitan area[a]\n",
       "Maine                                              Greater Portland\n",
       "Kansas            Kansas portion of Kansas City, MO-KS Metropoli...\n",
       "Alaska                                                          NaN\n",
       "Wyoming                                         Cheyenne Metro Area\n",
       "Arizona                                             Greater Phoenix\n",
       "Wisconsin                                 Chicago metropolitan area\n",
       "Georgia                                               Metro Atlanta\n",
       "West Virginia                     Huntington-Ashland Tri-State Area\n",
       "Texas                                   Dallas–Fort Worth Metroplex\n",
       "Idaho                                       Boise metropolitan area\n",
       "Massachusetts                                        Greater Boston\n",
       "Nebraska                                       Omaha–Council Bluffs\n",
       "Name: Largest metro, dtype: object"
      ]
     },
     "execution_count": 75,
     "metadata": {},
     "output_type": "execute_result"
    }
   ],
   "source": [
    "df[\"Largest metro\"]"
   ]
  },
  {
   "cell_type": "code",
   "execution_count": null,
   "metadata": {},
   "outputs": [],
   "source": []
  }
 ],
 "metadata": {
  "kernelspec": {
   "display_name": "Python 3",
   "language": "python",
   "name": "python3"
  },
  "language_info": {
   "codemirror_mode": {
    "name": "ipython",
    "version": 3
   },
   "file_extension": ".py",
   "mimetype": "text/x-python",
   "name": "python",
   "nbconvert_exporter": "python",
   "pygments_lexer": "ipython3",
   "version": "3.7.2"
  }
 },
 "nbformat": 4,
 "nbformat_minor": 2
}
