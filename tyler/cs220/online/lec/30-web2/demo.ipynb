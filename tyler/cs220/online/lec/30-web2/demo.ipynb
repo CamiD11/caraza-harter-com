{
 "cells": [
  {
   "cell_type": "code",
   "execution_count": 1,
   "metadata": {},
   "outputs": [],
   "source": [
    "def grocery(items, filename=\"shopping.html\"):\n",
    "    f = open(filename, \"w\")\n",
    "    f.write(\"<h1>Shopping List!!!</h1>\\n\")\n",
    "    f.write(\"<ul>\\n\")\n",
    "    for item in items:\n",
    "        f.write(\"<li>\" + item + \"\\n\")\n",
    "    f.write(\"</ul>\\n\")\n",
    "    f.close()\n",
    "    \n",
    "grocery([\"apples\", \"bananas\", \"oranges\", \"brocoli\"])"
   ]
  },
  {
   "cell_type": "code",
   "execution_count": 2,
   "metadata": {},
   "outputs": [],
   "source": [
    "def grocery_dict(d):\n",
    "    f = open(\"biglist.html\", \"w\")\n",
    "    for pagename in d:\n",
    "        items = d[pagename]\n",
    "        grocery(items, pagename+\".html\")\n",
    "        #f.write(pagename+\".html\" + \"\\n\")\n",
    "        f.write('<a href=\"' + pagename+\".html\" + '\">'\n",
    "                + pagename + '</a><br>\\n')\n",
    "    f.close()\n",
    "\n",
    "grocery_dict({\"fruits\": [\"apples\", \"bananas\", \"oranges\"],\n",
    "              \"veggies\": [\"brocoli\", \"carrots\"]})"
   ]
  },
  {
   "cell_type": "code",
   "execution_count": 3,
   "metadata": {},
   "outputs": [
    {
     "data": {
      "text/html": [
       "<div>\n",
       "<style scoped>\n",
       "    .dataframe tbody tr th:only-of-type {\n",
       "        vertical-align: middle;\n",
       "    }\n",
       "\n",
       "    .dataframe tbody tr th {\n",
       "        vertical-align: top;\n",
       "    }\n",
       "\n",
       "    .dataframe thead th {\n",
       "        text-align: right;\n",
       "    }\n",
       "</style>\n",
       "<table border=\"1\" class=\"dataframe\">\n",
       "  <thead>\n",
       "    <tr style=\"text-align: right;\">\n",
       "      <th></th>\n",
       "      <th>0</th>\n",
       "      <th>1</th>\n",
       "      <th>2</th>\n",
       "    </tr>\n",
       "  </thead>\n",
       "  <tbody>\n",
       "    <tr>\n",
       "      <th>0</th>\n",
       "      <td>A</td>\n",
       "      <td>B</td>\n",
       "      <td>C</td>\n",
       "    </tr>\n",
       "    <tr>\n",
       "      <th>1</th>\n",
       "      <td>D</td>\n",
       "      <td>E</td>\n",
       "      <td>F</td>\n",
       "    </tr>\n",
       "  </tbody>\n",
       "</table>\n",
       "</div>"
      ],
      "text/plain": [
       "   0  1  2\n",
       "0  A  B  C\n",
       "1  D  E  F"
      ]
     },
     "execution_count": 3,
     "metadata": {},
     "output_type": "execute_result"
    }
   ],
   "source": [
    "import pandas as pd\n",
    "df = pd.DataFrame([[\"A\", \"B\", \"C\"], [\"D\", \"E\", \"F\"]])\n",
    "df"
   ]
  },
  {
   "cell_type": "code",
   "execution_count": 4,
   "metadata": {},
   "outputs": [],
   "source": [
    "lines = []\n",
    "lines.append(\"<table border=1>\")\n",
    "for row in df.index:\n",
    "    #print(\"ROW\", row)\n",
    "    lines.append(\"  <tr>\")\n",
    "    for col in df.columns:\n",
    "        #print(\"COL\", col)\n",
    "        val = df.at[row, col]\n",
    "        lines.append(\"    <td>\" + val + \"</td>\")\n",
    "    lines.append(\"  </tr>\")\n",
    "lines.append(\"</table>\")\n",
    "\n",
    "html = \"\\n\".join(lines)\n",
    "f = open(\"mytable.html\", \"w\")\n",
    "f.write(html)\n",
    "f.close()"
   ]
  }
 ],
 "metadata": {
  "kernelspec": {
   "display_name": "Python 3",
   "language": "python",
   "name": "python3"
  },
  "language_info": {
   "codemirror_mode": {
    "name": "ipython",
    "version": 3
   },
   "file_extension": ".py",
   "mimetype": "text/x-python",
   "name": "python",
   "nbconvert_exporter": "python",
   "pygments_lexer": "ipython3",
   "version": "3.7.2"
  }
 },
 "nbformat": 4,
 "nbformat_minor": 2
}
