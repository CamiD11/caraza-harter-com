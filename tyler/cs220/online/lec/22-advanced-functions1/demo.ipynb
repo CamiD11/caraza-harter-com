{
 "cells": [
  {
   "cell_type": "markdown",
   "metadata": {},
   "source": [
    "# Demo 1"
   ]
  },
  {
   "cell_type": "code",
   "execution_count": 1,
   "metadata": {},
   "outputs": [
    {
     "name": "stdout",
     "output_type": "stream",
     "text": [
      "* A\n",
      "  * B\n",
      "  * C\n",
      "* X\n",
      "  * Y\n",
      "  * Z\n",
      "    * i\n",
      "    * ii\n"
     ]
    }
   ],
   "source": [
    "def pprint(bullets, indent=0):\n",
    "    for b in bullets:\n",
    "        if type(b) == str:\n",
    "            tab = \"  \" * indent\n",
    "            print(tab + \"*\", b) # not recursive\n",
    "        else:\n",
    "            pprint(b, indent+1) # recursive\n",
    "\n",
    "items = [\"A\", [\"B\", \"C\"], \"X\", [\"Y\", \"Z\", [\"i\", \"ii\"]]]\n",
    "\n",
    "\n",
    "pprint(items)"
   ]
  },
  {
   "cell_type": "markdown",
   "metadata": {},
   "source": [
    "# Demo 2"
   ]
  },
  {
   "cell_type": "code",
   "execution_count": 2,
   "metadata": {},
   "outputs": [
    {
     "data": {
      "text/plain": [
       "False"
      ]
     },
     "execution_count": 2,
     "metadata": {},
     "output_type": "execute_result"
    }
   ],
   "source": [
    "def contains(target, items):\n",
    "    for x in items:\n",
    "        if type(x) == int:\n",
    "            if x == target:\n",
    "                return True\n",
    "        else:\n",
    "            if contains(target, x):\n",
    "                return True\n",
    "    return False\n",
    "\n",
    "items = [1,2,[4,[[3],[8,9]],5,6]]\n",
    "contains(10, items)"
   ]
  },
  {
   "cell_type": "code",
   "execution_count": null,
   "metadata": {},
   "outputs": [],
   "source": []
  }
 ],
 "metadata": {
  "kernelspec": {
   "display_name": "Python 3",
   "language": "python",
   "name": "python3"
  },
  "language_info": {
   "codemirror_mode": {
    "name": "ipython",
    "version": 3
   },
   "file_extension": ".py",
   "mimetype": "text/x-python",
   "name": "python",
   "nbconvert_exporter": "python",
   "pygments_lexer": "ipython3",
   "version": "3.7.2"
  }
 },
 "nbformat": 4,
 "nbformat_minor": 2
}
