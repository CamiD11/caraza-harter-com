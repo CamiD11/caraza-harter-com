{
 "cells": [
  {
   "cell_type": "markdown",
   "metadata": {},
   "source": [
    "# Overview"
   ]
  },
  {
   "cell_type": "code",
   "execution_count": 1,
   "metadata": {},
   "outputs": [],
   "source": [
    "import requests"
   ]
  },
  {
   "cell_type": "code",
   "execution_count": 20,
   "metadata": {},
   "outputs": [],
   "source": [
    "url = \"https://tyler.caraza-harter.com/hello.txt\""
   ]
  },
  {
   "cell_type": "code",
   "execution_count": 21,
   "metadata": {},
   "outputs": [
    {
     "data": {
      "text/plain": [
       "<Response [200]>"
      ]
     },
     "execution_count": 21,
     "metadata": {},
     "output_type": "execute_result"
    }
   ],
   "source": [
    "r = requests.get(url)\n",
    "r"
   ]
  },
  {
   "cell_type": "code",
   "execution_count": 22,
   "metadata": {},
   "outputs": [],
   "source": [
    "#assert r.status_code == 200\n",
    "r.raise_for_status()"
   ]
  },
  {
   "cell_type": "code",
   "execution_count": 23,
   "metadata": {},
   "outputs": [
    {
     "data": {
      "text/plain": [
       "'Hello!  Welcome to my website.\\n'"
      ]
     },
     "execution_count": 23,
     "metadata": {},
     "output_type": "execute_result"
    }
   ],
   "source": [
    "r.text"
   ]
  },
  {
   "cell_type": "code",
   "execution_count": 25,
   "metadata": {},
   "outputs": [
    {
     "data": {
      "text/plain": [
       "str"
      ]
     },
     "execution_count": 25,
     "metadata": {},
     "output_type": "execute_result"
    }
   ],
   "source": [
    "type(r.text)"
   ]
  },
  {
   "cell_type": "code",
   "execution_count": 26,
   "metadata": {},
   "outputs": [
    {
     "name": "stdout",
     "output_type": "stream",
     "text": [
      "Hello!  Welcome to my website.\n",
      "\n"
     ]
    }
   ],
   "source": [
    "print(r.text)"
   ]
  },
  {
   "cell_type": "code",
   "execution_count": 29,
   "metadata": {},
   "outputs": [],
   "source": [
    "r = requests.get(\"https://tyler.caraza-harter.com/scores.json\")\n",
    "r.raise_for_status()"
   ]
  },
  {
   "cell_type": "code",
   "execution_count": 30,
   "metadata": {},
   "outputs": [
    {
     "data": {
      "text/plain": [
       "'{\\n  \"alice\": 100,\\n  \"bob\": 200,\\n  \"cindy\": 300\\n}\\n'"
      ]
     },
     "execution_count": 30,
     "metadata": {},
     "output_type": "execute_result"
    }
   ],
   "source": [
    "r.text"
   ]
  },
  {
   "cell_type": "code",
   "execution_count": 33,
   "metadata": {},
   "outputs": [
    {
     "data": {
      "text/plain": [
       "{'alice': 100, 'bob': 200, 'cindy': 300}"
      ]
     },
     "execution_count": 33,
     "metadata": {},
     "output_type": "execute_result"
    }
   ],
   "source": [
    "import json\n",
    "d = json.loads(r.text)\n",
    "d"
   ]
  },
  {
   "cell_type": "code",
   "execution_count": 36,
   "metadata": {},
   "outputs": [
    {
     "data": {
      "text/plain": [
       "300"
      ]
     },
     "execution_count": 36,
     "metadata": {},
     "output_type": "execute_result"
    }
   ],
   "source": [
    "d[\"cindy\"]"
   ]
  },
  {
   "cell_type": "code",
   "execution_count": 38,
   "metadata": {},
   "outputs": [
    {
     "data": {
      "text/plain": [
       "300"
      ]
     },
     "execution_count": 38,
     "metadata": {},
     "output_type": "execute_result"
    }
   ],
   "source": [
    "d = r.json() # shortcut for this: json.loads(r.text)\n",
    "d[\"cindy\"]"
   ]
  },
  {
   "cell_type": "markdown",
   "metadata": {},
   "source": [
    "# Demo 1"
   ]
  },
  {
   "cell_type": "code",
   "execution_count": 39,
   "metadata": {},
   "outputs": [],
   "source": [
    "r = requests.get(\"https://tyler.caraza-harter.com/data/reddit-UWMadison.json\")\n",
    "r.raise_for_status()"
   ]
  },
  {
   "cell_type": "code",
   "execution_count": 43,
   "metadata": {},
   "outputs": [
    {
     "data": {
      "text/plain": [
       "dict_keys(['kind', 'data'])"
      ]
     },
     "execution_count": 43,
     "metadata": {},
     "output_type": "execute_result"
    }
   ],
   "source": [
    "d = r.json()\n",
    "d.keys()"
   ]
  },
  {
   "cell_type": "code",
   "execution_count": 46,
   "metadata": {},
   "outputs": [
    {
     "data": {
      "text/plain": [
       "dict_keys(['modhash', 'dist', 'children', 'after', 'before'])"
      ]
     },
     "execution_count": 46,
     "metadata": {},
     "output_type": "execute_result"
    }
   ],
   "source": [
    "d[\"data\"].keys()"
   ]
  },
  {
   "cell_type": "code",
   "execution_count": null,
   "metadata": {},
   "outputs": [],
   "source": [
    "d[\"data\"].keys()"
   ]
  },
  {
   "cell_type": "code",
   "execution_count": 54,
   "metadata": {},
   "outputs": [
    {
     "name": "stdout",
     "output_type": "stream",
     "text": [
      "[Mod Post] /r/UWMadison feedback thread\n",
      "Any other aquariums on campus besides the one in Birge Hall?\n",
      "Are there any classes that use Tableau, SQL or any other useful tools to do data analysis?\n",
      "Is there any way to get an Access mental health appointment within a week?\n",
      "Intermediate/Advanced 3-4 Credit L+S Class Recommendation\n",
      "Looking for an artist/band to play a house show\n",
      "Literature class...help!\n",
      "Lost my wallet\n",
      "Looking for Fall2020 semester short term lease\n",
      "Odds I get into Madison\n",
      "Looking for an easy study abroad summer program\n",
      "When would we know which sections Professors are teaching\n",
      "Does anyone have experience in MS Biology programs?\n",
      "Question\n",
      "Are you or anyone you know doing exciting research on environmental issues?\n",
      "Art 100 - Online or In-Classroom?\n",
      "Digital Studies certificate courses\n",
      "Where can I find summer term grade distribution?\n",
      "If you might have lost a phone on a bench in Van Hise or know who did, it's in the building lost and found now\n",
      "Trying to Find a House for Next Year\n",
      "Futsal games/club\n",
      "How to approach situation?\n",
      "Easy Literature Course\n",
      "Need easy 3 credit course for next semester (freshman)\n",
      "If you see this outside please pick it up and dm me\n",
      "Class Recommendations for Business Student\n"
     ]
    }
   ],
   "source": [
    "for child in d[\"data\"][\"children\"]:\n",
    "    print(child[\"data\"][\"title\"])"
   ]
  },
  {
   "cell_type": "markdown",
   "metadata": {},
   "source": [
    "# Demo 2"
   ]
  },
  {
   "cell_type": "code",
   "execution_count": 70,
   "metadata": {},
   "outputs": [],
   "source": [
    "url = \"https://tyler.caraza-harter.com/data/metro-TrapezeRealTimeFeed.json\"\n",
    "r = requests.get(url)\n",
    "r.raise_for_status()"
   ]
  },
  {
   "cell_type": "code",
   "execution_count": 72,
   "metadata": {},
   "outputs": [
    {
     "data": {
      "text/plain": [
       "dict_keys(['entity', 'header'])"
      ]
     },
     "execution_count": 72,
     "metadata": {},
     "output_type": "execute_result"
    }
   ],
   "source": [
    "d = r.json()\n",
    "d.keys()"
   ]
  },
  {
   "cell_type": "code",
   "execution_count": 88,
   "metadata": {},
   "outputs": [
    {
     "name": "stdout",
     "output_type": "stream",
     "text": [
      "Trips temporarily stop on the west side of N Mills, north of W Johnson-thru Nov 12\n",
      "Trips skip stops along Lien, between E Washington and Thierer-thru Nov 17 @ https://bit.ly/2xuxUUD\n",
      "Trips skip stops along Dempsey, Davies and Buckeye, between Cottage Grove & USH 51-thru Nov 15 @ https://bit.ly/2QQnrf7\n",
      "Trips serve stop along W Johnson at Mills, between Charter & Lake-thru Nov @ https://bit.ly/2I6q5fu\n",
      "Trips skip stops along Packers & First, between Commercial & E Washington-thru Nov 13\n",
      "Trips temporarily stop on the west side of N Sherman, north of Roxbury-thru Jul 2020\n",
      "Trips skip some stops west of Park & south of University (via Mills)-thru 2020 @ https://bit.ly/2Z62YdU\n",
      "Trips skip stops along Broadway, between Bridge & Hoboken-thru Nov\n",
      "Trips skip stops along Monona and Buckeye, between Cottage Grove & Turner-thru Nov 15 @ https://bit.ly/2QQnrf7\n",
      "Trips skip stops along Davies and Buckeye, between Major & Turner-thru Nov 15 @ https://bit.ly/2QQnrf7\n",
      "Trips skip stops along Babcock and Observatory, between Linden & Easterday-thru Nov 22\n"
     ]
    }
   ],
   "source": [
    "for entity in d[\"entity\"]:\n",
    "    if entity[\"alert\"] == None:\n",
    "        continue\n",
    "    for translation in entity[\"alert\"][\"description_text\"][\"translation\"]:\n",
    "        print(translation[\"text\"])"
   ]
  },
  {
   "cell_type": "markdown",
   "metadata": {},
   "source": [
    "# Demo 3"
   ]
  },
  {
   "cell_type": "code",
   "execution_count": 90,
   "metadata": {},
   "outputs": [],
   "source": [
    "base_url = \"https://tyler.caraza-harter.com/data/states/\""
   ]
  },
  {
   "cell_type": "code",
   "execution_count": 94,
   "metadata": {},
   "outputs": [
    {
     "name": "stdout",
     "output_type": "stream",
     "text": [
      "['Alabama.json', 'Alaska.json', 'Arizona.json', 'Arkansas.json', 'California.json', 'Colorado.json', 'Connecticut.json', 'Delaware.json', 'Florida.json', 'Georgia.json', 'Hawaii.json', 'Idaho.json', 'Illinois.json', 'Indiana.json', 'Iowa.json', 'Kansas.json', 'Kentucky.json', 'Louisiana.json', 'Maine.json', 'Maryland.json', 'Massachusetts.json', 'Michigan.json', 'Minnesota.json', 'Mississippi.json', 'Missouri.json', 'Montana.json', 'Nebraska.json', 'Nevada.json', 'New_Hampshire.json', 'New_Jersey.json', 'New_Mexico.json', 'New_York.json', 'North_Carolina.json', 'North_Dakota.json', 'Ohio.json', 'Oklahoma.json', 'Oregon.json', 'Pennsylvania.json', 'Rhode_Island.json', 'South_Carolina.json', 'South_Dakota.json', 'Tennessee.json', 'Texas.json', 'Utah.json', 'Vermont.json', 'Virginia.json', 'Washington.json', 'West_Virginia.json', 'Wisconsin.json', 'Wyoming.json']\n"
     ]
    }
   ],
   "source": [
    "r = requests.get(base_url + \"state_files.txt\")\n",
    "r.raise_for_status()\n",
    "file_names = r.text.split(\"\\n\")\n",
    "print(file_names)"
   ]
  },
  {
   "cell_type": "code",
   "execution_count": 107,
   "metadata": {},
   "outputs": [
    {
     "name": "stdout",
     "output_type": "stream",
     "text": [
      "Alabama.json\n",
      "Alaska.json\n",
      "Arizona.json\n",
      "Arkansas.json\n",
      "California.json\n",
      "Colorado.json\n",
      "Connecticut.json\n",
      "Delaware.json\n",
      "Florida.json\n",
      "Georgia.json\n",
      "Hawaii.json\n",
      "Idaho.json\n",
      "Illinois.json\n",
      "Indiana.json\n",
      "Iowa.json\n",
      "Kansas.json\n",
      "Kentucky.json\n",
      "Louisiana.json\n",
      "Maine.json\n",
      "Maryland.json\n",
      "Massachusetts.json\n",
      "Michigan.json\n",
      "Minnesota.json\n",
      "Mississippi.json\n",
      "Missouri.json\n",
      "Montana.json\n",
      "Nebraska.json\n",
      "Nevada.json\n",
      "New_Hampshire.json\n",
      "New_Jersey.json\n",
      "New_Mexico.json\n",
      "New_York.json\n",
      "North_Carolina.json\n",
      "North_Dakota.json\n",
      "Ohio.json\n",
      "Oklahoma.json\n",
      "Oregon.json\n",
      "Pennsylvania.json\n",
      "Rhode_Island.json\n",
      "South_Carolina.json\n",
      "South_Dakota.json\n",
      "Tennessee.json\n",
      "Texas.json\n",
      "Utah.json\n",
      "Vermont.json\n",
      "Virginia.json\n",
      "Washington.json\n",
      "West_Virginia.json\n",
      "Wisconsin.json\n",
      "Wyoming.json\n"
     ]
    },
    {
     "data": {
      "text/plain": [
       "[{'2000': 4447100, '2010': 4779736, '2015': 4846411, 'state': 'Alabama.json'},\n",
       " {'2000': 626932, '2010': 710231, '2015': 737046, 'state': 'Alaska.json'},\n",
       " {'2000': 5130632, '2010': 6392017, '2015': 6728783, 'state': 'Arizona.json'},\n",
       " {'2000': 2673400, '2010': 2915918, '2015': 2966835, 'state': 'Arkansas.json'},\n",
       " {'2000': 33871648,\n",
       "  '2010': 37253956,\n",
       "  '2015': 38792291,\n",
       "  'state': 'California.json'},\n",
       " {'2000': 4301261, '2010': 5029196, '2015': 5355588, 'state': 'Colorado.json'},\n",
       " {'2000': 3405565,\n",
       "  '2010': 3574097,\n",
       "  '2015': 3594762,\n",
       "  'state': 'Connecticut.json'},\n",
       " {'2000': 783600, '2010': 897934, '2015': 935968, 'state': 'Delaware.json'},\n",
       " {'2000': 15982378,\n",
       "  '2010': 18801310,\n",
       "  '2015': 19905569,\n",
       "  'state': 'Florida.json'},\n",
       " {'2000': 8186453, '2010': 9687653, '2015': 10097132, 'state': 'Georgia.json'},\n",
       " {'2000': 1211537, '2010': 1360301, '2015': 1420257, 'state': 'Hawaii.json'},\n",
       " {'2000': 1293953, '2010': 1567582, '2015': 1634806, 'state': 'Idaho.json'},\n",
       " {'2000': 12419293,\n",
       "  '2010': 12830632,\n",
       "  '2015': 12882189,\n",
       "  'state': 'Illinois.json'},\n",
       " {'2000': 6080485, '2010': 6483802, '2015': 6597880, 'state': 'Indiana.json'},\n",
       " {'2000': 2926324, '2010': 3046355, '2015': 3109481, 'state': 'Iowa.json'},\n",
       " {'2000': 2688418, '2010': 2853118, '2015': 2902507, 'state': 'Kansas.json'},\n",
       " {'2000': 4041769, '2010': 4339367, '2015': 4412617, 'state': 'Kentucky.json'},\n",
       " {'2000': 4468976,\n",
       "  '2010': 4533372,\n",
       "  '2015': 4648990,\n",
       "  'state': 'Louisiana.json'},\n",
       " {'2000': 1274923, '2010': 1328361, '2015': 1330256, 'state': 'Maine.json'},\n",
       " {'2000': 5296486, '2010': 5773552, '2015': 5975346, 'state': 'Maryland.json'},\n",
       " {'2000': 6349097,\n",
       "  '2010': 6547629,\n",
       "  '2015': 6755124,\n",
       "  'state': 'Massachusetts.json'},\n",
       " {'2000': 9938444, '2010': 9883640, '2015': 9916306, 'state': 'Michigan.json'},\n",
       " {'2000': 4919479,\n",
       "  '2010': 5303925,\n",
       "  '2015': 5457125,\n",
       "  'state': 'Minnesota.json'},\n",
       " {'2000': 2844658,\n",
       "  '2010': 2967297,\n",
       "  '2015': 2993443,\n",
       "  'state': 'Mississippi.json'},\n",
       " {'2000': 5595211, '2010': 5988927, '2015': 6063827, 'state': 'Missouri.json'},\n",
       " {'2000': 902195, '2010': 989415, '2015': 1023252, 'state': 'Montana.json'},\n",
       " {'2000': 1711263, '2010': 1826341, '2015': 1882980, 'state': 'Nebraska.json'},\n",
       " {'2000': 1998257, '2010': 2700551, '2015': 2838281, 'state': 'Nevada.json'},\n",
       " {'2000': 1235786,\n",
       "  '2010': 1316470,\n",
       "  '2015': 1327996,\n",
       "  'state': 'New_Hampshire.json'},\n",
       " {'2000': 8414350,\n",
       "  '2010': 8791894,\n",
       "  '2015': 8938844,\n",
       "  'state': 'New_Jersey.json'},\n",
       " {'2000': 1819046,\n",
       "  '2010': 2059179,\n",
       "  '2015': 2085567,\n",
       "  'state': 'New_Mexico.json'},\n",
       " {'2000': 18976457,\n",
       "  '2010': 19378102,\n",
       "  '2015': 19748858,\n",
       "  'state': 'New_York.json'},\n",
       " {'2000': 8049313,\n",
       "  '2010': 9535483,\n",
       "  '2015': 9940387,\n",
       "  'state': 'North_Carolina.json'},\n",
       " {'2000': 642200,\n",
       "  '2010': 672591,\n",
       "  '2015': 740040,\n",
       "  'state': 'North_Dakota.json'},\n",
       " {'2000': 11353140, '2010': 11536504, '2015': 11596998, 'state': 'Ohio.json'},\n",
       " {'2000': 3450654, '2010': 3751351, '2015': 3879610, 'state': 'Oklahoma.json'},\n",
       " {'2000': 3421399, '2010': 3831074, '2015': 3971202, 'state': 'Oregon.json'},\n",
       " {'2000': 12281054,\n",
       "  '2010': 12702379,\n",
       "  '2015': 12793767,\n",
       "  'state': 'Pennsylvania.json'},\n",
       " {'2000': 1048319,\n",
       "  '2010': 1052567,\n",
       "  '2015': 1054907,\n",
       "  'state': 'Rhode_Island.json'},\n",
       " {'2000': 4012012,\n",
       "  '2010': 4625364,\n",
       "  '2015': 4829160,\n",
       "  'state': 'South_Carolina.json'},\n",
       " {'2000': 754844,\n",
       "  '2010': 814180,\n",
       "  '2015': 853304,\n",
       "  'state': 'South_Dakota.json'},\n",
       " {'2000': 5689283,\n",
       "  '2010': 6346105,\n",
       "  '2015': 6547779,\n",
       "  'state': 'Tennessee.json'},\n",
       " {'2000': 20851820, '2010': 25145561, '2015': 26979078, 'state': 'Texas.json'},\n",
       " {'2000': 2233169, '2010': 2763885, '2015': 2944498, 'state': 'Utah.json'},\n",
       " {'2000': 608827, '2010': 625741, '2015': 626767, 'state': 'Vermont.json'},\n",
       " {'2000': 7078515, '2010': 8001024, '2015': 8328098, 'state': 'Virginia.json'},\n",
       " {'2000': 5894121,\n",
       "  '2010': 6724540,\n",
       "  '2015': 7063166,\n",
       "  'state': 'Washington.json'},\n",
       " {'2000': 1808344,\n",
       "  '2010': 1852994,\n",
       "  '2015': 1848751,\n",
       "  'state': 'West_Virginia.json'},\n",
       " {'2000': 5363675,\n",
       "  '2010': 5686986,\n",
       "  '2015': 5759432,\n",
       "  'state': 'Wisconsin.json'},\n",
       " {'2000': 493782, '2010': 563626, '2015': 584304, 'state': 'Wyoming.json'}]"
      ]
     },
     "execution_count": 107,
     "metadata": {},
     "output_type": "execute_result"
    }
   ],
   "source": [
    "table = [] # list of dicts (one per state)\n",
    "for fname in file_names:\n",
    "    print(fname)\n",
    "    r = requests.get(base_url + fname)\n",
    "    r.raise_for_status()\n",
    "    d = r.json()\n",
    "    d[\"state\"] = fname\n",
    "    table.append(d)\n",
    "table"
   ]
  },
  {
   "cell_type": "code",
   "execution_count": 114,
   "metadata": {},
   "outputs": [
    {
     "data": {
      "text/html": [
       "<div>\n",
       "<style scoped>\n",
       "    .dataframe tbody tr th:only-of-type {\n",
       "        vertical-align: middle;\n",
       "    }\n",
       "\n",
       "    .dataframe tbody tr th {\n",
       "        vertical-align: top;\n",
       "    }\n",
       "\n",
       "    .dataframe thead th {\n",
       "        text-align: right;\n",
       "    }\n",
       "</style>\n",
       "<table border=\"1\" class=\"dataframe\">\n",
       "  <thead>\n",
       "    <tr style=\"text-align: right;\">\n",
       "      <th></th>\n",
       "      <th>2000</th>\n",
       "      <th>2010</th>\n",
       "      <th>2015</th>\n",
       "      <th>state</th>\n",
       "    </tr>\n",
       "  </thead>\n",
       "  <tbody>\n",
       "    <tr>\n",
       "      <th>0</th>\n",
       "      <td>4447100</td>\n",
       "      <td>4779736</td>\n",
       "      <td>4846411</td>\n",
       "      <td>Alabama.json</td>\n",
       "    </tr>\n",
       "    <tr>\n",
       "      <th>1</th>\n",
       "      <td>626932</td>\n",
       "      <td>710231</td>\n",
       "      <td>737046</td>\n",
       "      <td>Alaska.json</td>\n",
       "    </tr>\n",
       "    <tr>\n",
       "      <th>2</th>\n",
       "      <td>5130632</td>\n",
       "      <td>6392017</td>\n",
       "      <td>6728783</td>\n",
       "      <td>Arizona.json</td>\n",
       "    </tr>\n",
       "    <tr>\n",
       "      <th>3</th>\n",
       "      <td>2673400</td>\n",
       "      <td>2915918</td>\n",
       "      <td>2966835</td>\n",
       "      <td>Arkansas.json</td>\n",
       "    </tr>\n",
       "    <tr>\n",
       "      <th>4</th>\n",
       "      <td>33871648</td>\n",
       "      <td>37253956</td>\n",
       "      <td>38792291</td>\n",
       "      <td>California.json</td>\n",
       "    </tr>\n",
       "  </tbody>\n",
       "</table>\n",
       "</div>"
      ],
      "text/plain": [
       "       2000      2010      2015            state\n",
       "0   4447100   4779736   4846411     Alabama.json\n",
       "1    626932    710231    737046      Alaska.json\n",
       "2   5130632   6392017   6728783     Arizona.json\n",
       "3   2673400   2915918   2966835    Arkansas.json\n",
       "4  33871648  37253956  38792291  California.json"
      ]
     },
     "execution_count": 114,
     "metadata": {},
     "output_type": "execute_result"
    }
   ],
   "source": [
    "import pandas as pd\n",
    "df = pd.DataFrame(table)\n",
    "df.head()"
   ]
  },
  {
   "cell_type": "code",
   "execution_count": 115,
   "metadata": {},
   "outputs": [
    {
     "data": {
      "text/html": [
       "<div>\n",
       "<style scoped>\n",
       "    .dataframe tbody tr th:only-of-type {\n",
       "        vertical-align: middle;\n",
       "    }\n",
       "\n",
       "    .dataframe tbody tr th {\n",
       "        vertical-align: top;\n",
       "    }\n",
       "\n",
       "    .dataframe thead th {\n",
       "        text-align: right;\n",
       "    }\n",
       "</style>\n",
       "<table border=\"1\" class=\"dataframe\">\n",
       "  <thead>\n",
       "    <tr style=\"text-align: right;\">\n",
       "      <th></th>\n",
       "      <th>2000</th>\n",
       "      <th>2010</th>\n",
       "      <th>2015</th>\n",
       "    </tr>\n",
       "    <tr>\n",
       "      <th>state</th>\n",
       "      <th></th>\n",
       "      <th></th>\n",
       "      <th></th>\n",
       "    </tr>\n",
       "  </thead>\n",
       "  <tbody>\n",
       "    <tr>\n",
       "      <th>Alabama.json</th>\n",
       "      <td>4447100</td>\n",
       "      <td>4779736</td>\n",
       "      <td>4846411</td>\n",
       "    </tr>\n",
       "    <tr>\n",
       "      <th>Alaska.json</th>\n",
       "      <td>626932</td>\n",
       "      <td>710231</td>\n",
       "      <td>737046</td>\n",
       "    </tr>\n",
       "    <tr>\n",
       "      <th>Arizona.json</th>\n",
       "      <td>5130632</td>\n",
       "      <td>6392017</td>\n",
       "      <td>6728783</td>\n",
       "    </tr>\n",
       "    <tr>\n",
       "      <th>Arkansas.json</th>\n",
       "      <td>2673400</td>\n",
       "      <td>2915918</td>\n",
       "      <td>2966835</td>\n",
       "    </tr>\n",
       "    <tr>\n",
       "      <th>California.json</th>\n",
       "      <td>33871648</td>\n",
       "      <td>37253956</td>\n",
       "      <td>38792291</td>\n",
       "    </tr>\n",
       "  </tbody>\n",
       "</table>\n",
       "</div>"
      ],
      "text/plain": [
       "                     2000      2010      2015\n",
       "state                                        \n",
       "Alabama.json      4447100   4779736   4846411\n",
       "Alaska.json        626932    710231    737046\n",
       "Arizona.json      5130632   6392017   6728783\n",
       "Arkansas.json     2673400   2915918   2966835\n",
       "California.json  33871648  37253956  38792291"
      ]
     },
     "execution_count": 115,
     "metadata": {},
     "output_type": "execute_result"
    }
   ],
   "source": [
    "df = df.set_index(\"state\")\n",
    "df.head()"
   ]
  },
  {
   "cell_type": "code",
   "execution_count": 118,
   "metadata": {},
   "outputs": [
    {
     "data": {
      "text/plain": [
       "2000    5616996.94\n",
       "2010    6162876.30\n",
       "2015    6364951.30\n",
       "dtype: float64"
      ]
     },
     "execution_count": 118,
     "metadata": {},
     "output_type": "execute_result"
    }
   ],
   "source": [
    "df.mean(axis=0)"
   ]
  },
  {
   "cell_type": "code",
   "execution_count": 120,
   "metadata": {},
   "outputs": [
    {
     "data": {
      "text/plain": [
       "state\n",
       "Alabama.json            4.691082\n",
       "Alaska.json             0.691403\n",
       "Arizona.json            6.083811\n",
       "Arkansas.json           2.852051\n",
       "California.json        36.639298\n",
       "Colorado.json           4.895348\n",
       "Connecticut.json        3.524808\n",
       "Delaware.json           0.872501\n",
       "Florida.json           18.229752\n",
       "Georgia.json            9.323746\n",
       "Hawaii.json             1.330698\n",
       "Idaho.json              1.498780\n",
       "Illinois.json          12.710705\n",
       "Indiana.json            6.387389\n",
       "Iowa.json               3.027387\n",
       "Kansas.json             2.814681\n",
       "Kentucky.json           4.264584\n",
       "Louisiana.json          4.550446\n",
       "Maine.json              1.311180\n",
       "Maryland.json           5.681795\n",
       "Massachusetts.json      6.550617\n",
       "Michigan.json           9.912797\n",
       "Minnesota.json          5.226843\n",
       "Mississippi.json        2.935133\n",
       "Missouri.json           5.882655\n",
       "Montana.json            0.971621\n",
       "Nebraska.json           1.806861\n",
       "Nevada.json             2.512363\n",
       "New_Hampshire.json      1.293417\n",
       "New_Jersey.json         8.715029\n",
       "New_Mexico.json         1.987931\n",
       "New_York.json          19.367806\n",
       "North_Carolina.json     9.175061\n",
       "North_Dakota.json       0.684944\n",
       "Ohio.json              11.495547\n",
       "Oklahoma.json           3.693872\n",
       "Oregon.json             3.741225\n",
       "Pennsylvania.json      12.592400\n",
       "Rhode_Island.json       1.051931\n",
       "South_Carolina.json     4.488845\n",
       "South_Dakota.json       0.807443\n",
       "Tennessee.json          6.194389\n",
       "Texas.json             24.325486\n",
       "Utah.json               2.647184\n",
       "Vermont.json            0.620445\n",
       "Virginia.json           7.802546\n",
       "Washington.json         6.560609\n",
       "West_Virginia.json      1.836696\n",
       "Wisconsin.json          5.603364\n",
       "Wyoming.json            0.547237\n",
       "dtype: float64"
      ]
     },
     "execution_count": 120,
     "metadata": {},
     "output_type": "execute_result"
    }
   ],
   "source": [
    "df.mean(axis=1) / 1000000"
   ]
  },
  {
   "cell_type": "code",
   "execution_count": 121,
   "metadata": {},
   "outputs": [
    {
     "data": {
      "text/html": [
       "<div>\n",
       "<style scoped>\n",
       "    .dataframe tbody tr th:only-of-type {\n",
       "        vertical-align: middle;\n",
       "    }\n",
       "\n",
       "    .dataframe tbody tr th {\n",
       "        vertical-align: top;\n",
       "    }\n",
       "\n",
       "    .dataframe thead th {\n",
       "        text-align: right;\n",
       "    }\n",
       "</style>\n",
       "<table border=\"1\" class=\"dataframe\">\n",
       "  <thead>\n",
       "    <tr style=\"text-align: right;\">\n",
       "      <th></th>\n",
       "      <th>2000</th>\n",
       "      <th>2010</th>\n",
       "      <th>2015</th>\n",
       "    </tr>\n",
       "  </thead>\n",
       "  <tbody>\n",
       "    <tr>\n",
       "      <th>count</th>\n",
       "      <td>5.000000e+01</td>\n",
       "      <td>5.000000e+01</td>\n",
       "      <td>5.000000e+01</td>\n",
       "    </tr>\n",
       "    <tr>\n",
       "      <th>mean</th>\n",
       "      <td>5.616997e+06</td>\n",
       "      <td>6.162876e+06</td>\n",
       "      <td>6.364951e+06</td>\n",
       "    </tr>\n",
       "    <tr>\n",
       "      <th>std</th>\n",
       "      <td>6.185580e+06</td>\n",
       "      <td>6.848235e+06</td>\n",
       "      <td>7.152086e+06</td>\n",
       "    </tr>\n",
       "    <tr>\n",
       "      <th>min</th>\n",
       "      <td>4.937820e+05</td>\n",
       "      <td>5.636260e+05</td>\n",
       "      <td>5.843040e+05</td>\n",
       "    </tr>\n",
       "    <tr>\n",
       "      <th>25%</th>\n",
       "      <td>1.735533e+06</td>\n",
       "      <td>1.833004e+06</td>\n",
       "      <td>1.857308e+06</td>\n",
       "    </tr>\n",
       "    <tr>\n",
       "      <th>50%</th>\n",
       "      <td>4.026890e+06</td>\n",
       "      <td>4.436370e+06</td>\n",
       "      <td>4.530804e+06</td>\n",
       "    </tr>\n",
       "    <tr>\n",
       "      <th>75%</th>\n",
       "      <td>6.281944e+06</td>\n",
       "      <td>6.680312e+06</td>\n",
       "      <td>6.986156e+06</td>\n",
       "    </tr>\n",
       "    <tr>\n",
       "      <th>max</th>\n",
       "      <td>3.387165e+07</td>\n",
       "      <td>3.725396e+07</td>\n",
       "      <td>3.879229e+07</td>\n",
       "    </tr>\n",
       "  </tbody>\n",
       "</table>\n",
       "</div>"
      ],
      "text/plain": [
       "               2000          2010          2015\n",
       "count  5.000000e+01  5.000000e+01  5.000000e+01\n",
       "mean   5.616997e+06  6.162876e+06  6.364951e+06\n",
       "std    6.185580e+06  6.848235e+06  7.152086e+06\n",
       "min    4.937820e+05  5.636260e+05  5.843040e+05\n",
       "25%    1.735533e+06  1.833004e+06  1.857308e+06\n",
       "50%    4.026890e+06  4.436370e+06  4.530804e+06\n",
       "75%    6.281944e+06  6.680312e+06  6.986156e+06\n",
       "max    3.387165e+07  3.725396e+07  3.879229e+07"
      ]
     },
     "execution_count": 121,
     "metadata": {},
     "output_type": "execute_result"
    }
   ],
   "source": [
    "df.describe()"
   ]
  }
 ],
 "metadata": {
  "kernelspec": {
   "display_name": "Python 3",
   "language": "python",
   "name": "python3"
  },
  "language_info": {
   "codemirror_mode": {
    "name": "ipython",
    "version": 3
   },
   "file_extension": ".py",
   "mimetype": "text/x-python",
   "name": "python",
   "nbconvert_exporter": "python",
   "pygments_lexer": "ipython3",
   "version": "3.7.2"
  }
 },
 "nbformat": 4,
 "nbformat_minor": 2
}
