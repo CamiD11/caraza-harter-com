{
 "cells": [
  {
   "cell_type": "code",
   "execution_count": 1,
   "metadata": {},
   "outputs": [
    {
     "data": {
      "text/plain": [
       "'data/stations.txt'"
      ]
     },
     "execution_count": 1,
     "metadata": {},
     "output_type": "execute_result"
    }
   ],
   "source": [
    "import os\n",
    "stations_path = os.path.join(\"data\", \"stations.txt\")\n",
    "stations_path"
   ]
  },
  {
   "cell_type": "code",
   "execution_count": 2,
   "metadata": {},
   "outputs": [
    {
     "name": "stdout",
     "output_type": "stream",
     "text": [
      "data/wi.txt\n",
      "data/ak.txt\n"
     ]
    }
   ],
   "source": [
    "def get_station_name(line):\n",
    "    return line[86:186].strip()\n",
    "\n",
    "def get_state_name(line):\n",
    "    return line[226:228].strip()\n",
    "\n",
    "def filter_state(state_name):\n",
    "    f = open(stations_path)\n",
    "    outpath = os.path.join(\"data\", state_name+\".txt\")\n",
    "    print(outpath)\n",
    "    fout = open(outpath, \"w\")\n",
    "\n",
    "    header = next(f)\n",
    "    skip = next(f)\n",
    "\n",
    "    fout.write(header)\n",
    "    fout.write(skip)\n",
    "\n",
    "    for line in f:\n",
    "        if get_state_name(line) == state_name.upper():\n",
    "            fout.write(line)\n",
    "\n",
    "    f.close()\n",
    "    fout.close()\n",
    "    \n",
    "filter_state(\"wi\")\n",
    "filter_state(\"ak\")"
   ]
  },
  {
   "cell_type": "code",
   "execution_count": 3,
   "metadata": {},
   "outputs": [
    {
     "name": "stdout",
     "output_type": "stream",
     "text": [
      "data/wi.txt\n",
      "TOTAL ENTRIES 3866\n",
      "UNIQUE STATIONS 1606\n"
     ]
    }
   ],
   "source": [
    "def station_count(path):\n",
    "    print(path)\n",
    "    f = open(path)\n",
    "    header = next(f)\n",
    "    skip = next(f)\n",
    "    \n",
    "    total_count = 0\n",
    "    uniq_stations = set()\n",
    "    for line in f:\n",
    "        #print(get_station_name(line))\n",
    "        uniq_stations.add(get_station_name(line))\n",
    "        total_count += 1\n",
    "    f.close()\n",
    "    print(\"TOTAL ENTRIES\", total_count)\n",
    "    print(\"UNIQUE STATIONS\", len(uniq_stations))\n",
    "\n",
    "station_count(os.path.join(\"data\", \"wi.txt\"))"
   ]
  },
  {
   "cell_type": "code",
   "execution_count": null,
   "metadata": {},
   "outputs": [],
   "source": []
  }
 ],
 "metadata": {
  "kernelspec": {
   "display_name": "Python 3",
   "language": "python",
   "name": "python3"
  },
  "language_info": {
   "codemirror_mode": {
    "name": "ipython",
    "version": 3
   },
   "file_extension": ".py",
   "mimetype": "text/x-python",
   "name": "python",
   "nbconvert_exporter": "python",
   "pygments_lexer": "ipython3",
   "version": "3.7.2"
  }
 },
 "nbformat": 4,
 "nbformat_minor": 2
}
