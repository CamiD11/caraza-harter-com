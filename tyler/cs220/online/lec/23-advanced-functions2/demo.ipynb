{
 "cells": [
  {
   "cell_type": "code",
   "execution_count": 1,
   "metadata": {},
   "outputs": [
    {
     "name": "stdout",
     "output_type": "stream",
     "text": [
      "['Python', 'queue', 'Ada', 'marshmellow']\n",
      "['queue', 'marshmellow', 'Ada', 'Python']\n"
     ]
    }
   ],
   "source": [
    "words = [\n",
    "    \"Python\",\n",
    "    \"queue\",\n",
    "    \"Ada\",\n",
    "    \"marshmellow\"\n",
    "]\n",
    "\n",
    "def countv(word):\n",
    "    vowels = 0\n",
    "    for letter in word.upper():\n",
    "        if letter in [\"A\", \"E\", \"I\", \"O\", \"U\"]:\n",
    "            vowels += 1\n",
    "    return vowels\n",
    "\n",
    "print(words)\n",
    "words.sort(key=countv, reverse=True) # modifies the list\n",
    "print(words)"
   ]
  },
  {
   "cell_type": "code",
   "execution_count": 2,
   "metadata": {},
   "outputs": [
    {
     "name": "stdout",
     "output_type": "stream",
     "text": [
      "['Python', 'queue', 'Ada', 'marshmellow']\n",
      "['queue', 'marshmellow', 'Ada', 'Python']\n"
     ]
    }
   ],
   "source": [
    "words = [\n",
    "    \"Python\",\n",
    "    \"queue\",\n",
    "    \"Ada\",\n",
    "    \"marshmellow\"\n",
    "]\n",
    "\n",
    "print(words)\n",
    "words = sorted(words, key=countv, reverse=True) # creates a new list \n",
    "print(words)"
   ]
  }
 ],
 "metadata": {
  "kernelspec": {
   "display_name": "Python 3",
   "language": "python",
   "name": "python3"
  },
  "language_info": {
   "codemirror_mode": {
    "name": "ipython",
    "version": 3
   },
   "file_extension": ".py",
   "mimetype": "text/x-python",
   "name": "python",
   "nbconvert_exporter": "python",
   "pygments_lexer": "ipython3",
   "version": "3.7.2"
  }
 },
 "nbformat": 4,
 "nbformat_minor": 2
}
