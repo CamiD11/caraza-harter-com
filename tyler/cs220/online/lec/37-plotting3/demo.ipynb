{
 "cells": [
  {
   "cell_type": "markdown",
   "metadata": {},
   "source": [
    "# Part 1: plotting simulation data"
   ]
  },
  {
   "cell_type": "code",
   "execution_count": 1,
   "metadata": {},
   "outputs": [],
   "source": [
    "import pandas as pd\n",
    "import matplotlib.pyplot as plt"
   ]
  },
  {
   "cell_type": "code",
   "execution_count": 2,
   "metadata": {},
   "outputs": [],
   "source": [
    "%matplotlib inline"
   ]
  },
  {
   "cell_type": "code",
   "execution_count": 3,
   "metadata": {},
   "outputs": [],
   "source": [
    "plt.rcParams[\"font.size\"] = 16"
   ]
  },
  {
   "cell_type": "code",
   "execution_count": 4,
   "metadata": {},
   "outputs": [
    {
     "data": {
      "text/html": [
       "<div>\n",
       "<style scoped>\n",
       "    .dataframe tbody tr th:only-of-type {\n",
       "        vertical-align: middle;\n",
       "    }\n",
       "\n",
       "    .dataframe tbody tr th {\n",
       "        vertical-align: top;\n",
       "    }\n",
       "\n",
       "    .dataframe thead th {\n",
       "        text-align: right;\n",
       "    }\n",
       "</style>\n",
       "<table border=\"1\" class=\"dataframe\">\n",
       "  <thead>\n",
       "    <tr style=\"text-align: right;\">\n",
       "      <th></th>\n",
       "      <th>year</th>\n",
       "      <th>return</th>\n",
       "    </tr>\n",
       "  </thead>\n",
       "  <tbody>\n",
       "    <tr>\n",
       "      <th>0</th>\n",
       "      <td>1970</td>\n",
       "      <td>1.0401</td>\n",
       "    </tr>\n",
       "    <tr>\n",
       "      <th>1</th>\n",
       "      <td>1971</td>\n",
       "      <td>1.1431</td>\n",
       "    </tr>\n",
       "    <tr>\n",
       "      <th>2</th>\n",
       "      <td>1972</td>\n",
       "      <td>1.1898</td>\n",
       "    </tr>\n",
       "    <tr>\n",
       "      <th>3</th>\n",
       "      <td>1973</td>\n",
       "      <td>0.8534</td>\n",
       "    </tr>\n",
       "    <tr>\n",
       "      <th>4</th>\n",
       "      <td>1974</td>\n",
       "      <td>0.7353</td>\n",
       "    </tr>\n",
       "  </tbody>\n",
       "</table>\n",
       "</div>"
      ],
      "text/plain": [
       "   year  return\n",
       "0  1970  1.0401\n",
       "1  1971  1.1431\n",
       "2  1972  1.1898\n",
       "3  1973  0.8534\n",
       "4  1974  0.7353"
      ]
     },
     "execution_count": 4,
     "metadata": {},
     "output_type": "execute_result"
    }
   ],
   "source": [
    "df = pd.read_csv(\"sp500.csv\")\n",
    "df.head()"
   ]
  },
  {
   "cell_type": "code",
   "execution_count": 5,
   "metadata": {},
   "outputs": [
    {
     "data": {
      "text/html": [
       "<div>\n",
       "<style scoped>\n",
       "    .dataframe tbody tr th:only-of-type {\n",
       "        vertical-align: middle;\n",
       "    }\n",
       "\n",
       "    .dataframe tbody tr th {\n",
       "        vertical-align: top;\n",
       "    }\n",
       "\n",
       "    .dataframe thead th {\n",
       "        text-align: right;\n",
       "    }\n",
       "</style>\n",
       "<table border=\"1\" class=\"dataframe\">\n",
       "  <thead>\n",
       "    <tr style=\"text-align: right;\">\n",
       "      <th></th>\n",
       "      <th>year</th>\n",
       "      <th>return</th>\n",
       "      <th>wealth</th>\n",
       "    </tr>\n",
       "  </thead>\n",
       "  <tbody>\n",
       "    <tr>\n",
       "      <th>0</th>\n",
       "      <td>1970</td>\n",
       "      <td>1.0401</td>\n",
       "      <td>1040.100000</td>\n",
       "    </tr>\n",
       "    <tr>\n",
       "      <th>1</th>\n",
       "      <td>1971</td>\n",
       "      <td>1.1431</td>\n",
       "      <td>1188.938310</td>\n",
       "    </tr>\n",
       "    <tr>\n",
       "      <th>2</th>\n",
       "      <td>1972</td>\n",
       "      <td>1.1898</td>\n",
       "      <td>1414.598801</td>\n",
       "    </tr>\n",
       "    <tr>\n",
       "      <th>3</th>\n",
       "      <td>1973</td>\n",
       "      <td>0.8534</td>\n",
       "      <td>1207.218617</td>\n",
       "    </tr>\n",
       "    <tr>\n",
       "      <th>4</th>\n",
       "      <td>1974</td>\n",
       "      <td>0.7353</td>\n",
       "      <td>887.667849</td>\n",
       "    </tr>\n",
       "  </tbody>\n",
       "</table>\n",
       "</div>"
      ],
      "text/plain": [
       "   year  return       wealth\n",
       "0  1970  1.0401  1040.100000\n",
       "1  1971  1.1431  1188.938310\n",
       "2  1972  1.1898  1414.598801\n",
       "3  1973  0.8534  1207.218617\n",
       "4  1974  0.7353   887.667849"
      ]
     },
     "execution_count": 5,
     "metadata": {},
     "output_type": "execute_result"
    }
   ],
   "source": [
    "start = 1000\n",
    "df[\"wealth\"] = df[\"return\"].cumprod() * start\n",
    "df.head()"
   ]
  },
  {
   "cell_type": "code",
   "execution_count": 6,
   "metadata": {},
   "outputs": [
    {
     "data": {
      "text/html": [
       "<div>\n",
       "<style scoped>\n",
       "    .dataframe tbody tr th:only-of-type {\n",
       "        vertical-align: middle;\n",
       "    }\n",
       "\n",
       "    .dataframe tbody tr th {\n",
       "        vertical-align: top;\n",
       "    }\n",
       "\n",
       "    .dataframe thead th {\n",
       "        text-align: right;\n",
       "    }\n",
       "</style>\n",
       "<table border=\"1\" class=\"dataframe\">\n",
       "  <thead>\n",
       "    <tr style=\"text-align: right;\">\n",
       "      <th></th>\n",
       "      <th>return</th>\n",
       "      <th>wealth</th>\n",
       "    </tr>\n",
       "    <tr>\n",
       "      <th>year</th>\n",
       "      <th></th>\n",
       "      <th></th>\n",
       "    </tr>\n",
       "  </thead>\n",
       "  <tbody>\n",
       "    <tr>\n",
       "      <th>1970</th>\n",
       "      <td>1.0401</td>\n",
       "      <td>1040.100000</td>\n",
       "    </tr>\n",
       "    <tr>\n",
       "      <th>1971</th>\n",
       "      <td>1.1431</td>\n",
       "      <td>1188.938310</td>\n",
       "    </tr>\n",
       "    <tr>\n",
       "      <th>1972</th>\n",
       "      <td>1.1898</td>\n",
       "      <td>1414.598801</td>\n",
       "    </tr>\n",
       "    <tr>\n",
       "      <th>1973</th>\n",
       "      <td>0.8534</td>\n",
       "      <td>1207.218617</td>\n",
       "    </tr>\n",
       "    <tr>\n",
       "      <th>1974</th>\n",
       "      <td>0.7353</td>\n",
       "      <td>887.667849</td>\n",
       "    </tr>\n",
       "  </tbody>\n",
       "</table>\n",
       "</div>"
      ],
      "text/plain": [
       "      return       wealth\n",
       "year                     \n",
       "1970  1.0401  1040.100000\n",
       "1971  1.1431  1188.938310\n",
       "1972  1.1898  1414.598801\n",
       "1973  0.8534  1207.218617\n",
       "1974  0.7353   887.667849"
      ]
     },
     "execution_count": 6,
     "metadata": {},
     "output_type": "execute_result"
    }
   ],
   "source": [
    "df = df.set_index(\"year\")\n",
    "df.head()"
   ]
  },
  {
   "cell_type": "code",
   "execution_count": 9,
   "metadata": {},
   "outputs": [
    {
     "data": {
      "image/png": "[encoded data removed]",
      "text/plain": [
       "<Figure size 432x288 with 1 Axes>"
      ]
     },
     "metadata": {
      "needs_background": "light"
     },
     "output_type": "display_data"
    }
   ],
   "source": [
    "ax = df[\"wealth\"].plot.line()\n",
    "ax.set_ylabel(\"Wealth ($)\")\n",
    "ax.spines[\"right\"].set_visible(False)\n",
    "ax.spines[\"top\"].set_visible(False)"
   ]
  },
  {
   "cell_type": "code",
   "execution_count": 10,
   "metadata": {},
   "outputs": [],
   "source": [
    "import random"
   ]
  },
  {
   "cell_type": "code",
   "execution_count": 22,
   "metadata": {},
   "outputs": [
    {
     "data": {
      "text/plain": [
       "3"
      ]
     },
     "execution_count": 22,
     "metadata": {},
     "output_type": "execute_result"
    }
   ],
   "source": [
    "random.choice([3,4,5])"
   ]
  },
  {
   "cell_type": "code",
   "execution_count": 23,
   "metadata": {},
   "outputs": [
    {
     "data": {
      "text/plain": [
       "[3, 3, 3, 3, 5, 5, 4, 3, 4, 5]"
      ]
     },
     "execution_count": 23,
     "metadata": {},
     "output_type": "execute_result"
    }
   ],
   "source": [
    "random.choices([3,4,5], k=10)"
   ]
  },
  {
   "cell_type": "code",
   "execution_count": 36,
   "metadata": {},
   "outputs": [
    {
     "data": {
      "text/plain": [
       "2021    1143.100000\n",
       "2022    1383.608240\n",
       "2023    1523.075951\n",
       "2024    1776.058866\n",
       "2025    2368.552104\n",
       "2026    3090.249930\n",
       "2027    3259.904651\n",
       "2028    3328.688639\n",
       "2029    3805.023983\n",
       "2030    4260.104852\n",
       "dtype: float64"
      ]
     },
     "execution_count": 36,
     "metadata": {},
     "output_type": "execute_result"
    }
   ],
   "source": [
    "def sim_year(start=1000, years=10, init_year=2020):\n",
    "    returns = pd.Series(random.choices(list(df[\"return\"]), k=years),\n",
    "                        index=range(init_year, init_year+years))\n",
    "    return returns.cumprod() * start\n",
    "\n",
    "sim_year(init_year=2021)"
   ]
  },
  {
   "cell_type": "code",
   "execution_count": 56,
   "metadata": {},
   "outputs": [
    {
     "data": {
      "text/html": [
       "<div>\n",
       "<style scoped>\n",
       "    .dataframe tbody tr th:only-of-type {\n",
       "        vertical-align: middle;\n",
       "    }\n",
       "\n",
       "    .dataframe tbody tr th {\n",
       "        vertical-align: top;\n",
       "    }\n",
       "\n",
       "    .dataframe thead th {\n",
       "        text-align: right;\n",
       "    }\n",
       "</style>\n",
       "<table border=\"1\" class=\"dataframe\">\n",
       "  <thead>\n",
       "    <tr style=\"text-align: right;\">\n",
       "      <th></th>\n",
       "      <th>sim0</th>\n",
       "      <th>sim1</th>\n",
       "      <th>sim2</th>\n",
       "      <th>sim3</th>\n",
       "      <th>sim4</th>\n",
       "      <th>sim5</th>\n",
       "      <th>sim6</th>\n",
       "      <th>sim7</th>\n",
       "      <th>sim8</th>\n",
       "      <th>sim9</th>\n",
       "      <th>...</th>\n",
       "      <th>sim490</th>\n",
       "      <th>sim491</th>\n",
       "      <th>sim492</th>\n",
       "      <th>sim493</th>\n",
       "      <th>sim494</th>\n",
       "      <th>sim495</th>\n",
       "      <th>sim496</th>\n",
       "      <th>sim497</th>\n",
       "      <th>sim498</th>\n",
       "      <th>sim499</th>\n",
       "    </tr>\n",
       "  </thead>\n",
       "  <tbody>\n",
       "    <tr>\n",
       "      <th>2021</th>\n",
       "      <td>1375.800000</td>\n",
       "      <td>853.400000</td>\n",
       "      <td>1323.900000</td>\n",
       "      <td>1210.400000</td>\n",
       "      <td>928.200000</td>\n",
       "      <td>1210.400000</td>\n",
       "      <td>881.100000</td>\n",
       "      <td>1052.500000</td>\n",
       "      <td>1210.400000</td>\n",
       "      <td>1150.600000</td>\n",
       "      <td>...</td>\n",
       "      <td>853.400000</td>\n",
       "      <td>1049.100000</td>\n",
       "      <td>1238.400000</td>\n",
       "      <td>1108.800000</td>\n",
       "      <td>1040.100000</td>\n",
       "      <td>1210.400000</td>\n",
       "      <td>1021.100000</td>\n",
       "      <td>1100.800000</td>\n",
       "      <td>1238.400000</td>\n",
       "      <td>1325.000000</td>\n",
       "    </tr>\n",
       "    <tr>\n",
       "      <th>2022</th>\n",
       "      <td>1703.790720</td>\n",
       "      <td>1113.430980</td>\n",
       "      <td>1575.176220</td>\n",
       "      <td>1602.448560</td>\n",
       "      <td>979.158180</td>\n",
       "      <td>1471.241200</td>\n",
       "      <td>1160.673030</td>\n",
       "      <td>1005.874250</td>\n",
       "      <td>1614.189440</td>\n",
       "      <td>1392.686240</td>\n",
       "      <td>...</td>\n",
       "      <td>1032.955360</td>\n",
       "      <td>1285.776960</td>\n",
       "      <td>1254.746880</td>\n",
       "      <td>1315.812960</td>\n",
       "      <td>1119.355620</td>\n",
       "      <td>762.552000</td>\n",
       "      <td>871.406740</td>\n",
       "      <td>1266.580480</td>\n",
       "      <td>1436.544000</td>\n",
       "      <td>1767.020000</td>\n",
       "    </tr>\n",
       "    <tr>\n",
       "      <th>2023</th>\n",
       "      <td>2154.613745</td>\n",
       "      <td>1174.558341</td>\n",
       "      <td>1836.812990</td>\n",
       "      <td>1248.307428</td>\n",
       "      <td>1192.908411</td>\n",
       "      <td>1681.775816</td>\n",
       "      <td>1326.765341</td>\n",
       "      <td>1193.670972</td>\n",
       "      <td>2138.801008</td>\n",
       "      <td>1910.765521</td>\n",
       "      <td>...</td>\n",
       "      <td>1174.366949</td>\n",
       "      <td>1693.239679</td>\n",
       "      <td>1333.419509</td>\n",
       "      <td>1368.577060</td>\n",
       "      <td>1354.868042</td>\n",
       "      <td>964.323259</td>\n",
       "      <td>917.155594</td>\n",
       "      <td>1333.075955</td>\n",
       "      <td>1119.067776</td>\n",
       "      <td>1901.666924</td>\n",
       "    </tr>\n",
       "    <tr>\n",
       "      <th>2024</th>\n",
       "      <td>2772.556966</td>\n",
       "      <td>1556.289802</td>\n",
       "      <td>2251.198001</td>\n",
       "      <td>1644.395375</td>\n",
       "      <td>929.275652</td>\n",
       "      <td>1059.518764</td>\n",
       "      <td>1677.827450</td>\n",
       "      <td>1107.965397</td>\n",
       "      <td>2444.863432</td>\n",
       "      <td>2004.584108</td>\n",
       "      <td>...</td>\n",
       "      <td>1611.231454</td>\n",
       "      <td>2141.270898</td>\n",
       "      <td>1351.820699</td>\n",
       "      <td>1564.420437</td>\n",
       "      <td>1516.910260</td>\n",
       "      <td>1102.317918</td>\n",
       "      <td>876.525601</td>\n",
       "      <td>1777.790094</td>\n",
       "      <td>871.753798</td>\n",
       "      <td>2026.416274</td>\n",
       "    </tr>\n",
       "    <tr>\n",
       "      <th>2025</th>\n",
       "      <td>2924.770344</td>\n",
       "      <td>1674.879084</td>\n",
       "      <td>2768.073062</td>\n",
       "      <td>2036.419233</td>\n",
       "      <td>844.711568</td>\n",
       "      <td>1129.023195</td>\n",
       "      <td>1907.522028</td>\n",
       "      <td>1266.515245</td>\n",
       "      <td>2086.446453</td>\n",
       "      <td>2321.107939</td>\n",
       "      <td>...</td>\n",
       "      <td>2134.881676</td>\n",
       "      <td>2820.696153</td>\n",
       "      <td>1370.475824</td>\n",
       "      <td>1646.552510</td>\n",
       "      <td>2081.200877</td>\n",
       "      <td>1260.059612</td>\n",
       "      <td>796.761771</td>\n",
       "      <td>1384.898483</td>\n",
       "      <td>1120.901033</td>\n",
       "      <td>2605.566045</td>\n",
       "    </tr>\n",
       "    <tr>\n",
       "      <th>2026</th>\n",
       "      <td>3698.664577</td>\n",
       "      <td>2217.372420</td>\n",
       "      <td>1743.886029</td>\n",
       "      <td>2362.246310</td>\n",
       "      <td>936.616186</td>\n",
       "      <td>1152.845584</td>\n",
       "      <td>2001.181359</td>\n",
       "      <td>1539.449280</td>\n",
       "      <td>2115.239414</td>\n",
       "      <td>2827.805802</td>\n",
       "      <td>...</td>\n",
       "      <td>2616.510982</td>\n",
       "      <td>3356.064283</td>\n",
       "      <td>1442.425805</td>\n",
       "      <td>1843.480190</td>\n",
       "      <td>2577.359166</td>\n",
       "      <td>1469.355513</td>\n",
       "      <td>1024.476286</td>\n",
       "      <td>1457.605653</td>\n",
       "      <td>1274.352384</td>\n",
       "      <td>2477.372196</td>\n",
       "    </tr>\n",
       "    <tr>\n",
       "      <th>2027</th>\n",
       "      <td>4282.683714</td>\n",
       "      <td>1396.944625</td>\n",
       "      <td>2069.469550</td>\n",
       "      <td>3082.022761</td>\n",
       "      <td>688.693882</td>\n",
       "      <td>1344.333236</td>\n",
       "      <td>2027.596953</td>\n",
       "      <td>1723.567414</td>\n",
       "      <td>2049.666992</td>\n",
       "      <td>3635.992700</td>\n",
       "      <td>...</td>\n",
       "      <td>2753.877809</td>\n",
       "      <td>3532.257658</td>\n",
       "      <td>1824.091673</td>\n",
       "      <td>1983.953381</td>\n",
       "      <td>2611.380307</td>\n",
       "      <td>1748.239189</td>\n",
       "      <td>1318.296084</td>\n",
       "      <td>1135.474804</td>\n",
       "      <td>1561.846282</td>\n",
       "      <td>3132.884879</td>\n",
       "    </tr>\n",
       "    <tr>\n",
       "      <th>2028</th>\n",
       "      <td>3336.210613</td>\n",
       "      <td>1620.455764</td>\n",
       "      <td>2352.779932</td>\n",
       "      <td>3730.480349</td>\n",
       "      <td>885.522593</td>\n",
       "      <td>1664.822279</td>\n",
       "      <td>2454.203352</td>\n",
       "      <td>2248.738405</td>\n",
       "      <td>2512.071866</td>\n",
       "      <td>4429.729907</td>\n",
       "      <td>...</td>\n",
       "      <td>3482.553877</td>\n",
       "      <td>3673.901190</td>\n",
       "      <td>2164.649588</td>\n",
       "      <td>2729.523061</td>\n",
       "      <td>3107.020290</td>\n",
       "      <td>2316.416926</td>\n",
       "      <td>1125.033878</td>\n",
       "      <td>1324.077169</td>\n",
       "      <td>1582.462653</td>\n",
       "      <td>3653.257057</td>\n",
       "    </tr>\n",
       "    <tr>\n",
       "      <th>2029</th>\n",
       "      <td>2453.115664</td>\n",
       "      <td>1876.325730</td>\n",
       "      <td>3098.375892</td>\n",
       "      <td>4544.844210</td>\n",
       "      <td>821.942071</td>\n",
       "      <td>2105.334254</td>\n",
       "      <td>3201.999113</td>\n",
       "      <td>2668.577865</td>\n",
       "      <td>2676.863780</td>\n",
       "      <td>4607.362076</td>\n",
       "      <td>...</td>\n",
       "      <td>3980.907337</td>\n",
       "      <td>4284.136178</td>\n",
       "      <td>2193.222963</td>\n",
       "      <td>2900.664157</td>\n",
       "      <td>4091.635019</td>\n",
       "      <td>2202.449213</td>\n",
       "      <td>1361.741006</td>\n",
       "      <td>1816.633876</td>\n",
       "      <td>1771.725186</td>\n",
       "      <td>5026.151060</td>\n",
       "    </tr>\n",
       "    <tr>\n",
       "      <th>2030</th>\n",
       "      <td>2804.156515</td>\n",
       "      <td>2581.448939</td>\n",
       "      <td>3141.133480</td>\n",
       "      <td>6252.796664</td>\n",
       "      <td>854.901948</td>\n",
       "      <td>2437.766533</td>\n",
       "      <td>2354.429948</td>\n",
       "      <td>3304.766829</td>\n",
       "      <td>3176.634248</td>\n",
       "      <td>5301.230805</td>\n",
       "      <td>...</td>\n",
       "      <td>4818.490241</td>\n",
       "      <td>4094.348945</td>\n",
       "      <td>2539.532869</td>\n",
       "      <td>2555.775189</td>\n",
       "      <td>3719.296233</td>\n",
       "      <td>2613.646481</td>\n",
       "      <td>1465.505671</td>\n",
       "      <td>1930.536820</td>\n",
       "      <td>1906.730646</td>\n",
       "      <td>5272.935077</td>\n",
       "    </tr>\n",
       "  </tbody>\n",
       "</table>\n",
       "<p>10 rows × 500 columns</p>\n",
       "</div>"
      ],
      "text/plain": [
       "             sim0         sim1         sim2         sim3         sim4  \\\n",
       "2021  1375.800000   853.400000  1323.900000  1210.400000   928.200000   \n",
       "2022  1703.790720  1113.430980  1575.176220  1602.448560   979.158180   \n",
       "2023  2154.613745  1174.558341  1836.812990  1248.307428  1192.908411   \n",
       "2024  2772.556966  1556.289802  2251.198001  1644.395375   929.275652   \n",
       "2025  2924.770344  1674.879084  2768.073062  2036.419233   844.711568   \n",
       "2026  3698.664577  2217.372420  1743.886029  2362.246310   936.616186   \n",
       "2027  4282.683714  1396.944625  2069.469550  3082.022761   688.693882   \n",
       "2028  3336.210613  1620.455764  2352.779932  3730.480349   885.522593   \n",
       "2029  2453.115664  1876.325730  3098.375892  4544.844210   821.942071   \n",
       "2030  2804.156515  2581.448939  3141.133480  6252.796664   854.901948   \n",
       "\n",
       "             sim5         sim6         sim7         sim8         sim9  ...  \\\n",
       "2021  1210.400000   881.100000  1052.500000  1210.400000  1150.600000  ...   \n",
       "2022  1471.241200  1160.673030  1005.874250  1614.189440  1392.686240  ...   \n",
       "2023  1681.775816  1326.765341  1193.670972  2138.801008  1910.765521  ...   \n",
       "2024  1059.518764  1677.827450  1107.965397  2444.863432  2004.584108  ...   \n",
       "2025  1129.023195  1907.522028  1266.515245  2086.446453  2321.107939  ...   \n",
       "2026  1152.845584  2001.181359  1539.449280  2115.239414  2827.805802  ...   \n",
       "2027  1344.333236  2027.596953  1723.567414  2049.666992  3635.992700  ...   \n",
       "2028  1664.822279  2454.203352  2248.738405  2512.071866  4429.729907  ...   \n",
       "2029  2105.334254  3201.999113  2668.577865  2676.863780  4607.362076  ...   \n",
       "2030  2437.766533  2354.429948  3304.766829  3176.634248  5301.230805  ...   \n",
       "\n",
       "           sim490       sim491       sim492       sim493       sim494  \\\n",
       "2021   853.400000  1049.100000  1238.400000  1108.800000  1040.100000   \n",
       "2022  1032.955360  1285.776960  1254.746880  1315.812960  1119.355620   \n",
       "2023  1174.366949  1693.239679  1333.419509  1368.577060  1354.868042   \n",
       "2024  1611.231454  2141.270898  1351.820699  1564.420437  1516.910260   \n",
       "2025  2134.881676  2820.696153  1370.475824  1646.552510  2081.200877   \n",
       "2026  2616.510982  3356.064283  1442.425805  1843.480190  2577.359166   \n",
       "2027  2753.877809  3532.257658  1824.091673  1983.953381  2611.380307   \n",
       "2028  3482.553877  3673.901190  2164.649588  2729.523061  3107.020290   \n",
       "2029  3980.907337  4284.136178  2193.222963  2900.664157  4091.635019   \n",
       "2030  4818.490241  4094.348945  2539.532869  2555.775189  3719.296233   \n",
       "\n",
       "           sim495       sim496       sim497       sim498       sim499  \n",
       "2021  1210.400000  1021.100000  1100.800000  1238.400000  1325.000000  \n",
       "2022   762.552000   871.406740  1266.580480  1436.544000  1767.020000  \n",
       "2023   964.323259   917.155594  1333.075955  1119.067776  1901.666924  \n",
       "2024  1102.317918   876.525601  1777.790094   871.753798  2026.416274  \n",
       "2025  1260.059612   796.761771  1384.898483  1120.901033  2605.566045  \n",
       "2026  1469.355513  1024.476286  1457.605653  1274.352384  2477.372196  \n",
       "2027  1748.239189  1318.296084  1135.474804  1561.846282  3132.884879  \n",
       "2028  2316.416926  1125.033878  1324.077169  1582.462653  3653.257057  \n",
       "2029  2202.449213  1361.741006  1816.633876  1771.725186  5026.151060  \n",
       "2030  2613.646481  1465.505671  1930.536820  1906.730646  5272.935077  \n",
       "\n",
       "[10 rows x 500 columns]"
      ]
     },
     "execution_count": 56,
     "metadata": {},
     "output_type": "execute_result"
    }
   ],
   "source": [
    "def sim_many_years(sim_count=1):\n",
    "    sims = pd.DataFrame()\n",
    "    for i in range(sim_count):\n",
    "        sims[\"sim\"+str(i)] = sim_year(init_year=2021)\n",
    "    return sims\n",
    "results = sim_many_years(500)\n",
    "results"
   ]
  },
  {
   "cell_type": "code",
   "execution_count": 57,
   "metadata": {},
   "outputs": [
    {
     "data": {
      "image/png": "[encoded data removed]",
      "text/plain": [
       "<Figure size 432x288 with 1 Axes>"
      ]
     },
     "metadata": {
      "needs_background": "light"
     },
     "output_type": "display_data"
    }
   ],
   "source": [
    "ax = results.plot.line()\n",
    "ax.legend().set_visible(False)"
   ]
  },
  {
   "cell_type": "code",
   "execution_count": 58,
   "metadata": {},
   "outputs": [
    {
     "data": {
      "text/plain": [
       "<matplotlib.axes._subplots.AxesSubplot at 0x7fb8e5c2bda0>"
      ]
     },
     "execution_count": 58,
     "metadata": {},
     "output_type": "execute_result"
    },
    {
     "data": {
      "image/png": "[encoded data removed]",
      "text/plain": [
       "<Figure size 432x288 with 1 Axes>"
      ]
     },
     "metadata": {
      "needs_background": "light"
     },
     "output_type": "display_data"
    }
   ],
   "source": [
    "plot_df = pd.DataFrame({\n",
    "    \"5th percentile\": results.quantile(0.05, axis=1),\n",
    "    \"median\": results.quantile(0.5, axis=1),\n",
    "    \"95th percentile\": results.quantile(0.95, axis=1),\n",
    "})\n",
    "plot_df.plot.line()"
   ]
  },
  {
   "cell_type": "markdown",
   "metadata": {},
   "source": [
    "# Part 2: stacked/clustered bar plots"
   ]
  },
  {
   "cell_type": "markdown",
   "metadata": {},
   "source": [
    "#### Question: In what decades were the Pacer fire hydrants mostly installed in Madison?"
   ]
  },
  {
   "cell_type": "code",
   "execution_count": 60,
   "metadata": {},
   "outputs": [
    {
     "data": {
      "text/html": [
       "<div>\n",
       "<style scoped>\n",
       "    .dataframe tbody tr th:only-of-type {\n",
       "        vertical-align: middle;\n",
       "    }\n",
       "\n",
       "    .dataframe tbody tr th {\n",
       "        vertical-align: top;\n",
       "    }\n",
       "\n",
       "    .dataframe thead th {\n",
       "        text-align: right;\n",
       "    }\n",
       "</style>\n",
       "<table border=\"1\" class=\"dataframe\">\n",
       "  <thead>\n",
       "    <tr style=\"text-align: right;\">\n",
       "      <th></th>\n",
       "      <th>X</th>\n",
       "      <th>Y</th>\n",
       "      <th>OBJECTID</th>\n",
       "      <th>CreatedBy</th>\n",
       "      <th>CreatedDate</th>\n",
       "      <th>LastEditor</th>\n",
       "      <th>LastUpdate</th>\n",
       "      <th>FacilityID</th>\n",
       "      <th>DataSource</th>\n",
       "      <th>ProjectNumber</th>\n",
       "      <th>...</th>\n",
       "      <th>Elevation</th>\n",
       "      <th>Manufacturer</th>\n",
       "      <th>Style</th>\n",
       "      <th>year_manufactured</th>\n",
       "      <th>BarrelDiameter</th>\n",
       "      <th>SeatDiameter</th>\n",
       "      <th>Comments</th>\n",
       "      <th>nozzle_color</th>\n",
       "      <th>MaintainedBy</th>\n",
       "      <th>InstallType</th>\n",
       "    </tr>\n",
       "  </thead>\n",
       "  <tbody>\n",
       "    <tr>\n",
       "      <th>0</th>\n",
       "      <td>-89.519573</td>\n",
       "      <td>43.049308</td>\n",
       "      <td>2536</td>\n",
       "      <td>NaN</td>\n",
       "      <td>NaN</td>\n",
       "      <td>WUJAG</td>\n",
       "      <td>2018-06-07T19:45:53.000Z</td>\n",
       "      <td>HYDR-2360-2</td>\n",
       "      <td>FASB</td>\n",
       "      <td>NaN</td>\n",
       "      <td>...</td>\n",
       "      <td>1138.0</td>\n",
       "      <td>NaN</td>\n",
       "      <td>Pacer</td>\n",
       "      <td>1996.0</td>\n",
       "      <td>5.0</td>\n",
       "      <td>NaN</td>\n",
       "      <td>NaN</td>\n",
       "      <td>blue</td>\n",
       "      <td>MADISON WATER UTILITY</td>\n",
       "      <td>NaN</td>\n",
       "    </tr>\n",
       "    <tr>\n",
       "      <th>1</th>\n",
       "      <td>-89.521988</td>\n",
       "      <td>43.049193</td>\n",
       "      <td>2537</td>\n",
       "      <td>NaN</td>\n",
       "      <td>NaN</td>\n",
       "      <td>WUJAG</td>\n",
       "      <td>2018-06-07T19:45:53.000Z</td>\n",
       "      <td>HYDR-2360-4</td>\n",
       "      <td>FASB</td>\n",
       "      <td>NaN</td>\n",
       "      <td>...</td>\n",
       "      <td>1170.0</td>\n",
       "      <td>NaN</td>\n",
       "      <td>Pacer</td>\n",
       "      <td>1995.0</td>\n",
       "      <td>5.0</td>\n",
       "      <td>NaN</td>\n",
       "      <td>NaN</td>\n",
       "      <td>blue</td>\n",
       "      <td>MADISON WATER UTILITY</td>\n",
       "      <td>NaN</td>\n",
       "    </tr>\n",
       "    <tr>\n",
       "      <th>2</th>\n",
       "      <td>-89.522093</td>\n",
       "      <td>43.048233</td>\n",
       "      <td>2538</td>\n",
       "      <td>NaN</td>\n",
       "      <td>NaN</td>\n",
       "      <td>WUJAG</td>\n",
       "      <td>2018-06-07T19:45:53.000Z</td>\n",
       "      <td>HYDR-2361-19</td>\n",
       "      <td>FASB</td>\n",
       "      <td>NaN</td>\n",
       "      <td>...</td>\n",
       "      <td>1179.0</td>\n",
       "      <td>NaN</td>\n",
       "      <td>Pacer</td>\n",
       "      <td>1996.0</td>\n",
       "      <td>5.0</td>\n",
       "      <td>NaN</td>\n",
       "      <td>NaN</td>\n",
       "      <td>blue</td>\n",
       "      <td>MADISON WATER UTILITY</td>\n",
       "      <td>NaN</td>\n",
       "    </tr>\n",
       "    <tr>\n",
       "      <th>3</th>\n",
       "      <td>-89.521013</td>\n",
       "      <td>43.049033</td>\n",
       "      <td>2539</td>\n",
       "      <td>NaN</td>\n",
       "      <td>NaN</td>\n",
       "      <td>WUJAG</td>\n",
       "      <td>2018-06-07T19:45:53.000Z</td>\n",
       "      <td>HYDR-2360-3</td>\n",
       "      <td>FASB</td>\n",
       "      <td>NaN</td>\n",
       "      <td>...</td>\n",
       "      <td>1163.0</td>\n",
       "      <td>NaN</td>\n",
       "      <td>Pacer</td>\n",
       "      <td>1995.0</td>\n",
       "      <td>5.0</td>\n",
       "      <td>NaN</td>\n",
       "      <td>NaN</td>\n",
       "      <td>blue</td>\n",
       "      <td>MADISON WATER UTILITY</td>\n",
       "      <td>NaN</td>\n",
       "    </tr>\n",
       "    <tr>\n",
       "      <th>4</th>\n",
       "      <td>-89.524782</td>\n",
       "      <td>43.056263</td>\n",
       "      <td>2540</td>\n",
       "      <td>NaN</td>\n",
       "      <td>NaN</td>\n",
       "      <td>WUPTB</td>\n",
       "      <td>2017-08-31T16:19:46.000Z</td>\n",
       "      <td>HYDR-2257-5</td>\n",
       "      <td>NaN</td>\n",
       "      <td>NaN</td>\n",
       "      <td>...</td>\n",
       "      <td>1065.0</td>\n",
       "      <td>NaN</td>\n",
       "      <td>Pacer</td>\n",
       "      <td>1996.0</td>\n",
       "      <td>5.0</td>\n",
       "      <td>NaN</td>\n",
       "      <td>NaN</td>\n",
       "      <td>blue</td>\n",
       "      <td>MADISON WATER UTILITY</td>\n",
       "      <td>NaN</td>\n",
       "    </tr>\n",
       "  </tbody>\n",
       "</table>\n",
       "<p>5 rows × 25 columns</p>\n",
       "</div>"
      ],
      "text/plain": [
       "           X          Y  OBJECTID CreatedBy CreatedDate LastEditor  \\\n",
       "0 -89.519573  43.049308      2536       NaN         NaN      WUJAG   \n",
       "1 -89.521988  43.049193      2537       NaN         NaN      WUJAG   \n",
       "2 -89.522093  43.048233      2538       NaN         NaN      WUJAG   \n",
       "3 -89.521013  43.049033      2539       NaN         NaN      WUJAG   \n",
       "4 -89.524782  43.056263      2540       NaN         NaN      WUPTB   \n",
       "\n",
       "                 LastUpdate    FacilityID DataSource ProjectNumber  ...  \\\n",
       "0  2018-06-07T19:45:53.000Z   HYDR-2360-2       FASB           NaN  ...   \n",
       "1  2018-06-07T19:45:53.000Z   HYDR-2360-4       FASB           NaN  ...   \n",
       "2  2018-06-07T19:45:53.000Z  HYDR-2361-19       FASB           NaN  ...   \n",
       "3  2018-06-07T19:45:53.000Z   HYDR-2360-3       FASB           NaN  ...   \n",
       "4  2017-08-31T16:19:46.000Z   HYDR-2257-5        NaN           NaN  ...   \n",
       "\n",
       "  Elevation Manufacturer  Style  year_manufactured BarrelDiameter  \\\n",
       "0    1138.0          NaN  Pacer             1996.0            5.0   \n",
       "1    1170.0          NaN  Pacer             1995.0            5.0   \n",
       "2    1179.0          NaN  Pacer             1996.0            5.0   \n",
       "3    1163.0          NaN  Pacer             1995.0            5.0   \n",
       "4    1065.0          NaN  Pacer             1996.0            5.0   \n",
       "\n",
       "   SeatDiameter Comments nozzle_color           MaintainedBy  InstallType  \n",
       "0           NaN      NaN         blue  MADISON WATER UTILITY          NaN  \n",
       "1           NaN      NaN         blue  MADISON WATER UTILITY          NaN  \n",
       "2           NaN      NaN         blue  MADISON WATER UTILITY          NaN  \n",
       "3           NaN      NaN         blue  MADISON WATER UTILITY          NaN  \n",
       "4           NaN      NaN         blue  MADISON WATER UTILITY          NaN  \n",
       "\n",
       "[5 rows x 25 columns]"
      ]
     },
     "execution_count": 60,
     "metadata": {},
     "output_type": "execute_result"
    }
   ],
   "source": [
    "df = pd.read_csv(\"Fire_Hydrants.csv\")\n",
    "df.head()"
   ]
  },
  {
   "cell_type": "code",
   "execution_count": 65,
   "metadata": {},
   "outputs": [
    {
     "data": {
      "text/html": [
       "<div>\n",
       "<style scoped>\n",
       "    .dataframe tbody tr th:only-of-type {\n",
       "        vertical-align: middle;\n",
       "    }\n",
       "\n",
       "    .dataframe tbody tr th {\n",
       "        vertical-align: top;\n",
       "    }\n",
       "\n",
       "    .dataframe thead th {\n",
       "        text-align: right;\n",
       "    }\n",
       "</style>\n",
       "<table border=\"1\" class=\"dataframe\">\n",
       "  <thead>\n",
       "    <tr style=\"text-align: right;\">\n",
       "      <th></th>\n",
       "      <th>Style</th>\n",
       "      <th>year_manufactured</th>\n",
       "    </tr>\n",
       "  </thead>\n",
       "  <tbody>\n",
       "    <tr>\n",
       "      <th>0</th>\n",
       "      <td>Pacer</td>\n",
       "      <td>1996.0</td>\n",
       "    </tr>\n",
       "    <tr>\n",
       "      <th>1</th>\n",
       "      <td>Pacer</td>\n",
       "      <td>1995.0</td>\n",
       "    </tr>\n",
       "    <tr>\n",
       "      <th>2</th>\n",
       "      <td>Pacer</td>\n",
       "      <td>1996.0</td>\n",
       "    </tr>\n",
       "    <tr>\n",
       "      <th>3</th>\n",
       "      <td>Pacer</td>\n",
       "      <td>1995.0</td>\n",
       "    </tr>\n",
       "    <tr>\n",
       "      <th>4</th>\n",
       "      <td>Pacer</td>\n",
       "      <td>1996.0</td>\n",
       "    </tr>\n",
       "    <tr>\n",
       "      <th>...</th>\n",
       "      <td>...</td>\n",
       "      <td>...</td>\n",
       "    </tr>\n",
       "    <tr>\n",
       "      <th>10104</th>\n",
       "      <td>NaN</td>\n",
       "      <td>2018.0</td>\n",
       "    </tr>\n",
       "    <tr>\n",
       "      <th>10105</th>\n",
       "      <td>NaN</td>\n",
       "      <td>2017.0</td>\n",
       "    </tr>\n",
       "    <tr>\n",
       "      <th>10106</th>\n",
       "      <td>NaN</td>\n",
       "      <td>2000.0</td>\n",
       "    </tr>\n",
       "    <tr>\n",
       "      <th>10107</th>\n",
       "      <td>NaN</td>\n",
       "      <td>2017.0</td>\n",
       "    </tr>\n",
       "    <tr>\n",
       "      <th>10108</th>\n",
       "      <td>NaN</td>\n",
       "      <td>NaN</td>\n",
       "    </tr>\n",
       "  </tbody>\n",
       "</table>\n",
       "<p>10109 rows × 2 columns</p>\n",
       "</div>"
      ],
      "text/plain": [
       "       Style  year_manufactured\n",
       "0      Pacer             1996.0\n",
       "1      Pacer             1995.0\n",
       "2      Pacer             1996.0\n",
       "3      Pacer             1995.0\n",
       "4      Pacer             1996.0\n",
       "...      ...                ...\n",
       "10104    NaN             2018.0\n",
       "10105    NaN             2017.0\n",
       "10106    NaN             2000.0\n",
       "10107    NaN             2017.0\n",
       "10108    NaN                NaN\n",
       "\n",
       "[10109 rows x 2 columns]"
      ]
     },
     "execution_count": 65,
     "metadata": {},
     "output_type": "execute_result"
    }
   ],
   "source": [
    "df[[\"Style\", \"year_manufactured\"]]"
   ]
  },
  {
   "cell_type": "code",
   "execution_count": 69,
   "metadata": {},
   "outputs": [
    {
     "data": {
      "text/html": [
       "<div>\n",
       "<style scoped>\n",
       "    .dataframe tbody tr th:only-of-type {\n",
       "        vertical-align: middle;\n",
       "    }\n",
       "\n",
       "    .dataframe tbody tr th {\n",
       "        vertical-align: top;\n",
       "    }\n",
       "\n",
       "    .dataframe thead th {\n",
       "        text-align: right;\n",
       "    }\n",
       "</style>\n",
       "<table border=\"1\" class=\"dataframe\">\n",
       "  <thead>\n",
       "    <tr style=\"text-align: right;\">\n",
       "      <th></th>\n",
       "      <th>X</th>\n",
       "      <th>Y</th>\n",
       "      <th>OBJECTID</th>\n",
       "      <th>CreatedBy</th>\n",
       "      <th>CreatedDate</th>\n",
       "      <th>LastEditor</th>\n",
       "      <th>LastUpdate</th>\n",
       "      <th>FacilityID</th>\n",
       "      <th>DataSource</th>\n",
       "      <th>ProjectNumber</th>\n",
       "      <th>...</th>\n",
       "      <th>Elevation</th>\n",
       "      <th>Manufacturer</th>\n",
       "      <th>Style</th>\n",
       "      <th>year_manufactured</th>\n",
       "      <th>BarrelDiameter</th>\n",
       "      <th>SeatDiameter</th>\n",
       "      <th>Comments</th>\n",
       "      <th>nozzle_color</th>\n",
       "      <th>MaintainedBy</th>\n",
       "      <th>InstallType</th>\n",
       "    </tr>\n",
       "  </thead>\n",
       "  <tbody>\n",
       "    <tr>\n",
       "      <th>0</th>\n",
       "      <td>-89.519573</td>\n",
       "      <td>43.049308</td>\n",
       "      <td>2536</td>\n",
       "      <td>NaN</td>\n",
       "      <td>NaN</td>\n",
       "      <td>WUJAG</td>\n",
       "      <td>2018-06-07T19:45:53.000Z</td>\n",
       "      <td>HYDR-2360-2</td>\n",
       "      <td>FASB</td>\n",
       "      <td>NaN</td>\n",
       "      <td>...</td>\n",
       "      <td>1138.0</td>\n",
       "      <td>NaN</td>\n",
       "      <td>Pacer</td>\n",
       "      <td>1996.0</td>\n",
       "      <td>5.0</td>\n",
       "      <td>NaN</td>\n",
       "      <td>NaN</td>\n",
       "      <td>blue</td>\n",
       "      <td>MADISON WATER UTILITY</td>\n",
       "      <td>NaN</td>\n",
       "    </tr>\n",
       "    <tr>\n",
       "      <th>1</th>\n",
       "      <td>-89.521988</td>\n",
       "      <td>43.049193</td>\n",
       "      <td>2537</td>\n",
       "      <td>NaN</td>\n",
       "      <td>NaN</td>\n",
       "      <td>WUJAG</td>\n",
       "      <td>2018-06-07T19:45:53.000Z</td>\n",
       "      <td>HYDR-2360-4</td>\n",
       "      <td>FASB</td>\n",
       "      <td>NaN</td>\n",
       "      <td>...</td>\n",
       "      <td>1170.0</td>\n",
       "      <td>NaN</td>\n",
       "      <td>Pacer</td>\n",
       "      <td>1995.0</td>\n",
       "      <td>5.0</td>\n",
       "      <td>NaN</td>\n",
       "      <td>NaN</td>\n",
       "      <td>blue</td>\n",
       "      <td>MADISON WATER UTILITY</td>\n",
       "      <td>NaN</td>\n",
       "    </tr>\n",
       "    <tr>\n",
       "      <th>2</th>\n",
       "      <td>-89.522093</td>\n",
       "      <td>43.048233</td>\n",
       "      <td>2538</td>\n",
       "      <td>NaN</td>\n",
       "      <td>NaN</td>\n",
       "      <td>WUJAG</td>\n",
       "      <td>2018-06-07T19:45:53.000Z</td>\n",
       "      <td>HYDR-2361-19</td>\n",
       "      <td>FASB</td>\n",
       "      <td>NaN</td>\n",
       "      <td>...</td>\n",
       "      <td>1179.0</td>\n",
       "      <td>NaN</td>\n",
       "      <td>Pacer</td>\n",
       "      <td>1996.0</td>\n",
       "      <td>5.0</td>\n",
       "      <td>NaN</td>\n",
       "      <td>NaN</td>\n",
       "      <td>blue</td>\n",
       "      <td>MADISON WATER UTILITY</td>\n",
       "      <td>NaN</td>\n",
       "    </tr>\n",
       "    <tr>\n",
       "      <th>3</th>\n",
       "      <td>-89.521013</td>\n",
       "      <td>43.049033</td>\n",
       "      <td>2539</td>\n",
       "      <td>NaN</td>\n",
       "      <td>NaN</td>\n",
       "      <td>WUJAG</td>\n",
       "      <td>2018-06-07T19:45:53.000Z</td>\n",
       "      <td>HYDR-2360-3</td>\n",
       "      <td>FASB</td>\n",
       "      <td>NaN</td>\n",
       "      <td>...</td>\n",
       "      <td>1163.0</td>\n",
       "      <td>NaN</td>\n",
       "      <td>Pacer</td>\n",
       "      <td>1995.0</td>\n",
       "      <td>5.0</td>\n",
       "      <td>NaN</td>\n",
       "      <td>NaN</td>\n",
       "      <td>blue</td>\n",
       "      <td>MADISON WATER UTILITY</td>\n",
       "      <td>NaN</td>\n",
       "    </tr>\n",
       "    <tr>\n",
       "      <th>4</th>\n",
       "      <td>-89.524782</td>\n",
       "      <td>43.056263</td>\n",
       "      <td>2540</td>\n",
       "      <td>NaN</td>\n",
       "      <td>NaN</td>\n",
       "      <td>WUPTB</td>\n",
       "      <td>2017-08-31T16:19:46.000Z</td>\n",
       "      <td>HYDR-2257-5</td>\n",
       "      <td>NaN</td>\n",
       "      <td>NaN</td>\n",
       "      <td>...</td>\n",
       "      <td>1065.0</td>\n",
       "      <td>NaN</td>\n",
       "      <td>Pacer</td>\n",
       "      <td>1996.0</td>\n",
       "      <td>5.0</td>\n",
       "      <td>NaN</td>\n",
       "      <td>NaN</td>\n",
       "      <td>blue</td>\n",
       "      <td>MADISON WATER UTILITY</td>\n",
       "      <td>NaN</td>\n",
       "    </tr>\n",
       "  </tbody>\n",
       "</table>\n",
       "<p>5 rows × 25 columns</p>\n",
       "</div>"
      ],
      "text/plain": [
       "           X          Y  OBJECTID CreatedBy CreatedDate LastEditor  \\\n",
       "0 -89.519573  43.049308      2536       NaN         NaN      WUJAG   \n",
       "1 -89.521988  43.049193      2537       NaN         NaN      WUJAG   \n",
       "2 -89.522093  43.048233      2538       NaN         NaN      WUJAG   \n",
       "3 -89.521013  43.049033      2539       NaN         NaN      WUJAG   \n",
       "4 -89.524782  43.056263      2540       NaN         NaN      WUPTB   \n",
       "\n",
       "                 LastUpdate    FacilityID DataSource ProjectNumber  ...  \\\n",
       "0  2018-06-07T19:45:53.000Z   HYDR-2360-2       FASB           NaN  ...   \n",
       "1  2018-06-07T19:45:53.000Z   HYDR-2360-4       FASB           NaN  ...   \n",
       "2  2018-06-07T19:45:53.000Z  HYDR-2361-19       FASB           NaN  ...   \n",
       "3  2018-06-07T19:45:53.000Z   HYDR-2360-3       FASB           NaN  ...   \n",
       "4  2017-08-31T16:19:46.000Z   HYDR-2257-5        NaN           NaN  ...   \n",
       "\n",
       "  Elevation Manufacturer  Style  year_manufactured BarrelDiameter  \\\n",
       "0    1138.0          NaN  Pacer             1996.0            5.0   \n",
       "1    1170.0          NaN  Pacer             1995.0            5.0   \n",
       "2    1179.0          NaN  Pacer             1996.0            5.0   \n",
       "3    1163.0          NaN  Pacer             1995.0            5.0   \n",
       "4    1065.0          NaN  Pacer             1996.0            5.0   \n",
       "\n",
       "   SeatDiameter Comments nozzle_color           MaintainedBy  InstallType  \n",
       "0           NaN      NaN         blue  MADISON WATER UTILITY          NaN  \n",
       "1           NaN      NaN         blue  MADISON WATER UTILITY          NaN  \n",
       "2           NaN      NaN         blue  MADISON WATER UTILITY          NaN  \n",
       "3           NaN      NaN         blue  MADISON WATER UTILITY          NaN  \n",
       "4           NaN      NaN         blue  MADISON WATER UTILITY          NaN  \n",
       "\n",
       "[5 rows x 25 columns]"
      ]
     },
     "execution_count": 69,
     "metadata": {},
     "output_type": "execute_result"
    }
   ],
   "source": [
    "df = df[~df[\"year_manufactured\"].isna()]\n",
    "df.head()"
   ]
  },
  {
   "cell_type": "code",
   "execution_count": 70,
   "metadata": {},
   "outputs": [
    {
     "data": {
      "text/plain": [
       "0        Pacer\n",
       "1        Pacer\n",
       "2        Pacer\n",
       "3        Pacer\n",
       "4        Pacer\n",
       "         ...  \n",
       "10102      NaN\n",
       "10104      NaN\n",
       "10105      NaN\n",
       "10106      NaN\n",
       "10107      NaN\n",
       "Name: Style, Length: 7256, dtype: object"
      ]
     },
     "execution_count": 70,
     "metadata": {},
     "output_type": "execute_result"
    }
   ],
   "source": [
    "df[\"Style\"]"
   ]
  },
  {
   "cell_type": "code",
   "execution_count": 76,
   "metadata": {},
   "outputs": [
    {
     "data": {
      "text/plain": [
       "Style\n",
       "Pacer      3101\n",
       "Mueller    1209\n",
       "M-3         550\n",
       "WB-59       481\n",
       "K-11        260\n",
       "Name: OBJECTID, dtype: int64"
      ]
     },
     "execution_count": 76,
     "metadata": {},
     "output_type": "execute_result"
    }
   ],
   "source": [
    "df.groupby(\"Style\").agg(\"count\")[\"OBJECTID\"].sort_values(ascending=False).head()"
   ]
  },
  {
   "cell_type": "code",
   "execution_count": 82,
   "metadata": {},
   "outputs": [
    {
     "data": {
      "text/plain": [
       "<matplotlib.axes._subplots.AxesSubplot at 0x7fb8e5340588>"
      ]
     },
     "execution_count": 82,
     "metadata": {},
     "output_type": "execute_result"
    },
    {
     "data": {
      "image/png": "[encoded data removed]",
      "text/plain": [
       "<Figure size 432x288 with 1 Axes>"
      ]
     },
     "metadata": {
      "needs_background": "light"
     },
     "output_type": "display_data"
    }
   ],
   "source": [
    "counts = df[\"Style\"].value_counts()\n",
    "top5 = counts[:5]\n",
    "top5[\"other\"] = counts[5:].sum()\n",
    "top5.plot.bar()"
   ]
  },
  {
   "cell_type": "code",
   "execution_count": 87,
   "metadata": {},
   "outputs": [],
   "source": [
    "df.loc[~df[\"Style\"].isin(top5.index), \"Style\"] = \"other\""
   ]
  },
  {
   "cell_type": "code",
   "execution_count": 89,
   "metadata": {},
   "outputs": [
    {
     "data": {
      "text/plain": [
       "<matplotlib.axes._subplots.AxesSubplot at 0x7fb8e53413c8>"
      ]
     },
     "execution_count": 89,
     "metadata": {},
     "output_type": "execute_result"
    },
    {
     "data": {
      "image/png": "[encoded data removed]",
      "text/plain": [
       "<Figure size 432x288 with 1 Axes>"
      ]
     },
     "metadata": {
      "needs_background": "light"
     },
     "output_type": "display_data"
    }
   ],
   "source": [
    "df[\"Style\"].value_counts().plot.bar()"
   ]
  },
  {
   "cell_type": "code",
   "execution_count": 95,
   "metadata": {},
   "outputs": [],
   "source": [
    "df[\"decade\"] = (df[\"year_manufactured\"] // 10 * 10).astype(int)"
   ]
  },
  {
   "cell_type": "code",
   "execution_count": 99,
   "metadata": {},
   "outputs": [
    {
     "data": {
      "text/html": [
       "<div>\n",
       "<style scoped>\n",
       "    .dataframe tbody tr th:only-of-type {\n",
       "        vertical-align: middle;\n",
       "    }\n",
       "\n",
       "    .dataframe tbody tr th {\n",
       "        vertical-align: top;\n",
       "    }\n",
       "\n",
       "    .dataframe thead th {\n",
       "        text-align: right;\n",
       "    }\n",
       "</style>\n",
       "<table border=\"1\" class=\"dataframe\">\n",
       "  <thead>\n",
       "    <tr style=\"text-align: right;\">\n",
       "      <th></th>\n",
       "      <th>decade</th>\n",
       "      <th>Style</th>\n",
       "      <th>OBJECTID</th>\n",
       "    </tr>\n",
       "  </thead>\n",
       "  <tbody>\n",
       "    <tr>\n",
       "      <th>0</th>\n",
       "      <td>1990</td>\n",
       "      <td>Pacer</td>\n",
       "      <td>2536</td>\n",
       "    </tr>\n",
       "    <tr>\n",
       "      <th>1</th>\n",
       "      <td>1990</td>\n",
       "      <td>Pacer</td>\n",
       "      <td>2537</td>\n",
       "    </tr>\n",
       "    <tr>\n",
       "      <th>2</th>\n",
       "      <td>1990</td>\n",
       "      <td>Pacer</td>\n",
       "      <td>2538</td>\n",
       "    </tr>\n",
       "    <tr>\n",
       "      <th>3</th>\n",
       "      <td>1990</td>\n",
       "      <td>Pacer</td>\n",
       "      <td>2539</td>\n",
       "    </tr>\n",
       "    <tr>\n",
       "      <th>4</th>\n",
       "      <td>1990</td>\n",
       "      <td>Pacer</td>\n",
       "      <td>2540</td>\n",
       "    </tr>\n",
       "  </tbody>\n",
       "</table>\n",
       "</div>"
      ],
      "text/plain": [
       "   decade  Style  OBJECTID\n",
       "0    1990  Pacer      2536\n",
       "1    1990  Pacer      2537\n",
       "2    1990  Pacer      2538\n",
       "3    1990  Pacer      2539\n",
       "4    1990  Pacer      2540"
      ]
     },
     "execution_count": 99,
     "metadata": {},
     "output_type": "execute_result"
    }
   ],
   "source": [
    "df = df[[\"decade\", \"Style\", \"OBJECTID\"]]\n",
    "df.head()"
   ]
  },
  {
   "cell_type": "code",
   "execution_count": 103,
   "metadata": {},
   "outputs": [
    {
     "data": {
      "text/html": [
       "<div>\n",
       "<style scoped>\n",
       "    .dataframe tbody tr th:only-of-type {\n",
       "        vertical-align: middle;\n",
       "    }\n",
       "\n",
       "    .dataframe tbody tr th {\n",
       "        vertical-align: top;\n",
       "    }\n",
       "\n",
       "    .dataframe thead th {\n",
       "        text-align: right;\n",
       "    }\n",
       "</style>\n",
       "<table border=\"1\" class=\"dataframe\">\n",
       "  <thead>\n",
       "    <tr style=\"text-align: right;\">\n",
       "      <th></th>\n",
       "      <th>decade</th>\n",
       "      <th>Style</th>\n",
       "      <th>OBJECTID</th>\n",
       "    </tr>\n",
       "  </thead>\n",
       "  <tbody>\n",
       "    <tr>\n",
       "      <th>0</th>\n",
       "      <td>1900</td>\n",
       "      <td>other</td>\n",
       "      <td>1</td>\n",
       "    </tr>\n",
       "    <tr>\n",
       "      <th>1</th>\n",
       "      <td>1930</td>\n",
       "      <td>M-3</td>\n",
       "      <td>8</td>\n",
       "    </tr>\n",
       "    <tr>\n",
       "      <th>2</th>\n",
       "      <td>1930</td>\n",
       "      <td>other</td>\n",
       "      <td>1</td>\n",
       "    </tr>\n",
       "    <tr>\n",
       "      <th>3</th>\n",
       "      <td>1940</td>\n",
       "      <td>M-3</td>\n",
       "      <td>68</td>\n",
       "    </tr>\n",
       "    <tr>\n",
       "      <th>4</th>\n",
       "      <td>1950</td>\n",
       "      <td>M-3</td>\n",
       "      <td>370</td>\n",
       "    </tr>\n",
       "  </tbody>\n",
       "</table>\n",
       "</div>"
      ],
      "text/plain": [
       "   decade  Style  OBJECTID\n",
       "0    1900  other         1\n",
       "1    1930    M-3         8\n",
       "2    1930  other         1\n",
       "3    1940    M-3        68\n",
       "4    1950    M-3       370"
      ]
     },
     "execution_count": 103,
     "metadata": {},
     "output_type": "execute_result"
    }
   ],
   "source": [
    "counts = df.groupby(by=[\"decade\", \"Style\"], as_index=False).agg(\"count\")\n",
    "counts.head()"
   ]
  },
  {
   "cell_type": "code",
   "execution_count": 107,
   "metadata": {},
   "outputs": [
    {
     "data": {
      "text/html": [
       "<div>\n",
       "<style scoped>\n",
       "    .dataframe tbody tr th:only-of-type {\n",
       "        vertical-align: middle;\n",
       "    }\n",
       "\n",
       "    .dataframe tbody tr th {\n",
       "        vertical-align: top;\n",
       "    }\n",
       "\n",
       "    .dataframe thead th {\n",
       "        text-align: right;\n",
       "    }\n",
       "</style>\n",
       "<table border=\"1\" class=\"dataframe\">\n",
       "  <thead>\n",
       "    <tr style=\"text-align: right;\">\n",
       "      <th>Style</th>\n",
       "      <th>K-11</th>\n",
       "      <th>M-3</th>\n",
       "      <th>Mueller</th>\n",
       "      <th>Pacer</th>\n",
       "      <th>WB-59</th>\n",
       "      <th>other</th>\n",
       "    </tr>\n",
       "    <tr>\n",
       "      <th>decade</th>\n",
       "      <th></th>\n",
       "      <th></th>\n",
       "      <th></th>\n",
       "      <th></th>\n",
       "      <th></th>\n",
       "      <th></th>\n",
       "    </tr>\n",
       "  </thead>\n",
       "  <tbody>\n",
       "    <tr>\n",
       "      <th>1900</th>\n",
       "      <td>0.0</td>\n",
       "      <td>0.0</td>\n",
       "      <td>0.0</td>\n",
       "      <td>0.0</td>\n",
       "      <td>0.0</td>\n",
       "      <td>1.0</td>\n",
       "    </tr>\n",
       "    <tr>\n",
       "      <th>1930</th>\n",
       "      <td>0.0</td>\n",
       "      <td>8.0</td>\n",
       "      <td>0.0</td>\n",
       "      <td>0.0</td>\n",
       "      <td>0.0</td>\n",
       "      <td>1.0</td>\n",
       "    </tr>\n",
       "    <tr>\n",
       "      <th>1940</th>\n",
       "      <td>0.0</td>\n",
       "      <td>68.0</td>\n",
       "      <td>0.0</td>\n",
       "      <td>0.0</td>\n",
       "      <td>0.0</td>\n",
       "      <td>0.0</td>\n",
       "    </tr>\n",
       "    <tr>\n",
       "      <th>1950</th>\n",
       "      <td>0.0</td>\n",
       "      <td>370.0</td>\n",
       "      <td>0.0</td>\n",
       "      <td>0.0</td>\n",
       "      <td>0.0</td>\n",
       "      <td>1.0</td>\n",
       "    </tr>\n",
       "    <tr>\n",
       "      <th>1960</th>\n",
       "      <td>46.0</td>\n",
       "      <td>98.0</td>\n",
       "      <td>0.0</td>\n",
       "      <td>1.0</td>\n",
       "      <td>101.0</td>\n",
       "      <td>104.0</td>\n",
       "    </tr>\n",
       "  </tbody>\n",
       "</table>\n",
       "</div>"
      ],
      "text/plain": [
       "Style   K-11    M-3  Mueller  Pacer  WB-59  other\n",
       "decade                                           \n",
       "1900     0.0    0.0      0.0    0.0    0.0    1.0\n",
       "1930     0.0    8.0      0.0    0.0    0.0    1.0\n",
       "1940     0.0   68.0      0.0    0.0    0.0    0.0\n",
       "1950     0.0  370.0      0.0    0.0    0.0    1.0\n",
       "1960    46.0   98.0      0.0    1.0  101.0  104.0"
      ]
     },
     "execution_count": 107,
     "metadata": {},
     "output_type": "execute_result"
    }
   ],
   "source": [
    "plot_df = counts.pivot(index=\"decade\", columns=\"Style\", values=\"OBJECTID\").fillna(0)\n",
    "plot_df.head()"
   ]
  },
  {
   "cell_type": "code",
   "execution_count": 108,
   "metadata": {},
   "outputs": [
    {
     "data": {
      "text/plain": [
       "<matplotlib.axes._subplots.AxesSubplot at 0x7fb8e63f1d30>"
      ]
     },
     "execution_count": 108,
     "metadata": {},
     "output_type": "execute_result"
    },
    {
     "data": {
      "image/png": "[encoded data removed]",
      "text/plain": [
       "<Figure size 432x288 with 1 Axes>"
      ]
     },
     "metadata": {
      "needs_background": "light"
     },
     "output_type": "display_data"
    }
   ],
   "source": [
    "plot_df.plot.bar() # cluster (attempt 1)"
   ]
  },
  {
   "cell_type": "code",
   "execution_count": null,
   "metadata": {},
   "outputs": [],
   "source": [
    "# x-axis is quantitative (especially time): use line plot\n",
    "# y-axis has categories that sum to a whole: stacked bar plot"
   ]
  },
  {
   "cell_type": "code",
   "execution_count": 109,
   "metadata": {},
   "outputs": [
    {
     "data": {
      "text/plain": [
       "<matplotlib.axes._subplots.AxesSubplot at 0x7fb8e66084e0>"
      ]
     },
     "execution_count": 109,
     "metadata": {},
     "output_type": "execute_result"
    },
    {
     "data": {
      "image/png": "[encoded data removed]",
      "text/plain": [
       "<Figure size 432x288 with 1 Axes>"
      ]
     },
     "metadata": {
      "needs_background": "light"
     },
     "output_type": "display_data"
    }
   ],
   "source": [
    "plot_df.plot.line()"
   ]
  },
  {
   "cell_type": "code",
   "execution_count": 111,
   "metadata": {},
   "outputs": [
    {
     "data": {
      "text/plain": [
       "<matplotlib.axes._subplots.AxesSubplot at 0x7fb8e65f1ef0>"
      ]
     },
     "execution_count": 111,
     "metadata": {},
     "output_type": "execute_result"
    },
    {
     "data": {
      "image/png": "[encoded data removed]",
      "text/plain": [
       "<Figure size 432x288 with 1 Axes>"
      ]
     },
     "metadata": {
      "needs_background": "light"
     },
     "output_type": "display_data"
    }
   ],
   "source": [
    "plot_df.plot.bar(stacked=True)"
   ]
  }
 ],
 "metadata": {
  "kernelspec": {
   "display_name": "Python 3",
   "language": "python",
   "name": "python3"
  },
  "language_info": {
   "codemirror_mode": {
    "name": "ipython",
    "version": 3
   },
   "file_extension": ".py",
   "mimetype": "text/x-python",
   "name": "python",
   "nbconvert_exporter": "python",
   "pygments_lexer": "ipython3",
   "version": "3.7.2"
  }
 },
 "nbformat": 4,
 "nbformat_minor": 2
}
