{
 "cells": [
  {
   "cell_type": "code",
   "execution_count": null,
   "metadata": {},
   "outputs": [],
   "source": [
    "1\n",
    "\n",
    "#    x  y \n",
    "# 1  20 4  \n",
    "# 4  50 4\n",
    "\n",
    "SELECT x, y\n",
    "FROM trees\n",
    "WHERE priority > 90"
   ]
  },
  {
   "cell_type": "code",
   "execution_count": null,
   "metadata": {},
   "outputs": [],
   "source": [
    "2\n",
    "\n",
    "#     x+y\n",
    "# 0   14\n",
    "# 1   24\n",
    "# 2   54\n",
    "\n",
    "maples = trees[trees[\"species\"] == \"m\"]\n",
    "maples[\"x\"] + maples[\"y\"]"
   ]
  },
  {
   "cell_type": "code",
   "execution_count": null,
   "metadata": {},
   "outputs": [],
   "source": [
    "3\n",
    "\n",
    "species[\"code\"]\n",
    "# 0    m\n",
    "# 1    p\n",
    "\n",
    "species[\"species\"]==\"maple\"\n",
    "# 0     True\n",
    "# 1    False\n",
    "\n",
    "species[\"code\"][species[\"species\"]==\"maple\"]\n",
    "# 0    m\n",
    "\n",
    "cd\n",
    "# 'm'\n",
    "\n",
    "trees[trees[\"species\"] == cd][\"tree\"]\n",
    "# 0    A\n",
    "# 1    B\n",
    "# 4    E\n",
    "\n",
    "cd = qry(\"SELECT code FROM species WHERE species = 'maple'\")[\"code\"].iloc[0]\n",
    "qry(\"SELECT tree FROM trees WHERE species = '{}'\".format(cd))"
   ]
  },
  {
   "cell_type": "code",
   "execution_count": null,
   "metadata": {},
   "outputs": [],
   "source": [
    "4\n",
    "\n",
    "#   species\n",
    "# 0   m\n",
    "# 1   m\n",
    "# 2   m\n",
    "# 3   p\n",
    "# 4   p\n",
    "\n",
    "trees.sort_values(\"priority\", ascending = False)[\"species\"]"
   ]
  },
  {
   "cell_type": "code",
   "execution_count": null,
   "metadata": {},
   "outputs": [],
   "source": [
    "5\n",
    "\n",
    "# query output\n",
    "#   tree   priority\n",
    "# 0    B        100\n",
    "\n",
    "# list converted output\n",
    "# ['B', 100]\n",
    "\n",
    "list( trees.sort_values(\"priority\", ascending = False)[ [\"tree\",\"priority\"] ].iloc[0] )"
   ]
  },
  {
   "cell_type": "code",
   "execution_count": null,
   "metadata": {},
   "outputs": [],
   "source": [
    "6\n",
    "\n",
    "#    c1  c2\n",
    "# 0  5    2\n",
    "\n",
    "pd.DataFrame([{\"c1\":len(trees[\"species\"]),  \"c2\":len(trees[\"species\"].value_counts()) }])"
   ]
  },
  {
   "cell_type": "code",
   "execution_count": null,
   "metadata": {},
   "outputs": [],
   "source": [
    "7\n",
    "\n",
    "#  species  count     size\n",
    "# 0   m        3      10.0\n",
    "# 1   p        2      7.0\n",
    "\n",
    "maples = trees[ trees['species'] == maple_code ]\n",
    "pines = trees[ trees['species'] == pine_code ]\n",
    "maples_mean_diameter = maples[\"diameter\"].mean()\n",
    "pines_mean_diameter = maples[\"diameter\"].mean()\n",
    "tree_counts = dict(trees[\"species\"].value_counts())\n",
    "pd.DataFrame([\n",
    "        {\"species\": maple_code, \"count\": tree_counts[maple_code], \"size\": maples_mean_diameter},\n",
    "        {\"species\": pine_code, \"count\": tree_counts[pine_code], \"size\": pines_mean_diameter}\n",
    "])"
   ]
  },
  {
   "cell_type": "code",
   "execution_count": null,
   "metadata": {},
   "outputs": [],
   "source": [
    "8\n",
    "\n",
    "#   color   year\n",
    "# 0  blue   2010\n",
    "# 1  blue   2014\n",
    "# 2  blue   2018"
   ]
  },
  {
   "cell_type": "code",
   "execution_count": null,
   "metadata": {},
   "outputs": [],
   "source": [
    "9\n",
    "\n",
    "#df output\n",
    "#    color  year\n",
    "# 0    red  1999\n",
    "# 1    red  2000\n",
    "# 2  green  2001\n",
    "# ...\n",
    "\n",
    "# Which is faster query in Q8 or Q9? \n",
    "# Q8 will be faster.\n",
    "# Imagine that hydrants table has million rows:\n",
    "# 1. database faster due to optimiztion of data storage\n",
    "# 2. Step 1 in problem 9 needs to generate a DataFrame of size 1M rows! \n",
    "#    You also need to work with 1M rows for filtering part (step 2)!\n",
    "#    As opposed to that Q8 only creates a DataFrame of size 3 rows :)"
   ]
  },
  {
   "cell_type": "code",
   "execution_count": null,
   "metadata": {},
   "outputs": [],
   "source": [
    "10\n",
    "\n",
    "#    year\n",
    "# 0  2001"
   ]
  },
  {
   "cell_type": "code",
   "execution_count": null,
   "metadata": {},
   "outputs": [],
   "source": [
    "11\n",
    "\n",
    "# 2    Pacer\n",
    "# 3    Pacer\n",
    "# 4    Pacer\n",
    "# 5    Pacer"
   ]
  },
  {
   "cell_type": "code",
   "execution_count": null,
   "metadata": {},
   "outputs": [],
   "source": [
    "12\n",
    "\n",
    "# hydrants[\"color\"] is a column Series\n",
    "# On a Series, the value_counts() function returns the count of each unique value\n",
    "# Return values of value_counts(), which is a Series can be easily converted to a dictionary:\n",
    "#   Series index becomes Dict key \n",
    "#   Series value becomes Dict value\n",
    "# Coverting a Series to list makes:\n",
    "#   Series value as list item\n",
    "\n",
    "blue     3\n",
    "red      2\n",
    "green    1"
   ]
  },
  {
   "cell_type": "code",
   "execution_count": null,
   "metadata": {},
   "outputs": [],
   "source": [
    "13\n",
    "\n",
    "#    color  COUNT(*)\n",
    "# 0   blue         3\n",
    "# 1  green         1"
   ]
  },
  {
   "cell_type": "code",
   "execution_count": null,
   "metadata": {},
   "outputs": [],
   "source": [
    "14\n",
    "\n",
    "#   color  count\n",
    "# 0  blue      3\n",
    "# 1   red      2"
   ]
  },
  {
   "cell_type": "code",
   "execution_count": null,
   "metadata": {},
   "outputs": [],
   "source": [
    "15\n",
    "\n",
    "#    color  count\n",
    "# 0  green      1\n",
    "# 1    red      1"
   ]
  }
 ],
 "metadata": {
  "kernelspec": {
   "display_name": "Python 3",
   "language": "python",
   "name": "python3"
  },
  "language_info": {
   "codemirror_mode": {
    "name": "ipython",
    "version": 3
   },
   "file_extension": ".py",
   "mimetype": "text/x-python",
   "name": "python",
   "nbconvert_exporter": "python",
   "pygments_lexer": "ipython3",
   "version": "3.8.5"
  }
 },
 "nbformat": 4,
 "nbformat_minor": 4
}
