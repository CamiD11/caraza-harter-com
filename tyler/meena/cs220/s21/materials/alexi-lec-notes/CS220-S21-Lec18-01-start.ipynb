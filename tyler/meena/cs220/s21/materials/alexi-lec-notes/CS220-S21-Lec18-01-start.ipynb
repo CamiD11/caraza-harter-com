{
 "cells": [
  {
   "cell_type": "markdown",
   "metadata": {},
   "source": [
    "**Outline for Friday, March 5**\n",
    "\n",
    "Sets and Dictionaries\n",
    "\n",
    "You will be able to:\n",
    " - Define a \"data structure\" and recognize three common data structures\n",
    " - Use the concept of a data structure to organize your thinking about lists\n",
    " - Write code using a **set**\n",
    " - Write code using a **dictionary**\n",
    " \n",
    "Definitions\n",
    " - Data Structure\n",
    " - Dictionary\n",
    " - Key-Value pair"
   ]
  },
  {
   "cell_type": "markdown",
   "metadata": {},
   "source": [
    "**Data Structures**\n",
    "\n",
    "A _data structure_ is a collection of *values*, the *relationships* among them, and the functions or *operations* that can be applied to the data.\n",
    "\n",
    "| | values | relationships | operations |\n",
    "| :- | :- | :- | :- |\n",
    "| list | | | |\n",
    "| set | | | |\n",
    "| dict | | | |\n",
    "| ... | | | |"
   ]
  },
  {
   "cell_type": "markdown",
   "metadata": {},
   "source": [
    "**Motivation for data structures**\n",
    "\n",
    "Compare to our motivation for loops:\n",
    " - Avoid copy/pasted code\n",
    " - Don't always know in advance how many times to repeat"
   ]
  },
  {
   "cell_type": "code",
   "execution_count": null,
   "metadata": {},
   "outputs": [],
   "source": []
  },
  {
   "cell_type": "markdown",
   "metadata": {},
   "source": [
    "**Sets**"
   ]
  },
  {
   "cell_type": "markdown",
   "metadata": {},
   "source": [
    "**Dictionaries**"
   ]
  },
  {
   "cell_type": "markdown",
   "metadata": {},
   "source": [
    "**Parentheses, Brackets, Braces**\n",
    "\n",
    "Small differences in code can make a big difference in effect.\n",
    "\n",
    "Parentheses (x):\n",
    "- Specify order: (1+2)*3\n",
    "- Invoke a function: f(x)\n",
    "\n",
    "Brackets \\[x\\]: (Often called \"square brackets\")\n",
    "- Create a list: s = \\[1,2,3,4\\]\n",
    "- Index into a sequence: s\\[2\\]\n",
    "- Slice a sequence: s\\[1:3\\]\n",
    "- Lookup in a dict: d\\[\"a\"\\]\n",
    "\n",
    "Braces {x}: (Often called \"curly braces\", sometimes called \"curly brackets\".)\n",
    "- Create a dict: d = {\"a\":1, \"b\":2, \"c\":5}\n",
    "- Create a set: e = {1,1,2,3}"
   ]
  },
  {
   "cell_type": "markdown",
   "metadata": {},
   "source": [
    "**Reference: Creating empty sets, lists, and dictionaries**\n",
    "\n",
    "Empty list:\n",
    "- s = list()\n",
    "- s = \\[\\]\n",
    "\n",
    "Empty set:\n",
    "- e = set()\n",
    "\n",
    "Empty dict:\n",
    "- d = dict()\n",
    "- d = {}"
   ]
  },
  {
   "cell_type": "code",
   "execution_count": null,
   "metadata": {},
   "outputs": [],
   "source": [
    "#Dictionary Insert\n",
    "\n",
    "#Dictionary Delete\n",
    "\n",
    "#Dictionary Update"
   ]
  },
  {
   "cell_type": "markdown",
   "metadata": {},
   "source": [
    "**Challenge Problem**\n",
    "\n",
    "Count how often each word appears in the book \"The Wizard of Oz\". (You will need to use oz.py in today's Code link. You don't need to understand how this module works, but you will need to experiment to figure out what type of values it returns!)\n",
    "\n",
    "Sidenote: Once you can \"read\" a text into dictionary form, there's all sorts of things you can do. One thing that I look at in my research is what I call \"topic-relevant\" words. A topic-relevant word for a chapter appears much more often in that chapter than in the book as a whole. Can you write a program that predicts what each chapter is about? What surprises you about the words your program guesses?"
   ]
  }
 ],
 "metadata": {
  "kernelspec": {
   "display_name": "Python 3",
   "language": "python",
   "name": "python3"
  },
  "language_info": {
   "codemirror_mode": {
    "name": "ipython",
    "version": 3
   },
   "file_extension": ".py",
   "mimetype": "text/x-python",
   "name": "python",
   "nbconvert_exporter": "python",
   "pygments_lexer": "ipython3",
   "version": "3.7.4"
  }
 },
 "nbformat": 4,
 "nbformat_minor": 4
}
