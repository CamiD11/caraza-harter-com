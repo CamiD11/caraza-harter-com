{
 "cells": [
  {
   "cell_type": "markdown",
   "metadata": {},
   "source": [
    "**Outline for Friday, February 19**\n",
    "\n",
    "Iteration (part 2)\n",
    "\n",
    "You will be able to:\n",
    " - Use the `break` statement in loops\n",
    " - Use the `continue` statement in loops\n",
    " - Reason about control flow with these statements\n",
    " - Reason about control flow with break/continue and _nested_ loops\n",
    " \n",
    "Definitions:\n",
    " - Design pattern\n",
    " \n",
    "Reminders:\n",
    "- Exam 1 on Monday. You will take it through Canvas.\n",
    "- We have interactive exercises and a worksheet for you to use to help you practice."
   ]
  },
  {
   "cell_type": "markdown",
   "metadata": {},
   "source": [
    "Remember our **why** question from Wednesday?\n",
    "\n",
    "**Why iteration?**\n",
    "- I have a task that I want to do a certain number of times (>3)\n",
    "- I have a task that I want to repeat UNTIL some condition is met\n",
    "\n"
   ]
  },
  {
   "cell_type": "markdown",
   "metadata": {},
   "source": [
    "**Break**\n",
    "\n",
    "Task: Is there a prime number in a range of numbers?"
   ]
  },
  {
   "cell_type": "code",
   "execution_count": 1,
   "metadata": {},
   "outputs": [],
   "source": [
    "#Import my version of the prime_checker we talked about on Wednesday\n",
    "#Try this with your own version first!\n",
    "from prime_checker import is_prime"
   ]
  },
  {
   "cell_type": "code",
   "execution_count": null,
   "metadata": {},
   "outputs": [],
   "source": []
  },
  {
   "cell_type": "markdown",
   "metadata": {},
   "source": [
    "**Continue**\n",
    "\n",
    "Task: Keep a running total from user input and skip over bad inputs"
   ]
  },
  {
   "cell_type": "code",
   "execution_count": null,
   "metadata": {},
   "outputs": [],
   "source": []
  },
  {
   "cell_type": "markdown",
   "metadata": {},
   "source": [
    "**Nesting with continue/break**"
   ]
  },
  {
   "cell_type": "code",
   "execution_count": null,
   "metadata": {},
   "outputs": [],
   "source": []
  }
 ],
 "metadata": {
  "kernelspec": {
   "display_name": "Python 3",
   "language": "python",
   "name": "python3"
  },
  "language_info": {
   "codemirror_mode": {
    "name": "ipython",
    "version": 3
   },
   "file_extension": ".py",
   "mimetype": "text/x-python",
   "name": "python",
   "nbconvert_exporter": "python",
   "pygments_lexer": "ipython3",
   "version": "3.7.4"
  }
 },
 "nbformat": 4,
 "nbformat_minor": 4
}
