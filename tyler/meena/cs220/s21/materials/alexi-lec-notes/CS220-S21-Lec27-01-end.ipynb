{
 "cells": [
  {
   "cell_type": "markdown",
   "metadata": {},
   "source": [
    "**Outline for Friday, March 26**\n",
    "\n",
    "File Objects\n",
    "\n",
    "You will be able to:\n",
    " - Use built-in functions with files: open, close, read, write\n",
    " - Use a file object's iterator properties: for, next, list\n",
    " - Use file-specific functions from the `os` module:\n",
    "   - listdir, mkdir, path.exists, path.isfile, path.isdir, path.join\n",
    " - Use try/except blocks to handle errors that may occur when using files\n",
    " \n",
    "Definitions\n",
    " - file object\n",
    "\n",
    "Useful modules:\n",
    " - os\n",
    "\n",
    "Reminders:\n",
    " - Exam 2 is on Monday!\n",
    " - I have no office hours today (others' office hours as normal)"
   ]
  },
  {
   "cell_type": "markdown",
   "metadata": {},
   "source": [
    "**File Objects**\n",
    "\n",
    "Rule: Always close your files when you're done with them!\n",
    " - Common semantic error. Python can't catch this for you!\n",
    "\n",
    "Basic file interactions\n",
    " - open\n",
    " - read/write\n",
    " - close\n",
    " "
   ]
  },
  {
   "cell_type": "code",
   "execution_count": 1,
   "metadata": {},
   "outputs": [],
   "source": [
    "#nums.txt\n",
    "#Always going to start with these two lines.\n",
    "#THEN fill in the middle\n",
    "f = open(\"nums.txt\") #f is the file object\n",
    "f.close()"
   ]
  },
  {
   "cell_type": "code",
   "execution_count": 2,
   "metadata": {},
   "outputs": [
    {
     "name": "stdout",
     "output_type": "stream",
     "text": [
      "['10\\n', '50\\n', '30\\n', '27\\n', '22\\n', '16']\n"
     ]
    }
   ],
   "source": [
    "#nums.txt\n",
    "#Always going to start with these two lines.\n",
    "#THEN fill in the middle\n",
    "\n",
    "#Approach 1 to reading from a file - list()\n",
    "f = open(\"nums.txt\") #f is the file object\n",
    "print(list(f)) #Generate list of strings - all except last will end in my newline character\n",
    "f.close()"
   ]
  },
  {
   "cell_type": "code",
   "execution_count": 3,
   "metadata": {},
   "outputs": [
    {
     "name": "stdout",
     "output_type": "stream",
     "text": [
      "10\n",
      "\n",
      "50\n",
      "\n",
      "30\n",
      "\n",
      "27\n",
      "\n",
      "22\n",
      "\n",
      "16\n"
     ]
    }
   ],
   "source": [
    "#nums.txt\n",
    "#Always going to start with these two lines.\n",
    "#THEN fill in the middle\n",
    "\n",
    "#Approach 2 to reading from a file - use the fact that a file object is an iterator\n",
    "f = open(\"nums.txt\") #f is the file object\n",
    "for line in f:\n",
    "    print(line)\n",
    "f.close()"
   ]
  },
  {
   "cell_type": "code",
   "execution_count": 5,
   "metadata": {},
   "outputs": [],
   "source": [
    "#Write a \"hello world\" type text file\n",
    "f = open(\"newHelloWorld.txt\",\"w\")\n",
    "f.write(\"Hello\") #write does NOT give us newline characters automatically\n",
    "f.write(\"World\")\n",
    "f.write(\"!!!\")\n",
    "f.close()"
   ]
  },
  {
   "cell_type": "code",
   "execution_count": 6,
   "metadata": {},
   "outputs": [
    {
     "name": "stdout",
     "output_type": "stream",
     "text": [
      "HelloWorld!!!\n"
     ]
    }
   ],
   "source": [
    "f = open(\"newHelloWorld.txt\",\"r\")\n",
    "for line in f:\n",
    "    print(line)\n",
    "f.close()"
   ]
  },
  {
   "cell_type": "markdown",
   "metadata": {},
   "source": [
    "**The os module**\n",
    " - listdir: Takes one argument (str), lists the contents of the given directory\n",
    " - mkdir: Create a new directory within the current directory\n",
    " - path.exists: Given a path, reports if that path exists (either directory or file, relative or absolute is fine)\n",
    " - path.isdir: Given a path, reports if that path is a directory (relative or absolute path is fine)\n",
    " - path.isfile: Given a path, reports if that path is a file (relative or absolute path is fine)\n",
    " - path.join: Create a valid path string out of the given parts (valid for my operating system)"
   ]
  },
  {
   "cell_type": "code",
   "execution_count": 7,
   "metadata": {},
   "outputs": [],
   "source": [
    "import os\n",
    "import sys"
   ]
  },
  {
   "cell_type": "code",
   "execution_count": 14,
   "metadata": {},
   "outputs": [
    {
     "data": {
      "text/plain": [
       "'nonexistantfolder\\\\newfile.txt'"
      ]
     },
     "execution_count": 14,
     "metadata": {},
     "output_type": "execute_result"
    }
   ],
   "source": [
    "os.listdir(\".\")\n",
    "os.path.isdir(\"testfolder\")\n",
    "os.path.isfile(\"testfolder\")\n",
    "#os.mkdir(\"anewtestfolder\")\n",
    "os.path.isdir(\"anewtestfolder\")\n",
    "os.path.join(\"nonexistantfolder\",\"newfile.txt\")"
   ]
  },
  {
   "cell_type": "code",
   "execution_count": 15,
   "metadata": {},
   "outputs": [
    {
     "name": "stdout",
     "output_type": "stream",
     "text": [
      "File name: HiddenFile.txt\n",
      "File directory: .\n",
      "Did you remember\n",
      "To close the file you opened?\n",
      "Super important!"
     ]
    }
   ],
   "source": [
    "#My setup:\n",
    "#  Current directory is .../lecture-notes\n",
    "#  Looking for ...lecture-notes/testfolder/AFolder/AnotherFolder/HiddenFile.txt\n",
    "searchFileName = input(\"File name: \")\n",
    "searchDirectory = input(\"File directory: \")\n",
    "\n",
    "def recursiveDirSearch(searchDirectory, searchFileName):\n",
    "    for curr in os.listdir(searchDirectory):\n",
    "        curr = os.path.join(searchDirectory, curr)\n",
    "        #Check if curr is a directory or a file\n",
    "        if os.path.isfile(curr):\n",
    "            #If it is a file, check if that is searchFileName\n",
    "            if searchFileName in curr:\n",
    "                f = open(curr)\n",
    "                contents = f.read()\n",
    "                f.close()\n",
    "                return contents\n",
    "        else:\n",
    "            contents = recursiveDirSearch(curr, searchFileName)\n",
    "            if contents != None:\n",
    "                return contents\n",
    "    return None\n",
    "\n",
    "if not os.path.exists(searchDirectory):\n",
    "    print(\"Unable to find searchDirectory!\")\n",
    "else:\n",
    "    contents = recursiveDirSearch(searchDirectory, searchFileName)\n",
    "    if contents != None:\n",
    "        print(contents, end = \"\")"
   ]
  },
  {
   "cell_type": "markdown",
   "metadata": {},
   "source": [
    "**Common file exceptions**\n",
    "\n",
    "Can't often control the exceptions we get from files (just like user input).\n",
    "Common solution: wrap file handling in try/except blocks\n",
    "\n",
    " - FileNotFoundError\n",
    " - FileExistsError (note that opening in write mode will silently overwrite a file rather than causing this!)\n",
    " \n",
    " - Lacking permissions\n",
    " - Not enough space\n",
    " - Mixing up directories and files\n",
    " - Corrupt format\n",
    " - And more!"
   ]
  },
  {
   "cell_type": "code",
   "execution_count": 19,
   "metadata": {},
   "outputs": [
    {
     "name": "stdout",
     "output_type": "stream",
     "text": [
      "\n"
     ]
    }
   ],
   "source": [
    "try:\n",
    "    f = open(\"nums.txt\",\"r\")\n",
    "    print(f.read())\n",
    "    f.close()\n",
    "except Exception as e:\n",
    "    print(\"Something broke when loading the file!\")\n",
    "    print(type(e))"
   ]
  },
  {
   "cell_type": "code",
   "execution_count": 20,
   "metadata": {},
   "outputs": [
    {
     "name": "stdout",
     "output_type": "stream",
     "text": [
      "Something broke when loading the file!\n",
      "<class 'FileExistsError'>\n"
     ]
    }
   ],
   "source": [
    "try:\n",
    "    os.mkdir(\"testfolder\")\n",
    "except Exception as e:\n",
    "    print(\"Something broke when loading the file!\")\n",
    "    print(type(e))"
   ]
  },
  {
   "cell_type": "markdown",
   "metadata": {},
   "source": [
    "**Encodings**\n",
    "\n",
    "Every \"text\" file is stored in binary\n",
    " - BUT each is stored in some \"encoding\"\n",
    " - open(filename, \"r\", encoding=\"UTF-8\")\n",
    " \n",
    " The encoding tells us what binary numbers mean which characters\n",
    "  - Important when looking at characters that aren't part of the ASCII codes\n",
    "  - If you see unexpected characters (unusual symbols, or just characters in languages you didn't expect)\n",
    "  - THEN times to learn some more about encodings"
   ]
  },
  {
   "cell_type": "markdown",
   "metadata": {},
   "source": [
    "**Challenge Problem**\n",
    "\n",
    "Write a function that, given a directory, helps you estimate the size of all files in the directory. (Very useful if you're running out of space and wondering which files are to blame!)"
   ]
  }
 ],
 "metadata": {
  "kernelspec": {
   "display_name": "Python 3",
   "language": "python",
   "name": "python3"
  },
  "language_info": {
   "codemirror_mode": {
    "name": "ipython",
    "version": 3
   },
   "file_extension": ".py",
   "mimetype": "text/x-python",
   "name": "python",
   "nbconvert_exporter": "python",
   "pygments_lexer": "ipython3",
   "version": "3.7.4"
  }
 },
 "nbformat": 4,
 "nbformat_minor": 4
}
