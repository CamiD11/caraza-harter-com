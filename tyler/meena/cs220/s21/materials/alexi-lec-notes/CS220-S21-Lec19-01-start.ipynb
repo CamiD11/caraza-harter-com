{
 "cells": [
  {
   "cell_type": "markdown",
   "metadata": {},
   "source": [
    "**Outline for Monday, March 8**\n",
    "\n",
    "More Dictionaries\n",
    "\n",
    "You will be able to:\n",
    " - Select the appropriate data structure for a situation\n",
    " - Use the pop() and get() methods with default values\n",
    " - \"Bucket\" data using lists inside a dictionary\n",
    " - Simulate a table with a list of dictionaries\n",
    "\n",
    "Useful methods\n",
    " - .get()\n",
    " - .pop()\n",
    " - .keys()\n",
    " - .values()"
   ]
  },
  {
   "cell_type": "code",
   "execution_count": null,
   "metadata": {},
   "outputs": [],
   "source": [
    "#Task: Produce suffixes for numbers (note that \"th\" is the default and is not included!)\n",
    "suffix = {1:\"st\", 2:'nd', 3:\"rd\"}"
   ]
  },
  {
   "cell_type": "markdown",
   "metadata": {},
   "source": [
    "**Data Structures**\n",
    "\n",
    "A _data structure_ is a collection of *values*, the *relationships* among them, and the functions or *operations* that can be applied to the data.\n",
    "\n",
    "| | values | relationships | operations |\n",
    "| :- | :- | :- | :- |\n",
    "| list | anything | ordered (indexes 0, 1, ...) | len(), indexing, pop(), slicing, interation (for), ... |\n",
    "| set | anything (BUT no repeats) | no ordering | in, == |\n",
    "| dict | key-value pairs (almost anything) | no ordering, BUT lookup values by their keys | keys(), values(), len(), lookup, insertion, deletion |\n",
    "| ... | | | |"
   ]
  },
  {
   "cell_type": "markdown",
   "metadata": {},
   "source": [
    "**Choosing the right data structure**\n",
    "\n"
   ]
  },
  {
   "cell_type": "markdown",
   "metadata": {},
   "source": [
    "**Bucketing (also known as \"binning\")**\n",
    "\n",
    "What is it?\n",
    "\n",
    "Why bucket data?\n",
    "\n",
    "How is this different from what we did on Friday?"
   ]
  },
  {
   "cell_type": "code",
   "execution_count": null,
   "metadata": {},
   "outputs": [],
   "source": [
    "import csv\n",
    "\n",
    "#copied from https://automatetheboringstuff.com/2e/chapter16\n",
    "def process_csv(filename):\n",
    "    exampleFile = open(filename, encoding=\"utf-8\")\n",
    "    exampleReader = csv.reader(exampleFile)\n",
    "    exampleData = list(exampleReader)\n",
    "    exampleFile.close()\n",
    "    return exampleData"
   ]
  },
  {
   "cell_type": "markdown",
   "metadata": {},
   "source": [
    "**Last time...**\n",
    "\n",
    "We used tornados.csv to make a dictionary that counted the tornados in each month"
   ]
  },
  {
   "cell_type": "code",
   "execution_count": null,
   "metadata": {
    "scrolled": true
   },
   "outputs": [],
   "source": [
    "#See tornados.csv\n",
    "tornado_data = process_csv(\"tornados.csv\")\n",
    "tornado_data\n",
    "\n",
    "years_counts = {}\n",
    "for t in tornado_data[1:]:\n",
    "    #t is each tornado entry in turn\n",
    "    #use years_counts to keep count of tornados in each year\n",
    "    year = t[0]\n",
    "    if year in years_counts: #tests if year is a valid key\n",
    "        years_counts[year] += 1\n",
    "    else:\n",
    "        years_counts[year] = 1\n",
    "    \n",
    "print(list(years_counts.keys())) #list of all the keys in the dictionary\n",
    "print(list(years_counts.values())) #list of all the values in the dictionary\n",
    "#DO NOT RELY ON ORDERING\n",
    "\n",
    "for key in years_counts:\n",
    "    if key.startswith(\"2\"):\n",
    "        print(key,years_counts[key])"
   ]
  },
  {
   "cell_type": "markdown",
   "metadata": {},
   "source": [
    "**Today: Bucket tornado data**\n",
    "\n",
    "Write a function that buckets the data by a given column name."
   ]
  },
  {
   "cell_type": "code",
   "execution_count": null,
   "metadata": {},
   "outputs": [],
   "source": []
  },
  {
   "cell_type": "markdown",
   "metadata": {},
   "source": [
    "**A different way of organizing data**\n",
    "\n",
    "Process a CSV file into a _list_ of _dictionaries_."
   ]
  },
  {
   "cell_type": "code",
   "execution_count": null,
   "metadata": {},
   "outputs": [],
   "source": []
  },
  {
   "cell_type": "markdown",
   "metadata": {},
   "source": [
    "**Challenge Problem**\n",
    "\n",
    "Bucketing can be used to help sort a list. Write a function that takes a list of 3-digit numbers. It works by\n",
    " 1. Bucketing by the 1s digit.\n",
    " 2. \"Flattening\" the buckets into a single list (but now the list is \"sorted\" by 1s digit)\n",
    " 3. Bucketing by the 10s digit.\n",
    " 4. Flattening again\n",
    " 5. Bucketing by the 100s digit.\n",
    " 6. Flattening one last time\n",
    "See if you can explain why this approach sorts the list. How does its speed compare to using the built-in list sort() method? (Remember `from time import time` to help you measure speed.)"
   ]
  }
 ],
 "metadata": {
  "kernelspec": {
   "display_name": "Python 3",
   "language": "python",
   "name": "python3"
  },
  "language_info": {
   "codemirror_mode": {
    "name": "ipython",
    "version": 3
   },
   "file_extension": ".py",
   "mimetype": "text/x-python",
   "name": "python",
   "nbconvert_exporter": "python",
   "pygments_lexer": "ipython3",
   "version": "3.7.4"
  }
 },
 "nbformat": 4,
 "nbformat_minor": 4
}
