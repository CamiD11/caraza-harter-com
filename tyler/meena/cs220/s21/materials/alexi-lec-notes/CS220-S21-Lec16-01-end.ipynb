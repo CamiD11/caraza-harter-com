{
 "cells": [
  {
   "cell_type": "markdown",
   "metadata": {},
   "source": [
    "**Outline for Monday, March 1**\n",
    "\n",
    "Comma Separated Values (CSV)\n",
    "\n",
    "You will be able to:\n",
    " - Create a CSV file (manually or using a spreadsheet program like Excel)\n",
    " - Use \"cat\" (or \"type\" on Windows) to view contents of binary or CSV files\n",
    " - Read a CSV file manually using a text editor\n",
    " - Use a common Python design pattern to read a CSV file into a list of lists\n",
    " - Loop over lists of lists\n",
    " - Identify how \"sys.argv\" is used to read arguments into a command-line Python script\n",
    " \n",
    "Definitions:\n",
    " - CSV = Comma Separated Values\n",
    " - delimiter\n",
    "\n",
    "Useful functions:\n",
    " - sys.argv (not technically a function! it's a global variable)"
   ]
  },
  {
   "cell_type": "markdown",
   "metadata": {},
   "source": [
    "**Reference Files**\n",
    "- restaurants.csv (we made this up)\n",
    "- hurricanes.csv (see project 5)\n",
    "\n",
    "Access under \"code\" in the schedule in the \"files\" folder"
   ]
  },
  {
   "cell_type": "markdown",
   "metadata": {},
   "source": [
    "**CSV (Comma-Separated Values)**\n",
    "\n",
    "What is it?\n",
    " - Format for storing data\n",
    " - Text! Values separated by commas\n",
    " - Each line in the text file is a new data entry (new item in the dataset)\n",
    "\n",
    "Why do we use it?\n",
    "- Because it's all text! (Which means it's maximum cross-platform.)\n",
    "\n",
    "How does it work?\n",
    "- Each cell (compare to the spreadshet) has its value copied as text\n",
    "- Each cell in a row is separated by a comma\n",
    "- Each row is separated by a newline character\n",
    "- These separators are called \"delimiters\"\n",
    "- \"Nov 2, 2020\" <-- Lots of hidden details to handle, usually we'll avoid by using existing CSV tools\n",
    "\n",
    "Existing resources?\n",
    "- csv module\n",
    "- Write a CSV-processing function you can reuse (we'll use one from the Sweigart text Ch16)"
   ]
  },
  {
   "cell_type": "code",
   "execution_count": null,
   "metadata": {},
   "outputs": [],
   "source": []
  },
  {
   "cell_type": "code",
   "execution_count": 10,
   "metadata": {},
   "outputs": [
    {
     "name": "stdout",
     "output_type": "stream",
     "text": [
      "Enter CSV File name: restaurants.csv\n"
     ]
    },
    {
     "data": {
      "text/plain": [
       "[['McDonalds', '4', '-3'],\n",
       " ['Subway', '1', '0'],\n",
       " ['Steenbocks', '0', '1'],\n",
       " ['Greenbush Donuts', '0', '-3'],\n",
       " ['The Sett', '-1', '0']]"
      ]
     },
     "execution_count": 10,
     "metadata": {},
     "output_type": "execute_result"
    }
   ],
   "source": [
    "import csv\n",
    "fname = input(\"Enter CSV File name: \")\n",
    "\n",
    "#copied from https://automatetheboringstuff.com/2e/chapter16\n",
    "def process_csv(filename):\n",
    "    #Or can cite here in the first line of the function\n",
    "    exampleFile = open(filename, encoding=\"utf-8\")\n",
    "    exampleReader = csv.reader(exampleFile)\n",
    "    exampleData = list(exampleReader)\n",
    "    exampleFile.close()\n",
    "    return exampleData\n",
    "\n",
    "process_csv(fname)"
   ]
  },
  {
   "cell_type": "markdown",
   "metadata": {},
   "source": [
    "**Challenge Problems**\n",
    "\n",
    "Explore the csv.writer() function. Imagine a CSV file with a column that is supposed to be all numeric values, but some entries have an empty string instead. Write a function that reads in a CSV file and \"cleans\" the column, outputing a new CSV file with only numbers in that column.\n",
    " - Possible approach: Delete lines with no entry in the column. (Are these lines not relevant? Why not?)\n",
    " - Possible approach: Replace empty strings with a non-meaningful value. (Do we just need to avoid crashing on int()?)\n",
    " - Possible approach: Replace empty strings with a meaningful value. (Does blank mean zero?)"
   ]
  },
  {
   "cell_type": "code",
   "execution_count": null,
   "metadata": {},
   "outputs": [],
   "source": []
  }
 ],
 "metadata": {
  "kernelspec": {
   "display_name": "Python 3",
   "language": "python",
   "name": "python3"
  },
  "language_info": {
   "codemirror_mode": {
    "name": "ipython",
    "version": 3
   },
   "file_extension": ".py",
   "mimetype": "text/x-python",
   "name": "python",
   "nbconvert_exporter": "python",
   "pygments_lexer": "ipython3",
   "version": "3.7.4"
  }
 },
 "nbformat": 4,
 "nbformat_minor": 4
}
