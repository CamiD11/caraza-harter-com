{
 "cells": [
  {
   "cell_type": "markdown",
   "metadata": {},
   "source": [
    "**Outline for Friday, March 5**\n",
    "\n",
    "Sets and Dictionaries\n",
    "\n",
    "You will be able to:\n",
    " - Define a \"data structure\" and recognize three common data structures\n",
    " - Use the concept of a data structure to organize your thinking about lists\n",
    " - Write code using a **set**\n",
    " - Write code using a **dictionary**\n",
    " \n",
    "Definitions\n",
    " - Data Structure\n",
    " - Dictionary\n",
    " - Key-Value pair"
   ]
  },
  {
   "cell_type": "markdown",
   "metadata": {},
   "source": [
    "**Data Structures**\n",
    "\n",
    "A _data structure_ is a collection of *values*, the *relationships* among them, and the functions or *operations* that can be applied to the data.\n",
    "\n",
    "| | values | relationships | operations |\n",
    "| :- | :- | :- | :- |\n",
    "| list | anything | ordered (indexes 0, 1, ...) | len(), indexing, pop(), slicing, interation (for), ... |\n",
    "| set | anything (BUT no repeats) | no ordering | in, == |\n",
    "| dict | key-value pairs (almost anything) | no ordering, BUT lookup values by their keys | keys, values, len(), lookup, insertion, deletion |\n",
    "| ... | | | |"
   ]
  },
  {
   "cell_type": "markdown",
   "metadata": {},
   "source": [
    "**Motivation for data structures**\n",
    "\n",
    "Compare to our motivation for loops:\n",
    " - Avoid copy/pasted code\n",
    " - Don't always know in advance how many times to repeat\n",
    " \n",
    "Data structure:\n",
    " - Avoid creating many similar (redundant) variables\n",
    " - Don't always know in advance how many values you will have"
   ]
  },
  {
   "cell_type": "code",
   "execution_count": null,
   "metadata": {},
   "outputs": [],
   "source": []
  },
  {
   "cell_type": "markdown",
   "metadata": {},
   "source": [
    "**Sets**\n",
    "\n",
    "Unordered collection of items, with no repeated items!"
   ]
  },
  {
   "cell_type": "code",
   "execution_count": 4,
   "metadata": {},
   "outputs": [
    {
     "name": "stdout",
     "output_type": "stream",
     "text": [
      "True\n"
     ]
    }
   ],
   "source": [
    "e = {1,4,\"five\",1,1} #create a set\n",
    "f = set() #create an empty set\n",
    "print(\"five\" in e) #Test membership"
   ]
  },
  {
   "cell_type": "markdown",
   "metadata": {},
   "source": [
    "**Dictionaries**\n",
    "\n",
    "Map (relatively simple) elements called \"keys\"\n",
    "to other elements called \"values\"\n",
    "\n",
    "Together: key-value pairs\n",
    "\n",
    "Access values by their associated keys (this looks like indexing, except we supply the key instead of an index)"
   ]
  },
  {
   "cell_type": "code",
   "execution_count": 8,
   "metadata": {},
   "outputs": [
    {
     "name": "stdout",
     "output_type": "stream",
     "text": [
      "900\n",
      "600\n"
     ]
    },
    {
     "ename": "KeyError",
     "evalue": "0",
     "output_type": "error",
     "traceback": [
      "\u001b[1;31m---------------------------------------------------------------------------\u001b[0m",
      "\u001b[1;31mKeyError\u001b[0m                                  Traceback (most recent call last)",
      "\u001b[1;32m<ipython-input-8-6c24b2ed2df6>\u001b[0m in \u001b[0;36m<module>\u001b[1;34m\u001b[0m\n\u001b[0;32m      2\u001b[0m \u001b[0mprint\u001b[0m\u001b[1;33m(\u001b[0m\u001b[0mnums_dict\u001b[0m\u001b[1;33m[\u001b[0m\u001b[1;34m\"first\"\u001b[0m\u001b[1;33m]\u001b[0m\u001b[1;33m)\u001b[0m\u001b[1;33m\u001b[0m\u001b[1;33m\u001b[0m\u001b[0m\n\u001b[0;32m      3\u001b[0m \u001b[0mprint\u001b[0m\u001b[1;33m(\u001b[0m\u001b[0mnums_dict\u001b[0m\u001b[1;33m[\u001b[0m\u001b[1;36m2\u001b[0m\u001b[1;33m]\u001b[0m\u001b[1;33m)\u001b[0m\u001b[1;33m\u001b[0m\u001b[1;33m\u001b[0m\u001b[0m\n\u001b[1;32m----> 4\u001b[1;33m \u001b[0mprint\u001b[0m\u001b[1;33m(\u001b[0m\u001b[0mnums_dict\u001b[0m\u001b[1;33m[\u001b[0m\u001b[1;36m0\u001b[0m\u001b[1;33m]\u001b[0m\u001b[1;33m)\u001b[0m\u001b[1;33m\u001b[0m\u001b[1;33m\u001b[0m\u001b[0m\n\u001b[0m",
      "\u001b[1;31mKeyError\u001b[0m: 0"
     ]
    }
   ],
   "source": [
    "nums_dict = {\"first\":900, \"third\":500, 2:\"600\"}\n",
    "print(nums_dict[\"first\"])\n",
    "print(nums_dict[2])\n",
    "print(nums_dict[0]) #Produces a KeyError because 0 is not a key in the dictionary"
   ]
  },
  {
   "cell_type": "markdown",
   "metadata": {},
   "source": [
    "**Parentheses, Brackets, Braces**\n",
    "\n",
    "Small differences in code can make a big difference in effect.\n",
    "\n",
    "Parentheses (x):\n",
    "- Specify order: (1+2)*3\n",
    "- Invoke a function: f(x)\n",
    "\n",
    "Brackets \\[x\\]: (Often called \"square brackets\")\n",
    "- Create a list: s = \\[1,2,3,4\\]\n",
    "- Index into a sequence: s\\[2\\]\n",
    "- Slice a sequence: s\\[1:3\\]\n",
    "- Lookup in a dict: d\\[\"a\"\\]\n",
    "\n",
    "Braces {x}: (Often called \"curly braces\", sometimes called \"curly brackets\".)\n",
    "- Create a dict: d = {\"a\":1, \"b\":2, \"c\":5}\n",
    "- Create a set: e = {1,1,2,3}"
   ]
  },
  {
   "cell_type": "markdown",
   "metadata": {},
   "source": [
    "**Reference: Creating empty sets, lists, and dictionaries**\n",
    "\n",
    "Empty list:\n",
    "- s = list()\n",
    "- s = \\[\\]\n",
    "\n",
    "Empty set:\n",
    "- e = set()\n",
    "\n",
    "Empty dict:\n",
    "- d = dict()\n",
    "- d = {}"
   ]
  },
  {
   "cell_type": "code",
   "execution_count": 11,
   "metadata": {},
   "outputs": [
    {
     "name": "stdout",
     "output_type": "stream",
     "text": [
      "{0: 'zero', 10: 'ten', 20: 'twenty'}\n",
      "ten\n",
      "{0: 'zero', 20: 'twenty'}\n",
      "{0: 'zero', 20: 'TWENTY'}\n"
     ]
    }
   ],
   "source": [
    "#Dictionary Insert\n",
    "\n",
    "d = {0:\"zero\", 10:\"ten\"}\n",
    "d[20] = \"twenty\" #Similar to the syntax for a lookup\n",
    "print(d)\n",
    "\n",
    "#Dictionary Delete\n",
    "print(d.pop(10)) #Delete by key, returns the value\n",
    "print(d)\n",
    "\n",
    "#Dictionary Update\n",
    "d[20] = \"TWENTY\"\n",
    "print(d)"
   ]
  },
  {
   "cell_type": "code",
   "execution_count": 13,
   "metadata": {},
   "outputs": [],
   "source": [
    "import csv\n",
    "\n",
    "#copied from https://automatetheboringstuff.com/2e/chapter16\n",
    "def process_csv(filename):\n",
    "    exampleFile = open(filename, encoding=\"utf-8\")\n",
    "    exampleReader = csv.reader(exampleFile)\n",
    "    exampleData = list(exampleReader)\n",
    "    exampleFile.close()\n",
    "    return exampleData"
   ]
  },
  {
   "cell_type": "code",
   "execution_count": 22,
   "metadata": {},
   "outputs": [
    {
     "name": "stdout",
     "output_type": "stream",
     "text": [
      "['2006', '1996', '2016', '2014', '2015', '2005', '2002', '1995', '1997', '2001', '2011', '2010', '2017', '2008', '2003', '2004', '2013', '2009', '1998', '2007']\n",
      "[1, 5, 4, 4, 2, 4, 5, 5, 2, 3, 2, 2, 4, 3, 2, 2, 2, 3, 1, 2]\n",
      "2006 1\n",
      "2016 4\n",
      "2014 4\n",
      "2015 2\n",
      "2005 4\n",
      "2002 5\n",
      "2001 3\n",
      "2011 2\n",
      "2010 2\n",
      "2017 4\n",
      "2008 3\n",
      "2003 2\n",
      "2004 2\n",
      "2013 2\n",
      "2009 3\n",
      "2007 2\n"
     ]
    }
   ],
   "source": [
    "#Task: How many tornadoes occurred each year?\n",
    "#See tornados.csv\n",
    "\n",
    "tornado_data = process_csv(\"tornados.csv\")\n",
    "tornado_data\n",
    "\n",
    "years_counts = {}\n",
    "for t in tornado_data[1:]:\n",
    "    #t is each tornado entry in turn\n",
    "    #use years_counts to keep count of tornados in each year\n",
    "    year = t[0]\n",
    "    if year in years_counts: #tests if year is a valid key\n",
    "        years_counts[year] += 1\n",
    "    else:\n",
    "        years_counts[year] = 1\n",
    "    \n",
    "print(list(years_counts.keys())) #list of all the keys in the dictionary\n",
    "print(list(years_counts.values())) #list of all the values in the dictionary\n",
    "#DO NOT RELY ON ORDERING\n",
    "\n",
    "for key in years_counts:\n",
    "    if key.startswith(\"2\"):\n",
    "        print(key,years_counts[key])"
   ]
  },
  {
   "cell_type": "markdown",
   "metadata": {},
   "source": [
    "**Challenge Problem**\n",
    "\n",
    "Count how often each word appears in the book \"The Wizard of Oz\". (You will need to use oz.py in today's Code link. You don't need to understand how this module works, but you will need to experiment to figure out what type of values it returns!)\n",
    "\n",
    "Sidenote: Once you can \"read\" a text into dictionary form, there's all sorts of things you can do. One thing that I look at in my research is what I call \"topic-relevant\" words. A topic-relevant word for a chapter appears much more often in that chapter than in the book as a whole. Can you write a program that predicts what each chapter is about? What surprises you about the words your program guesses?"
   ]
  }
 ],
 "metadata": {
  "kernelspec": {
   "display_name": "Python 3",
   "language": "python",
   "name": "python3"
  },
  "language_info": {
   "codemirror_mode": {
    "name": "ipython",
    "version": 3
   },
   "file_extension": ".py",
   "mimetype": "text/x-python",
   "name": "python",
   "nbconvert_exporter": "python",
   "pygments_lexer": "ipython3",
   "version": "3.7.4"
  }
 },
 "nbformat": 4,
 "nbformat_minor": 4
}
