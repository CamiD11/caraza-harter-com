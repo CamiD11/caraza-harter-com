{
 "cells": [
  {
   "cell_type": "markdown",
   "metadata": {},
   "source": [
    "# Outline for Wednesday, April 14\n",
    "## Databases 1 - SQL\n",
    "\n",
    "You will be able to:\n",
    " - Explain how a database is different from a CSV file or a JSON file\n",
    " - Use SQLite to connect to a database and pandas to query it\n",
    " - Write basic queries on a database using SELECT, FROM, WHERE, ORDER BY, and LIMIT\n",
    " \n",
    "Vocabulary:\n",
    " - query\n",
    " - schema\n",
    " \n",
    "Useful modules:\n",
    " - sqlite3"
   ]
  },
  {
   "cell_type": "markdown",
   "metadata": {},
   "source": [
    "## What aren't we going to cover?\n",
    "\n",
    " - Schema design. (Changing the tables/columns and the relationships between them.)\n",
    " - Adding/removing rows from a database.\n",
    " - Concurrency. (Complications from multiple people querying the database at the same time.)\n",
    " - Performance.\n",
    " - Joins. (Combining multiple tables with related information.)\n",
    " \n",
    "We are treating the database as a fixed object and giving you the tools necessary to interact with it."
   ]
  },
  {
   "cell_type": "markdown",
   "metadata": {},
   "source": [
    "## Databases and SQL\n",
    "\n",
    "SQL == Structured Query Language\n",
    "\n",
    "What is a query?\n",
    " - \n",
    " \n",
    "Why use a database rather than CSV/JSON?\n",
    " - \n",
    " -\n",
    " -\n",
    " -\n",
    " - \n",
    " - \n",
    " \n",
    "Popular SQL Databases (Mostly work the same)\n",
    " - SQL Server\n",
    " - Oracle\n",
    " - MySQL\n",
    " - PostgreSQL\n",
    " - SQLite <-- We will use this one because you already have the sqlite3 module"
   ]
  },
  {
   "cell_type": "markdown",
   "metadata": {},
   "source": [
    "# Exercise: Madison bus routes in database form!\n",
    "\n",
    "You will need to download the bus.db file and put it in the same directory as your notebook"
   ]
  },
  {
   "cell_type": "markdown",
   "metadata": {},
   "source": [
    "## Database connection"
   ]
  },
  {
   "cell_type": "code",
   "execution_count": null,
   "metadata": {},
   "outputs": [],
   "source": []
  },
  {
   "cell_type": "markdown",
   "metadata": {},
   "source": [
    "## Typo example - bussssss.db"
   ]
  },
  {
   "cell_type": "code",
   "execution_count": null,
   "metadata": {},
   "outputs": [],
   "source": []
  },
  {
   "cell_type": "markdown",
   "metadata": {},
   "source": [
    "### pd.read_sql(\"QUERY\", CONNECTION)\n",
    "* Query: SELECT * FROM sqlite_master"
   ]
  },
  {
   "cell_type": "code",
   "execution_count": null,
   "metadata": {},
   "outputs": [],
   "source": []
  },
  {
   "cell_type": "markdown",
   "metadata": {},
   "source": [
    "### Let's close this bad connection"
   ]
  },
  {
   "cell_type": "code",
   "execution_count": null,
   "metadata": {},
   "outputs": [],
   "source": []
  },
  {
   "cell_type": "markdown",
   "metadata": {},
   "source": [
    "### Now let's open the correct bus.db"
   ]
  },
  {
   "cell_type": "code",
   "execution_count": null,
   "metadata": {},
   "outputs": [],
   "source": []
  },
  {
   "cell_type": "code",
   "execution_count": null,
   "metadata": {},
   "outputs": [],
   "source": []
  },
  {
   "cell_type": "markdown",
   "metadata": {},
   "source": [
    "### Extract sql column from the DataFrame"
   ]
  },
  {
   "cell_type": "code",
   "execution_count": null,
   "metadata": {},
   "outputs": [],
   "source": []
  },
  {
   "cell_type": "markdown",
   "metadata": {},
   "source": [
    "### Let's iterate over df[\"sql\"]"
   ]
  },
  {
   "cell_type": "code",
   "execution_count": null,
   "metadata": {},
   "outputs": [],
   "source": []
  },
  {
   "cell_type": "markdown",
   "metadata": {},
   "source": [
    "### Query: SELECT * FROM \\<table_name\\>"
   ]
  },
  {
   "cell_type": "code",
   "execution_count": null,
   "metadata": {},
   "outputs": [],
   "source": []
  },
  {
   "cell_type": "code",
   "execution_count": null,
   "metadata": {},
   "outputs": [],
   "source": []
  },
  {
   "cell_type": "markdown",
   "metadata": {},
   "source": [
    "### Adding LIMIT to the query\n",
    "* SELECT * FROM \\<table_name\\> LIMIT \\<num_of_rows\\>"
   ]
  },
  {
   "cell_type": "code",
   "execution_count": null,
   "metadata": {},
   "outputs": [],
   "source": []
  },
  {
   "cell_type": "markdown",
   "metadata": {},
   "source": [
    "# How many people get on a bus in Madison every day?\n",
    "- we are interested in boarding table to answer this question"
   ]
  },
  {
   "cell_type": "code",
   "execution_count": null,
   "metadata": {},
   "outputs": [],
   "source": []
  },
  {
   "cell_type": "code",
   "execution_count": null,
   "metadata": {},
   "outputs": [],
   "source": []
  },
  {
   "cell_type": "markdown",
   "metadata": {},
   "source": [
    "# Go West - which bus should I take to go as far west as possible?\n",
    "- Smallest Longitude"
   ]
  },
  {
   "cell_type": "code",
   "execution_count": null,
   "metadata": {},
   "outputs": [],
   "source": []
  },
  {
   "cell_type": "code",
   "execution_count": null,
   "metadata": {},
   "outputs": [],
   "source": []
  },
  {
   "cell_type": "code",
   "execution_count": null,
   "metadata": {},
   "outputs": [],
   "source": []
  }
 ],
 "metadata": {
  "kernelspec": {
   "display_name": "Python 3",
   "language": "python",
   "name": "python3"
  },
  "language_info": {
   "codemirror_mode": {
    "name": "ipython",
    "version": 3
   },
   "file_extension": ".py",
   "mimetype": "text/x-python",
   "name": "python",
   "nbconvert_exporter": "python",
   "pygments_lexer": "ipython3",
   "version": "3.7.4"
  }
 },
 "nbformat": 4,
 "nbformat_minor": 4
}
