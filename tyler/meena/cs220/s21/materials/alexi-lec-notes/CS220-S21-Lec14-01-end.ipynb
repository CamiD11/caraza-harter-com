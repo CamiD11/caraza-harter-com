{
 "cells": [
  {
   "cell_type": "markdown",
   "metadata": {},
   "source": [
    "**Outline for Wednesday, February 24**\n",
    "\n",
    "Strings\n",
    "\n",
    "You will be able to:\n",
    " - Compare strings while avoiding common tricks\n",
    " - Recognize common string methods and what they do\n",
    " - Identify that a string is a type of *sequence*\n",
    " - Recognize 4 common ways of using sequences\n",
    " \n",
    "Definitions:\n",
    " - Method\n",
    " - Sequence\n",
    "\n",
    "Useful functions:\n",
    " - len()\n",
    " - range()\n",
    "\n",
    "Reminders:\n",
    "- Project 4 due Wednesday. Quiz 4 due Friday.\n",
    "- If you are struggling with coursework due to COVID (or other illness) please let me know. Pandemic times can be a struggle and your health is more important to me than any class assignment."
   ]
  },
  {
   "cell_type": "markdown",
   "metadata": {},
   "source": [
    "**String Comparison**\n",
    "\n",
    "\"cat\" < \"dog\" (True)\n",
    "\"cat\" < \"calendar\" (False)\n",
    "\n",
    "3 tricks to watch out for:\n",
    "1. case (upper vs lower)\n",
    "2. digits\n",
    "3. prefixes\n"
   ]
  },
  {
   "cell_type": "code",
   "execution_count": 10,
   "metadata": {},
   "outputs": [
    {
     "name": "stdout",
     "output_type": "stream",
     "text": [
      "True\n",
      "True\n",
      "False\n",
      "False\n"
     ]
    }
   ],
   "source": [
    "print(\"A\" < \"B\")\n",
    "print(\"a\" < \"b\")\n",
    "print(\"a\" < \"A\")\n",
    "print(\"a\" < \"B\")\n",
    "#All letters are associated with a number which is used for the comparison\n",
    "#The uppercase letters all have lower associated numbers than the lowercase ones"
   ]
  },
  {
   "cell_type": "code",
   "execution_count": 12,
   "metadata": {},
   "outputs": [
    {
     "name": "stdout",
     "output_type": "stream",
     "text": [
      "True\n",
      "False\n"
     ]
    }
   ],
   "source": [
    "print(\"11\" < \"12\")\n",
    "print(\"11\" < \"100\")\n",
    "#As strings, we compare \"digit\" by digit, ignoring how many digits we have"
   ]
  },
  {
   "cell_type": "code",
   "execution_count": 14,
   "metadata": {},
   "outputs": [
    {
     "name": "stdout",
     "output_type": "stream",
     "text": [
      "True\n",
      "True\n"
     ]
    }
   ],
   "source": [
    "print(\"book\" < \"bookstore\")\n",
    "print(\"book store\" < \"bookstore\")"
   ]
  },
  {
   "cell_type": "markdown",
   "metadata": {},
   "source": [
    "**What is a Method?**\n",
    "\n",
    "A method is *like* a function.\n",
    "\n",
    "Difference is that a method is associated with a variable."
   ]
  },
  {
   "cell_type": "code",
   "execution_count": 16,
   "metadata": {},
   "outputs": [
    {
     "name": "stdout",
     "output_type": "stream",
     "text": [
      "3.0\n",
      "False\n"
     ]
    }
   ],
   "source": [
    "import math\n",
    "print(math.sqrt(9)) #Notice that we called this FUNCTION with modulename.nameoffunction()\n",
    "\n",
    "s = \"Hello\"\n",
    "ans = s.isdigit() #Call this METHOD with variablename.nameofmethod()\n",
    "print(ans)"
   ]
  },
  {
   "cell_type": "markdown",
   "metadata": {},
   "source": [
    "**Common String Methods**\n",
    "\n",
    "| Method | Purpose |\n",
    "| :- | :- |\n",
    "| isdigit() | Check if all letters in the string are digits. |\n",
    "| isalpha() | Check if all letters in the string are ABC... or abc... |\n",
    "| upper() | Return an all-uppercase version of the string. |\n",
    "| lower() | Return an all-lowercase version of the string. |\n",
    "| strip() | Return a version of a string with leading and trailing whitespace removed. (Spaces, tabs, newlines, etc.)|\n",
    "| lstrip() | Return a version of a string with leading whitespace removed. (Spaces, tabs, newlines, etc.)|\n",
    "| rstrip() | Return a version of a string with trailing whitespace removed. (Spaces, tabs, newlines, etc.)|\n",
    "| split(separator) | Return multiple strings \"split\" at the chosen separator. |\n",
    "| format(args...) | Return a version of a string with the {}s replaced with the arguments. |\n",
    "| find(needle) | Return the index of the first occurrence of the needle in the string. If none found, return -1. |\n",
    "| index(needle) | Return the index of the first occurrence of the needle in the string. If none found, crash! |\n",
    "| startswith(prefix) | Check if the string starts with the given prefix. |\n",
    "| endswith(suffix) | Check if the string ends with the given suffix. |\n",
    "| replace(a, b) | Replace all instances of a in the string with instances of b. |"
   ]
  },
  {
   "cell_type": "code",
   "execution_count": 28,
   "metadata": {},
   "outputs": [
    {
     "name": "stdout",
     "output_type": "stream",
     "text": [
      "isalpha: True\n",
      "upper: HELLO\n",
      "lower: hello\n",
      "(original): Hello\n",
      "strip: Hello World\n",
      "['There', 'are', 'several', 'words', 'in', 'this', 'sentence.']\n",
      "format: Dear Meena, your grade for p1 is A\n",
      "format: Dear Andy, your grade for p1 is B\n",
      "format: Dear {}, your grade for p1 is {}\n",
      "ThErE arE sEvEral words in this sEntEncE.\n",
      "There are several words in this sentence.\n"
     ]
    }
   ],
   "source": [
    "#Examples\n",
    "\n",
    "print(\"isalpha:\",s.isalpha())\n",
    "print(\"upper:\",s.upper())\n",
    "print(\"lower:\",s.lower())\n",
    "print(\"(original):\",s)\n",
    "t = \"           Hello World       \"\n",
    "print(\"strip:\",t.strip())\n",
    "u = \"There are several words in this sentence.\"\n",
    "print(u.split(\" \")) #We'll talk about this on Friday\n",
    "\n",
    "email = \"Dear {}, your grade for p1 is {}\"\n",
    "print(\"format:\",email.format(\"Meena\",\"A\"))\n",
    "print(\"format:\",email.format(\"Andy\",\"B\"))\n",
    "print(\"format:\",email)\n",
    "print(u.replace(\"e\",\"E\"))\n",
    "print(u)"
   ]
  },
  {
   "cell_type": "markdown",
   "metadata": {},
   "source": [
    "**What is a Sequence?**\n",
    "\n",
    "Definition: A sequence is a collection of numbered/ordered values.\n",
    "\n",
    "Types of sequences\n",
    "\n",
    "- string (an ordered collection of one-letter strings)\n",
    "- list (we'll talk about this on Friday)\n",
    "- tuple (topic for later in the course)\n",
    "\n",
    "`msg = \"hello world\\n\"`\n",
    "\n",
    "- Each position in the string is associated with an \"index\" number\n",
    "- ALWAYS count up from 0.\n",
    "\n",
    "0. \"h\"\n",
    "1. \"e\"\n",
    "2. \"l\"\n",
    "3. \"l\"\n",
    "4. \"o\"\n",
    "5. \" \"\n",
    "6. \"w\"\n",
    "7. \"o\"\n",
    "8. \"r\"\n",
    "9. \"l\"\n",
    "10. \"d\"\n",
    "11. \"\\n\"\n",
    "12. <-- Nothing here, but len() will return this number.\n",
    "\n",
    "Things you can do with a sequence\n",
    "\n",
    "- Calculate its length using the len()\n",
    "- indexing: get the value AT a particular index in the sequence\n",
    "- slicing: get the values at a range of the indexes in the sequence (example: a substring)\n",
    "- for loop\n",
    "\n",
    "\n"
   ]
  },
  {
   "cell_type": "code",
   "execution_count": 31,
   "metadata": {},
   "outputs": [
    {
     "name": "stdout",
     "output_type": "stream",
     "text": [
      "12\n",
      "Hello 5\n",
      "           Hello World        29\n"
     ]
    }
   ],
   "source": [
    "msg = \"hello world\\n\"\n",
    "print(len(msg))\n",
    "print(s,len(s))\n",
    "print(t,len(t))"
   ]
  },
  {
   "cell_type": "code",
   "execution_count": 35,
   "metadata": {},
   "outputs": [
    {
     "name": "stdout",
     "output_type": "stream",
     "text": [
      "w\n",
      "h\n",
      "d\n"
     ]
    }
   ],
   "source": [
    "#indexing\n",
    "# sequence [ index ] --> evaluate to the value of sequence at that index\n",
    "print(msg[6])\n",
    "print(msg[0]) #Always start index counting at zero!\n",
    "#print(msg[12]) #This produces an IndexError because there is nothing at index 12\n",
    "print(msg[-2]) #Count backwards from the end. The last letter in the string is s[-1]"
   ]
  },
  {
   "cell_type": "code",
   "execution_count": 41,
   "metadata": {},
   "outputs": [
    {
     "name": "stdout",
     "output_type": "stream",
     "text": [
      "llo w\n",
      "llo world\n",
      "\n",
      "llo world\n",
      "\n",
      "hello w\n",
      "hello world\n",
      "\n",
      "rld\n",
      "\n"
     ]
    }
   ],
   "source": [
    "#slicing\n",
    "# sequence [ index_start : index_stop_before ] \n",
    "#NOTICE: inclusive on the left-hand side, exclusive on the right-hand side\n",
    "print(msg[2:7])\n",
    "print(msg[2:])\n",
    "print(msg[2:500]) #Unlike with indexing, we don't get an error, we just get everything available\n",
    "print(msg[:7])\n",
    "print(msg[:]) #Gives a copy of the string.\n",
    "print(msg[-4:])"
   ]
  },
  {
   "cell_type": "markdown",
   "metadata": {},
   "source": [
    "**for loop**\n",
    "\n",
    "Compare to while loop.\n",
    "\n",
    "Suppose I want to print each letter in msg on its own line."
   ]
  },
  {
   "cell_type": "code",
   "execution_count": 42,
   "metadata": {},
   "outputs": [
    {
     "name": "stdout",
     "output_type": "stream",
     "text": [
      "h\n",
      "e\n",
      "l\n",
      "l\n",
      "o\n",
      " \n",
      "w\n",
      "o\n",
      "r\n",
      "l\n",
      "d\n",
      "\n",
      "\n"
     ]
    }
   ],
   "source": [
    "#while loop version\n",
    "i = 0\n",
    "while i < len(msg):\n",
    "    letter = msg[i] #index here!\n",
    "    print(letter)\n",
    "    i += 1"
   ]
  },
  {
   "cell_type": "code",
   "execution_count": 43,
   "metadata": {},
   "outputs": [
    {
     "name": "stdout",
     "output_type": "stream",
     "text": [
      "h\n",
      "e\n",
      "l\n",
      "l\n",
      "o\n",
      " \n",
      "w\n",
      "o\n",
      "r\n",
      "l\n",
      "d\n",
      "\n",
      "\n"
     ]
    }
   ],
   "source": [
    "# for loop version\n",
    "for letter in msg:\n",
    "    print(letter)"
   ]
  },
  {
   "cell_type": "code",
   "execution_count": 44,
   "metadata": {},
   "outputs": [
    {
     "name": "stdout",
     "output_type": "stream",
     "text": [
      "hello world\n",
      "\n"
     ]
    }
   ],
   "source": [
    "for letter in msg: #Note that letter gets a copy of each letter in msg, so we don't change msg itself\n",
    "    letter = letter.upper()\n",
    "print(msg)"
   ]
  },
  {
   "cell_type": "markdown",
   "metadata": {},
   "source": [
    "The `range()` function: Returns (a list of) all the indexes from 0 through one less than its first argument"
   ]
  },
  {
   "cell_type": "code",
   "execution_count": 45,
   "metadata": {},
   "outputs": [
    {
     "name": "stdout",
     "output_type": "stream",
     "text": [
      "h\n",
      "e\n",
      "l\n",
      "l\n",
      "o\n",
      " \n",
      "w\n",
      "o\n",
      "r\n",
      "l\n",
      "d\n",
      "\n",
      "\n"
     ]
    }
   ],
   "source": [
    "#This is the second common for loop design pattern\n",
    "for i in range(len(msg)):\n",
    "    print(msg[i])"
   ]
  },
  {
   "cell_type": "code",
   "execution_count": null,
   "metadata": {},
   "outputs": [],
   "source": []
  }
 ],
 "metadata": {
  "kernelspec": {
   "display_name": "Python 3",
   "language": "python",
   "name": "python3"
  },
  "language_info": {
   "codemirror_mode": {
    "name": "ipython",
    "version": 3
   },
   "file_extension": ".py",
   "mimetype": "text/x-python",
   "name": "python",
   "nbconvert_exporter": "python",
   "pygments_lexer": "ipython3",
   "version": "3.7.4"
  }
 },
 "nbformat": 4,
 "nbformat_minor": 4
}
