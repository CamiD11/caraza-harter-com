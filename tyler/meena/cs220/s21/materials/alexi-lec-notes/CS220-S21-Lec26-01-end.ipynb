{
 "cells": [
  {
   "cell_type": "markdown",
   "metadata": {},
   "source": [
    "**Outline for Wednesday, March 24**\n",
    "\n",
    "Error Handling\n",
    "\n",
    "You will be able to:\n",
    " - Explain why `assert` statements make programs crash more\n",
    " - Explain why `try/except` blocks make programs crash less\n",
    " - Use an `assert` statement to verify an assumption about a program\n",
    " - Use a `try/except` block to catch and handle runtime errors\n",
    " - Use a `raise` statement to raise an exception and catch it elsewhere in your program\n",
    " - Trace code that uses assert, try/except, and raise statements\n",
    " \n",
    "Definitions\n",
    " - assert\n",
    " - try/except\n",
    " - catching an exception\n",
    " - raise\n",
    "\n",
    "Today's worksheet covers tracing exercises. Please skip any that involve a \"yield\" statement. (We skipped that topic this semester.)\n",
    "\n",
    "Reminders:\n",
    " - Exam 2 is on Monday!\n",
    " - No office hours this Friday"
   ]
  },
  {
   "cell_type": "code",
   "execution_count": 25,
   "metadata": {},
   "outputs": [
    {
     "name": "stdout",
     "output_type": "stream",
     "text": [
      "Enter pizza diameter(inches), slice count: 10,-5\n"
     ]
    },
    {
     "ename": "IndexError",
     "evalue": "Not actually an IndexError. slice_count should be at least 0.",
     "output_type": "error",
     "traceback": [
      "\u001b[1;31m---------------------------------------------------------------------------\u001b[0m",
      "\u001b[1;31mIndexError\u001b[0m                                Traceback (most recent call last)",
      "\u001b[1;32m<ipython-input-25-cff9f6f8982b>\u001b[0m in \u001b[0;36m<module>\u001b[1;34m\u001b[0m\n\u001b[0;32m     33\u001b[0m               .format(radius, slices, size))\n\u001b[0;32m     34\u001b[0m \u001b[1;33m\u001b[0m\u001b[0m\n\u001b[1;32m---> 35\u001b[1;33m \u001b[0mmain\u001b[0m\u001b[1;33m(\u001b[0m\u001b[1;33m)\u001b[0m\u001b[1;33m\u001b[0m\u001b[1;33m\u001b[0m\u001b[0m\n\u001b[0m",
      "\u001b[1;32m<ipython-input-25-cff9f6f8982b>\u001b[0m in \u001b[0;36mmain\u001b[1;34m()\u001b[0m\n\u001b[0;32m     29\u001b[0m \u001b[1;33m\u001b[0m\u001b[0m\n\u001b[0;32m     30\u001b[0m         \u001b[1;31m# pizza analysis\u001b[0m\u001b[1;33m\u001b[0m\u001b[1;33m\u001b[0m\u001b[1;33m\u001b[0m\u001b[0m\n\u001b[1;32m---> 31\u001b[1;33m         \u001b[0msize\u001b[0m \u001b[1;33m=\u001b[0m \u001b[0mslice_size\u001b[0m\u001b[1;33m(\u001b[0m\u001b[0mradius\u001b[0m\u001b[1;33m,\u001b[0m \u001b[0mslices\u001b[0m\u001b[1;33m)\u001b[0m\u001b[1;33m\u001b[0m\u001b[1;33m\u001b[0m\u001b[0m\n\u001b[0m\u001b[0;32m     32\u001b[0m         print('PIZZA: radius={}, slices={}, slice square inches={}'\n\u001b[0;32m     33\u001b[0m               .format(radius, slices, size))\n",
      "\u001b[1;32m<ipython-input-25-cff9f6f8982b>\u001b[0m in \u001b[0;36mslice_size\u001b[1;34m(radius, slice_count)\u001b[0m\n\u001b[0;32m     11\u001b[0m     \u001b[1;31m#assert slice_count >= 0\u001b[0m\u001b[1;33m\u001b[0m\u001b[1;33m\u001b[0m\u001b[1;33m\u001b[0m\u001b[0m\n\u001b[0;32m     12\u001b[0m     \u001b[1;32mif\u001b[0m \u001b[0mslice_count\u001b[0m \u001b[1;33m<\u001b[0m \u001b[1;36m0\u001b[0m\u001b[1;33m:\u001b[0m\u001b[1;33m\u001b[0m\u001b[1;33m\u001b[0m\u001b[0m\n\u001b[1;32m---> 13\u001b[1;33m         \u001b[1;32mraise\u001b[0m \u001b[0mIndexError\u001b[0m\u001b[1;33m(\u001b[0m\u001b[1;34m\"Not actually an IndexError. slice_count should be at least 0.\"\u001b[0m\u001b[1;33m)\u001b[0m\u001b[1;33m\u001b[0m\u001b[1;33m\u001b[0m\u001b[0m\n\u001b[0m\u001b[0;32m     14\u001b[0m     \u001b[0mtotal_size\u001b[0m \u001b[1;33m=\u001b[0m \u001b[0mpizza_size\u001b[0m\u001b[1;33m(\u001b[0m\u001b[0mradius\u001b[0m\u001b[1;33m)\u001b[0m\u001b[1;33m\u001b[0m\u001b[1;33m\u001b[0m\u001b[0m\n\u001b[0;32m     15\u001b[0m     \u001b[1;32mreturn\u001b[0m \u001b[0mtotal_size\u001b[0m \u001b[1;33m*\u001b[0m \u001b[1;33m(\u001b[0m\u001b[1;36m1\u001b[0m \u001b[1;33m/\u001b[0m \u001b[0mslice_count\u001b[0m\u001b[1;33m)\u001b[0m\u001b[1;33m\u001b[0m\u001b[1;33m\u001b[0m\u001b[0m\n",
      "\u001b[1;31mIndexError\u001b[0m: Not actually an IndexError. slice_count should be at least 0."
     ]
    }
   ],
   "source": [
    "#Pizza Program\n",
    "import math\n",
    "\n",
    "def pizza_size(radius):\n",
    "    #assert radius >= 0\n",
    "    if radius < 0:\n",
    "        raise ArithmeticError(\"Radius should be at least 0.\")\n",
    "    return (radius ** 2) * math.pi\n",
    "\n",
    "def slice_size(radius, slice_count):\n",
    "    #assert slice_count >= 0\n",
    "    if slice_count < 0:\n",
    "        raise IndexError(\"Not actually an IndexError. slice_count should be at least 0.\")\n",
    "    total_size = pizza_size(radius)\n",
    "    return total_size * (1 / slice_count)\n",
    "\n",
    "def main():\n",
    "    for i in range(10):\n",
    "        # grab input\n",
    "        args = input(\"Enter pizza diameter(inches), slice count: \")\n",
    "        try:\n",
    "            args = args.split(',')\n",
    "            radius = float(args[0].strip()) / 2\n",
    "            slices = int(args[1].strip())\n",
    "        except (ValueError, IndexError, TypeError) as er:\n",
    "            print(\"Bad input! Please try again.\")\n",
    "            print(\"Type of exception:\", type(er))\n",
    "            continue\n",
    "\n",
    "        # pizza analysis\n",
    "        size = slice_size(radius, slices)\n",
    "        print('PIZZA: radius={}, slices={}, slice square inches={}'\n",
    "              .format(radius, slices, size))\n",
    "\n",
    "main()"
   ]
  },
  {
   "cell_type": "markdown",
   "metadata": {},
   "source": [
    "**Assert**\n",
    "\n",
    "Why might you want your code to crash _more_?\n",
    " - Debugging runtime errors is USUALLY easier than debugging semantic errors\n",
    " \n",
    "The `assert` statement\n",
    "\n",
    "assert boolean_expression\n",
    "\n",
    "IF the boolean expression evaluates to False, then we get an AssertionError\n",
    "(Otherwise nothing happens)\n",
    "\n",
    "What are some inputs that might cause problems for the Pizza Program above?\n",
    " - Negative diameter\n",
    " - Negative number of slices"
   ]
  },
  {
   "cell_type": "code",
   "execution_count": 2,
   "metadata": {},
   "outputs": [],
   "source": [
    "x = 10\n",
    "assert x > 7"
   ]
  },
  {
   "cell_type": "markdown",
   "metadata": {},
   "source": [
    "**Error handling with Try/Except**\n",
    "\n",
    "When might you want your code to crash _less_?\n",
    " - Usually happens when we know how to \"handle\" a crash and we want to do that\n",
    " \n",
    "`try` indicates that the following block of code might crash\n",
    "`except` follows the try block and tells us what to do if an exception occurs (exception == runtime error)\n",
    "\n",
    "Run code in the try block as normal UNTIL there is an exception\n",
    "Then we skip immediately to the except block (and we continue with the code after the entire pair of blocks)\n",
    "This is called \"catching\" the exception\n",
    "\n",
    "If no exception occurs, we DON'T run anything in the except block"
   ]
  },
  {
   "cell_type": "code",
   "execution_count": 9,
   "metadata": {},
   "outputs": [
    {
     "name": "stdout",
     "output_type": "stream",
     "text": [
      "Here is a some code!\n",
      "An exception occurred!\n",
      "This comes after\n"
     ]
    }
   ],
   "source": [
    "try:\n",
    "    print(\"Here is a some code!\")\n",
    "    print(\"Some of this might crash!\", 1/0) #Crash!\n",
    "    print(\"Here is some more code!\") #This line never gets run\n",
    "except:\n",
    "    print(\"An exception occurred!\") #Note: NEVER EVER EVER put \"pass\" here.\n",
    "print(\"This comes after\")"
   ]
  },
  {
   "cell_type": "code",
   "execution_count": 13,
   "metadata": {},
   "outputs": [
    {
     "name": "stdout",
     "output_type": "stream",
     "text": [
      "The cause of the error is: list index out of range\n"
     ]
    }
   ],
   "source": [
    "#Exception object to get information about the error that occurred\n",
    "try:\n",
    "    #x = 1/0\n",
    "    y = [1,2,3,4][10]\n",
    "except Exception as e:\n",
    "    print(\"The cause of the error is:\", str(e))"
   ]
  },
  {
   "cell_type": "code",
   "execution_count": 19,
   "metadata": {},
   "outputs": [
    {
     "name": "stdout",
     "output_type": "stream",
     "text": [
      "There was an arithmetic error!\n"
     ]
    }
   ],
   "source": [
    "#Narrow Catching: Good practice is to except the most specific exception types possible that catch the\n",
    "#errors you want to catch\n",
    "try:\n",
    "    x = 1/0\n",
    "except (IndexError,ArithmeticError): #To catch multiple types of error, make a tuple\n",
    "    print(\"There was an arithmetic error!\")"
   ]
  },
  {
   "cell_type": "markdown",
   "metadata": {},
   "source": [
    "**The Exception (type) Hierarchy**\n",
    "\n",
    "https://docs.python.org/3/library/exceptions.html#exception-hierarchy"
   ]
  },
  {
   "cell_type": "markdown",
   "metadata": {},
   "source": [
    "**\"Raise\"ing new Errors**\n",
    "\n",
    "Assert alternative\n",
    "\n",
    "Create a new (runtime) exception"
   ]
  },
  {
   "cell_type": "code",
   "execution_count": null,
   "metadata": {},
   "outputs": [],
   "source": [
    "#Note: When we tried this, jupyter notebooks did something odd. Remember you can use the square \"stop\"\n",
    "#   button at the top of the notebook to stop a cell from running infinitely.\n",
    "raise ArithmeticError(\"We haven't done anything, but we thought about dividing by zero.\")"
   ]
  },
  {
   "cell_type": "code",
   "execution_count": null,
   "metadata": {},
   "outputs": [],
   "source": []
  }
 ],
 "metadata": {
  "kernelspec": {
   "display_name": "Python 3",
   "language": "python",
   "name": "python3"
  },
  "language_info": {
   "codemirror_mode": {
    "name": "ipython",
    "version": 3
   },
   "file_extension": ".py",
   "mimetype": "text/x-python",
   "name": "python",
   "nbconvert_exporter": "python",
   "pygments_lexer": "ipython3",
   "version": "3.7.4"
  }
 },
 "nbformat": 4,
 "nbformat_minor": 4
}
