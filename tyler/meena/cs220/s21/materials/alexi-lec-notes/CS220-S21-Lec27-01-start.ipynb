{
 "cells": [
  {
   "cell_type": "markdown",
   "metadata": {},
   "source": [
    "**Outline for Friday, March 26**\n",
    "\n",
    "File Objects\n",
    "\n",
    "You will be able to:\n",
    " - Use built-in functions with files: open, close, read, write\n",
    " - Use a file object's iterator properties: for, next, list\n",
    " - Use file-specific functions from the `os` module:\n",
    "   - listdir, mkdir, path.exists, path.isfile, path.isdir, path.join\n",
    " - Use try/except blocks to handle errors that may occur when using files\n",
    " \n",
    "Definitions\n",
    " - file object\n",
    "\n",
    "Useful modules:\n",
    " - os\n",
    "\n",
    "Reminders:\n",
    " - Exam 2 is on Monday!\n",
    " - I have no office hours today (others' office hours as normal)"
   ]
  },
  {
   "cell_type": "markdown",
   "metadata": {},
   "source": [
    "**File Objects**\n",
    "\n",
    "Basic file interactions\n",
    " - ???\n",
    " - ???\n",
    " "
   ]
  },
  {
   "cell_type": "code",
   "execution_count": null,
   "metadata": {},
   "outputs": [],
   "source": []
  },
  {
   "cell_type": "markdown",
   "metadata": {},
   "source": [
    "**The os module**\n",
    " - listdir\n",
    " - mkdir\n",
    " - path.exists\n",
    " - path.isdir\n",
    " - path.isfile\n",
    " - path.join"
   ]
  },
  {
   "cell_type": "code",
   "execution_count": null,
   "metadata": {},
   "outputs": [],
   "source": [
    "import os\n",
    "import sys"
   ]
  },
  {
   "cell_type": "code",
   "execution_count": null,
   "metadata": {},
   "outputs": [],
   "source": [
    "#My setup:\n",
    "#  Current directory is .../lecture-notes\n",
    "#  Looking for ...lecture-notes/testfolder/AFolder/AnotherFolder/HiddenFile.txt\n",
    "searchFileName = input(\"File name: \")\n",
    "searchDirectory = input(\"File directory: \")\n",
    "\n",
    "def recursiveDirSearch(searchDirectory, searchFileName):\n",
    "    for curr in os.listdir(searchDirectory):\n",
    "        curr = os.path.join(searchDirectory, curr)\n",
    "        #Check if curr is a directory or a file\n",
    "        if os.path.isfile(curr):\n",
    "            #If it is a file, check if that is searchFileName\n",
    "            if searchFileName in curr:\n",
    "                f = open(curr)\n",
    "                contents = f.read()\n",
    "                f.close()\n",
    "                return contents\n",
    "        else:\n",
    "            contents = recursiveDirSearch(curr, searchFileName)\n",
    "            if contents != None:\n",
    "                return contents\n",
    "    return None\n",
    "\n",
    "if not os.path.exists(searchDirectory):\n",
    "    print(\"Unable to find searchDirectory!\")\n",
    "else:\n",
    "    contents = recursiveDirSearch(searchDirectory, searchFileName)\n",
    "    if contents != None:\n",
    "        print(contents, end = \"\")"
   ]
  },
  {
   "cell_type": "markdown",
   "metadata": {},
   "source": [
    "**Common file exceptions**\n",
    "\n"
   ]
  },
  {
   "cell_type": "code",
   "execution_count": null,
   "metadata": {},
   "outputs": [],
   "source": []
  },
  {
   "cell_type": "markdown",
   "metadata": {},
   "source": [
    "**Encodings**\n",
    "\n"
   ]
  }
 ],
 "metadata": {
  "kernelspec": {
   "display_name": "Python 3",
   "language": "python",
   "name": "python3"
  },
  "language_info": {
   "codemirror_mode": {
    "name": "ipython",
    "version": 3
   },
   "file_extension": ".py",
   "mimetype": "text/x-python",
   "name": "python",
   "nbconvert_exporter": "python",
   "pygments_lexer": "ipython3",
   "version": "3.7.4"
  }
 },
 "nbformat": 4,
 "nbformat_minor": 4
}
