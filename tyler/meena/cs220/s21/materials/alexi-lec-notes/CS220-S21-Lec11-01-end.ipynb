{
 "cells": [
  {
   "cell_type": "markdown",
   "metadata": {},
   "source": [
    "**Outline for Wednesday, February 17**\n",
    "\n",
    "Iteration\n",
    "\n",
    "You will be able to:\n",
    " - Reason about \"loops\"\n",
    " - Write a while loop using correct syntax\n",
    " - Identify the condition and body of a loop\n",
    " - Recognize two common loop \"use cases\"\n",
    " - Recognize two common errors made when constructing loops\n",
    " - Write *nested* while loops\n",
    " \n",
    "Definitions:\n",
    " - Iteration\n",
    " - Loop\n",
    "     - while loop\n",
    " - Use case: Example that gives us the justification for something\n",
    "\n",
    "Reminder: Exam 1 on Monday. You will take it through Canvas.\n",
    "\n",
    "Challenge exercise: Implement a prime checker function. (Should, given a number, report whether that number is prime.)"
   ]
  },
  {
   "cell_type": "markdown",
   "metadata": {},
   "source": [
    "**What is Iteration?**\n",
    "\n",
    "Compare to conditional statements\n",
    "\n",
    "A condition & a block of code\n",
    "- The condition tells us how many times to do the block of code\n",
    "\n",
    "**Why use it?**\n",
    "- I have a task that I want to do a certain number of times (>3)\n",
    "- I have a task that I want to repeat UNTIL some condition is met\n",
    "\n",
    "**Errors to watch out for**\n",
    "- Infinite loop! (forget to update that control variable, this is what you get!)\n",
    "- Off-by-one error (when trying to do something a set number of times, but used < instead of <= or the other way around)\n",
    "    - Can happen with one more OR one less, watch out for either!"
   ]
  },
  {
   "cell_type": "code",
   "execution_count": null,
   "metadata": {},
   "outputs": [],
   "source": [
    "#Task: Print: \"Today, I am repeating myself.\" 10 times\n",
    "#Approach 1: (old, works, but NOT ELEGANT)\n",
    "print(\"Today, I am repeating myself.\")\n",
    "print(\"Today, I am repeating myself.\")\n",
    "print(\"Today, I am repeating myself.\")\n",
    "print(\"Today, I am repeating myself.\")\n",
    "print(\"Today, I am repeating myself.\")\n",
    "print(\"Today, I am repeating myself.\")\n",
    "print(\"Today, I am repeating myself.\")\n",
    "print(\"Today, I am repeating myself.\")\n",
    "print(\"Today, I am repeating myself.\")\n",
    "print(\"Today, I am repeating myself.\")"
   ]
  },
  {
   "cell_type": "code",
   "execution_count": 5,
   "metadata": {},
   "outputs": [
    {
     "name": "stdout",
     "output_type": "stream",
     "text": [
      "Today, I am repeating myself: 10\n",
      "Today, I am repeating myself: 9\n",
      "Today, I am repeating myself: 8\n",
      "Today, I am repeating myself: 7\n",
      "Today, I am repeating myself: 6\n",
      "Today, I am repeating myself: 5\n",
      "Today, I am repeating myself: 4\n",
      "Today, I am repeating myself: 3\n",
      "Today, I am repeating myself: 2\n",
      "Today, I am repeating myself: 1\n",
      "Today, I am repeating myself: 0\n"
     ]
    }
   ],
   "source": [
    "#Approach 2:\n",
    "#while [CONDITION]:\n",
    "#    print(\"Today, I am repeating myself.\")\n",
    "\n",
    "times_remaining = 10 #1. Initialize your control variable\n",
    "while times_remaining>0:\n",
    "    print(\"Today, I am repeating myself:\",times_remaining)\n",
    "    times_remaining -= 1 #update my control variable"
   ]
  },
  {
   "cell_type": "code",
   "execution_count": 4,
   "metadata": {},
   "outputs": [
    {
     "name": "stdout",
     "output_type": "stream",
     "text": [
      "Please enter a valid password: 123\n",
      "Password length must be 6-8 letters.\n",
      "Please enter a valid password: Alexi\n",
      "Password length must be 6-8 letters.\n",
      "Username and password cannot be the same.\n",
      "Please enter a valid password: password\n",
      "Password cannot be \"password\". Pick something more secure.\n",
      "Please enter a valid password: abc123\n",
      "Password accepted!\n"
     ]
    }
   ],
   "source": [
    "#Slightly better password checking (result from Monday's lecture)\n",
    "#Ask the user to create a password and let them know if it's an acceptable password\n",
    "user = \"Alexi\"\n",
    "\n",
    "\n",
    "def check_password(username,password):\n",
    "    rules_broken = False\n",
    "    if len(password) < 6 or len(password) > 8:\n",
    "        print(\"Password length must be 6-8 letters.\")\n",
    "        rules_broken = True\n",
    "    if password == \"password\":\n",
    "        print(\"Password cannot be \\\"password\\\". Pick something more secure.\")\n",
    "        rules_broken = True\n",
    "    if password == username:\n",
    "        print(\"Username and password cannot be the same.\")\n",
    "        rules_broken = True\n",
    "    if not rules_broken: #rules_broken == False:\n",
    "        print(\"Password accepted!\")\n",
    "    return rules_broken\n",
    "        \n",
    "acceptable_password = False\n",
    "while acceptable_password == False:\n",
    "    pw = input(\"Please enter a valid password: \")\n",
    "    response = check_password(user,pw)\n",
    "    acceptable_password = not response"
   ]
  },
  {
   "cell_type": "code",
   "execution_count": 7,
   "metadata": {},
   "outputs": [
    {
     "name": "stdout",
     "output_type": "stream",
     "text": [
      "Enter a number or 'q': 4\n",
      "Counting down from 4\n",
      "4\n",
      "3\n",
      "2\n",
      "1\n",
      "0\n",
      "Ding ding ding!\n",
      "Enter a number or 'q': -2\n",
      "Counting down from -2\n",
      "Ding ding ding!\n",
      "Enter a number or 'q': q\n"
     ]
    }
   ],
   "source": [
    "#Task: Get a number from the user\n",
    "#  Then count down to zero from that number\n",
    "#  And repeat until the user inputs \"q\"\n",
    "\n",
    "user_input = input(\"Enter a number or 'q': \")\n",
    "while user_input != \"q\":\n",
    "    remaining = int(user_input)\n",
    "    print(\"Counting down from\",remaining)\n",
    "    while remaining > 0:\n",
    "        print(remaining)\n",
    "        remaining -= 1\n",
    "    print(\"Ding ding ding!\")\n",
    "    user_input = input(\"Enter a number or 'q': \")"
   ]
  },
  {
   "cell_type": "code",
   "execution_count": null,
   "metadata": {},
   "outputs": [],
   "source": []
  }
 ],
 "metadata": {
  "kernelspec": {
   "display_name": "Python 3",
   "language": "python",
   "name": "python3"
  },
  "language_info": {
   "codemirror_mode": {
    "name": "ipython",
    "version": 3
   },
   "file_extension": ".py",
   "mimetype": "text/x-python",
   "name": "python",
   "nbconvert_exporter": "python",
   "pygments_lexer": "ipython3",
   "version": "3.7.4"
  }
 },
 "nbformat": 4,
 "nbformat_minor": 4
}
