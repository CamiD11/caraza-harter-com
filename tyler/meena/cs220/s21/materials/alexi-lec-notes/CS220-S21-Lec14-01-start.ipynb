{
 "cells": [
  {
   "cell_type": "markdown",
   "metadata": {},
   "source": [
    "**Outline for Wednesday, February 24**\n",
    "\n",
    "Strings\n",
    "\n",
    "You will be able to:\n",
    " - Compare strings while avoiding common tricks\n",
    " - Recognize common string methods and what they do\n",
    " - Identify that a string is a type of *sequence*\n",
    " - Recognize 4 common ways of using sequences\n",
    " \n",
    "Definitions:\n",
    " - Method\n",
    " - Sequence\n",
    "\n",
    "Useful functions:\n",
    " - len()\n",
    " - range()\n",
    "\n",
    "Reminders:\n",
    "- Project 4 due Wednesday. Quiz 4 due Friday.\n",
    "- If you are struggling with coursework due to COVID (or other illness) please let me know. Pandemic times can be a struggle and your health is more important to me than any class assignment."
   ]
  },
  {
   "cell_type": "markdown",
   "metadata": {},
   "source": [
    "**String Comparison**\n",
    "\n",
    "\"cat\" < \"dog\" (True)\n",
    "\"cat\" < \"calendar\" (False)\n",
    "\n",
    "3 tricks to watch out for:\n",
    "1. \n",
    "2. \n",
    "3. \n"
   ]
  },
  {
   "cell_type": "code",
   "execution_count": null,
   "metadata": {},
   "outputs": [],
   "source": []
  },
  {
   "cell_type": "markdown",
   "metadata": {},
   "source": [
    "**What is a Method?**\n",
    "\n"
   ]
  },
  {
   "cell_type": "code",
   "execution_count": null,
   "metadata": {},
   "outputs": [],
   "source": [
    "s = \"Hello\""
   ]
  },
  {
   "cell_type": "markdown",
   "metadata": {},
   "source": [
    "**Common String Methods**\n",
    "\n",
    "| Method | Purpose |\n",
    "| :- | :- |\n",
    "| isdigit() | Check if all characters in the string are digits. |\n",
    "| isalpha() | |\n",
    "| upper() | |\n",
    "| lower() | |\n",
    "| strip() | |\n",
    "| lstrip() | |\n",
    "| rstrip() | |\n",
    "| split(separator) | |\n",
    "| format(args...) | |\n",
    "| find(needle) | |\n",
    "| index(needle) | |\n",
    "| startswith(prefix) | |\n",
    "| endswith(suffix) | |\n",
    "| replace(a, b) | |"
   ]
  },
  {
   "cell_type": "code",
   "execution_count": 6,
   "metadata": {},
   "outputs": [],
   "source": [
    "#Examples\n"
   ]
  },
  {
   "cell_type": "markdown",
   "metadata": {},
   "source": [
    "**What is a Sequence?**\n",
    "\n",
    "Types of sequences\n",
    "\n",
    "- \n",
    "- \n",
    "- \n",
    "\n",
    "Things you can do with a sequence\n",
    "\n",
    "- \n",
    "- \n",
    "- \n",
    "- \n",
    "\n",
    "\n"
   ]
  },
  {
   "cell_type": "code",
   "execution_count": null,
   "metadata": {},
   "outputs": [],
   "source": []
  },
  {
   "cell_type": "code",
   "execution_count": null,
   "metadata": {},
   "outputs": [],
   "source": []
  },
  {
   "cell_type": "code",
   "execution_count": null,
   "metadata": {},
   "outputs": [],
   "source": []
  },
  {
   "cell_type": "markdown",
   "metadata": {},
   "source": []
  },
  {
   "cell_type": "markdown",
   "metadata": {},
   "source": [
    "The `range()` function"
   ]
  }
 ],
 "metadata": {
  "kernelspec": {
   "display_name": "Python 3",
   "language": "python",
   "name": "python3"
  },
  "language_info": {
   "codemirror_mode": {
    "name": "ipython",
    "version": 3
   },
   "file_extension": ".py",
   "mimetype": "text/x-python",
   "name": "python",
   "nbconvert_exporter": "python",
   "pygments_lexer": "ipython3",
   "version": "3.7.4"
  }
 },
 "nbformat": 4,
 "nbformat_minor": 4
}
