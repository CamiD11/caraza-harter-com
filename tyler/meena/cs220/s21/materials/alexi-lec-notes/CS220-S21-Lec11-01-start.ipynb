{
 "cells": [
  {
   "cell_type": "markdown",
   "metadata": {},
   "source": [
    "**Outline for Wednesday, February 17**\n",
    "\n",
    "Iteration\n",
    "\n",
    "You will be able to:\n",
    " - Reason about \"loops\"\n",
    " - Write a while loop using correct syntax\n",
    " - Identify the condition and body of a loop\n",
    " - Recognize two common loop \"use cases\"\n",
    " - Recognize two common errors made when constructing loops\n",
    " - Write *nested* while loops\n",
    " \n",
    "Definitions:\n",
    " - Iteration\n",
    " - Loop\n",
    "     - while loop\n",
    " - Use case\n",
    "\n",
    "Reminder: Exam 1 on Monday. You will take it through Canvas."
   ]
  },
  {
   "cell_type": "markdown",
   "metadata": {},
   "source": [
    "**What is Iteration?**\n",
    "\n",
    "Compare to conditional statements\n",
    "\n",
    "**Why use it?**"
   ]
  },
  {
   "cell_type": "code",
   "execution_count": null,
   "metadata": {},
   "outputs": [],
   "source": [
    "#Task: Print: \"Today, I am repeating myself.\" 10 times"
   ]
  },
  {
   "cell_type": "code",
   "execution_count": null,
   "metadata": {},
   "outputs": [],
   "source": [
    "#Slightly better password checking (result from Monday's lecture)\n",
    "#Ask the user to create a password and let them know if it's an acceptable password\n",
    "user = \"Alexi\"\n",
    "pw = input()\n",
    "\n",
    "def check_password(username,password):\n",
    "    rules_broken = False\n",
    "    if len(password) < 6 or len(password) > 8:\n",
    "        print(\"Password length must be 6-8 letters.\")\n",
    "        rules_broken = True\n",
    "    if password == \"password\":\n",
    "        print(\"Password cannot be \\\"password\\\". Pick something more secure.\")\n",
    "        rules_broken = True\n",
    "    if password == username:\n",
    "        print(\"Username and password cannot be the same.\")\n",
    "        rules_broken = True\n",
    "    if not rules_broken: #rules_broken == False:\n",
    "        print(\"Password accepted!\")\n",
    "        \n",
    "check_password(user,pw)"
   ]
  }
 ],
 "metadata": {
  "kernelspec": {
   "display_name": "Python 3",
   "language": "python",
   "name": "python3"
  },
  "language_info": {
   "codemirror_mode": {
    "name": "ipython",
    "version": 3
   },
   "file_extension": ".py",
   "mimetype": "text/x-python",
   "name": "python",
   "nbconvert_exporter": "python",
   "pygments_lexer": "ipython3",
   "version": "3.7.4"
  }
 },
 "nbformat": 4,
 "nbformat_minor": 4
}
