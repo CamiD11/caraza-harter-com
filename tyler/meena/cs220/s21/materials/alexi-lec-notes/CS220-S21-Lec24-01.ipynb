{
 "cells": [
  {
   "cell_type": "markdown",
   "metadata": {},
   "source": [
    "**Outline for Friday, March 19**\n",
    "\n",
    "Functions are Objects\n",
    "\n",
    "You will be able to:\n",
    " - Define a function reference and trace code that uses function references\n",
    " - Use the `map` function to apply a function to every element in a list\n",
    " - Sort a list of tuples, a list of dicts, or a dict using a function as a **key**\n",
    " - Use a **lambda expression** to abstract function behavior while sorting or mapping\n",
    " \n",
    "Definitions\n",
    " - lambda expression\n",
    " \n",
    "Useful functions\n",
    " - map()\n",
    " \n",
    "Note: We're going to use the \"demo_lec_24\" notebook - you can find the \"start\" version in today's code link and my \"end\" version in my notes folder."
   ]
  },
  {
   "cell_type": "markdown",
   "metadata": {},
   "source": [
    "**Functions References**"
   ]
  },
  {
   "cell_type": "code",
   "execution_count": null,
   "metadata": {},
   "outputs": [],
   "source": []
  },
  {
   "cell_type": "markdown",
   "metadata": {},
   "source": [
    "**Lambda Expressions**"
   ]
  }
 ],
 "metadata": {
  "kernelspec": {
   "display_name": "Python 3",
   "language": "python",
   "name": "python3"
  },
  "language_info": {
   "codemirror_mode": {
    "name": "ipython",
    "version": 3
   },
   "file_extension": ".py",
   "mimetype": "text/x-python",
   "name": "python",
   "nbconvert_exporter": "python",
   "pygments_lexer": "ipython3",
   "version": "3.7.4"
  }
 },
 "nbformat": 4,
 "nbformat_minor": 4
}
