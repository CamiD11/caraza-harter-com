{
 "cells": [
  {
   "cell_type": "markdown",
   "metadata": {},
   "source": [
    "**Outline for Monday, March 15**\n",
    "\n",
    "References, Copy, Deepcopy\n",
    "\n",
    "You will be able to:\n",
    " - Predict the output of code that uses reference variable mutation and reassignment\n",
    " - Explain how Python uses deduplication & hand trace code that uses deduplication\n",
    " - Compare each of the 3 levels of copying\n",
    "   - New reference\n",
    "   - Shallow copy\n",
    "   - Deep copy\n",
    " - Write code that copies a data structure at the appropriate level for a use case\n",
    " - Hand trace code that uses reference copying, copy.copy(), or copy.deepcopy()\n",
    " \n",
    "Useful Modules\n",
    " - copy\n",
    " \n",
    "Definitions\n",
    " - deduplication\n",
    " - reference\n",
    " - shallow copy\n",
    " - deep copy\n",
    " \n",
    "Reminder\n",
    " - Do today's worksheet and interactive exercises!"
   ]
  },
  {
   "cell_type": "markdown",
   "metadata": {},
   "source": [
    "**Deduplication**"
   ]
  },
  {
   "cell_type": "code",
   "execution_count": 11,
   "metadata": {},
   "outputs": [
    {
     "name": "stdout",
     "output_type": "stream",
     "text": [
      "True False\n",
      "True\n",
      "True\n",
      "True False\n",
      "True False\n"
     ]
    }
   ],
   "source": [
    "first = [1,2,3]\n",
    "second = [1,2,3]\n",
    "print(first==second, first is second)\n",
    "\n",
    "x = 4*4\n",
    "y = 2**4\n",
    "z = 4**2\n",
    "w = y\n",
    "print(x is y and y is z and z is w)\n",
    "\n",
    "s1 = \"hahahaha\"\n",
    "s2 = \"haha\" * 2\n",
    "print(s1 is s2)\n",
    "\n",
    "half = 6.0/2\n",
    "double = 1.5*2\n",
    "print(half==double, half is double)\n",
    "\n",
    "half2 = 6.0/2\n",
    "print(half==half2, half is half2)"
   ]
  },
  {
   "cell_type": "markdown",
   "metadata": {},
   "source": [
    "**References**\n",
    "\n",
    "(See interactive exercises 1 and 2.)"
   ]
  },
  {
   "cell_type": "markdown",
   "metadata": {},
   "source": [
    "**Copying**\n",
    "\n",
    "(See interactive exercises 4-6.)"
   ]
  },
  {
   "cell_type": "code",
   "execution_count": null,
   "metadata": {},
   "outputs": [],
   "source": [
    "import copy\n",
    "x = [\n",
    "    {\"name\":\"A\",\"score\":88},\n",
    "    {\"name\":\"B\",\"score\":111},\n",
    "    {\"name\":\"C\",\"score\":100},\n",
    "]\n",
    "\n",
    "#y = x\n",
    "#y = copy.copy(x)\n",
    "#y = copy.deepcopy(x)"
   ]
  },
  {
   "cell_type": "markdown",
   "metadata": {},
   "source": [
    "**Challenge Problem**\n",
    "\n",
    "Jupyter Notebooks let you create a \"checkpoint\" and revert back to the checkpoint. Write a program that acts like a very simple database: A user can input instructions to create new dictionaries and add or change key-value pairs in those dictionaries. (Including values that are themselves dictionaries.) Also give the user an option to \"save\" the current state or \"revert\" back to a saved state.\n",
    " - This can get complicated quickly, so start small.\n",
    " - Maintaining a backup will require copying your data into a new object that the user doesn't have direct access to. What type of copying should you use?\n",
    " - Reverting to the backup can be done with either a deep copy or a new reference. Why might you choose one or the other?"
   ]
  }
 ],
 "metadata": {
  "kernelspec": {
   "display_name": "Python 3",
   "language": "python",
   "name": "python3"
  },
  "language_info": {
   "codemirror_mode": {
    "name": "ipython",
    "version": 3
   },
   "file_extension": ".py",
   "mimetype": "text/x-python",
   "name": "python",
   "nbconvert_exporter": "python",
   "pygments_lexer": "ipython3",
   "version": "3.7.4"
  }
 },
 "nbformat": 4,
 "nbformat_minor": 4
}
