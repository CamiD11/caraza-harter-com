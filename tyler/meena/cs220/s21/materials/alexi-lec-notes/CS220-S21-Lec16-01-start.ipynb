{
 "cells": [
  {
   "cell_type": "markdown",
   "metadata": {},
   "source": [
    "**Outline for Monday, March 1**\n",
    "\n",
    "Comma Separated Values (CSV)\n",
    "\n",
    "You will be able to:\n",
    " - Create a CSV file (manually or using a spreadsheet program like Excel)\n",
    " - Use \"cat\" (or \"type\" on Windows) to view contents of binary or CSV files\n",
    " - Read a CSV file manually using a text editor\n",
    " - Use a common Python design pattern to read a CSV file into a list of lists\n",
    " - Loop over lists of lists\n",
    " - Identify how \"sys.argv\" is used to read arguments into a command-line Python script\n",
    " \n",
    "Definitions:\n",
    " - CSV = Comma Separated Values\n",
    " - delimiter\n",
    "\n",
    "Useful functions:\n",
    " - sys.argv (not technically a function! it's a global variable)"
   ]
  },
  {
   "cell_type": "markdown",
   "metadata": {},
   "source": [
    "**Reference Files**\n",
    "- restaurants.csv (we made this up)\n",
    "- hurricanes.csv (see project 5)\n",
    "\n",
    "Access under \"code\" in the schedule in the \"files\" folder"
   ]
  },
  {
   "cell_type": "markdown",
   "metadata": {},
   "source": [
    "**CSV (Comma-Separated Values)**\n",
    "\n",
    "What is it?\n",
    "\n",
    "Why do we use it?\n",
    "\n",
    "How does it work?\n",
    "\n",
    "Existing resources?\n",
    "- csv module\n",
    "- Write a CSV-processing function you can reuse (we'll use one from the Sweigart text Ch16)"
   ]
  },
  {
   "cell_type": "code",
   "execution_count": null,
   "metadata": {},
   "outputs": [],
   "source": []
  },
  {
   "cell_type": "code",
   "execution_count": null,
   "metadata": {},
   "outputs": [],
   "source": [
    "#copied from https://automatetheboringstuff.com/2e/chapter16\n",
    "import csv\n",
    "exampleFile = open('example.csv')\n",
    "exampleReader = csv.reader(exampleFile)\n",
    "exampleData = list(exampleReader)\n",
    "exampleData"
   ]
  },
  {
   "cell_type": "markdown",
   "metadata": {},
   "source": [
    "**Challenge Problems**\n",
    "\n",
    "Explore the csv.writer() function. Imagine a CSV file with a column that is supposed to be all numeric values, but some entries have an empty string instead. Write a function that reads in a CSV file and \"cleans\" the column, outputing a new CSV file with only numbers in that column.\n",
    " - Possible approach: Delete lines with no entry in the column. (Are these lines not relevant? Why not?)\n",
    " - Possible approach: Replace empty strings with a non-meaningful value. (Do we just need to avoid crashing on int()?)\n",
    " - Possible approach: Replace empty strings with a meaningful value. (Does blank mean zero?)"
   ]
  },
  {
   "cell_type": "code",
   "execution_count": null,
   "metadata": {},
   "outputs": [],
   "source": []
  }
 ],
 "metadata": {
  "kernelspec": {
   "display_name": "Python 3",
   "language": "python",
   "name": "python3"
  },
  "language_info": {
   "codemirror_mode": {
    "name": "ipython",
    "version": 3
   },
   "file_extension": ".py",
   "mimetype": "text/x-python",
   "name": "python",
   "nbconvert_exporter": "python",
   "pygments_lexer": "ipython3",
   "version": "3.7.4"
  }
 },
 "nbformat": 4,
 "nbformat_minor": 4
}
