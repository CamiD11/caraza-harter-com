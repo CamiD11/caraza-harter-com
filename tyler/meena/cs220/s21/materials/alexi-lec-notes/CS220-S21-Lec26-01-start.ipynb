{
 "cells": [
  {
   "cell_type": "markdown",
   "metadata": {},
   "source": [
    "**Outline for Wednesday, March 24**\n",
    "\n",
    "Error Handling\n",
    "\n",
    "You will be able to:\n",
    " - Explain why `assert` statements make programs crash more\n",
    " - Explain why `try/except` blocks make programs crash less\n",
    " - Use an `assert` statement to verify an assumption about a program\n",
    " - Use a `try/except` block to catch and handle runtime errors\n",
    " - Use a `raise` statement to raise an exception and catch it elsewhere in your program\n",
    " - Trace code that uses assert, try/except, and raise statements\n",
    " \n",
    "Definitions\n",
    " - assert\n",
    " - try/except\n",
    " - raise\n",
    "\n",
    "Today's worksheet covers tracing exercises. Please skip any that involve a \"yield\" statement. (We skipped that topic this semester.)"
   ]
  },
  {
   "cell_type": "code",
   "execution_count": null,
   "metadata": {},
   "outputs": [],
   "source": [
    "#Pizza Program\n",
    "import math\n",
    "\n",
    "def pizza_size(radius):\n",
    "    return (radius ** 2) * math.pi\n",
    "\n",
    "def slice_size(radius, slice_count):\n",
    "    total_size = pizza_size(radius)\n",
    "    return total_size * (1 / slice_count)\n",
    "\n",
    "def main():\n",
    "    for i in range(10):\n",
    "        # grab input\n",
    "        args = input(\"Enter pizza diameter(inches), slice count: \")\n",
    "        args = args.split(',')\n",
    "        radius = float(args[0].strip()) / 2\n",
    "        slices = int(args[1].strip())\n",
    "\n",
    "        # pizza analysis\n",
    "        size = slice_size(radius, slices)\n",
    "        print('PIZZA: radius={}, slices={}, slice square inches={}'\n",
    "              .format(radius, slices, size))\n",
    "\n",
    "main()"
   ]
  },
  {
   "cell_type": "markdown",
   "metadata": {},
   "source": [
    "**Assert**\n",
    "\n",
    "Why might you want your code to crash _more_?\n",
    "\n",
    "What are some inputs that might cause problems for the Pizza Program above?"
   ]
  },
  {
   "cell_type": "markdown",
   "metadata": {},
   "source": [
    "**Error handling with Try/Except**\n",
    "\n",
    "When might you want your code to crash _less_?"
   ]
  },
  {
   "cell_type": "markdown",
   "metadata": {},
   "source": [
    "**The Exception (type) Hierarchy**\n",
    "\n",
    "https://docs.python.org/3/library/exceptions.html#exception-hierarchy"
   ]
  },
  {
   "cell_type": "markdown",
   "metadata": {},
   "source": [
    "**\"Raise\"ing new Errors**\n",
    "\n"
   ]
  }
 ],
 "metadata": {
  "kernelspec": {
   "display_name": "Python 3",
   "language": "python",
   "name": "python3"
  },
  "language_info": {
   "codemirror_mode": {
    "name": "ipython",
    "version": 3
   },
   "file_extension": ".py",
   "mimetype": "text/x-python",
   "name": "python",
   "nbconvert_exporter": "python",
   "pygments_lexer": "ipython3",
   "version": "3.7.4"
  }
 },
 "nbformat": 4,
 "nbformat_minor": 4
}
