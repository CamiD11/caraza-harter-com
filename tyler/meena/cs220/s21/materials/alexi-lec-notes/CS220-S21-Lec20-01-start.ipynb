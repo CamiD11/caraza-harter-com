{
 "cells": [
  {
   "cell_type": "markdown",
   "metadata": {},
   "source": [
    "**Outline for Wednesday, March 10**\n",
    "\n",
    "JSON\n",
    "\n",
    "You will be able to:\n",
    " - Practice tracing code involving complex data structures\n",
    " - Read and interpret JSON formatted data\n",
    " - Serialize data into JSON for long term storage\n",
    " - Deserialize data from JSON for use in Python programs\n",
    "\n",
    "Definitions\n",
    " - JSON\n",
    " - Serialization\n",
    " - Deserialization"
   ]
  },
  {
   "cell_type": "code",
   "execution_count": null,
   "metadata": {},
   "outputs": [],
   "source": [
    "%%html\n",
    "<style>\n",
    "table {float:left}\n",
    "</style>"
   ]
  },
  {
   "cell_type": "markdown",
   "metadata": {},
   "source": [
    "**Tracing Practice**\n",
    "\n",
    "(See today's worksheet.)"
   ]
  },
  {
   "cell_type": "code",
   "execution_count": null,
   "metadata": {},
   "outputs": [],
   "source": [
    "webster = {\n",
    "    \"a\": [\"apple\", \"and\", \"ada\"],\n",
    "    \"b\": [\"bike\", \"deBug\"],\n",
    "    \"z\": {\"name\": \"zebra\", \"kind\": \"mammal\"}\n",
    "}\n",
    "luny_list = [8, 9, webster]\n",
    "luny_list.append(luny_list) # what?????\n",
    "webster[\"L\"] = luny_list\n",
    "\n",
    "def foooo(everything):\n",
    "    final_letter = everything[2][\"z\"]\n",
    "    print(????) #We'll fill in the ???? later\n",
    "    \n",
    "foooo(luny_list)"
   ]
  },
  {
   "cell_type": "markdown",
   "metadata": {},
   "source": [
    "![](Luny_List.png)"
   ]
  },
  {
   "cell_type": "markdown",
   "metadata": {},
   "source": [
    "| ???? | result |\n",
    "| :- | :- |\n",
    "| luny_list\\[1\\] | |\n",
    "| webster\\[\"a\"\\]\\[-1\\] | |\n",
    "| webster\\[\"z\"\\]\\[\"name\"\\] | |\n",
    "| webster\\[\"L\"\\]\\[1\\] | |\n",
    "| luny_list\\[2\\]\\[\"b\"\\]\\[1\\] | |"
   ]
  },
  {
   "cell_type": "markdown",
   "metadata": {},
   "source": [
    "**JSON**\n",
    "\n",
    "JSON = JavaScript Object Notation\n",
    " - JavaScript is another programming language, often used for websites\n",
    " - JSON is designed as a way for JavaScript programs to store or share data\n",
    " - JSON data looks a lot like Python data!"
   ]
  },
  {
   "cell_type": "markdown",
   "metadata": {},
   "source": [
    "Differences:\n",
    "\n",
    "| | Python | JSON |\n",
    "| :-: | :-: | :-: |\n",
    "| Booleans | True, False | true, false |\n",
    "| No value | None | null |\n",
    "| Strings with... | Single or double quotes | Double quotes only! |\n",
    "| Keys with... | (almost) any type | strings only! |"
   ]
  },
  {
   "cell_type": "code",
   "execution_count": 4,
   "metadata": {},
   "outputs": [],
   "source": [
    "#reading JSON files\n",
    "#You may copy/paste and use these two functions\n",
    "#You do not need to cite me :-)\n",
    "import json\n",
    "\n",
    "def read_json(path):\n",
    "    with open(path, encoding=\"utf-8\") as f:\n",
    "        return json.load(f)\n",
    "    \n",
    "def write_json(path, data):\n",
    "    with open(path, 'w', encoding=\"utf-8\") as f:\n",
    "        json.dump(data, f, indent=2)"
   ]
  },
  {
   "cell_type": "code",
   "execution_count": null,
   "metadata": {},
   "outputs": [],
   "source": [
    "# STEP 1: Copy and paste code for reading JSON file.\n",
    "\n",
    "# STEP 2: Create a new \"numsA.json\".\n",
    "#         Add the list [1, 2, 3, 4] to \"numsA.json\" file.\n",
    "#         Use echo command ---> echo [1, 2, 3, 4] > numsA.json \n",
    "#         or use jupyter notebook to create and edit the new file\n",
    "\n",
    "# STEP 3: Process numsA.json as a command line argument using sys module.\n",
    "\n",
    "# STEP 4: Read the JSON file passed as first command line argument.\n",
    "\n",
    "# STEP 5: Print type of data returned by function that reads JSON file.\n",
    "\n",
    "# STEP 6: Using Python built-in function sum(...), calculate total of numbers in numsA.json.\n",
    "\n",
    "# STEP 7: Create a new JSON file \"numsB.json\" and try out the following data:\n",
    "#         [-1, 10, 4,]\n",
    "#         Does that work?\n",
    "#         Change the data to [-1, 10, 4] and try to run the program by passing numsB.json\n",
    "\n",
    "# STEP 8: Create a new JSON file \"simple.json\" and try out the following data.\n",
    "#         What kind of error do you get with this?\n",
    "#         Fix the error by commenting the line of code!\n",
    "#         3.14\n",
    "#         True\n",
    "#         true\n",
    "#         'hello' -> if using echo command, type backslash in front of both quotes (escape sequence)\n",
    "#         \"hello\" -> if using echo command, type backslash in front of both quotes (escape sequence)   "
   ]
  },
  {
   "cell_type": "code",
   "execution_count": null,
   "metadata": {},
   "outputs": [],
   "source": [
    "# STEP 1: Copy and paste code for reading JSON file.\n",
    " \n",
    "# STEP 2: Copy and paste code for writing JSON file. \n",
    "#         Eliminate duplicate import.\n",
    "\n",
    "# STEP 3: Process player name, player score as a command line\n",
    "#         arguments using sys module.\n",
    "\n",
    "# STEP 4: Define an empty \"scores\" dictionary to keep track of players'\n",
    "#         scores.\n",
    "#         KEY: player name VALUE: player scores list\n",
    "\n",
    "# STEP 5: Check if player name is a key in the scores dictionary.\n",
    "#         If not, create a new key for player name and value as empty list\n",
    "#         to keep track of that player's scores.\n",
    "\n",
    "# STEP 6: Add player's score to the player's list in scores dictionary\n",
    "\n",
    "# STEP 7: Create a \"score_history.json\" file and popluate that file with\n",
    "#         empty dictionary {}\n",
    "\n",
    "# STEP 8: Read \"score_history.json\" to populate initial \"scores\" dict, \n",
    "#         instead of the empty dict created in STEP 4.\n",
    "\n",
    "# STEP 9: Calculate average score for that player\n",
    "\n",
    "# STEP 10: At the end of the program, write the updated scores from dict\n",
    "#         into the \"scores_history.json\" file\n",
    "\n",
    "# STEP 11: That's it, now you have a program that helps you keep track \n",
    "#          of player scores permanently."
   ]
  },
  {
   "cell_type": "markdown",
   "metadata": {},
   "source": [
    "**Challenge Problems**\n",
    "\n",
    "1. Interact with a more substantial JSON file. Load fifa19.json and write a program that looks up data from it. For a greater challenge, see if you can \"update\" the data or do some statistical analysis.\n",
    "2. Write a faster prime number finder. Given a number N, it reports how many primes are \\<N. It _saves_ its results, so if we ask about N again it can just return the answer rather than recalculating. (This is called \"memoization\".)\n",
    "3. Write a basic auto-complete tool. It should ask a user to enter a string. If the string does not end with \"\\*\", display it and add it to a JSON record of common strings. If the given string DOES end with \"\\*\", determine the most likely matching string in the record (how?) and display that."
   ]
  },
  {
   "cell_type": "code",
   "execution_count": null,
   "metadata": {},
   "outputs": [],
   "source": []
  }
 ],
 "metadata": {
  "kernelspec": {
   "display_name": "Python 3",
   "language": "python",
   "name": "python3"
  },
  "language_info": {
   "codemirror_mode": {
    "name": "ipython",
    "version": 3
   },
   "file_extension": ".py",
   "mimetype": "text/x-python",
   "name": "python",
   "nbconvert_exporter": "python",
   "pygments_lexer": "ipython3",
   "version": "3.7.4"
  }
 },
 "nbformat": 4,
 "nbformat_minor": 4
}
