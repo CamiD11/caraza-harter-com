{
 "cells": [
  {
   "cell_type": "markdown",
   "metadata": {},
   "source": [
    "# Outline for Wednesday, April 14\n",
    "## Databases 1 - SQL\n",
    "\n",
    "You will be able to:\n",
    " - Explain how a database is different from a CSV file or a JSON file\n",
    " - Use SQLite to connect to a database and pandas to query it\n",
    " - Write basic queries on a database using SELECT, FROM, WHERE, ORDER BY, and LIMIT\n",
    " \n",
    "Vocabulary:\n",
    " - query\n",
    " - schema\n",
    " \n",
    "Useful modules:\n",
    " - sqlite3"
   ]
  },
  {
   "cell_type": "markdown",
   "metadata": {},
   "source": [
    "## What aren't we going to cover?\n",
    "\n",
    " - Schema design. (Changing the tables/columns and the relationships between them.)\n",
    " - Adding/removing rows from a database.\n",
    " - Concurrency. (Complications from multiple people querying the database at the same time.)\n",
    " - Performance.\n",
    " - Joins. (Combining multiple tables with related information.)\n",
    " \n",
    "We are treating the database as a fixed object and giving you the tools necessary to interact with it."
   ]
  },
  {
   "cell_type": "markdown",
   "metadata": {},
   "source": [
    "## Databases and SQL\n",
    "\n",
    "SQL == Structured Query Language\n",
    "\n",
    "What is a query?\n",
    " - Request for specific data from a database\n",
    " - Like a function call - query will have some parameter-like pieces that say what we want, and the query will return the data that we are looking for\n",
    " \n",
    "Why use a database rather than CSV/JSON?\n",
    "Database properties:\n",
    " - Multiple named tables\n",
    " - Columns always named\n",
    " - Enforced data types for each column (CSV had everything as a string)\n",
    " - Multiple users can write to the database at the same time\n",
    " - Supports queries\n",
    " - Steeper learning curve\n",
    " \n",
    "Popular SQL Databases (Mostly work the same)\n",
    " - SQL Server\n",
    " - Oracle\n",
    " - MySQL\n",
    " - PostgreSQL\n",
    " - SQLite <-- We will use this one because you already have the sqlite3 module"
   ]
  },
  {
   "cell_type": "markdown",
   "metadata": {},
   "source": [
    "# Exercise: Madison bus routes in database form!\n",
    "\n",
    "You will need to download the bus.db file and put it in the same directory as your notebook"
   ]
  },
  {
   "cell_type": "markdown",
   "metadata": {},
   "source": [
    "## Database connection"
   ]
  },
  {
   "cell_type": "code",
   "execution_count": 12,
   "metadata": {},
   "outputs": [],
   "source": [
    "import sqlite3\n",
    "import pandas as pd\n",
    "import os"
   ]
  },
  {
   "cell_type": "markdown",
   "metadata": {},
   "source": [
    "## Typo example - bussssss.db"
   ]
  },
  {
   "cell_type": "code",
   "execution_count": 9,
   "metadata": {},
   "outputs": [],
   "source": [
    "conn = sqlite3.connect(\"busssss.db\") #connect takes one argument: a filename"
   ]
  },
  {
   "cell_type": "markdown",
   "metadata": {},
   "source": [
    "### pd.read_sql(\"QUERY\", CONNECTION)\n",
    "* Query: SELECT * FROM sqlite_master"
   ]
  },
  {
   "cell_type": "code",
   "execution_count": 10,
   "metadata": {},
   "outputs": [
    {
     "data": {
      "text/html": [
       "<div>\n",
       "<style scoped>\n",
       "    .dataframe tbody tr th:only-of-type {\n",
       "        vertical-align: middle;\n",
       "    }\n",
       "\n",
       "    .dataframe tbody tr th {\n",
       "        vertical-align: top;\n",
       "    }\n",
       "\n",
       "    .dataframe thead th {\n",
       "        text-align: right;\n",
       "    }\n",
       "</style>\n",
       "<table border=\"1\" class=\"dataframe\">\n",
       "  <thead>\n",
       "    <tr style=\"text-align: right;\">\n",
       "      <th></th>\n",
       "      <th>type</th>\n",
       "      <th>name</th>\n",
       "      <th>tbl_name</th>\n",
       "      <th>rootpage</th>\n",
       "      <th>sql</th>\n",
       "    </tr>\n",
       "  </thead>\n",
       "  <tbody>\n",
       "  </tbody>\n",
       "</table>\n",
       "</div>"
      ],
      "text/plain": [
       "Empty DataFrame\n",
       "Columns: [type, name, tbl_name, rootpage, sql]\n",
       "Index: []"
      ]
     },
     "execution_count": 10,
     "metadata": {},
     "output_type": "execute_result"
    }
   ],
   "source": [
    "# read_sql has two parameters: QUERY (str), connection (made with sqlite3.connect())\n",
    "# SQL is (mostly) not case sensitive\n",
    "df = pd.read_sql(\"select * from sqlite_master\", conn)\n",
    "df"
   ]
  },
  {
   "cell_type": "markdown",
   "metadata": {},
   "source": [
    "### Let's close this bad connection"
   ]
  },
  {
   "cell_type": "code",
   "execution_count": 11,
   "metadata": {},
   "outputs": [],
   "source": [
    "conn.close()"
   ]
  },
  {
   "cell_type": "markdown",
   "metadata": {},
   "source": [
    "### Now let's open the correct bus.db"
   ]
  },
  {
   "cell_type": "code",
   "execution_count": 13,
   "metadata": {},
   "outputs": [
    {
     "data": {
      "text/plain": [
       "<sqlite3.Connection at 0x214621f4b90>"
      ]
     },
     "execution_count": 13,
     "metadata": {},
     "output_type": "execute_result"
    }
   ],
   "source": [
    "path = \"bus.db\"\n",
    "assert os.path.exists(path)\n",
    "conn = sqlite3.connect(path)\n",
    "conn"
   ]
  },
  {
   "cell_type": "code",
   "execution_count": 14,
   "metadata": {},
   "outputs": [
    {
     "data": {
      "text/html": [
       "<div>\n",
       "<style scoped>\n",
       "    .dataframe tbody tr th:only-of-type {\n",
       "        vertical-align: middle;\n",
       "    }\n",
       "\n",
       "    .dataframe tbody tr th {\n",
       "        vertical-align: top;\n",
       "    }\n",
       "\n",
       "    .dataframe thead th {\n",
       "        text-align: right;\n",
       "    }\n",
       "</style>\n",
       "<table border=\"1\" class=\"dataframe\">\n",
       "  <thead>\n",
       "    <tr style=\"text-align: right;\">\n",
       "      <th></th>\n",
       "      <th>type</th>\n",
       "      <th>name</th>\n",
       "      <th>tbl_name</th>\n",
       "      <th>rootpage</th>\n",
       "      <th>sql</th>\n",
       "    </tr>\n",
       "  </thead>\n",
       "  <tbody>\n",
       "    <tr>\n",
       "      <th>0</th>\n",
       "      <td>table</td>\n",
       "      <td>boarding</td>\n",
       "      <td>boarding</td>\n",
       "      <td>2</td>\n",
       "      <td>CREATE TABLE \"boarding\" (\\n\"index\" INTEGER,\\n ...</td>\n",
       "    </tr>\n",
       "    <tr>\n",
       "      <th>1</th>\n",
       "      <td>index</td>\n",
       "      <td>ix_boarding_index</td>\n",
       "      <td>boarding</td>\n",
       "      <td>3</td>\n",
       "      <td>CREATE INDEX \"ix_boarding_index\"ON \"boarding\" ...</td>\n",
       "    </tr>\n",
       "    <tr>\n",
       "      <th>2</th>\n",
       "      <td>table</td>\n",
       "      <td>routes</td>\n",
       "      <td>routes</td>\n",
       "      <td>55</td>\n",
       "      <td>CREATE TABLE \"routes\" (\\n\"index\" INTEGER,\\n  \"...</td>\n",
       "    </tr>\n",
       "    <tr>\n",
       "      <th>3</th>\n",
       "      <td>index</td>\n",
       "      <td>ix_routes_index</td>\n",
       "      <td>routes</td>\n",
       "      <td>57</td>\n",
       "      <td>CREATE INDEX \"ix_routes_index\"ON \"routes\" (\"in...</td>\n",
       "    </tr>\n",
       "  </tbody>\n",
       "</table>\n",
       "</div>"
      ],
      "text/plain": [
       "    type               name  tbl_name  rootpage  \\\n",
       "0  table           boarding  boarding         2   \n",
       "1  index  ix_boarding_index  boarding         3   \n",
       "2  table             routes    routes        55   \n",
       "3  index    ix_routes_index    routes        57   \n",
       "\n",
       "                                                 sql  \n",
       "0  CREATE TABLE \"boarding\" (\\n\"index\" INTEGER,\\n ...  \n",
       "1  CREATE INDEX \"ix_boarding_index\"ON \"boarding\" ...  \n",
       "2  CREATE TABLE \"routes\" (\\n\"index\" INTEGER,\\n  \"...  \n",
       "3  CREATE INDEX \"ix_routes_index\"ON \"routes\" (\"in...  "
      ]
     },
     "execution_count": 14,
     "metadata": {},
     "output_type": "execute_result"
    }
   ],
   "source": [
    "df = pd.read_sql(\"select * from sqlite_master\", conn)\n",
    "df"
   ]
  },
  {
   "cell_type": "markdown",
   "metadata": {},
   "source": [
    "### Extract sql column from the DataFrame"
   ]
  },
  {
   "cell_type": "code",
   "execution_count": 15,
   "metadata": {},
   "outputs": [
    {
     "data": {
      "text/plain": [
       "0    CREATE TABLE \"boarding\" (\\n\"index\" INTEGER,\\n ...\n",
       "1    CREATE INDEX \"ix_boarding_index\"ON \"boarding\" ...\n",
       "2    CREATE TABLE \"routes\" (\\n\"index\" INTEGER,\\n  \"...\n",
       "3    CREATE INDEX \"ix_routes_index\"ON \"routes\" (\"in...\n",
       "Name: sql, dtype: object"
      ]
     },
     "execution_count": 15,
     "metadata": {},
     "output_type": "execute_result"
    }
   ],
   "source": [
    "df[\"sql\"]"
   ]
  },
  {
   "cell_type": "markdown",
   "metadata": {},
   "source": [
    "### Let's iterate over df[\"sql\"]"
   ]
  },
  {
   "cell_type": "code",
   "execution_count": 16,
   "metadata": {},
   "outputs": [
    {
     "name": "stdout",
     "output_type": "stream",
     "text": [
      "CREATE TABLE \"boarding\" (\n",
      "\"index\" INTEGER,\n",
      "  \"StopID\" INTEGER,\n",
      "  \"Route\" INTEGER,\n",
      "  \"Lat\" REAL,\n",
      "  \"Lon\" REAL,\n",
      "  \"DailyBoardings\" REAL\n",
      ")\n",
      "CREATE INDEX \"ix_boarding_index\"ON \"boarding\" (\"index\")\n",
      "CREATE TABLE \"routes\" (\n",
      "\"index\" INTEGER,\n",
      "  \"OBJECTID\" INTEGER,\n",
      "  \"trips_routes_route_id\" INTEGER,\n",
      "  \"route_short_name\" INTEGER,\n",
      "  \"route_url\" TEXT,\n",
      "  \"ShapeSTLength\" REAL\n",
      ")\n",
      "CREATE INDEX \"ix_routes_index\"ON \"routes\" (\"index\")\n"
     ]
    }
   ],
   "source": [
    "for code in df[\"sql\"]:\n",
    "    print(code)"
   ]
  },
  {
   "cell_type": "markdown",
   "metadata": {},
   "source": [
    "### Query: SELECT * FROM \\<table_name\\>"
   ]
  },
  {
   "cell_type": "code",
   "execution_count": 17,
   "metadata": {},
   "outputs": [
    {
     "data": {
      "text/html": [
       "<div>\n",
       "<style scoped>\n",
       "    .dataframe tbody tr th:only-of-type {\n",
       "        vertical-align: middle;\n",
       "    }\n",
       "\n",
       "    .dataframe tbody tr th {\n",
       "        vertical-align: top;\n",
       "    }\n",
       "\n",
       "    .dataframe thead th {\n",
       "        text-align: right;\n",
       "    }\n",
       "</style>\n",
       "<table border=\"1\" class=\"dataframe\">\n",
       "  <thead>\n",
       "    <tr style=\"text-align: right;\">\n",
       "      <th></th>\n",
       "      <th>index</th>\n",
       "      <th>OBJECTID</th>\n",
       "      <th>trips_routes_route_id</th>\n",
       "      <th>route_short_name</th>\n",
       "      <th>route_url</th>\n",
       "      <th>ShapeSTLength</th>\n",
       "    </tr>\n",
       "  </thead>\n",
       "  <tbody>\n",
       "    <tr>\n",
       "      <th>0</th>\n",
       "      <td>0</td>\n",
       "      <td>63</td>\n",
       "      <td>8052</td>\n",
       "      <td>1</td>\n",
       "      <td>http://www.cityofmadison.com/Metro/schedules/R...</td>\n",
       "      <td>32379.426524</td>\n",
       "    </tr>\n",
       "    <tr>\n",
       "      <th>1</th>\n",
       "      <td>1</td>\n",
       "      <td>64</td>\n",
       "      <td>8053</td>\n",
       "      <td>2</td>\n",
       "      <td>http://www.cityofmadison.com/Metro/schedules/R...</td>\n",
       "      <td>96906.965571</td>\n",
       "    </tr>\n",
       "    <tr>\n",
       "      <th>2</th>\n",
       "      <td>2</td>\n",
       "      <td>65</td>\n",
       "      <td>8054</td>\n",
       "      <td>3</td>\n",
       "      <td>http://www.cityofmadison.com/Metro/schedules/R...</td>\n",
       "      <td>76436.645644</td>\n",
       "    </tr>\n",
       "    <tr>\n",
       "      <th>3</th>\n",
       "      <td>3</td>\n",
       "      <td>66</td>\n",
       "      <td>8055</td>\n",
       "      <td>4</td>\n",
       "      <td>http://www.cityofmadison.com/Metro/schedules/R...</td>\n",
       "      <td>64774.133485</td>\n",
       "    </tr>\n",
       "    <tr>\n",
       "      <th>4</th>\n",
       "      <td>4</td>\n",
       "      <td>67</td>\n",
       "      <td>8056</td>\n",
       "      <td>5</td>\n",
       "      <td>http://www.cityofmadison.com/Metro/schedules/R...</td>\n",
       "      <td>61216.722662</td>\n",
       "    </tr>\n",
       "    <tr>\n",
       "      <th>...</th>\n",
       "      <td>...</td>\n",
       "      <td>...</td>\n",
       "      <td>...</td>\n",
       "      <td>...</td>\n",
       "      <td>...</td>\n",
       "      <td>...</td>\n",
       "    </tr>\n",
       "    <tr>\n",
       "      <th>57</th>\n",
       "      <td>57</td>\n",
       "      <td>120</td>\n",
       "      <td>8109</td>\n",
       "      <td>78</td>\n",
       "      <td>http://www.cityofmadison.com/Metro/schedules/R...</td>\n",
       "      <td>95826.277218</td>\n",
       "    </tr>\n",
       "    <tr>\n",
       "      <th>58</th>\n",
       "      <td>58</td>\n",
       "      <td>121</td>\n",
       "      <td>8110</td>\n",
       "      <td>80</td>\n",
       "      <td>http://www.cityofmadison.com/Metro/schedules/R...</td>\n",
       "      <td>31831.761009</td>\n",
       "    </tr>\n",
       "    <tr>\n",
       "      <th>59</th>\n",
       "      <td>59</td>\n",
       "      <td>122</td>\n",
       "      <td>8111</td>\n",
       "      <td>81</td>\n",
       "      <td>http://www.cityofmadison.com/Metro/schedules/R...</td>\n",
       "      <td>26536.800591</td>\n",
       "    </tr>\n",
       "    <tr>\n",
       "      <th>60</th>\n",
       "      <td>60</td>\n",
       "      <td>123</td>\n",
       "      <td>8112</td>\n",
       "      <td>82</td>\n",
       "      <td>http://www.cityofmadison.com/Metro/schedules/R...</td>\n",
       "      <td>23287.980173</td>\n",
       "    </tr>\n",
       "    <tr>\n",
       "      <th>61</th>\n",
       "      <td>61</td>\n",
       "      <td>124</td>\n",
       "      <td>8113</td>\n",
       "      <td>84</td>\n",
       "      <td>http://www.cityofmadison.com/Metro/schedules/R...</td>\n",
       "      <td>20681.958334</td>\n",
       "    </tr>\n",
       "  </tbody>\n",
       "</table>\n",
       "<p>62 rows × 6 columns</p>\n",
       "</div>"
      ],
      "text/plain": [
       "    index  OBJECTID  trips_routes_route_id  route_short_name  \\\n",
       "0       0        63                   8052                 1   \n",
       "1       1        64                   8053                 2   \n",
       "2       2        65                   8054                 3   \n",
       "3       3        66                   8055                 4   \n",
       "4       4        67                   8056                 5   \n",
       "..    ...       ...                    ...               ...   \n",
       "57     57       120                   8109                78   \n",
       "58     58       121                   8110                80   \n",
       "59     59       122                   8111                81   \n",
       "60     60       123                   8112                82   \n",
       "61     61       124                   8113                84   \n",
       "\n",
       "                                            route_url  ShapeSTLength  \n",
       "0   http://www.cityofmadison.com/Metro/schedules/R...   32379.426524  \n",
       "1   http://www.cityofmadison.com/Metro/schedules/R...   96906.965571  \n",
       "2   http://www.cityofmadison.com/Metro/schedules/R...   76436.645644  \n",
       "3   http://www.cityofmadison.com/Metro/schedules/R...   64774.133485  \n",
       "4   http://www.cityofmadison.com/Metro/schedules/R...   61216.722662  \n",
       "..                                                ...            ...  \n",
       "57  http://www.cityofmadison.com/Metro/schedules/R...   95826.277218  \n",
       "58  http://www.cityofmadison.com/Metro/schedules/R...   31831.761009  \n",
       "59  http://www.cityofmadison.com/Metro/schedules/R...   26536.800591  \n",
       "60  http://www.cityofmadison.com/Metro/schedules/R...   23287.980173  \n",
       "61  http://www.cityofmadison.com/Metro/schedules/R...   20681.958334  \n",
       "\n",
       "[62 rows x 6 columns]"
      ]
     },
     "execution_count": 17,
     "metadata": {},
     "output_type": "execute_result"
    }
   ],
   "source": [
    "pd.read_sql(\"SELECT * FROM routes\", conn)"
   ]
  },
  {
   "cell_type": "code",
   "execution_count": 18,
   "metadata": {},
   "outputs": [
    {
     "data": {
      "text/html": [
       "<div>\n",
       "<style scoped>\n",
       "    .dataframe tbody tr th:only-of-type {\n",
       "        vertical-align: middle;\n",
       "    }\n",
       "\n",
       "    .dataframe tbody tr th {\n",
       "        vertical-align: top;\n",
       "    }\n",
       "\n",
       "    .dataframe thead th {\n",
       "        text-align: right;\n",
       "    }\n",
       "</style>\n",
       "<table border=\"1\" class=\"dataframe\">\n",
       "  <thead>\n",
       "    <tr style=\"text-align: right;\">\n",
       "      <th></th>\n",
       "      <th>index</th>\n",
       "      <th>OBJECTID</th>\n",
       "      <th>trips_routes_route_id</th>\n",
       "      <th>route_short_name</th>\n",
       "      <th>route_url</th>\n",
       "      <th>ShapeSTLength</th>\n",
       "    </tr>\n",
       "  </thead>\n",
       "  <tbody>\n",
       "    <tr>\n",
       "      <th>0</th>\n",
       "      <td>0</td>\n",
       "      <td>63</td>\n",
       "      <td>8052</td>\n",
       "      <td>1</td>\n",
       "      <td>http://www.cityofmadison.com/Metro/schedules/R...</td>\n",
       "      <td>32379.426524</td>\n",
       "    </tr>\n",
       "    <tr>\n",
       "      <th>1</th>\n",
       "      <td>1</td>\n",
       "      <td>64</td>\n",
       "      <td>8053</td>\n",
       "      <td>2</td>\n",
       "      <td>http://www.cityofmadison.com/Metro/schedules/R...</td>\n",
       "      <td>96906.965571</td>\n",
       "    </tr>\n",
       "    <tr>\n",
       "      <th>2</th>\n",
       "      <td>2</td>\n",
       "      <td>65</td>\n",
       "      <td>8054</td>\n",
       "      <td>3</td>\n",
       "      <td>http://www.cityofmadison.com/Metro/schedules/R...</td>\n",
       "      <td>76436.645644</td>\n",
       "    </tr>\n",
       "    <tr>\n",
       "      <th>3</th>\n",
       "      <td>3</td>\n",
       "      <td>66</td>\n",
       "      <td>8055</td>\n",
       "      <td>4</td>\n",
       "      <td>http://www.cityofmadison.com/Metro/schedules/R...</td>\n",
       "      <td>64774.133485</td>\n",
       "    </tr>\n",
       "    <tr>\n",
       "      <th>4</th>\n",
       "      <td>4</td>\n",
       "      <td>67</td>\n",
       "      <td>8056</td>\n",
       "      <td>5</td>\n",
       "      <td>http://www.cityofmadison.com/Metro/schedules/R...</td>\n",
       "      <td>61216.722662</td>\n",
       "    </tr>\n",
       "    <tr>\n",
       "      <th>5</th>\n",
       "      <td>5</td>\n",
       "      <td>68</td>\n",
       "      <td>8057</td>\n",
       "      <td>6</td>\n",
       "      <td>http://www.cityofmadison.com/Metro/schedules/R...</td>\n",
       "      <td>151142.298370</td>\n",
       "    </tr>\n",
       "    <tr>\n",
       "      <th>6</th>\n",
       "      <td>6</td>\n",
       "      <td>69</td>\n",
       "      <td>8058</td>\n",
       "      <td>7</td>\n",
       "      <td>http://www.cityofmadison.com/Metro/schedules/R...</td>\n",
       "      <td>98617.005665</td>\n",
       "    </tr>\n",
       "    <tr>\n",
       "      <th>7</th>\n",
       "      <td>7</td>\n",
       "      <td>70</td>\n",
       "      <td>8059</td>\n",
       "      <td>8</td>\n",
       "      <td>http://www.cityofmadison.com/Metro/schedules/R...</td>\n",
       "      <td>56732.757385</td>\n",
       "    </tr>\n",
       "    <tr>\n",
       "      <th>8</th>\n",
       "      <td>8</td>\n",
       "      <td>71</td>\n",
       "      <td>8060</td>\n",
       "      <td>10</td>\n",
       "      <td>http://www.cityofmadison.com/Metro/schedules/R...</td>\n",
       "      <td>113468.940882</td>\n",
       "    </tr>\n",
       "    <tr>\n",
       "      <th>9</th>\n",
       "      <td>9</td>\n",
       "      <td>72</td>\n",
       "      <td>8061</td>\n",
       "      <td>11</td>\n",
       "      <td>http://www.cityofmadison.com/Metro/schedules/R...</td>\n",
       "      <td>131900.584375</td>\n",
       "    </tr>\n",
       "  </tbody>\n",
       "</table>\n",
       "</div>"
      ],
      "text/plain": [
       "   index  OBJECTID  trips_routes_route_id  route_short_name  \\\n",
       "0      0        63                   8052                 1   \n",
       "1      1        64                   8053                 2   \n",
       "2      2        65                   8054                 3   \n",
       "3      3        66                   8055                 4   \n",
       "4      4        67                   8056                 5   \n",
       "5      5        68                   8057                 6   \n",
       "6      6        69                   8058                 7   \n",
       "7      7        70                   8059                 8   \n",
       "8      8        71                   8060                10   \n",
       "9      9        72                   8061                11   \n",
       "\n",
       "                                           route_url  ShapeSTLength  \n",
       "0  http://www.cityofmadison.com/Metro/schedules/R...   32379.426524  \n",
       "1  http://www.cityofmadison.com/Metro/schedules/R...   96906.965571  \n",
       "2  http://www.cityofmadison.com/Metro/schedules/R...   76436.645644  \n",
       "3  http://www.cityofmadison.com/Metro/schedules/R...   64774.133485  \n",
       "4  http://www.cityofmadison.com/Metro/schedules/R...   61216.722662  \n",
       "5  http://www.cityofmadison.com/Metro/schedules/R...  151142.298370  \n",
       "6  http://www.cityofmadison.com/Metro/schedules/R...   98617.005665  \n",
       "7  http://www.cityofmadison.com/Metro/schedules/R...   56732.757385  \n",
       "8  http://www.cityofmadison.com/Metro/schedules/R...  113468.940882  \n",
       "9  http://www.cityofmadison.com/Metro/schedules/R...  131900.584375  "
      ]
     },
     "execution_count": 18,
     "metadata": {},
     "output_type": "execute_result"
    }
   ],
   "source": [
    "df = pd.read_sql(\"SELECT * FROM routes\", conn)\n",
    "df.head(10)"
   ]
  },
  {
   "cell_type": "markdown",
   "metadata": {},
   "source": [
    "### Adding LIMIT to the query\n",
    "* SELECT * FROM \\<table_name\\> LIMIT \\<num_of_rows\\>"
   ]
  },
  {
   "cell_type": "code",
   "execution_count": 19,
   "metadata": {},
   "outputs": [
    {
     "data": {
      "text/html": [
       "<div>\n",
       "<style scoped>\n",
       "    .dataframe tbody tr th:only-of-type {\n",
       "        vertical-align: middle;\n",
       "    }\n",
       "\n",
       "    .dataframe tbody tr th {\n",
       "        vertical-align: top;\n",
       "    }\n",
       "\n",
       "    .dataframe thead th {\n",
       "        text-align: right;\n",
       "    }\n",
       "</style>\n",
       "<table border=\"1\" class=\"dataframe\">\n",
       "  <thead>\n",
       "    <tr style=\"text-align: right;\">\n",
       "      <th></th>\n",
       "      <th>index</th>\n",
       "      <th>OBJECTID</th>\n",
       "      <th>trips_routes_route_id</th>\n",
       "      <th>route_short_name</th>\n",
       "      <th>route_url</th>\n",
       "      <th>ShapeSTLength</th>\n",
       "    </tr>\n",
       "  </thead>\n",
       "  <tbody>\n",
       "    <tr>\n",
       "      <th>0</th>\n",
       "      <td>0</td>\n",
       "      <td>63</td>\n",
       "      <td>8052</td>\n",
       "      <td>1</td>\n",
       "      <td>http://www.cityofmadison.com/Metro/schedules/R...</td>\n",
       "      <td>32379.426524</td>\n",
       "    </tr>\n",
       "    <tr>\n",
       "      <th>1</th>\n",
       "      <td>1</td>\n",
       "      <td>64</td>\n",
       "      <td>8053</td>\n",
       "      <td>2</td>\n",
       "      <td>http://www.cityofmadison.com/Metro/schedules/R...</td>\n",
       "      <td>96906.965571</td>\n",
       "    </tr>\n",
       "    <tr>\n",
       "      <th>2</th>\n",
       "      <td>2</td>\n",
       "      <td>65</td>\n",
       "      <td>8054</td>\n",
       "      <td>3</td>\n",
       "      <td>http://www.cityofmadison.com/Metro/schedules/R...</td>\n",
       "      <td>76436.645644</td>\n",
       "    </tr>\n",
       "    <tr>\n",
       "      <th>3</th>\n",
       "      <td>3</td>\n",
       "      <td>66</td>\n",
       "      <td>8055</td>\n",
       "      <td>4</td>\n",
       "      <td>http://www.cityofmadison.com/Metro/schedules/R...</td>\n",
       "      <td>64774.133485</td>\n",
       "    </tr>\n",
       "    <tr>\n",
       "      <th>4</th>\n",
       "      <td>4</td>\n",
       "      <td>67</td>\n",
       "      <td>8056</td>\n",
       "      <td>5</td>\n",
       "      <td>http://www.cityofmadison.com/Metro/schedules/R...</td>\n",
       "      <td>61216.722662</td>\n",
       "    </tr>\n",
       "    <tr>\n",
       "      <th>5</th>\n",
       "      <td>5</td>\n",
       "      <td>68</td>\n",
       "      <td>8057</td>\n",
       "      <td>6</td>\n",
       "      <td>http://www.cityofmadison.com/Metro/schedules/R...</td>\n",
       "      <td>151142.298370</td>\n",
       "    </tr>\n",
       "    <tr>\n",
       "      <th>6</th>\n",
       "      <td>6</td>\n",
       "      <td>69</td>\n",
       "      <td>8058</td>\n",
       "      <td>7</td>\n",
       "      <td>http://www.cityofmadison.com/Metro/schedules/R...</td>\n",
       "      <td>98617.005665</td>\n",
       "    </tr>\n",
       "    <tr>\n",
       "      <th>7</th>\n",
       "      <td>7</td>\n",
       "      <td>70</td>\n",
       "      <td>8059</td>\n",
       "      <td>8</td>\n",
       "      <td>http://www.cityofmadison.com/Metro/schedules/R...</td>\n",
       "      <td>56732.757385</td>\n",
       "    </tr>\n",
       "    <tr>\n",
       "      <th>8</th>\n",
       "      <td>8</td>\n",
       "      <td>71</td>\n",
       "      <td>8060</td>\n",
       "      <td>10</td>\n",
       "      <td>http://www.cityofmadison.com/Metro/schedules/R...</td>\n",
       "      <td>113468.940882</td>\n",
       "    </tr>\n",
       "    <tr>\n",
       "      <th>9</th>\n",
       "      <td>9</td>\n",
       "      <td>72</td>\n",
       "      <td>8061</td>\n",
       "      <td>11</td>\n",
       "      <td>http://www.cityofmadison.com/Metro/schedules/R...</td>\n",
       "      <td>131900.584375</td>\n",
       "    </tr>\n",
       "  </tbody>\n",
       "</table>\n",
       "</div>"
      ],
      "text/plain": [
       "   index  OBJECTID  trips_routes_route_id  route_short_name  \\\n",
       "0      0        63                   8052                 1   \n",
       "1      1        64                   8053                 2   \n",
       "2      2        65                   8054                 3   \n",
       "3      3        66                   8055                 4   \n",
       "4      4        67                   8056                 5   \n",
       "5      5        68                   8057                 6   \n",
       "6      6        69                   8058                 7   \n",
       "7      7        70                   8059                 8   \n",
       "8      8        71                   8060                10   \n",
       "9      9        72                   8061                11   \n",
       "\n",
       "                                           route_url  ShapeSTLength  \n",
       "0  http://www.cityofmadison.com/Metro/schedules/R...   32379.426524  \n",
       "1  http://www.cityofmadison.com/Metro/schedules/R...   96906.965571  \n",
       "2  http://www.cityofmadison.com/Metro/schedules/R...   76436.645644  \n",
       "3  http://www.cityofmadison.com/Metro/schedules/R...   64774.133485  \n",
       "4  http://www.cityofmadison.com/Metro/schedules/R...   61216.722662  \n",
       "5  http://www.cityofmadison.com/Metro/schedules/R...  151142.298370  \n",
       "6  http://www.cityofmadison.com/Metro/schedules/R...   98617.005665  \n",
       "7  http://www.cityofmadison.com/Metro/schedules/R...   56732.757385  \n",
       "8  http://www.cityofmadison.com/Metro/schedules/R...  113468.940882  \n",
       "9  http://www.cityofmadison.com/Metro/schedules/R...  131900.584375  "
      ]
     },
     "execution_count": 19,
     "metadata": {},
     "output_type": "execute_result"
    }
   ],
   "source": [
    "df = pd.read_sql(\"SELECT * FROM routes LIMIT 10\", conn)\n",
    "df"
   ]
  },
  {
   "cell_type": "markdown",
   "metadata": {},
   "source": [
    "# How many people get on a bus in Madison every day?\n",
    "- we are interested in boarding table to answer this question"
   ]
  },
  {
   "cell_type": "code",
   "execution_count": 21,
   "metadata": {},
   "outputs": [
    {
     "data": {
      "text/plain": [
       "55987.18"
      ]
     },
     "execution_count": 21,
     "metadata": {},
     "output_type": "execute_result"
    }
   ],
   "source": [
    "# We want DailyBoardings from boarding\n",
    "qry = \"SELECT DailyBoardings FROM boarding\"\n",
    "df  = pd.read_sql(qry, conn)\n",
    "daily_riders = df[\"DailyBoardings\"]\n",
    "daily_riders.sum()"
   ]
  },
  {
   "cell_type": "code",
   "execution_count": 22,
   "metadata": {},
   "outputs": [
    {
     "data": {
      "text/html": [
       "<div>\n",
       "<style scoped>\n",
       "    .dataframe tbody tr th:only-of-type {\n",
       "        vertical-align: middle;\n",
       "    }\n",
       "\n",
       "    .dataframe tbody tr th {\n",
       "        vertical-align: top;\n",
       "    }\n",
       "\n",
       "    .dataframe thead th {\n",
       "        text-align: right;\n",
       "    }\n",
       "</style>\n",
       "<table border=\"1\" class=\"dataframe\">\n",
       "  <thead>\n",
       "    <tr style=\"text-align: right;\">\n",
       "      <th></th>\n",
       "      <th>SUM(DailyBoardings)</th>\n",
       "    </tr>\n",
       "  </thead>\n",
       "  <tbody>\n",
       "    <tr>\n",
       "      <th>0</th>\n",
       "      <td>55987.18</td>\n",
       "    </tr>\n",
       "  </tbody>\n",
       "</table>\n",
       "</div>"
      ],
      "text/plain": [
       "   SUM(DailyBoardings)\n",
       "0             55987.18"
      ]
     },
     "execution_count": 22,
     "metadata": {},
     "output_type": "execute_result"
    }
   ],
   "source": [
    "qry2 = \"SELECT SUM(DailyBoardings) FROM boarding\"\n",
    "pd.read_sql(qry2, conn)"
   ]
  },
  {
   "cell_type": "markdown",
   "metadata": {},
   "source": [
    "# Go West - which bus should I take to go as far west as possible?\n",
    "- Smallest Longitude"
   ]
  },
  {
   "cell_type": "code",
   "execution_count": 26,
   "metadata": {},
   "outputs": [
    {
     "data": {
      "text/html": [
       "<div>\n",
       "<style scoped>\n",
       "    .dataframe tbody tr th:only-of-type {\n",
       "        vertical-align: middle;\n",
       "    }\n",
       "\n",
       "    .dataframe tbody tr th {\n",
       "        vertical-align: top;\n",
       "    }\n",
       "\n",
       "    .dataframe thead th {\n",
       "        text-align: right;\n",
       "    }\n",
       "</style>\n",
       "<table border=\"1\" class=\"dataframe\">\n",
       "  <thead>\n",
       "    <tr style=\"text-align: right;\">\n",
       "      <th></th>\n",
       "      <th>Route</th>\n",
       "      <th>Lon</th>\n",
       "    </tr>\n",
       "  </thead>\n",
       "  <tbody>\n",
       "    <tr>\n",
       "      <th>3489</th>\n",
       "      <td>55</td>\n",
       "      <td>-89.564243</td>\n",
       "    </tr>\n",
       "    <tr>\n",
       "      <th>3490</th>\n",
       "      <td>75</td>\n",
       "      <td>-89.564243</td>\n",
       "    </tr>\n",
       "  </tbody>\n",
       "</table>\n",
       "</div>"
      ],
      "text/plain": [
       "      Route        Lon\n",
       "3489     55 -89.564243\n",
       "3490     75 -89.564243"
      ]
     },
     "execution_count": 26,
     "metadata": {},
     "output_type": "execute_result"
    }
   ],
   "source": [
    "query = \"SELECT Route,Lon FROM boarding\"\n",
    "df = pd.read_sql(query, conn)\n",
    "df.loc[df[\"Lon\"] == df[\"Lon\"].min()]"
   ]
  },
  {
   "cell_type": "code",
   "execution_count": 27,
   "metadata": {},
   "outputs": [
    {
     "data": {
      "text/html": [
       "<div>\n",
       "<style scoped>\n",
       "    .dataframe tbody tr th:only-of-type {\n",
       "        vertical-align: middle;\n",
       "    }\n",
       "\n",
       "    .dataframe tbody tr th {\n",
       "        vertical-align: top;\n",
       "    }\n",
       "\n",
       "    .dataframe thead th {\n",
       "        text-align: right;\n",
       "    }\n",
       "</style>\n",
       "<table border=\"1\" class=\"dataframe\">\n",
       "  <thead>\n",
       "    <tr style=\"text-align: right;\">\n",
       "      <th></th>\n",
       "      <th>index</th>\n",
       "      <th>StopID</th>\n",
       "      <th>Route</th>\n",
       "      <th>Lat</th>\n",
       "      <th>Lon</th>\n",
       "      <th>DailyBoardings</th>\n",
       "    </tr>\n",
       "  </thead>\n",
       "  <tbody>\n",
       "    <tr>\n",
       "      <th>0</th>\n",
       "      <td>3489</td>\n",
       "      <td>4400</td>\n",
       "      <td>55</td>\n",
       "      <td>42.995476</td>\n",
       "      <td>-89.564243</td>\n",
       "      <td>59.31</td>\n",
       "    </tr>\n",
       "    <tr>\n",
       "      <th>1</th>\n",
       "      <td>3490</td>\n",
       "      <td>4400</td>\n",
       "      <td>75</td>\n",
       "      <td>42.995476</td>\n",
       "      <td>-89.564243</td>\n",
       "      <td>168.50</td>\n",
       "    </tr>\n",
       "    <tr>\n",
       "      <th>2</th>\n",
       "      <td>3529</td>\n",
       "      <td>4559</td>\n",
       "      <td>55</td>\n",
       "      <td>42.987673</td>\n",
       "      <td>-89.553340</td>\n",
       "      <td>0.92</td>\n",
       "    </tr>\n",
       "  </tbody>\n",
       "</table>\n",
       "</div>"
      ],
      "text/plain": [
       "   index  StopID  Route        Lat        Lon  DailyBoardings\n",
       "0   3489    4400     55  42.995476 -89.564243           59.31\n",
       "1   3490    4400     75  42.995476 -89.564243          168.50\n",
       "2   3529    4559     55  42.987673 -89.553340            0.92"
      ]
     },
     "execution_count": 27,
     "metadata": {},
     "output_type": "execute_result"
    }
   ],
   "source": [
    "query2 = \"SELECT * FROM boarding ORDER BY Lon ASC LIMIT 3\"\n",
    "\n",
    "pd.read_sql(query2, conn)"
   ]
  },
  {
   "cell_type": "code",
   "execution_count": 28,
   "metadata": {},
   "outputs": [],
   "source": [
    "conn.close()"
   ]
  },
  {
   "cell_type": "code",
   "execution_count": null,
   "metadata": {},
   "outputs": [],
   "source": []
  }
 ],
 "metadata": {
  "kernelspec": {
   "display_name": "Python 3",
   "language": "python",
   "name": "python3"
  },
  "language_info": {
   "codemirror_mode": {
    "name": "ipython",
    "version": 3
   },
   "file_extension": ".py",
   "mimetype": "text/x-python",
   "name": "python",
   "nbconvert_exporter": "python",
   "pygments_lexer": "ipython3",
   "version": "3.7.4"
  }
 },
 "nbformat": 4,
 "nbformat_minor": 4
}
