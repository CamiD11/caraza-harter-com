{
 "cells": [
  {
   "cell_type": "markdown",
   "metadata": {},
   "source": [
    "**Outline for Friday, February 19**\n",
    "\n",
    "Iteration (part 2)\n",
    "\n",
    "You will be able to:\n",
    " - Use the `break` statement in loops\n",
    " - Use the `continue` statement in loops\n",
    " - Reason about control flow with these statements\n",
    " - Reason about control flow with break/continue and _nested_ loops\n",
    " \n",
    "Definitions:\n",
    " - Design pattern\n",
    " \n",
    "Reminders:\n",
    "- Exam 1 on Monday. You will take it through Canvas.\n",
    "- We have interactive exercises and a worksheet for you to use to help you practice."
   ]
  },
  {
   "cell_type": "markdown",
   "metadata": {},
   "source": [
    "Remember our **why** question from Wednesday?\n",
    "\n",
    "**Why iteration?**\n",
    "- I have a task that I want to do a certain number of times (>3)\n",
    "- I have a task that I want to repeat UNTIL some condition is met\n",
    "\n",
    "Design pattern: The abstracted code that does the generic version of a use case's task.\n",
    "- Idea here is to strip away all of the specifics of the scenario and just think about the control flow and the code structure itself\n",
    "- Each pattern is a tool in your \"toolbox\""
   ]
  },
  {
   "cell_type": "code",
   "execution_count": 2,
   "metadata": {},
   "outputs": [
    {
     "name": "stdout",
     "output_type": "stream",
     "text": [
      "Do the thing I want to repeat.\n",
      "Do the thing I want to repeat.\n",
      "Do the thing I want to repeat.\n",
      "Do the thing I want to repeat.\n",
      "Do the thing I want to repeat.\n",
      "Do the thing I want to repeat.\n",
      "Do the thing I want to repeat.\n",
      "Do the thing I want to repeat.\n",
      "Do the thing I want to repeat.\n",
      "Do the thing I want to repeat.\n"
     ]
    }
   ],
   "source": [
    "#Design pattern for the use case of repeating a certain number of times\n",
    "num_times = 10\n",
    "counter = 0 #initialize the counter\n",
    "while counter < num_times: #Check the condition\n",
    "    print(\"Do the thing I want to repeat.\") #\"Body\"\n",
    "    counter += 1 #Increment the loop counter"
   ]
  },
  {
   "cell_type": "code",
   "execution_count": null,
   "metadata": {},
   "outputs": [],
   "source": [
    "#Design pattern for the use case of repeating a certain number of times\n",
    "i = 0 #initialize the counter\n",
    "while i < 10: #Check the condition\n",
    "    print(\"Do the thing I want to repeat.\") #\"Body\"\n",
    "    i += 1 #Increment the loop counter"
   ]
  },
  {
   "cell_type": "code",
   "execution_count": null,
   "metadata": {},
   "outputs": [],
   "source": [
    "#Design pattern for the use case of repeat while contition is met\n",
    "control_variable = True\n",
    "while control_variable == True:\n",
    "    print(\"Do the thing I want to repeat.\") #\"Body\"\n",
    "    #Something in the body should give me a clue about how to update the control variable\n",
    "    control_variable = False #Update my control variable"
   ]
  },
  {
   "cell_type": "markdown",
   "metadata": {},
   "source": [
    "**Break**\n",
    "\n",
    "What does it do?\n",
    "- Breaks us out of a loop (immediately - without having to check the condition again)\n",
    "\n",
    "Task: Is there a prime number in a range of numbers?\n",
    "\n",
    "Use case: Searching for something. We can exit the loop immediately if we find it."
   ]
  },
  {
   "cell_type": "code",
   "execution_count": 3,
   "metadata": {},
   "outputs": [],
   "source": [
    "#Import my version of the prime_checker we talked about on Wednesday\n",
    "#Try this with your own version first!\n",
    "from prime_checker import is_prime"
   ]
  },
  {
   "cell_type": "code",
   "execution_count": 8,
   "metadata": {},
   "outputs": [],
   "source": [
    "def is_prime_between(low,high):\n",
    "    \"\"\"If there is a prime # between low and high, print that there is one and print an example.\"\"\"\n",
    "    current = low+1\n",
    "    print(\"Before the loop\")\n",
    "    while current < high:\n",
    "        #Body\n",
    "        #Check whether current is prime\n",
    "        if is_prime(current):\n",
    "            print(\"There is a prime!\",current)\n",
    "            break #Skip out of the current (inner) loop\n",
    "        current += 1 #Increment the loop counter\n",
    "    print(\"After the loop\") #Once the break statement triggers, this is the next line executed"
   ]
  },
  {
   "cell_type": "code",
   "execution_count": 9,
   "metadata": {},
   "outputs": [
    {
     "name": "stdout",
     "output_type": "stream",
     "text": [
      "Before the loop\n",
      "There is a prime! 7\n",
      "After the loop\n"
     ]
    }
   ],
   "source": [
    "is_prime_between(5,15)"
   ]
  },
  {
   "cell_type": "markdown",
   "metadata": {},
   "source": [
    "**Continue**\n",
    "\n",
    "What it does:\n",
    "- Exit the current \"pass\" through the loop by going back to the condition line\n",
    "\n",
    "Task: Keep a running total from user input and skip over bad inputs\n",
    "\n",
    "Use case: Skip bad input (also known as \"sanitizing inputs\")"
   ]
  },
  {
   "cell_type": "code",
   "execution_count": null,
   "metadata": {},
   "outputs": [],
   "source": [
    "#Get some numbers from the user.\n",
    "#Only positive numbers are valid - skip any negative numbers\n",
    "#Do this until user inputs `q`\n",
    "user_input = input(\"Enter a positive integer or 'q'\")\n",
    "total = 0\n",
    "while user_input != 'q':\n",
    "    input_num = int(user_input)\n",
    "    if input_num < 0: #Input sanitizing\n",
    "        #Skip! Bad input\n",
    "        continue\n",
    "    total += input_num\n",
    "    user_input = input(\"Enter a positive integer or 'q'\")\n",
    "    \n",
    "#DANGER!!!!!\n",
    "#This version has a sneaky infinite loop\n",
    "#If we get bad input, we `continue` past the line that updates user_input"
   ]
  },
  {
   "cell_type": "code",
   "execution_count": 11,
   "metadata": {},
   "outputs": [
    {
     "name": "stdout",
     "output_type": "stream",
     "text": [
      "Enter a positive integer or 'q'-5\n",
      "Enter a positive integer or 'q'5\n",
      "Enter a positive integer or 'q'10\n",
      "Enter a positive integer or 'q'q\n",
      "Total: 15\n"
     ]
    }
   ],
   "source": [
    "user_input = \"\"\n",
    "total = 0\n",
    "while user_input != 'q':\n",
    "    user_input = input(\"Enter a positive integer or 'q'\")\n",
    "    if user_input == 'q':\n",
    "        continue #Cound also use break here\n",
    "    input_num = int(user_input)\n",
    "    if input_num < 0: #Input sanitizing\n",
    "        #Skip! Bad input\n",
    "        continue\n",
    "    total += input_num\n",
    "print(\"Total:\",total)"
   ]
  },
  {
   "cell_type": "markdown",
   "metadata": {},
   "source": [
    "**Nesting with continue/break**"
   ]
  },
  {
   "cell_type": "code",
   "execution_count": null,
   "metadata": {},
   "outputs": [],
   "source": [
    "while CONDITION_A:\n",
    "    #Body of outer loop\n",
    "    while CONDITION_B: #HERE!\n",
    "        #Body of inner loop\n",
    "        if CONDITION_C:\n",
    "            continue # --> Where do we go next?\n",
    "        #Body of inner loop\n",
    "    #Body of outer loop\n",
    "#Outside all the loops"
   ]
  },
  {
   "cell_type": "code",
   "execution_count": null,
   "metadata": {},
   "outputs": [],
   "source": [
    "while CONDITION_A:\n",
    "    #Body of outer loop\n",
    "    while CONDITION_B:\n",
    "        #Body of inner loop\n",
    "        if CONDITION_C:\n",
    "            break # --> Where do we go next?\n",
    "        #Body of inner loop\n",
    "    #Body of outer loop #HERE!\n",
    "#Outside all the loops"
   ]
  }
 ],
 "metadata": {
  "kernelspec": {
   "display_name": "Python 3",
   "language": "python",
   "name": "python3"
  },
  "language_info": {
   "codemirror_mode": {
    "name": "ipython",
    "version": 3
   },
   "file_extension": ".py",
   "mimetype": "text/x-python",
   "name": "python",
   "nbconvert_exporter": "python",
   "pygments_lexer": "ipython3",
   "version": "3.7.4"
  }
 },
 "nbformat": 4,
 "nbformat_minor": 4
}
