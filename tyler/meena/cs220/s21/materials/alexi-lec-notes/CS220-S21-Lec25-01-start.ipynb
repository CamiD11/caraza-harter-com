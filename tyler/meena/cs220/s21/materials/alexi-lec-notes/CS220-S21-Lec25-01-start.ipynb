{
 "cells": [
  {
   "cell_type": "markdown",
   "metadata": {},
   "source": [
    "**Outline for Monday, March 22**\n",
    "\n",
    "Iterators and Iterables\n",
    "\n",
    "You will be able to:\n",
    " - Describe the difference between an iterator and an iterable\n",
    " - Use iter() and next() to determine whether objects are iterable or iterators\n",
    " \n",
    "Definitions\n",
    " - iterator\n",
    " - iterable\n",
    " - iterate\n",
    " \n",
    "Useful functions\n",
    " - iter()\n",
    " - next()\n",
    " \n",
    "Short lecture today!"
   ]
  },
  {
   "cell_type": "markdown",
   "metadata": {},
   "source": [
    "**(Part of) a type hierarchy**"
   ]
  },
  {
   "cell_type": "code",
   "execution_count": null,
   "metadata": {},
   "outputs": [],
   "source": []
  },
  {
   "cell_type": "code",
   "execution_count": null,
   "metadata": {},
   "outputs": [],
   "source": []
  }
 ],
 "metadata": {
  "kernelspec": {
   "display_name": "Python 3",
   "language": "python",
   "name": "python3"
  },
  "language_info": {
   "codemirror_mode": {
    "name": "ipython",
    "version": 3
   },
   "file_extension": ".py",
   "mimetype": "text/x-python",
   "name": "python",
   "nbconvert_exporter": "python",
   "pygments_lexer": "ipython3",
   "version": "3.7.4"
  }
 },
 "nbformat": 4,
 "nbformat_minor": 4
}
