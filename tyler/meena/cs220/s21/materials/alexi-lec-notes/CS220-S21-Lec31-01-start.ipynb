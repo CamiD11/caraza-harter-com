{
 "cells": [
  {
   "cell_type": "markdown",
   "metadata": {},
   "source": [
    "# Outline for Wednesday, April 7\n",
    "## Web 1 - How to get data from the 'net\n",
    "\n",
    "Core ideas:\n",
    " - Network structure\n",
    "     - IP addresses\n",
    "     - host/domain names\n",
    "     - client/server\n",
    "     - request/response\n",
    " - HTTP protocol\n",
    "     - URL\n",
    "     - GET/POST\n",
    "     - headers\n",
    "     - status codes\n",
    " - The requests module\n",
    "     - Etiquette\n",
    "     - requests.get\n",
    "     - requests.post"
   ]
  },
  {
   "cell_type": "markdown",
   "metadata": {},
   "source": [
    "## Networking basics\n",
    "\n",
    "Client (computer) sends **request** to server (another computer)\n",
    " - Request may contain data\n",
    " \n",
    "Server sends back **response** to client\n",
    " - Response definitely contains data\n",
    " \n",
    "How do we find the right server?\n",
    " - \n",
    " \n",
    "Once we've found the server, how do we find the right program?\n",
    " - "
   ]
  },
  {
   "cell_type": "markdown",
   "metadata": {},
   "source": [
    "## HTTP\n",
    "\n",
    "What is it?\n",
    "\n",
    "What is a URL?\n",
    "\n",
    "GET? POST?\n",
    "\n",
    "What is an HTTP header?"
   ]
  },
  {
   "cell_type": "markdown",
   "metadata": {},
   "source": [
    "HTTP Status Codes overview\n",
    "- 1XX : Informational\n",
    "- 2XX : Successful\n",
    "- 3XX : Redirection\n",
    "- 4XX : Client Error\n",
    "- 5XX : Server Error\n",
    "\n",
    "https://en.wikipedia.org/wiki/List_of_HTTP_status_codes"
   ]
  },
  {
   "cell_type": "code",
   "execution_count": 2,
   "metadata": {},
   "outputs": [],
   "source": [
    "import requests\n",
    "import json\n",
    "from pandas import DataFrame"
   ]
  },
  {
   "cell_type": "markdown",
   "metadata": {},
   "source": [
    "## DEMO: Simple string example\n",
    "- URL: https://www.msyamkumar.com/hello.txt"
   ]
  },
  {
   "cell_type": "code",
   "execution_count": 4,
   "metadata": {},
   "outputs": [],
   "source": [
    "url = \"https://www.msyamkumar.com/hello.txt\"\n"
   ]
  },
  {
   "cell_type": "code",
   "execution_count": null,
   "metadata": {},
   "outputs": [],
   "source": [
    "typo_url = \"https://www.msyamkumar.com/hello.txtt\"\n"
   ]
  },
  {
   "cell_type": "code",
   "execution_count": null,
   "metadata": {},
   "outputs": [],
   "source": [
    "\n"
   ]
  },
  {
   "cell_type": "markdown",
   "metadata": {},
   "source": [
    "## DEMO: JSON file example\n",
    "- URL: https://www.msyamkumar.com/scores.json\n",
    "- json.load(FILE_OBJECT)\n",
    "- json.loads(STRING)"
   ]
  },
  {
   "cell_type": "code",
   "execution_count": null,
   "metadata": {},
   "outputs": [],
   "source": [
    "url = \"https://www.msyamkumar.com/scores.json\"\n"
   ]
  },
  {
   "cell_type": "markdown",
   "metadata": {},
   "source": [
    "## Etiquette\n",
    "\n",
    "Core idea: Don't make a lot of requests to the same server all at once.\n",
    " - \n",
    " -\n",
    " -\n"
   ]
  },
  {
   "cell_type": "markdown",
   "metadata": {},
   "source": [
    "## DEMO 1: reddit json processing\n",
    "- URL: https://www.reddit.com/r/UWMadison.json or https://www.msyamkumar.com/cs220/f20/materials/lectureDemo_code/lec-30/UWMadison.json\n",
    "\n",
    "THE FIRST LINK IS TO A LIVE WEBPAGE - Review requests etiquette before running!"
   ]
  },
  {
   "cell_type": "code",
   "execution_count": 7,
   "metadata": {},
   "outputs": [
    {
     "name": "stdout",
     "output_type": "stream",
     "text": [
      "<class 'dict'>\n"
     ]
    }
   ],
   "source": [
    "#url = \"https://www.reddit.com/r/UWMadison.json\"\n",
    "url = \"https://www.msyamkumar.com/cs220/f20/materials/lectureDemo_code/lec-30/UWMadison.json\"\n",
    "r = requests.get(url)\n",
    "r.raise_for_status()\n",
    "d = r.json()\n",
    "print(type(d))"
   ]
  },
  {
   "cell_type": "markdown",
   "metadata": {},
   "source": [
    "### How to explore an unknown JSON?\n",
    "- If you run into a dict, try .keys() functions to look at the keys of the dictionary\n",
    "- If you run into a list, iterate over the list and print each item"
   ]
  },
  {
   "cell_type": "code",
   "execution_count": null,
   "metadata": {},
   "outputs": [],
   "source": []
  },
  {
   "cell_type": "markdown",
   "metadata": {},
   "source": [
    "## DEMO 2: State populations\n",
    "- URL: https://www.msyamkumar.com/cs220/f20/materials/lectureDemo_code/lec-30/data/state_files.txt\n",
    "\n",
    "Challenge problem: Each line in state_files.txt contains the name of a .json file (in the same directory on the server). Using `get` requests, load the contents of all of the json files and make one combined DataFrame with all of them. You will probably need to explore the data!"
   ]
  },
  {
   "cell_type": "code",
   "execution_count": null,
   "metadata": {},
   "outputs": [],
   "source": [
    "url = \"https://www.msyamkumar.com/cs220/f20/materials/lectureDemo_code/lec-30/data/state_files.txt\"\n"
   ]
  }
 ],
 "metadata": {
  "kernelspec": {
   "display_name": "Python 3",
   "language": "python",
   "name": "python3"
  },
  "language_info": {
   "codemirror_mode": {
    "name": "ipython",
    "version": 3
   },
   "file_extension": ".py",
   "mimetype": "text/x-python",
   "name": "python",
   "nbconvert_exporter": "python",
   "pygments_lexer": "ipython3",
   "version": "3.7.4"
  }
 },
 "nbformat": 4,
 "nbformat_minor": 4
}
