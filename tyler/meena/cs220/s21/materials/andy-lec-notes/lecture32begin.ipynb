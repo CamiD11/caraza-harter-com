{
 "cells": [
  {
   "cell_type": "code",
   "execution_count": 19,
   "metadata": {},
   "outputs": [],
   "source": [
    "# warmup from March 26:  \n",
    "# import os and write code that makes a directory named \"lec32_files\"\n",
    "import os\n",
    "dir_name = \"lec32_files\"\n",
    "\n",
    "\n",
    "# run and check this in your Jupyter Notebook parent tab\n",
    "\n",
    "# place the code in an if statement to avoid an error when re-running this cell"
   ]
  },
  {
   "cell_type": "markdown",
   "metadata": {},
   "source": [
    "### Grab this file and place it in the lec32_files directory:\n",
    "https://github.com/tylerharter/caraza-harter-com/blob/master/tyler/meena/cs220/f20/materials/lectureDemo_code/lec-31/data/review1.csv"
   ]
  },
  {
   "cell_type": "code",
   "execution_count": 53,
   "metadata": {},
   "outputs": [
    {
     "name": "stdout",
     "output_type": "stream",
     "text": [
      "        0    1      2\n",
      "0    Name  Age   Time\n",
      "1    Andy   28  21:45\n",
      "2     Sam   15  21:02\n",
      "3  Stevie   13  24:02\n"
     ]
    }
   ],
   "source": [
    "# warmup from April 5: make a Pandas Data Frame from this data\n",
    "\n",
    "# hint: https://www.w3schools.com/python/pandas/pandas_dataframes.asp\n",
    "#         Name    Age       Time\n",
    "#         Andy    50-59     21:45\n",
    "#         Sam     10-19     21:02   \n",
    "#         Stevie  10-19      24:30\n"
   ]
  },
  {
   "cell_type": "code",
   "execution_count": null,
   "metadata": {},
   "outputs": [],
   "source": [
    "\n"
   ]
  },
  {
   "cell_type": "code",
   "execution_count": 21,
   "metadata": {},
   "outputs": [],
   "source": [
    "\n"
   ]
  },
  {
   "cell_type": "code",
   "execution_count": null,
   "metadata": {},
   "outputs": [],
   "source": []
  },
  {
   "cell_type": "code",
   "execution_count": null,
   "metadata": {},
   "outputs": [],
   "source": []
  },
  {
   "cell_type": "markdown",
   "metadata": {},
   "source": [
    "### Lecture 32: Generating HTML pages\n",
    "\n",
    "**Learning Objectives:**\n",
    "\n",
    "32.1 Explain the purpose and use of basic HTML tags.\n",
    "- html, head, body, h1, h2, etc.\n",
    "- p, br, i, b\n",
    "- a, image\n",
    "\n",
    "32.2 Given a Python data structure, write code to produce HTML\n",
    "- from Python list to HTML unordered list\n",
    "- from Python dictionary (read from CSV) to a series of linked HTML pages\n",
    "- from a CSV file (or lists of lists) to a HTML table\n",
    "\n",
    "\n"
   ]
  },
  {
   "cell_type": "code",
   "execution_count": null,
   "metadata": {},
   "outputs": [],
   "source": []
  },
  {
   "cell_type": "markdown",
   "metadata": {},
   "source": [
    "### Part A: Write a basic HTML page in Jupyter Notbook\n",
    "\n",
    "Note:  If you have never written HTML before here is a good tutorial: \n",
    "https://www.w3schools.com/html/html_intro.asp\n",
    "\n",
    "\n",
    "**Markdown and Jupyter Notebook will recognize HTML tags**\n",
    "\n",
    "<i>Make a new Jupyter Notebook text file in the \"lec32_files\" directory.</i>\n",
    "<p> The head,  body, and html tags are not necessary \n",
    "for a browswer to read a file.</p>\n",
    "\n",
    "<h2> Happy Thursday!! </h2>\n",
    "\n",
    "It's going to be a <b>fun</b> day <br>\n",
    "\n",
    "Call the file \"handmade.html\"\n",
    "\n",
    "Practice viewing and opening for editing. \n"
   ]
  },
  {
   "cell_type": "code",
   "execution_count": null,
   "metadata": {},
   "outputs": [],
   "source": []
  },
  {
   "cell_type": "markdown",
   "metadata": {},
   "source": [
    "### Part B: Convert a Python list into an HTML unordered list\n",
    "\n",
    "Given:  [\"Coffee\", \"Tea\", \"Milk\"]\n",
    "    \n",
    "Open a file for writing that contains:  \n",
    "<ul>\n",
    "  <li>Coffee</li>\n",
    "  <li>Tea</li>\n",
    "  <li>Milk</li>\n",
    "</ul> "
   ]
  },
  {
   "cell_type": "code",
   "execution_count": null,
   "metadata": {},
   "outputs": [],
   "source": [
    "\n"
   ]
  },
  {
   "cell_type": "code",
   "execution_count": 22,
   "metadata": {},
   "outputs": [],
   "source": [
    "\n",
    "\n",
    "def list_to_html(my_list, path):\n",
    "    # open the file for writing\n",
    "\n",
    "    \n",
    "    # write the <ul> and \\n\n",
    "\n",
    "    \n",
    "    # write all items in the list and \\n\n",
    "\n",
    "    \n",
    "    # write the </ul> and \\n\n",
    "\n",
    "    # close the file\n",
    "\n",
    "    \n",
    "dir_name = \"lec32_files\"\n",
    "list_to_html([\"Coffee\", \"Tea\", \"Milk\"], os.path.join(dir_name, \"shoppinglist.html\"))\n",
    "\n",
    "# check in the Jupyter Notebook parent tab that you made your document\n"
   ]
  },
  {
   "cell_type": "code",
   "execution_count": null,
   "metadata": {},
   "outputs": [],
   "source": []
  },
  {
   "cell_type": "code",
   "execution_count": null,
   "metadata": {},
   "outputs": [],
   "source": []
  },
  {
   "cell_type": "code",
   "execution_count": null,
   "metadata": {},
   "outputs": [],
   "source": []
  },
  {
   "cell_type": "markdown",
   "metadata": {},
   "source": [
    "### Part C:  Given a Pandas Data Frame, make into a HTML table"
   ]
  },
  {
   "cell_type": "code",
   "execution_count": null,
   "metadata": {},
   "outputs": [],
   "source": []
  },
  {
   "cell_type": "code",
   "execution_count": null,
   "metadata": {},
   "outputs": [],
   "source": []
  },
  {
   "cell_type": "markdown",
   "metadata": {},
   "source": [
    "### Part D: Read a CSV file into a  dictionary, then convert into a series of web pages\n",
    "\n",
    "**Given:  this CSV file: review1.csv\n",
    "\n",
    "<code>\n",
    "review id,review title,review text,review rating,review do_recommend,review num_helpful,review date\n",
    "\n",
    "10101,A charger,It seems to work just like any other usb plug in charger.,5,True,0,2017-01-02\n",
    "\n",
    "99904,amazon power fast usb charger,got this for my kindle 7 tablet . Does an excellent job charging the kindle fire 7 a lot faster than the one it came with the kindle fire,5,True,2,2016-06-03\n",
    "\n",
    "89604,Amazon powerfast wall charger,Best kindle charger ever. Took 30 minutes to being my kindle back to life.,5,True,0,2016-11-21\n",
    "\n",
    "58704,correct plug for kindle,Quickly charges kindle so son can use it. Worked great right out of the package,5,True,0,2016-10-14\n",
    "</code>\n",
    "\n",
    "Generate the following:\n",
    "\n"
   ]
  },
  {
   "cell_type": "markdown",
   "metadata": {},
   "source": [
    "lec_32_files\n",
    "- data\n",
    "    - 10115.html\n",
    "    - 10231.html\n",
    "    - etc....\n",
    "- reviews.html"
   ]
  },
  {
   "cell_type": "code",
   "execution_count": 50,
   "metadata": {},
   "outputs": [
    {
     "name": "stdout",
     "output_type": "stream",
     "text": [
      "{'review id': '10101', 'review title': 'A charger', 'review text': 'It seems to work just like any other usb plug in charger.', 'review rating': '5', 'review do_recommend': 'True', 'review num_helpful': '0', 'review date': '2017-01-02'}\n",
      "lec32_files/data_html/10101.html\n",
      "{'review id': '99904', 'review title': 'amazon power fast usb charger', 'review text': 'got this for my kindle 7 tablet . Does an excellent job charging the kindle fire 7 a lot faster than the one it came with the kindle fire', 'review rating': '5', 'review do_recommend': 'True', 'review num_helpful': '2', 'review date': '2016-06-03'}\n",
      "lec32_files/data_html/99904.html\n",
      "{'review id': '89604', 'review title': 'Amazon powerfast wall charger', 'review text': 'Best kindle charger ever. Took 30 minutes to being my kindle back to life.', 'review rating': '5', 'review do_recommend': 'True', 'review num_helpful': '0', 'review date': '2016-11-21'}\n",
      "lec32_files/data_html/89604.html\n",
      "{'review id': '58704', 'review title': 'correct plug for kindle', 'review text': 'Quickly charges kindle so son can use it. Worked great right out of the package', 'review rating': '5', 'review do_recommend': 'True', 'review num_helpful': '0', 'review date': '2016-10-14'}\n",
      "lec32_files/data_html/58704.html\n",
      "{'review id': '38104', 'review title': 'Fast Charger', 'review text': 'Bought this charger for the Kindle voyage and its great.', 'review rating': '5', 'review do_recommend': 'True', 'review num_helpful': '0', 'review date': '2016-09-30'}\n",
      "lec32_files/data_html/38104.html\n",
      "{'review id': '76407', 'review title': 'Good charger', 'review text': 'This wall charger works exactly as described for the Kindle Paperwhite.', 'review rating': '5', 'review do_recommend': 'True', 'review num_helpful': '0', 'review date': '2016-07-22'}\n"
     ]
    }
   ],
   "source": [
    "import csv\n",
    "def csv_to_html(dir_name, csv_path, html_file_name):\n",
    "    \n",
    "    # read the csv file and into a dictionary using csv.DictReader\n",
    "    f = open(os.path.join(dir_name, csv_path))\n",
    "    reader = csv.DictReader(f)\n",
    "\n",
    "    # make a directory in dir_name called data_html for all the .html files\n",
    "\n",
    "    \n",
    "    # make a new html file to store links to all the reviews\n",
    "\n",
    "\n",
    "    # for each row in the CSV file, \n",
    "    for row in reader:\n",
    "        print(row)\n",
    "        \n",
    "        # this is a really large file...for debugging, just process the first 5 rows\n",
    "        counter += 1\n",
    "        if counter > 5:\n",
    "            break\n",
    "\n",
    "        \n",
    "        # grab the \"review id\", \"review title\" , and \"review text\" of this row\n",
    "        review_id = row[\"review id\"]\n",
    "        title = row[\"review title\"]\n",
    "        text = row[\"review text\"]\n",
    "\n",
    "        # make a HTML file for each review id with name <reviewID>.html\"\n",
    "        review_path = os.path.join(dir_name, \"data_html\", str(review_id) + \".html\")\n",
    "\n",
    "    \n",
    "        # STEP 5: generate a line in reviews.html  which has link to each review html page <rid>.html\n",
    "        reviews_file.write('<li><a href = \"{}\">{}</a>'.format(review_path, str(review_id) + \":\" + str(title)) + \"<br>\\n\")\n",
    "    \n",
    "    reviews_file.write(\"</ul>\\n\")\n",
    "    reviews_file.close()  \n",
    "    f.close()\n",
    "\n",
    "dir_name = \"lec32_files\"\n",
    "csv_to_html(dir_name, \"review1.csv\", \"reviews.html\")"
   ]
  },
  {
   "cell_type": "markdown",
   "metadata": {},
   "source": []
  },
  {
   "cell_type": "code",
   "execution_count": null,
   "metadata": {},
   "outputs": [],
   "source": [
    "# there are lots of possibilities of writing Python data structures to HTML\n"
   ]
  }
 ],
 "metadata": {
  "kernelspec": {
   "display_name": "Python 3",
   "language": "python",
   "name": "python3"
  },
  "language_info": {
   "codemirror_mode": {
    "name": "ipython",
    "version": 3
   },
   "file_extension": ".py",
   "mimetype": "text/x-python",
   "name": "python",
   "nbconvert_exporter": "python",
   "pygments_lexer": "ipython3",
   "version": "3.8.5"
  }
 },
 "nbformat": 4,
 "nbformat_minor": 4
}
