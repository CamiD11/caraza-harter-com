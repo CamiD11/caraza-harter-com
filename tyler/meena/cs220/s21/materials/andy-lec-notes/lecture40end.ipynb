{
 "cells": [
  {
   "cell_type": "code",
   "execution_count": 1,
   "metadata": {},
   "outputs": [],
   "source": [
    "import pandas as pd\n",
    "from pandas import Series, DataFrame"
   ]
  },
  {
   "cell_type": "code",
   "execution_count": 2,
   "metadata": {},
   "outputs": [],
   "source": [
    "%matplotlib inline"
   ]
  },
  {
   "cell_type": "code",
   "execution_count": 3,
   "metadata": {},
   "outputs": [],
   "source": [
    "import matplotlib \n",
    "matplotlib.rcParams[\"font.size\"] = 16"
   ]
  },
  {
   "cell_type": "markdown",
   "metadata": {},
   "source": [
    "## Lecture 40: Randomness\n",
    "**Learning Objectives**\n",
    "\n",
    "<pre>\n",
    "40.1 Control a plot with\n",
    "- axis limits\n",
    "- pyplot.subplots to divide up a plot\n",
    "- logy = True to plot a log graph\n",
    "\n",
    "40.2 Use numpy.choice to generate random samples\n",
    "- use size= to set the number of choices\n",
    "- use p=[] to set the probabilities of choices\n",
    "- use sort_index() and sort_value() to sort numpy.choice results\n",
    "- use a seed value to determine a pseudo-random sequence\n",
    "\n",
    "40.3 Place the results of many simulations into a dataframe and analyze them\n",
    "\n",
    "40.4 Explain the Statistics concepts of fairness\n",
    "\n",
    "40.5 Graph histograms of data, including normal distributions, using plot.hist()\n"
   ]
  },
  {
   "cell_type": "markdown",
   "metadata": {},
   "source": [
    "### Remember the Iris Data? \n"
   ]
  },
  {
   "cell_type": "code",
   "execution_count": 4,
   "metadata": {},
   "outputs": [
    {
     "data": {
      "text/html": [
       "<div>\n",
       "<style scoped>\n",
       "    .dataframe tbody tr th:only-of-type {\n",
       "        vertical-align: middle;\n",
       "    }\n",
       "\n",
       "    .dataframe tbody tr th {\n",
       "        vertical-align: top;\n",
       "    }\n",
       "\n",
       "    .dataframe thead th {\n",
       "        text-align: right;\n",
       "    }\n",
       "</style>\n",
       "<table border=\"1\" class=\"dataframe\">\n",
       "  <thead>\n",
       "    <tr style=\"text-align: right;\">\n",
       "      <th></th>\n",
       "      <th>sep-len</th>\n",
       "      <th>sep-wid</th>\n",
       "      <th>pet-len</th>\n",
       "      <th>pet-wid</th>\n",
       "      <th>class</th>\n",
       "    </tr>\n",
       "  </thead>\n",
       "  <tbody>\n",
       "    <tr>\n",
       "      <th>0</th>\n",
       "      <td>5.1</td>\n",
       "      <td>3.5</td>\n",
       "      <td>1.4</td>\n",
       "      <td>0.2</td>\n",
       "      <td>Iris-setosa</td>\n",
       "    </tr>\n",
       "    <tr>\n",
       "      <th>1</th>\n",
       "      <td>4.9</td>\n",
       "      <td>3.0</td>\n",
       "      <td>1.4</td>\n",
       "      <td>0.2</td>\n",
       "      <td>Iris-setosa</td>\n",
       "    </tr>\n",
       "    <tr>\n",
       "      <th>2</th>\n",
       "      <td>4.7</td>\n",
       "      <td>3.2</td>\n",
       "      <td>1.3</td>\n",
       "      <td>0.2</td>\n",
       "      <td>Iris-setosa</td>\n",
       "    </tr>\n",
       "    <tr>\n",
       "      <th>3</th>\n",
       "      <td>4.6</td>\n",
       "      <td>3.1</td>\n",
       "      <td>1.5</td>\n",
       "      <td>0.2</td>\n",
       "      <td>Iris-setosa</td>\n",
       "    </tr>\n",
       "    <tr>\n",
       "      <th>4</th>\n",
       "      <td>5.0</td>\n",
       "      <td>3.6</td>\n",
       "      <td>1.4</td>\n",
       "      <td>0.2</td>\n",
       "      <td>Iris-setosa</td>\n",
       "    </tr>\n",
       "  </tbody>\n",
       "</table>\n",
       "</div>"
      ],
      "text/plain": [
       "   sep-len  sep-wid  pet-len  pet-wid        class\n",
       "0      5.1      3.5      1.4      0.2  Iris-setosa\n",
       "1      4.9      3.0      1.4      0.2  Iris-setosa\n",
       "2      4.7      3.2      1.3      0.2  Iris-setosa\n",
       "3      4.6      3.1      1.5      0.2  Iris-setosa\n",
       "4      5.0      3.6      1.4      0.2  Iris-setosa"
      ]
     },
     "execution_count": 4,
     "metadata": {},
     "output_type": "execute_result"
    }
   ],
   "source": [
    "import requests\n",
    "resp = requests.get(\"https://archive.ics.uci.edu/ml/machine-learning-databases/iris/iris.data\")\n",
    "resp.raise_for_status()\n",
    "\n",
    "iris_fh = open(\"iris.data\", \"w\")\n",
    "iris_fh.write(resp.text)\n",
    "iris_fh.close()\n",
    "\n",
    "df = pd.read_csv(\"iris.data\",\n",
    "                 names=[\"sep-len\", \"sep-wid\", \"pet-len\", \"pet-wid\", \"class\"])\n",
    "df.head()"
   ]
  },
  {
   "cell_type": "code",
   "execution_count": 5,
   "metadata": {},
   "outputs": [
    {
     "data": {
      "text/html": [
       "<div>\n",
       "<style scoped>\n",
       "    .dataframe tbody tr th:only-of-type {\n",
       "        vertical-align: middle;\n",
       "    }\n",
       "\n",
       "    .dataframe tbody tr th {\n",
       "        vertical-align: top;\n",
       "    }\n",
       "\n",
       "    .dataframe thead th {\n",
       "        text-align: right;\n",
       "    }\n",
       "</style>\n",
       "<table border=\"1\" class=\"dataframe\">\n",
       "  <thead>\n",
       "    <tr style=\"text-align: right;\">\n",
       "      <th></th>\n",
       "      <th>sep-len</th>\n",
       "      <th>sep-wid</th>\n",
       "      <th>pet-len</th>\n",
       "      <th>pet-wid</th>\n",
       "      <th>class</th>\n",
       "    </tr>\n",
       "  </thead>\n",
       "  <tbody>\n",
       "    <tr>\n",
       "      <th>100</th>\n",
       "      <td>6.3</td>\n",
       "      <td>3.3</td>\n",
       "      <td>6.0</td>\n",
       "      <td>2.5</td>\n",
       "      <td>Iris-virginica</td>\n",
       "    </tr>\n",
       "    <tr>\n",
       "      <th>101</th>\n",
       "      <td>5.8</td>\n",
       "      <td>2.7</td>\n",
       "      <td>5.1</td>\n",
       "      <td>1.9</td>\n",
       "      <td>Iris-virginica</td>\n",
       "    </tr>\n",
       "    <tr>\n",
       "      <th>102</th>\n",
       "      <td>7.1</td>\n",
       "      <td>3.0</td>\n",
       "      <td>5.9</td>\n",
       "      <td>2.1</td>\n",
       "      <td>Iris-virginica</td>\n",
       "    </tr>\n",
       "    <tr>\n",
       "      <th>103</th>\n",
       "      <td>6.3</td>\n",
       "      <td>2.9</td>\n",
       "      <td>5.6</td>\n",
       "      <td>1.8</td>\n",
       "      <td>Iris-virginica</td>\n",
       "    </tr>\n",
       "    <tr>\n",
       "      <th>104</th>\n",
       "      <td>6.5</td>\n",
       "      <td>3.0</td>\n",
       "      <td>5.8</td>\n",
       "      <td>2.2</td>\n",
       "      <td>Iris-virginica</td>\n",
       "    </tr>\n",
       "  </tbody>\n",
       "</table>\n",
       "</div>"
      ],
      "text/plain": [
       "     sep-len  sep-wid  pet-len  pet-wid           class\n",
       "100      6.3      3.3      6.0      2.5  Iris-virginica\n",
       "101      5.8      2.7      5.1      1.9  Iris-virginica\n",
       "102      7.1      3.0      5.9      2.1  Iris-virginica\n",
       "103      6.3      2.9      5.6      1.8  Iris-virginica\n",
       "104      6.5      3.0      5.8      2.2  Iris-virginica"
      ]
     },
     "execution_count": 5,
     "metadata": {},
     "output_type": "execute_result"
    }
   ],
   "source": [
    "# make a set of the classes\n",
    "classes = set(df[\"class\"])\n",
    "\n",
    "# make a dataframe just for \"Iris-virginica\"\n",
    "df_sub = df[df[\"class\"] == \"Iris-virginica\"]\n",
    "\n",
    "#assert allows us to force a crash...good when debugging\n",
    "assert(len(df_sub) == 50)\n",
    "\n",
    "df_sub.head()"
   ]
  },
  {
   "cell_type": "markdown",
   "metadata": {},
   "source": [
    "### Axis limits allow us to control the rectangle of a plot\n",
    "<pre>\n",
    "- xlim=  ,   ylim= \n",
    "- can be a single number or a tuple of size 2"
   ]
  },
  {
   "cell_type": "code",
   "execution_count": 6,
   "metadata": {},
   "outputs": [
    {
     "data": {
      "text/plain": [
       "<AxesSubplot:xlabel='pet-wid', ylabel='pet-len'>"
      ]
     },
     "execution_count": 6,
     "metadata": {},
     "output_type": "execute_result"
    },
    {
     "data": {
      "image/png": "[encoded data removed]",
      "text/plain": [
       "<Figure size 432x288 with 1 Axes>"
      ]
     },
     "metadata": {
      "needs_background": "light"
     },
     "output_type": "display_data"
    }
   ],
   "source": [
    "# play with the limits here...change them or remove them\n",
    "# can you figure out what xlim and ylim do?\n",
    "\n",
    "#df_sub.plot.scatter(x=\"pet-wid\", y=\"pet-len\")\n",
    "#df_sub.plot.scatter(x=\"pet-wid\", y=\"pet-len\", xlim=1, ylim=4)\n",
    "df_sub.plot.scatter(x=\"pet-wid\", y=\"pet-len\", xlim=(1,3), ylim=(4,8))"
   ]
  },
  {
   "cell_type": "code",
   "execution_count": 7,
   "metadata": {},
   "outputs": [
    {
     "data": {
      "image/png": "[encoded data removed]",
      "text/plain": [
       "<Figure size 216x216 with 1 Axes>"
      ]
     },
     "metadata": {
      "needs_background": "light"
     },
     "output_type": "display_data"
    }
   ],
   "source": [
    "# can you figure out what this code is doing?\n",
    "# play with xlim and ylim to cause an AssertionError\n",
    "\n",
    "ax = df_sub.plot.scatter(x=\"pet-wid\", y=\"pet-len\",\n",
    "                     xlim=(0,4), ylim=(0,7),\n",
    "                     figsize=(3,3))\n",
    "assert df_sub[ax.get_xlabel()].min() >= ax.get_xlim()[0]\n",
    "assert df_sub[ax.get_xlabel()].max() <= ax.get_xlim()[1]\n",
    "assert df_sub[ax.get_ylabel()].min() >= ax.get_ylim()[0]\n",
    "assert df_sub[ax.get_ylabel()].max() <= ax.get_ylim()[1]"
   ]
  },
  {
   "cell_type": "code",
   "execution_count": null,
   "metadata": {},
   "outputs": [],
   "source": []
  },
  {
   "cell_type": "markdown",
   "metadata": {},
   "source": [
    "### Use Log scale for data that has a very large range:"
   ]
  },
  {
   "cell_type": "code",
   "execution_count": 8,
   "metadata": {},
   "outputs": [
    {
     "data": {
      "text/plain": [
       "<AxesSubplot:>"
      ]
     },
     "execution_count": 8,
     "metadata": {},
     "output_type": "execute_result"
    },
    {
     "data": {
      "image/png": "[encoded data removed]",
      "text/plain": [
       "<Figure size 432x288 with 1 Axes>"
      ]
     },
     "metadata": {
      "needs_background": "light"
     },
     "output_type": "display_data"
    }
   ],
   "source": [
    "# fix this line plot so that it uses log scale\n",
    "s = Series([1, 10, 100, 1000, 10000, 100000, 1000000])\n",
    "s.plot.line()\n",
    "# fix it here\n",
    "s.plot.line(logy=True)"
   ]
  },
  {
   "cell_type": "code",
   "execution_count": null,
   "metadata": {},
   "outputs": [],
   "source": []
  },
  {
   "cell_type": "markdown",
   "metadata": {},
   "source": [
    "### We can splitting up a plot by using pyplot.subplots\n",
    "- pyplot.subplots allows us to specify the number of cols and rows\n",
    "- pyplot.subplots returns a tuple of (figure object, numpy array of axes)"
   ]
  },
  {
   "cell_type": "code",
   "execution_count": 9,
   "metadata": {},
   "outputs": [
    {
     "data": {
      "text/plain": [
       "(<Figure size 432x288 with 6 Axes>,\n",
       " array([[<AxesSubplot:>, <AxesSubplot:>],\n",
       "        [<AxesSubplot:>, <AxesSubplot:>],\n",
       "        [<AxesSubplot:>, <AxesSubplot:>]], dtype=object))"
      ]
     },
     "execution_count": 9,
     "metadata": {},
     "output_type": "execute_result"
    },
    {
     "data": {
      "image/png": "[encoded data removed]",
      "text/plain": [
       "<Figure size 432x288 with 6 Axes>"
      ]
     },
     "metadata": {
      "needs_background": "light"
     },
     "output_type": "display_data"
    }
   ],
   "source": [
    "from matplotlib import pyplot\n",
    "pyplot.subplots(nrows = 3, ncols = 2)"
   ]
  },
  {
   "cell_type": "code",
   "execution_count": 10,
   "metadata": {},
   "outputs": [
    {
     "data": {
      "text/plain": [
       "<AxesSubplot:>"
      ]
     },
     "execution_count": 10,
     "metadata": {},
     "output_type": "execute_result"
    },
    {
     "data": {
      "image/png": "[encoded data removed]",
      "text/plain": [
       "<Figure size 432x288 with 2 Axes>"
      ]
     },
     "metadata": {
      "needs_background": "light"
     },
     "output_type": "display_data"
    }
   ],
   "source": [
    "fig, axes = pyplot.subplots(ncols = 2)\n",
    "# axes[0] # the area on the left\n",
    "# axes[1] # the area on the right\n",
    "Series([1,2,3,3,4]).plot.line(ax=axes[0])\n",
    "Series([5,7,7,8]).plot.line(ax=axes[1])"
   ]
  },
  {
   "cell_type": "code",
   "execution_count": 11,
   "metadata": {},
   "outputs": [
    {
     "data": {
      "text/plain": [
       "<AxesSubplot:>"
      ]
     },
     "execution_count": 11,
     "metadata": {},
     "output_type": "execute_result"
    },
    {
     "data": {
      "image/png": "[encoded data removed]",
      "text/plain": [
       "<Figure size 432x288 with 2 Axes>"
      ]
     },
     "metadata": {
      "needs_background": "light"
     },
     "output_type": "display_data"
    }
   ],
   "source": [
    "# sharey means 'share y axis'\n",
    "\n",
    "fig, axes = pyplot.subplots(ncols = 2, sharey = True)\n",
    "# axes[0] # the area on the left\n",
    "# axes[1] # the area on the right\n",
    "Series([1,2,3,3,4]).plot.line(ax=axes[0], xticks = range(5))\n",
    "Series([5,7,7,8]).plot.line(ax=axes[1], xticks = range(5))"
   ]
  },
  {
   "cell_type": "code",
   "execution_count": 12,
   "metadata": {},
   "outputs": [
    {
     "data": {
      "text/plain": [
       "'rock'"
      ]
     },
     "execution_count": 12,
     "metadata": {},
     "output_type": "execute_result"
    }
   ],
   "source": [
    "from numpy.random import choice\n",
    "choice([\"rock\", \"paper\", \"scissors\"])"
   ]
  },
  {
   "cell_type": "markdown",
   "metadata": {},
   "source": [
    "### Random choice using Numpy\n",
    "Even though Python has a built-in random module, the numpy module's version has benefits\n",
    "- Numpy plays well with Pandas\n",
    "- Numpy is optimized\n",
    "- Numpy has more options"
   ]
  },
  {
   "cell_type": "code",
   "execution_count": 13,
   "metadata": {},
   "outputs": [
    {
     "data": {
      "text/plain": [
       "array(['paper', 'rock', 'rock', 'paper', 'scissors'], dtype='<U8')"
      ]
     },
     "execution_count": 13,
     "metadata": {},
     "output_type": "execute_result"
    }
   ],
   "source": [
    "# choice has a keyword argument size=\n",
    "# returns an object called a numpy array\n",
    "choice([\"rock\", \"paper\", \"scissors\"], size=5)"
   ]
  },
  {
   "cell_type": "code",
   "execution_count": 14,
   "metadata": {},
   "outputs": [
    {
     "data": {
      "text/plain": [
       "numpy.ndarray"
      ]
     },
     "execution_count": 14,
     "metadata": {},
     "output_type": "execute_result"
    }
   ],
   "source": [
    "type(choice([\"rock\", \"paper\", \"scissors\"], size=5))"
   ]
  },
  {
   "cell_type": "code",
   "execution_count": 15,
   "metadata": {},
   "outputs": [
    {
     "data": {
      "text/plain": [
       "'scissors'"
      ]
     },
     "execution_count": 15,
     "metadata": {},
     "output_type": "execute_result"
    }
   ],
   "source": [
    "# Numpy arrays can be accessed like lists\n",
    "a = choice([\"rock\", \"paper\", \"scissors\"], size=5)\n",
    "a[2]\n"
   ]
  },
  {
   "cell_type": "code",
   "execution_count": 16,
   "metadata": {},
   "outputs": [
    {
     "data": {
      "text/plain": [
       "0    paper\n",
       "1    paper\n",
       "2     rock\n",
       "3    paper\n",
       "4    paper\n",
       "dtype: object"
      ]
     },
     "execution_count": 16,
     "metadata": {},
     "output_type": "execute_result"
    }
   ],
   "source": [
    "# a numpy array can be made into a Series\n",
    "from pandas import Series, DataFrame\n",
    "Series(choice([\"rock\", \"paper\", \"scissors\"], size=5))"
   ]
  },
  {
   "cell_type": "markdown",
   "metadata": {},
   "source": [
    "----\n",
    "### Multidimensional random Series"
   ]
  },
  {
   "cell_type": "code",
   "execution_count": 17,
   "metadata": {},
   "outputs": [
    {
     "name": "stdout",
     "output_type": "stream",
     "text": [
      "[['rock' 'rock']\n",
      " ['paper' 'paper']\n",
      " ['rock' 'rock']\n",
      " ['scissors' 'scissors']\n",
      " ['rock' 'scissors']]\n"
     ]
    }
   ],
   "source": [
    "# the result of choice can be made into a 2d array\n",
    "a = choice([\"rock\", \"paper\", \"scissors\"], size=(5, 2))\n",
    "print(a)\n"
   ]
  },
  {
   "cell_type": "code",
   "execution_count": 18,
   "metadata": {},
   "outputs": [
    {
     "data": {
      "text/html": [
       "<div>\n",
       "<style scoped>\n",
       "    .dataframe tbody tr th:only-of-type {\n",
       "        vertical-align: middle;\n",
       "    }\n",
       "\n",
       "    .dataframe tbody tr th {\n",
       "        vertical-align: top;\n",
       "    }\n",
       "\n",
       "    .dataframe thead th {\n",
       "        text-align: right;\n",
       "    }\n",
       "</style>\n",
       "<table border=\"1\" class=\"dataframe\">\n",
       "  <thead>\n",
       "    <tr style=\"text-align: right;\">\n",
       "      <th></th>\n",
       "      <th>0</th>\n",
       "      <th>1</th>\n",
       "    </tr>\n",
       "  </thead>\n",
       "  <tbody>\n",
       "    <tr>\n",
       "      <th>0</th>\n",
       "      <td>paper</td>\n",
       "      <td>paper</td>\n",
       "    </tr>\n",
       "    <tr>\n",
       "      <th>1</th>\n",
       "      <td>scissors</td>\n",
       "      <td>scissors</td>\n",
       "    </tr>\n",
       "    <tr>\n",
       "      <th>2</th>\n",
       "      <td>scissors</td>\n",
       "      <td>paper</td>\n",
       "    </tr>\n",
       "    <tr>\n",
       "      <th>3</th>\n",
       "      <td>scissors</td>\n",
       "      <td>rock</td>\n",
       "    </tr>\n",
       "    <tr>\n",
       "      <th>4</th>\n",
       "      <td>paper</td>\n",
       "      <td>rock</td>\n",
       "    </tr>\n",
       "  </tbody>\n",
       "</table>\n",
       "</div>"
      ],
      "text/plain": [
       "          0         1\n",
       "0     paper     paper\n",
       "1  scissors  scissors\n",
       "2  scissors     paper\n",
       "3  scissors      rock\n",
       "4     paper      rock"
      ]
     },
     "execution_count": 18,
     "metadata": {},
     "output_type": "execute_result"
    }
   ],
   "source": [
    "# make a 4x7 dataframe with random choices\n",
    "DataFrame(choice([\"rock\", \"paper\", \"scissors\"], size=(5, 2)))"
   ]
  },
  {
   "cell_type": "markdown",
   "metadata": {},
   "source": [
    "----\n",
    "### Random results will tyically not match theoretical probabilities\n",
    "### but they are 'fair'"
   ]
  },
  {
   "cell_type": "code",
   "execution_count": 19,
   "metadata": {},
   "outputs": [
    {
     "name": "stdout",
     "output_type": "stream",
     "text": [
      "scissors    38\n",
      "rock        31\n",
      "paper       31\n",
      "dtype: int64\n"
     ]
    },
    {
     "data": {
      "text/plain": [
       "<AxesSubplot:>"
      ]
     },
     "execution_count": 19,
     "metadata": {},
     "output_type": "execute_result"
    },
    {
     "data": {
      "image/png": "[encoded data removed]",
      "text/plain": [
       "<Figure size 432x288 with 1 Axes>"
      ]
     },
     "metadata": {
      "needs_background": "light"
     },
     "output_type": "display_data"
    }
   ],
   "source": [
    "s = Series(choice([\"rock\", \"paper\", \"scissors\"], size=100))\n",
    "vc = s.value_counts()\n",
    "print(vc)\n",
    "vc.plot.bar()"
   ]
  },
  {
   "cell_type": "markdown",
   "metadata": {},
   "source": [
    "----\n",
    "### Series of random results can be sorted\n",
    "<pre>\n",
    "- sort_index()    by index....alphabetical?)\n",
    "- sort_value()    by value_counts"
   ]
  },
  {
   "cell_type": "code",
   "execution_count": 20,
   "metadata": {},
   "outputs": [
    {
     "name": "stdout",
     "output_type": "stream",
     "text": [
      "scissors    36\n",
      "rock        34\n",
      "paper       30\n",
      "dtype: int64\n"
     ]
    },
    {
     "data": {
      "text/plain": [
       "<AxesSubplot:>"
      ]
     },
     "execution_count": 20,
     "metadata": {},
     "output_type": "execute_result"
    },
    {
     "data": {
      "image/png": "[encoded data removed]",
      "text/plain": [
       "<Figure size 432x288 with 1 Axes>"
      ]
     },
     "metadata": {
      "needs_background": "light"
     },
     "output_type": "display_data"
    }
   ],
   "source": [
    "# sort this series by index using sort_index()\n",
    "s = Series(choice([\"rock\", \"paper\", \"scissors\"], size=100))\n",
    "vc = s.value_counts()\n",
    "print(vc)\n",
    "vc = vc.sort_index() # TODO\n",
    "vc.plot.bar()\n"
   ]
  },
  {
   "cell_type": "code",
   "execution_count": 21,
   "metadata": {},
   "outputs": [
    {
     "name": "stdout",
     "output_type": "stream",
     "text": [
      "paper       36\n",
      "rock        33\n",
      "scissors    31\n",
      "dtype: int64\n"
     ]
    },
    {
     "data": {
      "text/plain": [
       "<AxesSubplot:>"
      ]
     },
     "execution_count": 21,
     "metadata": {},
     "output_type": "execute_result"
    },
    {
     "data": {
      "image/png": "[encoded data removed]",
      "text/plain": [
       "<Figure size 432x288 with 1 Axes>"
      ]
     },
     "metadata": {
      "needs_background": "light"
     },
     "output_type": "display_data"
    }
   ],
   "source": [
    "# sort by value_counts\n",
    "s = Series(choice([\"rock\", \"paper\", \"scissors\"], size=100))\n",
    "vc = s.value_counts()\n",
    "print(vc)\n",
    "vc = vc.sort_values(ascending=False) # TODO remove this\n",
    "vc.plot.bar()"
   ]
  },
  {
   "cell_type": "markdown",
   "metadata": {},
   "source": [
    "----\n",
    "### Choice has a kwarg to allow you to control the probability of selection with a list\n",
    "<pre>\n",
    "- kwarg = \"key word argument\"\n",
    "- p = [ list of floats between 0 and 1]"
   ]
  },
  {
   "cell_type": "code",
   "execution_count": 22,
   "metadata": {},
   "outputs": [
    {
     "name": "stdout",
     "output_type": "stream",
     "text": [
      "rock         7\n",
      "paper       37\n",
      "scissors    56\n",
      "dtype: int64\n"
     ]
    },
    {
     "data": {
      "text/plain": [
       "<AxesSubplot:>"
      ]
     },
     "execution_count": 22,
     "metadata": {},
     "output_type": "execute_result"
    },
    {
     "data": {
      "image/png": "[encoded data removed]",
      "text/plain": [
       "<Figure size 432x288 with 1 Axes>"
      ]
     },
     "metadata": {
      "needs_background": "light"
     },
     "output_type": "display_data"
    }
   ],
   "source": [
    "s = Series(choice([\"rock\", \"paper\", \"scissors\"], size=100, p=[0.10, 0.30, 0.60]))\n",
    "vc = s.value_counts()\n",
    "vc = vc[ [\"rock\", \"paper\", \"scissors\"] ] # this allows us to choose the ordering\n",
    "print(vc)\n",
    "vc.plot.bar()"
   ]
  },
  {
   "cell_type": "markdown",
   "metadata": {},
   "source": [
    "----\n",
    "### Random integer shortcut"
   ]
  },
  {
   "cell_type": "code",
   "execution_count": 23,
   "metadata": {},
   "outputs": [
    {
     "data": {
      "text/plain": [
       "array([3, 2, 3, 0, 4])"
      ]
     },
     "execution_count": 23,
     "metadata": {},
     "output_type": "execute_result"
    }
   ],
   "source": [
    "choice(6, size=5)"
   ]
  },
  {
   "cell_type": "markdown",
   "metadata": {},
   "source": [
    "### How are Pseudo-Random Numbers Generated? \n",
    "- Numpy (and most simple random generators) uses a Pseudo-Random number generator\n",
    "- a starting value determines the next value, and the next value and so on\n",
    "- as long as the sequence is unpredictable, and generates equally likely outcomes, we can call it random\n"
   ]
  },
  {
   "cell_type": "markdown",
   "metadata": {},
   "source": [
    "----\n",
    "### A Random Seed is a number that used to Seeding is used to generate the same sequence of random numbers\n",
    "### This is done by"
   ]
  },
  {
   "cell_type": "code",
   "execution_count": 24,
   "metadata": {},
   "outputs": [
    {
     "data": {
      "text/plain": [
       "array([883, 732,  15])"
      ]
     },
     "execution_count": 24,
     "metadata": {},
     "output_type": "execute_result"
    }
   ],
   "source": [
    "import numpy as np\n",
    "np.random.seed(220)\n",
    "choice(1000, size=3)\n",
    "# no matter how many times you run this cell, you get the same result"
   ]
  },
  {
   "cell_type": "code",
   "execution_count": null,
   "metadata": {},
   "outputs": [],
   "source": []
  },
  {
   "cell_type": "code",
   "execution_count": null,
   "metadata": {},
   "outputs": [],
   "source": []
  },
  {
   "cell_type": "code",
   "execution_count": null,
   "metadata": {},
   "outputs": [],
   "source": []
  },
  {
   "cell_type": "code",
   "execution_count": null,
   "metadata": {},
   "outputs": [],
   "source": []
  },
  {
   "cell_type": "markdown",
   "metadata": {},
   "source": [
    "----\n",
    "### We can make this a little more interesting by Seeding with time\n",
    "It still allows us to have a different outcome each time.\n",
    "\n",
    "We can trace the seed value when debugging"
   ]
  },
  {
   "cell_type": "code",
   "execution_count": 25,
   "metadata": {},
   "outputs": [
    {
     "name": "stdout",
     "output_type": "stream",
     "text": [
      "Seeded with: 1619557478\n",
      "[797 502  86]\n"
     ]
    }
   ],
   "source": [
    "import time\n",
    "time.time()  # number of seconds since 1-1-1970\n",
    "now = int(time.time())\n",
    "now\n",
    "np.random.seed(now)\n",
    "\n",
    "print(\"Seeded with:\", now)\n",
    "print(choice(1000, size=3))"
   ]
  },
  {
   "cell_type": "markdown",
   "metadata": {},
   "source": [
    "----\n",
    "### Big Idea in Statistics is Significance - \n",
    "### Does the data support drawing that conclusion?\n",
    "### What is the probability that our results happened by chance?"
   ]
  },
  {
   "cell_type": "markdown",
   "metadata": {},
   "source": [
    "----\n",
    "### Is it weird that we have 60 heads, 40 tails? How often are we +- 10 of the expected"
   ]
  },
  {
   "cell_type": "code",
   "execution_count": 26,
   "metadata": {},
   "outputs": [
    {
     "data": {
      "text/html": [
       "<div>\n",
       "<style scoped>\n",
       "    .dataframe tbody tr th:only-of-type {\n",
       "        vertical-align: middle;\n",
       "    }\n",
       "\n",
       "    .dataframe tbody tr th {\n",
       "        vertical-align: top;\n",
       "    }\n",
       "\n",
       "    .dataframe thead th {\n",
       "        text-align: right;\n",
       "    }\n",
       "</style>\n",
       "<table border=\"1\" class=\"dataframe\">\n",
       "  <thead>\n",
       "    <tr style=\"text-align: right;\">\n",
       "      <th></th>\n",
       "      <th>0</th>\n",
       "      <th>1</th>\n",
       "      <th>2</th>\n",
       "    </tr>\n",
       "  </thead>\n",
       "  <tbody>\n",
       "    <tr>\n",
       "      <th>0</th>\n",
       "      <td>H</td>\n",
       "      <td>H</td>\n",
       "      <td>H</td>\n",
       "    </tr>\n",
       "    <tr>\n",
       "      <th>1</th>\n",
       "      <td>H</td>\n",
       "      <td>T</td>\n",
       "      <td>H</td>\n",
       "    </tr>\n",
       "    <tr>\n",
       "      <th>2</th>\n",
       "      <td>T</td>\n",
       "      <td>H</td>\n",
       "      <td>T</td>\n",
       "    </tr>\n",
       "    <tr>\n",
       "      <th>3</th>\n",
       "      <td>T</td>\n",
       "      <td>H</td>\n",
       "      <td>H</td>\n",
       "    </tr>\n",
       "    <tr>\n",
       "      <th>4</th>\n",
       "      <td>H</td>\n",
       "      <td>H</td>\n",
       "      <td>H</td>\n",
       "    </tr>\n",
       "    <tr>\n",
       "      <th>5</th>\n",
       "      <td>H</td>\n",
       "      <td>T</td>\n",
       "      <td>H</td>\n",
       "    </tr>\n",
       "    <tr>\n",
       "      <th>6</th>\n",
       "      <td>H</td>\n",
       "      <td>H</td>\n",
       "      <td>H</td>\n",
       "    </tr>\n",
       "    <tr>\n",
       "      <th>7</th>\n",
       "      <td>H</td>\n",
       "      <td>T</td>\n",
       "      <td>H</td>\n",
       "    </tr>\n",
       "    <tr>\n",
       "      <th>8</th>\n",
       "      <td>T</td>\n",
       "      <td>H</td>\n",
       "      <td>T</td>\n",
       "    </tr>\n",
       "    <tr>\n",
       "      <th>9</th>\n",
       "      <td>H</td>\n",
       "      <td>T</td>\n",
       "      <td>T</td>\n",
       "    </tr>\n",
       "  </tbody>\n",
       "</table>\n",
       "</div>"
      ],
      "text/plain": [
       "   0  1  2\n",
       "0  H  H  H\n",
       "1  H  T  H\n",
       "2  T  H  T\n",
       "3  T  H  H\n",
       "4  H  H  H\n",
       "5  H  T  H\n",
       "6  H  H  H\n",
       "7  H  T  H\n",
       "8  T  H  T\n",
       "9  H  T  T"
      ]
     },
     "execution_count": 26,
     "metadata": {},
     "output_type": "execute_result"
    }
   ],
   "source": [
    "trials = 10\n",
    "flips = 3\n",
    "df = DataFrame(choice([\"H\",\"T\"], size = (trials, flips)))\n",
    "df"
   ]
  },
  {
   "cell_type": "code",
   "execution_count": 27,
   "metadata": {},
   "outputs": [
    {
     "data": {
      "text/html": [
       "<div>\n",
       "<style scoped>\n",
       "    .dataframe tbody tr th:only-of-type {\n",
       "        vertical-align: middle;\n",
       "    }\n",
       "\n",
       "    .dataframe tbody tr th {\n",
       "        vertical-align: top;\n",
       "    }\n",
       "\n",
       "    .dataframe thead th {\n",
       "        text-align: right;\n",
       "    }\n",
       "</style>\n",
       "<table border=\"1\" class=\"dataframe\">\n",
       "  <thead>\n",
       "    <tr style=\"text-align: right;\">\n",
       "      <th></th>\n",
       "      <th>0</th>\n",
       "      <th>1</th>\n",
       "      <th>2</th>\n",
       "    </tr>\n",
       "  </thead>\n",
       "  <tbody>\n",
       "    <tr>\n",
       "      <th>0</th>\n",
       "      <td>0</td>\n",
       "      <td>0</td>\n",
       "      <td>0</td>\n",
       "    </tr>\n",
       "    <tr>\n",
       "      <th>1</th>\n",
       "      <td>1</td>\n",
       "      <td>1</td>\n",
       "      <td>0</td>\n",
       "    </tr>\n",
       "    <tr>\n",
       "      <th>2</th>\n",
       "      <td>0</td>\n",
       "      <td>1</td>\n",
       "      <td>0</td>\n",
       "    </tr>\n",
       "    <tr>\n",
       "      <th>3</th>\n",
       "      <td>1</td>\n",
       "      <td>0</td>\n",
       "      <td>1</td>\n",
       "    </tr>\n",
       "    <tr>\n",
       "      <th>4</th>\n",
       "      <td>0</td>\n",
       "      <td>1</td>\n",
       "      <td>0</td>\n",
       "    </tr>\n",
       "    <tr>\n",
       "      <th>5</th>\n",
       "      <td>1</td>\n",
       "      <td>0</td>\n",
       "      <td>0</td>\n",
       "    </tr>\n",
       "    <tr>\n",
       "      <th>6</th>\n",
       "      <td>0</td>\n",
       "      <td>1</td>\n",
       "      <td>1</td>\n",
       "    </tr>\n",
       "    <tr>\n",
       "      <th>7</th>\n",
       "      <td>0</td>\n",
       "      <td>0</td>\n",
       "      <td>0</td>\n",
       "    </tr>\n",
       "    <tr>\n",
       "      <th>8</th>\n",
       "      <td>0</td>\n",
       "      <td>0</td>\n",
       "      <td>0</td>\n",
       "    </tr>\n",
       "    <tr>\n",
       "      <th>9</th>\n",
       "      <td>0</td>\n",
       "      <td>1</td>\n",
       "      <td>0</td>\n",
       "    </tr>\n",
       "  </tbody>\n",
       "</table>\n",
       "</div>"
      ],
      "text/plain": [
       "   0  1  2\n",
       "0  0  0  0\n",
       "1  1  1  0\n",
       "2  0  1  0\n",
       "3  1  0  1\n",
       "4  0  1  0\n",
       "5  1  0  0\n",
       "6  0  1  1\n",
       "7  0  0  0\n",
       "8  0  0  0\n",
       "9  0  1  0"
      ]
     },
     "execution_count": 27,
     "metadata": {},
     "output_type": "execute_result"
    }
   ],
   "source": [
    "# Instead of H and T, we can use 1 for Heads and 0 for Tails\n",
    "trials = 10\n",
    "flips = 3\n",
    "df = DataFrame(choice([1,0], size = (trials, flips)))\n",
    "df"
   ]
  },
  {
   "cell_type": "code",
   "execution_count": 28,
   "metadata": {},
   "outputs": [
    {
     "name": "stdout",
     "output_type": "stream",
     "text": [
      "   0  1  2\n",
      "0  0  1  1\n",
      "1  1  0  1\n",
      "2  0  0  1\n",
      "3  1  0  1\n",
      "4  1  0  0\n",
      "5  1  0  0\n",
      "6  0  1  1\n",
      "7  1  1  0\n",
      "8  1  1  1\n",
      "9  1  1  0\n",
      "0    2\n",
      "1    2\n",
      "2    1\n",
      "3    2\n",
      "4    1\n",
      "5    1\n",
      "6    2\n",
      "7    2\n",
      "8    3\n",
      "9    2\n",
      "dtype: int64\n",
      "0    2\n",
      "1    2\n",
      "2    1\n",
      "3    2\n",
      "4    1\n",
      "5    1\n",
      "6    2\n",
      "7    2\n",
      "8    3\n",
      "9    2\n",
      "dtype: int64\n"
     ]
    }
   ],
   "source": [
    "# this allows us to add up the number of heads in each row easily\n",
    "trials = 10\n",
    "flips = 3\n",
    "df = DataFrame(choice([1,0], size = (trials, flips)))\n",
    "print(df)\n",
    "# sum across columns with axis=1 or axis = 'columns'\n",
    "print(df.sum(axis=1))          # add across columns\n",
    "print(df.sum(axis='columns')) # same as 1"
   ]
  },
  {
   "cell_type": "code",
   "execution_count": 29,
   "metadata": {},
   "outputs": [
    {
     "name": "stdout",
     "output_type": "stream",
     "text": [
      "      0   1   2   3   4   5   6   7   8   9   ...  90  91  92  93  94  95  96  \\\n",
      "0      1   1   0   0   0   1   1   0   1   1  ...   1   0   1   0   1   0   0   \n",
      "1      0   0   0   1   0   0   1   1   0   0  ...   0   0   0   0   0   0   0   \n",
      "2      0   1   1   1   1   0   1   0   1   0  ...   1   0   1   1   1   0   1   \n",
      "3      1   1   1   1   0   0   1   1   0   0  ...   0   1   0   1   1   0   1   \n",
      "4      1   0   1   1   1   0   1   0   1   1  ...   0   1   0   0   1   0   0   \n",
      "...   ..  ..  ..  ..  ..  ..  ..  ..  ..  ..  ...  ..  ..  ..  ..  ..  ..  ..   \n",
      "9995   1   1   1   0   0   0   1   0   0   1  ...   0   1   1   1   0   0   0   \n",
      "9996   0   1   1   0   1   0   0   1   1   1  ...   0   1   1   0   0   1   1   \n",
      "9997   1   1   0   0   0   0   1   0   0   0  ...   1   1   0   0   1   0   0   \n",
      "9998   0   0   1   1   1   1   0   0   0   0  ...   0   1   0   1   0   1   1   \n",
      "9999   1   0   0   1   0   1   0   0   0   1  ...   1   1   1   0   1   1   0   \n",
      "\n",
      "      97  98  99  \n",
      "0      1   1   1  \n",
      "1      1   1   0  \n",
      "2      0   1   1  \n",
      "3      1   0   0  \n",
      "4      1   1   0  \n",
      "...   ..  ..  ..  \n",
      "9995   0   1   1  \n",
      "9996   1   0   0  \n",
      "9997   0   0   1  \n",
      "9998   1   0   0  \n",
      "9999   0   1   0  \n",
      "\n",
      "[10000 rows x 100 columns]\n"
     ]
    },
    {
     "data": {
      "text/plain": [
       "0       54\n",
       "1       41\n",
       "2       50\n",
       "3       55\n",
       "4       54\n",
       "        ..\n",
       "9995    47\n",
       "9996    41\n",
       "9997    44\n",
       "9998    48\n",
       "9999    45\n",
       "Length: 10000, dtype: int64"
      ]
     },
     "execution_count": 29,
     "metadata": {},
     "output_type": "execute_result"
    }
   ],
   "source": [
    "trials = 10000\n",
    "flips = 100\n",
    "df = DataFrame(choice([1,0], size = (trials, flips)))\n",
    "print(df)\n",
    "counts = df.sum(axis=1)\n",
    "counts"
   ]
  },
  {
   "cell_type": "code",
   "execution_count": 30,
   "metadata": {},
   "outputs": [
    {
     "data": {
      "text/plain": [
       "569"
      ]
     },
     "execution_count": 30,
     "metadata": {},
     "output_type": "execute_result"
    }
   ],
   "source": [
    "# how many times will we get a total between less than 40 or more than 60 heads?\n",
    "extremes = counts[(counts<=40) | (counts >=60)]\n",
    "len(extremes)\n",
    "\n"
   ]
  },
  {
   "cell_type": "code",
   "execution_count": 31,
   "metadata": {},
   "outputs": [
    {
     "data": {
      "text/plain": [
       "5.6899999999999995"
      ]
     },
     "execution_count": 31,
     "metadata": {},
     "output_type": "execute_result"
    }
   ],
   "source": [
    "# what percent of our trials is this? \n",
    "len(extremes) / trials *100"
   ]
  },
  {
   "cell_type": "markdown",
   "metadata": {},
   "source": [
    "----\n",
    "### if you flip 16 coins, 10000 times, \n",
    "### what percent of the time will you get 11 or more heads?"
   ]
  },
  {
   "cell_type": "code",
   "execution_count": 32,
   "metadata": {},
   "outputs": [
    {
     "data": {
      "text/plain": [
       "10.32"
      ]
     },
     "execution_count": 32,
     "metadata": {},
     "output_type": "execute_result"
    }
   ],
   "source": [
    "flips = 16\n",
    "trials = 10000\n",
    "df = DataFrame(choice([1, 0], size = (trials, flips)))\n",
    "counts = df.sum(axis=1)\n",
    "result = counts[counts >= 11]\n",
    "len(result) / trials *100"
   ]
  },
  {
   "cell_type": "markdown",
   "metadata": {},
   "source": [
    "----\n",
    "### How often do we see 7 heads in a row (or more) in a when flipping 16 coins"
   ]
  },
  {
   "cell_type": "code",
   "execution_count": 33,
   "metadata": {},
   "outputs": [
    {
     "data": {
      "text/plain": [
       "4.03"
      ]
     },
     "execution_count": 33,
     "metadata": {},
     "output_type": "execute_result"
    }
   ],
   "source": [
    "seven_or_more = 0\n",
    "trials = 10000\n",
    "for i in range(trials):\n",
    "    s = \"\".join(choice([\"H\",\"T\"], size=16))\n",
    "    #print(s)\n",
    "    if s.find(\"HHHHHHH\") != -1:\n",
    "        seven_or_more += 1\n",
    "seven_or_more / trials * 100"
   ]
  },
  {
   "cell_type": "code",
   "execution_count": null,
   "metadata": {},
   "outputs": [],
   "source": []
  },
  {
   "cell_type": "markdown",
   "metadata": {},
   "source": [
    "### OPTIONAL TOPIC:   Graphing with Histograms"
   ]
  },
  {
   "cell_type": "code",
   "execution_count": null,
   "metadata": {},
   "outputs": [],
   "source": []
  },
  {
   "cell_type": "code",
   "execution_count": null,
   "metadata": {},
   "outputs": [],
   "source": []
  },
  {
   "cell_type": "code",
   "execution_count": 34,
   "metadata": {},
   "outputs": [
    {
     "data": {
      "text/plain": [
       "<AxesSubplot:ylabel='Frequency'>"
      ]
     },
     "execution_count": 34,
     "metadata": {},
     "output_type": "execute_result"
    },
    {
     "data": {
      "image/png": "[encoded data removed]",
      "text/plain": [
       "<Figure size 432x288 with 1 Axes>"
      ]
     },
     "metadata": {
      "needs_background": "light"
     },
     "output_type": "display_data"
    }
   ],
   "source": [
    "# frequency of heads out of 100 flips\n",
    "trials = 10000\n",
    "flips = 100\n",
    "df = DataFrame(choice([1,0], size = (trials, flips)))\n",
    "counts = df.sum(axis=1)\n",
    "counts.plot.hist(bins = [30, 35, 40, 45, 50, 55, 60, 65, 70])\n",
    "#counts.plot.hist(bins = range(30, 70))"
   ]
  },
  {
   "cell_type": "code",
   "execution_count": 35,
   "metadata": {},
   "outputs": [
    {
     "data": {
      "text/plain": [
       "<AxesSubplot:ylabel='Frequency'>"
      ]
     },
     "execution_count": 35,
     "metadata": {},
     "output_type": "execute_result"
    },
    {
     "data": {
      "image/png": "[encoded data removed]",
      "text/plain": [
       "<Figure size 432x288 with 1 Axes>"
      ]
     },
     "metadata": {
      "needs_background": "light"
     },
     "output_type": "display_data"
    }
   ],
   "source": [
    "# this looks like a normal distribution!\n",
    "from numpy.random import normal \n",
    "\n",
    "# loc is the center of the distribution, \n",
    "# scale is the standard deviation (a measure of spread)\n",
    "s = Series(normal(size=10000, loc=50, scale=10))\n",
    "s.plot.hist(bins=100)"
   ]
  },
  {
   "cell_type": "code",
   "execution_count": null,
   "metadata": {},
   "outputs": [],
   "source": []
  }
 ],
 "metadata": {
  "kernelspec": {
   "display_name": "Python 3",
   "language": "python",
   "name": "python3"
  },
  "language_info": {
   "codemirror_mode": {
    "name": "ipython",
    "version": 3
   },
   "file_extension": ".py",
   "mimetype": "text/x-python",
   "name": "python",
   "nbconvert_exporter": "python",
   "pygments_lexer": "ipython3",
   "version": "3.8.5"
  }
 },
 "nbformat": 4,
 "nbformat_minor": 4
}
