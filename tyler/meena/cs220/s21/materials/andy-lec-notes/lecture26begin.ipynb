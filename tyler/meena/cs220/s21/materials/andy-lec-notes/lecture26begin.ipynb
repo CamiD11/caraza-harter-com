{
 "cells": [
  {
   "cell_type": "code",
   "execution_count": 28,
   "metadata": {},
   "outputs": [
    {
     "data": {
      "text/plain": [
       "'bdfhjlno'"
      ]
     },
     "execution_count": 28,
     "metadata": {},
     "output_type": "execute_result"
    }
   ],
   "source": [
    "#Warmup 0: how does this recursion work? Try it in Python tutor\n",
    "\n",
    "def chop(s):\n",
    "    if len(s) < 3:\n",
    "        return s[0]\n",
    "    else:\n",
    "        return s[1] + chop(s[2:])\n",
    "\n",
    "chop(\"abcdefghijklmnop\")\n",
    "\n",
    "# describe it in words here: "
   ]
  },
  {
   "cell_type": "code",
   "execution_count": null,
   "metadata": {},
   "outputs": [],
   "source": [
    "# Warmup 1:  Before you run this code .... what does it do? \n",
    "def square(x):\n",
    "    return x*x\n",
    "\n",
    "\n",
    "def special_sum(nums, transform): #what is type nums? what type is transform?\n",
    "    total = 0\n",
    "    for num in nums:\n",
    "        total += transform(num)\n",
    "    return total\n",
    "\n",
    "print(special_sum([-4, 1, -2, 5], square))\n",
    "\n",
    "# Can we replace 'square' in line 12 with a lambda expression? \n",
    "\n",
    "# Why is using 'map' on the list going to give a totally different result? \n"
   ]
  },
  {
   "cell_type": "code",
   "execution_count": 2,
   "metadata": {},
   "outputs": [
    {
     "name": "stdout",
     "output_type": "stream",
     "text": [
      "Enter pizza diameter(inches), slice count: 13, 2\n",
      "PIZZA: radius=6.5, slices=2, slice square inches=66.36614480708438\n",
      "Enter pizza diameter(inches), slice count: 3, 3\n",
      "PIZZA: radius=1.5, slices=3, slice square inches=2.356194490192345\n",
      "Enter pizza diameter(inches), slice count: 9, 2\n",
      "PIZZA: radius=4.5, slices=2, slice square inches=31.808625617596654\n"
     ]
    }
   ],
   "source": [
    "# Warmup 2: Run this program and think of 3 different kinds of inputs that would crash it.\n",
    "# Name the Runtime errors that occurred here:\n",
    "# \n",
    "# then, think of 2 different inputs that will run but give nonsensical results\n",
    "\n",
    "import math\n",
    "\n",
    "def pizza_size(radius):\n",
    "    return (radius ** 2) * math.pi\n",
    "\n",
    "def slice_size(radius, slice_count):\n",
    "    total_size = pizza_size(radius)\n",
    "    return total_size * (1 / slice_count)\n",
    "\n",
    "def main():\n",
    "    for i in range(3):\n",
    "        # grab input\n",
    "        args = input(\"Enter pizza diameter(inches), slice count: \")\n",
    "        \n",
    "        # parse it into a float and an int\n",
    "        args = args.split(',')\n",
    "        radius = float(args[0].strip()) / 2\n",
    "        slices = int(args[1].strip())\n",
    "\n",
    "        # analyze the inputs\n",
    "        size = slice_size(radius, slices)\n",
    "        print('PIZZA: radius={}, slices={}, slice square inches={}'\n",
    "              .format(radius, slices, size))\n",
    "\n",
    "main()"
   ]
  },
  {
   "cell_type": "markdown",
   "metadata": {},
   "source": [
    "### Lecture 26: Error Handling\n",
    "\n",
    "**Learing Objectives:**\n",
    "    \n",
    "26.1 Explain the purpose of assert statements, try/except blocks, and raise statements.\n",
    "\n",
    "26.2 Use an assert statement to force a program to crash, and trace code that uses assert.\n",
    "\n",
    "26.3 Use try/except blocks to catch runtime errors and deal with them\n",
    "- by specifying the exception(s) caught\n",
    "- by using the exception object\n",
    "\n",
    "26.4 Use the raise statement to raise an exception that may be caught in another part of the program\n",
    "\n",
    "26.5 Hand trace code that uses assert, try/except blocks and raise statements\n",
    "\n"
   ]
  },
  {
   "cell_type": "code",
   "execution_count": 3,
   "metadata": {},
   "outputs": [
    {
     "name": "stdout",
     "output_type": "stream",
     "text": [
      "enter your age: 14\n",
      "in five years you will be 19 years old\n"
     ]
    }
   ],
   "source": [
    "# example 1:  assert is put in code to make it 'fail fast' rather then continue with bad data\n",
    "# Big idea:  runtime errors are easier to debug than semantic (thinking) errors \n",
    "\n",
    "age = int(input(\"enter your age: \"))\n",
    "assert age >= 0    # if True, do nothing    else, crash\n",
    "print(\"in five years you will be\", age + 5, \"years old\")\n"
   ]
  },
  {
   "cell_type": "code",
   "execution_count": 4,
   "metadata": {},
   "outputs": [],
   "source": [
    "# Do Now.  Go back to the the pizza example....\n",
    "# assert that the radius is positive, and that slicecount is positive\n",
    "# test it"
   ]
  },
  {
   "cell_type": "code",
   "execution_count": 12,
   "metadata": {},
   "outputs": [
    {
     "name": "stdout",
     "output_type": "stream",
     "text": [
      "2 inverse is 0.5\n",
      "1 inverse is 1.0\n",
      "-1 inverse is -1.0\n",
      "-2 inverse is -1.0\n",
      "that was fun!\n"
     ]
    }
   ],
   "source": [
    "# example 2:  Another way to handle errors is with 'try' and 'except' blocks. \n",
    "\n",
    "# try and except blocks come in pairs\n",
    "# Python tries to run the code in the try block. \n",
    "# If there’s an exception, jump to the except block (instead of crashing). \n",
    "# This is called “catching” the exception.\n",
    "# If there is no exception, the except block does not run.\n",
    "\n",
    "try:  \n",
    "    print(\"2 inverse is\", 1/2)\n",
    "    print(\"1 inverse is\", 1/1)\n",
    "    # print(\"0 inverse is\", 1/0)   # uncomment this line\n",
    "    print(\"-1 inverse is\", -1/1)\n",
    "    print(\"-2 inverse is\", -1/1)\n",
    "    \n",
    "except:\n",
    "    print(\"Ooops something went wrong!\")\n",
    "    \n",
    "print(\"that was fun!\")"
   ]
  },
  {
   "cell_type": "code",
   "execution_count": 13,
   "metadata": {},
   "outputs": [],
   "source": [
    "# Do Now.  Go back to the pizza example \n",
    "# 1. add a try/catch block to handle all input errors (parse errors)\n",
    "# 2. add a try/catch block to handle any analysis error (division by zero)"
   ]
  },
  {
   "cell_type": "code",
   "execution_count": 14,
   "metadata": {},
   "outputs": [
    {
     "name": "stdout",
     "output_type": "stream",
     "text": [
      "f: let's call g\n",
      "g: before buggy\n",
      "buggy: about to fail\n",
      "f: that didn't go so well\n"
     ]
    }
   ],
   "source": [
    "# example 3:  once an exception is caught, code goes on normally\n",
    "# but if an exception is not caught inside a function, the calling function must deal with it\n",
    "\n",
    "# run this in Python Tutor\n",
    "\n",
    "def buggy():\n",
    "    print(\"buggy: about to fail\")\n",
    "    print(\"buggy: infinity is \", 1/0)\n",
    "    print(\"buggy: oops!\") # never prints\n",
    "\n",
    "def g():\n",
    "    print(\"g: before buggy\")\n",
    "    buggy()\n",
    "    print(\"g: after buggy\") # never prints\n",
    "\n",
    "def f():\n",
    "    try:\n",
    "        print(\"f: let's call g\")\n",
    "        g()\n",
    "        print(\"f: g returned normally\") # never prints\n",
    "    except:\n",
    "        print(\"f: that didn't go so well\")\n",
    "\n",
    "f()\n",
    "\n",
    "# do this:  change where the try/except block is placed \n",
    "#      around line 13\n",
    "#      around line 8\n",
    "# so that all the \"never prints\" messages are actually printed"
   ]
  },
  {
   "cell_type": "code",
   "execution_count": 15,
   "metadata": {},
   "outputs": [],
   "source": [
    "# When an exception is raised, Python generates an exception object.\n",
    "# We can collect the object and use it to help us inform the user\n",
    "\n",
    "# Do Now.  Go back to example 2.  Add \n",
    "# excpeption Exception e:\n",
    "#    print(e)\n",
    "#    print(type(e))\n",
    "#    print(str(e))"
   ]
  },
  {
   "cell_type": "code",
   "execution_count": 16,
   "metadata": {},
   "outputs": [],
   "source": [
    "# Its best to be specific with what exceptions we want to catch\n",
    "# and to print out a detailed message to the user \n",
    "# Do Now.  Go back to example 2 and name the exact kind of exception we want to catch\n"
   ]
  },
  {
   "cell_type": "code",
   "execution_count": 17,
   "metadata": {},
   "outputs": [],
   "source": [
    "# Do Now.  Go back to the Pizza problem.\n",
    "# Make your except statements specific to the problems we named earlier"
   ]
  },
  {
   "cell_type": "markdown",
   "metadata": {},
   "source": [
    "It helps to know some common excpeptions and to know their hierarchy\n",
    "don't try to memorize this but do make a note of the exceptions that occur the most often\n",
    "https://docs.python.org/3/library/exceptions.html\n"
   ]
  },
  {
   "cell_type": "code",
   "execution_count": 22,
   "metadata": {},
   "outputs": [
    {
     "name": "stdout",
     "output_type": "stream",
     "text": [
      "enter your age: -3\n"
     ]
    },
    {
     "ename": "ArithmeticError",
     "evalue": "age can't be negative",
     "output_type": "error",
     "traceback": [
      "\u001b[0;31m---------------------------------------------------------------------------\u001b[0m",
      "\u001b[0;31mArithmeticError\u001b[0m                           Traceback (most recent call last)",
      "\u001b[0;32m<ipython-input-22-e55bb8e0924a>\u001b[0m in \u001b[0;36m<module>\u001b[0;34m\u001b[0m\n\u001b[1;32m      5\u001b[0m \u001b[0;31m# we can 'raise' any exception we want\u001b[0m\u001b[0;34m\u001b[0m\u001b[0;34m\u001b[0m\u001b[0;34m\u001b[0m\u001b[0m\n\u001b[1;32m      6\u001b[0m \u001b[0;32mif\u001b[0m \u001b[0mage\u001b[0m \u001b[0;34m<\u001b[0m \u001b[0;36m0\u001b[0m\u001b[0;34m:\u001b[0m\u001b[0;34m\u001b[0m\u001b[0;34m\u001b[0m\u001b[0m\n\u001b[0;32m----> 7\u001b[0;31m     \u001b[0;32mraise\u001b[0m \u001b[0mArithmeticError\u001b[0m\u001b[0;34m(\u001b[0m\u001b[0;34m\"age can't be negative\"\u001b[0m\u001b[0;34m)\u001b[0m\u001b[0;34m\u001b[0m\u001b[0;34m\u001b[0m\u001b[0m\n\u001b[0m\u001b[1;32m      8\u001b[0m \u001b[0mprint\u001b[0m\u001b[0;34m(\u001b[0m\u001b[0;34m\"in five years you will be\"\u001b[0m\u001b[0;34m,\u001b[0m \u001b[0mage\u001b[0m \u001b[0;34m+\u001b[0m \u001b[0;36m5\u001b[0m\u001b[0;34m,\u001b[0m \u001b[0;34m\"years old\"\u001b[0m\u001b[0;34m)\u001b[0m\u001b[0;34m\u001b[0m\u001b[0;34m\u001b[0m\u001b[0m\n",
      "\u001b[0;31mArithmeticError\u001b[0m: age can't be negative"
     ]
    }
   ],
   "source": [
    "# example 4:   raise exceptions instead of using assert statements\n",
    "\n",
    "age = int(input(\"enter your age: \"))\n",
    "\n",
    "# we can 'raise' any exception we want\n",
    "if age < 0:\n",
    "    raise ArithmeticError(\"age can't be negative\")\n",
    "print(\"in five years you will be\", age + 5, \"years old\") "
   ]
  },
  {
   "cell_type": "code",
   "execution_count": null,
   "metadata": {},
   "outputs": [],
   "source": []
  },
  {
   "cell_type": "code",
   "execution_count": null,
   "metadata": {},
   "outputs": [],
   "source": []
  }
 ],
 "metadata": {
  "kernelspec": {
   "display_name": "Python 3",
   "language": "python",
   "name": "python3"
  },
  "language_info": {
   "codemirror_mode": {
    "name": "ipython",
    "version": 3
   },
   "file_extension": ".py",
   "mimetype": "text/x-python",
   "name": "python",
   "nbconvert_exporter": "python",
   "pygments_lexer": "ipython3",
   "version": "3.8.5"
  }
 },
 "nbformat": 4,
 "nbformat_minor": 4
}
