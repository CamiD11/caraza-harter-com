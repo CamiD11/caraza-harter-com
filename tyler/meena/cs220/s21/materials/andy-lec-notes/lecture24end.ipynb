{
 "cells": [
  {
   "cell_type": "code",
   "execution_count": 13,
   "metadata": {},
   "outputs": [
    {
     "data": {
      "text/plain": [
       "'4.32'"
      ]
     },
     "execution_count": 13,
     "metadata": {},
     "output_type": "execute_result"
    }
   ],
   "source": [
    "# Warm-up\n",
    "# make a new function called strip_currency \n",
    "# strips the $ or euro € from the start of string such as '€2.25' \n",
    "# if you want add other currency signs\n",
    "\n",
    "def strip_currency(s):\n",
    "    if s[0] in ['$', '€' ]:       # add more if you want\n",
    "        return s[1:]\n",
    "    return s\n",
    "\n",
    "# write code to test this with strings that start with $, €, or none of these\n",
    "\n",
    "strip_currency(\"$4.32\") #  --->\"4.32\""
   ]
  },
  {
   "cell_type": "markdown",
   "metadata": {},
   "source": [
    "### Lecture 24: Functions are Objects!\n",
    "\n",
    "As we have learned previously, all variables in Python are stored as objects.\n",
    "\n",
    "This is also true for functions, and it gives us more power as programmers.\n",
    "\n",
    "**Learning Objectives:**\n",
    "\n",
    "24.1 Define a function reference and trace code that uses function references.\n",
    "\n",
    "24.2 Use the map function to apply a function to every element of a list.\n",
    "\n",
    "24.3 Sort a list of tuples, a list of dictionaries, or a dictionary using a function as a key.\n",
    "\n",
    "24.4 Use a lambda expression to abstract function behavior when sorting or mapping."
   ]
  },
  {
   "cell_type": "code",
   "execution_count": 2,
   "metadata": {},
   "outputs": [],
   "source": [
    "# function references\n",
    "# try this in Python Tutor\n",
    "\n",
    "x = [1,2,3]\n",
    "y = x\n",
    "\n",
    "def f(thing):   # what is f?  its a function but also an object\n",
    "    return thing[-1]\n",
    "\n",
    "z = f(y)  # z stores the result of a call to f\n",
    "\n",
    "g = f  # what is g? it is a reference to an object that is a function\n",
    "\n",
    "# TODO:  similar to line 10, store the result of a call to g"
   ]
  },
  {
   "cell_type": "code",
   "execution_count": 3,
   "metadata": {},
   "outputs": [
    {
     "name": "stdout",
     "output_type": "stream",
     "text": [
      "hi\n",
      "hi\n",
      "hi\n"
     ]
    }
   ],
   "source": [
    "# function references can be passed as arguments ...Wow!\n",
    "\n",
    "# try this in Python Tutor\n",
    "\n",
    "def hi():\n",
    "    print(\"hi\")\n",
    "\n",
    "# on your own: define a function called bye\n",
    "\n",
    "def call_n_times(f, n):\n",
    "    for i in range(n):\n",
    "        f()\n",
    "\n",
    "call_n_times(hi, 3)\n",
    "\n",
    "# on your own:  invoke call_n_times with bye and 5 as arguments\n"
   ]
  },
  {
   "cell_type": "code",
   "execution_count": 17,
   "metadata": {},
   "outputs": [
    {
     "data": {
      "text/plain": [
       "['Have', 'a', 'nice', 'Weekend']"
      ]
     },
     "execution_count": 17,
     "metadata": {},
     "output_type": "execute_result"
    }
   ],
   "source": [
    "# OK, so we know that functions can be passed as arguments.\n",
    "# Let's use that idea to write a function that transforms every item in a list\n",
    "\n",
    "def apply_to_each(old_list, f):  # transform every item in old_list by calling f(item)\n",
    "    ''' call the function f on every item in old_list and return the resulting list'''\n",
    "    result = []\n",
    "    for item in old_list:\n",
    "        result.append(f(item))\n",
    "    return result\n",
    "    \n",
    "sentence = \"Have $a $nice Weekend\".split(\" \")\n",
    "\n",
    "# call apply_to_each(sentence, str.upper # nameofclass.method\n",
    "sentence\n",
    "apply_to_each(sentence, str.upper)\n",
    "#apply_to_each(sentence, strip_currency)\n",
    "\n"
   ]
  },
  {
   "cell_type": "code",
   "execution_count": 21,
   "metadata": {},
   "outputs": [
    {
     "data": {
      "text/plain": [
       "[2.43, 6.32, 1.57, 9.23, 10.37]"
      ]
     },
     "execution_count": 21,
     "metadata": {},
     "output_type": "execute_result"
    }
   ],
   "source": [
    "\n",
    "\n",
    "# let's try this out\n",
    "\n",
    "prices = [\"$2.43\", \"6.32\", \"€1.57\",  \"9.23\", \"€10.37\"]\n",
    "\n",
    "p1 = apply_to_each(prices, strip_currency)\n",
    "apply_to_each(p1, float)\n",
    "\n",
    "#apply_to_each(apply_to_each(prices, strip_currency), float)\n",
    "\n"
   ]
  },
  {
   "cell_type": "markdown",
   "metadata": {},
   "source": [
    "### What we did above is very useful, so python has a function for it!!\n",
    "\n",
    "https://www.w3schools.com/python/ref_func_map.asp\n",
    "\n",
    "<pre>map(function, iterable_thing)</pre>\n",
    "\n",
    "applies function to each thing and returns a 'map object'\n",
    "\n",
    "Important: We need to convert the result of map back to the thing we want"
   ]
  },
  {
   "cell_type": "code",
   "execution_count": 26,
   "metadata": {},
   "outputs": [
    {
     "data": {
      "text/plain": [
       "['have', 'a', 'nice', 'weekend']"
      ]
     },
     "execution_count": 26,
     "metadata": {},
     "output_type": "execute_result"
    }
   ],
   "source": [
    "\n",
    "sentence = \"Have a nice Weekend\".split(\" \")\n",
    "\n",
    "list(map(str.lower, sentence))\n",
    "# use map to convert every word to lowercase\n"
   ]
  },
  {
   "cell_type": "code",
   "execution_count": 27,
   "metadata": {},
   "outputs": [
    {
     "data": {
      "text/plain": [
       "[4, 1, 4, 7]"
      ]
     },
     "execution_count": 27,
     "metadata": {},
     "output_type": "execute_result"
    }
   ],
   "source": [
    "# use map to make a list of the lengths of each word\n",
    "list(map(len, sentence))\n"
   ]
  },
  {
   "cell_type": "code",
   "execution_count": null,
   "metadata": {},
   "outputs": [],
   "source": [
    "\n",
    "prices = [\"$2.43\", 6.32, \"€1.57\",  9.23, \"€10.37\"]\n",
    "# use map twice to call strip_currency and then float\n"
   ]
  },
  {
   "cell_type": "code",
   "execution_count": 30,
   "metadata": {},
   "outputs": [
    {
     "data": {
      "text/plain": [
       "[3, 11, 15]"
      ]
     },
     "execution_count": 30,
     "metadata": {},
     "output_type": "execute_result"
    }
   ],
   "source": [
    "rain_prob = [3.7982, 11.4292923, 15.987987]\n",
    "# use map to int on all avlues\n",
    "list(map(int, rain_prob))"
   ]
  },
  {
   "cell_type": "markdown",
   "metadata": {},
   "source": [
    "### Halftime!!"
   ]
  },
  {
   "cell_type": "markdown",
   "metadata": {},
   "source": [
    "### Part Two of Lecture: Sorting\n"
   ]
  },
  {
   "cell_type": "code",
   "execution_count": 32,
   "metadata": {},
   "outputs": [
    {
     "data": {
      "text/plain": [
       "[55, 77, 33, 99, 22]"
      ]
     },
     "execution_count": 32,
     "metadata": {},
     "output_type": "execute_result"
    }
   ],
   "source": [
    "# first... did you know that sort/sorted takes a 2nd argument called reverse?\n",
    "\n",
    "populations = [55, 77, 33, 99, 22]\n",
    "sorted(populations, reverse=True) # returns a new list, keeps old list same\n",
    "#populations.sort(reverse = True)  # modifies our list, not always what we want in CS220\n",
    "populations"
   ]
  },
  {
   "cell_type": "code",
   "execution_count": 33,
   "metadata": {},
   "outputs": [
    {
     "data": {
      "text/plain": [
       "[('JJ', 'Watt', 31),\n",
       " ('Jonathan', 'Taylor', 22),\n",
       " ('Melvin', 'Gordon', 27),\n",
       " ('Russel', 'Wilson', 32)]"
      ]
     },
     "execution_count": 33,
     "metadata": {},
     "output_type": "execute_result"
    }
   ],
   "source": [
    "# sorting part 1....sorting tuples is by default done by element order\n",
    "\n",
    "badgers_in_nfl = [ (\"Jonathan\", \"Taylor\", 22 ), \n",
    "             (\"Russel\", \"Wilson\", 32), \n",
    "            (\"Melvin\", \"Gordon\", 27), \n",
    "            (\"JJ\", \"Watt\", 31)\n",
    "           ]\n",
    "\n",
    "\n",
    "sorted(badgers_in_nfl)  # badgers_in_nfl.sort() works too but modifies the tuple"
   ]
  },
  {
   "cell_type": "code",
   "execution_count": 34,
   "metadata": {},
   "outputs": [
    {
     "data": {
      "text/plain": [
       "[('Jonathan', 'Taylor', 22),\n",
       " ('Melvin', 'Gordon', 27),\n",
       " ('JJ', 'Watt', 31),\n",
       " ('Russel', 'Wilson', 32)]"
      ]
     },
     "execution_count": 34,
     "metadata": {},
     "output_type": "execute_result"
    }
   ],
   "source": [
    "# sorting part 2:  define a function that returns a value from a tuple\n",
    "def select0(some_tuple):  # function must have exactly one parameter\n",
    "    return some_tuple[0]\n",
    "\n",
    "def select1(some_tuple):\n",
    "    return some_tuple[1]\n",
    "\n",
    "def select2(some_tuple):\n",
    "    return some_tuple[2]\n",
    "\n",
    "# sort and sorted can take a parameter named key\n",
    "# key is a reference to a function!\n",
    "\n",
    "sorted(badgers_in_nfl, key=select2) # badgers_in_nfl.sort(key=select)"
   ]
  },
  {
   "cell_type": "markdown",
   "metadata": {},
   "source": [
    "### Power Tip:  Use Lambdas\n",
    "    \n",
    "Lambda expressions are a way to abstract (make a shortcut to) a function reference.\n",
    "\n",
    "Lambda expressions removes the structure of define/name/return for the function.\n",
    "\n",
    "The term 'lambda' comes from mathematical theory.\n",
    "\n"
   ]
  },
  {
   "cell_type": "code",
   "execution_count": 37,
   "metadata": {},
   "outputs": [
    {
     "data": {
      "text/plain": [
       "[('Jonathan', 'Taylor', 22),\n",
       " ('Melvin', 'Gordon', 27),\n",
       " ('JJ', 'Watt', 31),\n",
       " ('Russel', 'Wilson', 32)]"
      ]
     },
     "execution_count": 37,
     "metadata": {},
     "output_type": "execute_result"
    }
   ],
   "source": [
    "# sorting part 3....using lambdas\n",
    "# lambda expressions are a way to abstract (make a shortcut to) a function reference\n",
    "# it removes the structure of define/name/return for the function\n",
    "\n",
    "\n",
    "sorted(badgers_in_nfl, key = lambda  n : n[-1])\n",
    "\n",
    "# read the lambda as:  for each thing in my collection, return thing[-1]\n"
   ]
  },
  {
   "cell_type": "code",
   "execution_count": 38,
   "metadata": {},
   "outputs": [
    {
     "data": {
      "text/plain": [
       "[('JJ', 'Watt', 31),\n",
       " ('Russel', 'Wilson', 32),\n",
       " ('Melvin', 'Gordon', 27),\n",
       " ('Jonathan', 'Taylor', 22)]"
      ]
     },
     "execution_count": 38,
     "metadata": {},
     "output_type": "execute_result"
    }
   ],
   "source": [
    "# TODO: sort the list by the length of the first name\n",
    "sorted(badgers_in_nfl, key = lambda  n : len(n[0]) )"
   ]
  },
  {
   "cell_type": "markdown",
   "metadata": {},
   "source": [
    "**OK, I can sort a list of tuples....what about a list of dictionaries?**"
   ]
  },
  {
   "cell_type": "code",
   "execution_count": 41,
   "metadata": {},
   "outputs": [
    {
     "data": {
      "text/plain": [
       "[{'name': 'B', 'year': 1980, 'speed': 100},\n",
       " {'name': 'C', 'year': 1990, 'speed': 250},\n",
       " {'name': 'A', 'year': 2000, 'speed': 150}]"
      ]
     },
     "execution_count": 41,
     "metadata": {},
     "output_type": "execute_result"
    }
   ],
   "source": [
    "\n",
    "hurricanes = [\n",
    "    {\"name\": \"A\", \"year\": 2000, \"speed\": 150},\n",
    "    {\"name\": \"B\", \"year\": 1980, \"speed\": 100},\n",
    "    {\"name\": \"C\", \"year\": 1990, \"speed\": 250},\n",
    "]\n",
    "\n",
    "# call sorted on hurricanes and use a lambda expression to grab the year\n",
    "sorted(hurricanes, key = lambda  d : d[\"year\"])\n"
   ]
  },
  {
   "cell_type": "code",
   "execution_count": null,
   "metadata": {},
   "outputs": [],
   "source": [
    "# sort hurricanes from lowest to highest speed\n",
    "# for you to do on your own...see the above example"
   ]
  },
  {
   "cell_type": "markdown",
   "metadata": {},
   "source": [
    "**This is all great, but what I'd really like to do is to sort dictionaries!**\n"
   ]
  },
  {
   "cell_type": "code",
   "execution_count": 42,
   "metadata": {},
   "outputs": [
    {
     "data": {
      "text/plain": [
       "['ala mode', 'cookie', 'donut', 'hot dog', 'loaf', 'milk', 'pie']"
      ]
     },
     "execution_count": 42,
     "metadata": {},
     "output_type": "execute_result"
    }
   ],
   "source": [
    "menu = { 'pie': 3.95, \n",
    "         'ala mode':1.50, \n",
    "         'donut': 1.25, \n",
    "         'cookie': 0.79, \n",
    "         'milk':1.65,\n",
    "          'loaf': 5.99,\n",
    "        'hot dog': 4.99}\n",
    "\n",
    "#  sorted always returns a list ...so this does not work:\n",
    "sorted(menu)"
   ]
  },
  {
   "cell_type": "code",
   "execution_count": 43,
   "metadata": {},
   "outputs": [
    {
     "data": {
      "text/plain": [
       "dict_items([('pie', 3.95), ('ala mode', 1.5), ('donut', 1.25), ('cookie', 0.79), ('milk', 1.65), ('loaf', 5.99), ('hot dog', 4.99)])"
      ]
     },
     "execution_count": 43,
     "metadata": {},
     "output_type": "execute_result"
    }
   ],
   "source": [
    "# but we can make progress on this by using the .items() method \n",
    "menu.items()"
   ]
  },
  {
   "cell_type": "code",
   "execution_count": 44,
   "metadata": {},
   "outputs": [
    {
     "data": {
      "text/plain": [
       "[('ala mode', 1.5),\n",
       " ('cookie', 0.79),\n",
       " ('donut', 1.25),\n",
       " ('hot dog', 4.99),\n",
       " ('loaf', 5.99),\n",
       " ('milk', 1.65),\n",
       " ('pie', 3.95)]"
      ]
     },
     "execution_count": 44,
     "metadata": {},
     "output_type": "execute_result"
    }
   ],
   "source": [
    "# that looks like a list of tuples!\n",
    "\n",
    "# let's sort this list of tuples by name\n",
    "\n",
    "sorted(menu.items(), key=lambda x: x[0])"
   ]
  },
  {
   "cell_type": "code",
   "execution_count": 46,
   "metadata": {},
   "outputs": [
    {
     "data": {
      "text/plain": [
       "{'ala mode': 1.5,\n",
       " 'cookie': 0.79,\n",
       " 'donut': 1.25,\n",
       " 'hot dog': 4.99,\n",
       " 'loaf': 5.99,\n",
       " 'milk': 1.65,\n",
       " 'pie': 3.95}"
      ]
     },
     "execution_count": 46,
     "metadata": {},
     "output_type": "execute_result"
    }
   ],
   "source": [
    "# now let's turn this list of tuples into a dict\n",
    "# \n",
    "\n",
    "dict(sorted(menu.items(), key=lambda thing: thing[0]))"
   ]
  },
  {
   "cell_type": "code",
   "execution_count": 47,
   "metadata": {},
   "outputs": [
    {
     "data": {
      "text/plain": [
       "{'cookie': 0.79,\n",
       " 'donut': 1.25,\n",
       " 'ala mode': 1.5,\n",
       " 'milk': 1.65,\n",
       " 'pie': 3.95,\n",
       " 'hot dog': 4.99,\n",
       " 'loaf': 5.99}"
      ]
     },
     "execution_count": 47,
     "metadata": {},
     "output_type": "execute_result"
    }
   ],
   "source": [
    "# can you do the whole thing over again to sort by price? \n",
    "dict(sorted(menu.items(), key=lambda thing: thing[1]))"
   ]
  },
  {
   "cell_type": "code",
   "execution_count": 49,
   "metadata": {},
   "outputs": [
    {
     "data": {
      "text/plain": [
       "{'pie': 3.95,\n",
       " 'milk': 1.65,\n",
       " 'loaf': 5.99,\n",
       " 'donut': 1.25,\n",
       " 'cookie': 0.79,\n",
       " 'hot dog': 4.99,\n",
       " 'ala mode': 1.5}"
      ]
     },
     "execution_count": 49,
     "metadata": {},
     "output_type": "execute_result"
    }
   ],
   "source": [
    "# can you sort the dictionary by the length of the key? \n",
    "dict(sorted(menu.items(), key=lambda thing: len(thing[0])))"
   ]
  },
  {
   "cell_type": "code",
   "execution_count": 50,
   "metadata": {},
   "outputs": [
    {
     "data": {
      "text/plain": [
       "[1936, 1089, 3136, 441, 361]"
      ]
     },
     "execution_count": 50,
     "metadata": {},
     "output_type": "execute_result"
    }
   ],
   "source": [
    "# if time....use map with lambdas\n",
    "\n",
    "numbers = [44, 33, 56, 21, 19]\n",
    "\n",
    "list(map(lambda x : x**2, numbers))\n"
   ]
  },
  {
   "cell_type": "code",
   "execution_count": 52,
   "metadata": {},
   "outputs": [
    {
     "data": {
      "text/plain": [
       "[2, 4, 8, 6, 4, 6, 2, 7]"
      ]
     },
     "execution_count": 52,
     "metadata": {},
     "output_type": "execute_result"
    }
   ],
   "source": [
    "words = ['My', 'very', 'educated', 'mother', 'just', 'served', 'us', 'noodles']\n",
    "\n",
    "# if time....use map and lambda to make a list of string lengths\n",
    "list(map(lambda s : len(s), words))"
   ]
  },
  {
   "cell_type": "code",
   "execution_count": 54,
   "metadata": {},
   "outputs": [
    {
     "data": {
      "text/plain": [
       "[31.798, 11.429, 15.988]"
      ]
     },
     "execution_count": 54,
     "metadata": {},
     "output_type": "execute_result"
    }
   ],
   "source": [
    "percents = [31.7982, 11.4292923, 15.987987]\n",
    "# use map and lambda to make a list rounded to 3 dp\n",
    "\n",
    "list(map(lambda x : round(x,3),  percents))"
   ]
  },
  {
   "cell_type": "code",
   "execution_count": null,
   "metadata": {},
   "outputs": [],
   "source": []
  }
 ],
 "metadata": {
  "kernelspec": {
   "display_name": "Python 3",
   "language": "python",
   "name": "python3"
  },
  "language_info": {
   "codemirror_mode": {
    "name": "ipython",
    "version": 3
   },
   "file_extension": ".py",
   "mimetype": "text/x-python",
   "name": "python",
   "nbconvert_exporter": "python",
   "pygments_lexer": "ipython3",
   "version": "3.8.5"
  }
 },
 "nbformat": 4,
 "nbformat_minor": 4
}
