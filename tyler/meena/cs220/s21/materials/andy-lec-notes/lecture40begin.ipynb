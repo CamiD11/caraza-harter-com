{
 "cells": [
  {
   "cell_type": "code",
   "execution_count": 1,
   "metadata": {},
   "outputs": [],
   "source": [
    "import pandas as pd\n",
    "from pandas import Series, DataFrame"
   ]
  },
  {
   "cell_type": "code",
   "execution_count": 2,
   "metadata": {},
   "outputs": [],
   "source": [
    "%matplotlib inline"
   ]
  },
  {
   "cell_type": "code",
   "execution_count": 3,
   "metadata": {},
   "outputs": [],
   "source": [
    "import matplotlib \n",
    "matplotlib.rcParams[\"font.size\"] = 16"
   ]
  },
  {
   "cell_type": "markdown",
   "metadata": {},
   "source": [
    "## Lecture 40: Randomness\n",
    "**Learning Objectives**\n",
    "\n",
    "<pre>\n",
    "40.1 Control a plot with\n",
    "- axis limits\n",
    "- pyplot.subplots to divide up a plot\n",
    "- logy = True to plot a log graph\n",
    "\n",
    "40.2 Use numpy.choice to generate random samples\n",
    "- use size= to set the number of choices\n",
    "- use p=[] to set the probabilities of choices\n",
    "- use sort_index() and sort_value() to sort numpy.choice results\n",
    "- use a seed value to determine a pseudo-random sequence\n",
    "\n",
    "40.3 Place the results of many simulations into a dataframe and analyze them\n",
    "\n",
    "40.4 Explain the Statistics concepts of fairness\n",
    "\n",
    "40.5 Graph histograms of data, including normal distributions, using plot.hist()\n"
   ]
  },
  {
   "cell_type": "markdown",
   "metadata": {},
   "source": [
    "### Remember the Iris Data? \n"
   ]
  },
  {
   "cell_type": "code",
   "execution_count": 4,
   "metadata": {},
   "outputs": [
    {
     "data": {
      "text/html": [
       "<div>\n",
       "<style scoped>\n",
       "    .dataframe tbody tr th:only-of-type {\n",
       "        vertical-align: middle;\n",
       "    }\n",
       "\n",
       "    .dataframe tbody tr th {\n",
       "        vertical-align: top;\n",
       "    }\n",
       "\n",
       "    .dataframe thead th {\n",
       "        text-align: right;\n",
       "    }\n",
       "</style>\n",
       "<table border=\"1\" class=\"dataframe\">\n",
       "  <thead>\n",
       "    <tr style=\"text-align: right;\">\n",
       "      <th></th>\n",
       "      <th>sep-len</th>\n",
       "      <th>sep-wid</th>\n",
       "      <th>pet-len</th>\n",
       "      <th>pet-wid</th>\n",
       "      <th>class</th>\n",
       "    </tr>\n",
       "  </thead>\n",
       "  <tbody>\n",
       "    <tr>\n",
       "      <th>0</th>\n",
       "      <td>5.1</td>\n",
       "      <td>3.5</td>\n",
       "      <td>1.4</td>\n",
       "      <td>0.2</td>\n",
       "      <td>Iris-setosa</td>\n",
       "    </tr>\n",
       "    <tr>\n",
       "      <th>1</th>\n",
       "      <td>4.9</td>\n",
       "      <td>3.0</td>\n",
       "      <td>1.4</td>\n",
       "      <td>0.2</td>\n",
       "      <td>Iris-setosa</td>\n",
       "    </tr>\n",
       "    <tr>\n",
       "      <th>2</th>\n",
       "      <td>4.7</td>\n",
       "      <td>3.2</td>\n",
       "      <td>1.3</td>\n",
       "      <td>0.2</td>\n",
       "      <td>Iris-setosa</td>\n",
       "    </tr>\n",
       "    <tr>\n",
       "      <th>3</th>\n",
       "      <td>4.6</td>\n",
       "      <td>3.1</td>\n",
       "      <td>1.5</td>\n",
       "      <td>0.2</td>\n",
       "      <td>Iris-setosa</td>\n",
       "    </tr>\n",
       "    <tr>\n",
       "      <th>4</th>\n",
       "      <td>5.0</td>\n",
       "      <td>3.6</td>\n",
       "      <td>1.4</td>\n",
       "      <td>0.2</td>\n",
       "      <td>Iris-setosa</td>\n",
       "    </tr>\n",
       "  </tbody>\n",
       "</table>\n",
       "</div>"
      ],
      "text/plain": [
       "   sep-len  sep-wid  pet-len  pet-wid        class\n",
       "0      5.1      3.5      1.4      0.2  Iris-setosa\n",
       "1      4.9      3.0      1.4      0.2  Iris-setosa\n",
       "2      4.7      3.2      1.3      0.2  Iris-setosa\n",
       "3      4.6      3.1      1.5      0.2  Iris-setosa\n",
       "4      5.0      3.6      1.4      0.2  Iris-setosa"
      ]
     },
     "execution_count": 4,
     "metadata": {},
     "output_type": "execute_result"
    }
   ],
   "source": [
    "import requests\n",
    "resp = requests.get(\"https://archive.ics.uci.edu/ml/machine-learning-databases/iris/iris.data\")\n",
    "resp.raise_for_status()\n",
    "\n",
    "iris_fh = open(\"iris.data\", \"w\")\n",
    "iris_fh.write(resp.text)\n",
    "iris_fh.close()\n",
    "\n",
    "df = pd.read_csv(\"iris.data\",\n",
    "                 names=[\"sep-len\", \"sep-wid\", \"pet-len\", \"pet-wid\", \"class\"])\n",
    "df.head()"
   ]
  },
  {
   "cell_type": "code",
   "execution_count": 5,
   "metadata": {},
   "outputs": [
    {
     "data": {
      "text/html": [
       "<div>\n",
       "<style scoped>\n",
       "    .dataframe tbody tr th:only-of-type {\n",
       "        vertical-align: middle;\n",
       "    }\n",
       "\n",
       "    .dataframe tbody tr th {\n",
       "        vertical-align: top;\n",
       "    }\n",
       "\n",
       "    .dataframe thead th {\n",
       "        text-align: right;\n",
       "    }\n",
       "</style>\n",
       "<table border=\"1\" class=\"dataframe\">\n",
       "  <thead>\n",
       "    <tr style=\"text-align: right;\">\n",
       "      <th></th>\n",
       "      <th>sep-len</th>\n",
       "      <th>sep-wid</th>\n",
       "      <th>pet-len</th>\n",
       "      <th>pet-wid</th>\n",
       "      <th>class</th>\n",
       "    </tr>\n",
       "  </thead>\n",
       "  <tbody>\n",
       "    <tr>\n",
       "      <th>100</th>\n",
       "      <td>6.3</td>\n",
       "      <td>3.3</td>\n",
       "      <td>6.0</td>\n",
       "      <td>2.5</td>\n",
       "      <td>Iris-virginica</td>\n",
       "    </tr>\n",
       "    <tr>\n",
       "      <th>101</th>\n",
       "      <td>5.8</td>\n",
       "      <td>2.7</td>\n",
       "      <td>5.1</td>\n",
       "      <td>1.9</td>\n",
       "      <td>Iris-virginica</td>\n",
       "    </tr>\n",
       "    <tr>\n",
       "      <th>102</th>\n",
       "      <td>7.1</td>\n",
       "      <td>3.0</td>\n",
       "      <td>5.9</td>\n",
       "      <td>2.1</td>\n",
       "      <td>Iris-virginica</td>\n",
       "    </tr>\n",
       "    <tr>\n",
       "      <th>103</th>\n",
       "      <td>6.3</td>\n",
       "      <td>2.9</td>\n",
       "      <td>5.6</td>\n",
       "      <td>1.8</td>\n",
       "      <td>Iris-virginica</td>\n",
       "    </tr>\n",
       "    <tr>\n",
       "      <th>104</th>\n",
       "      <td>6.5</td>\n",
       "      <td>3.0</td>\n",
       "      <td>5.8</td>\n",
       "      <td>2.2</td>\n",
       "      <td>Iris-virginica</td>\n",
       "    </tr>\n",
       "  </tbody>\n",
       "</table>\n",
       "</div>"
      ],
      "text/plain": [
       "     sep-len  sep-wid  pet-len  pet-wid           class\n",
       "100      6.3      3.3      6.0      2.5  Iris-virginica\n",
       "101      5.8      2.7      5.1      1.9  Iris-virginica\n",
       "102      7.1      3.0      5.9      2.1  Iris-virginica\n",
       "103      6.3      2.9      5.6      1.8  Iris-virginica\n",
       "104      6.5      3.0      5.8      2.2  Iris-virginica"
      ]
     },
     "execution_count": 5,
     "metadata": {},
     "output_type": "execute_result"
    }
   ],
   "source": [
    "# make a set of the classes\n",
    "classes = set(df[\"class\"])\n",
    "\n",
    "# make a dataframe just for \"Iris-virginica\"\n",
    "df_sub = df[df[\"class\"] == \"Iris-virginica\"]\n",
    "\n",
    "#assert allows us to force a crash...good when debugging\n",
    "assert(len(df_sub) == 50)\n",
    "\n",
    "df_sub.head()"
   ]
  },
  {
   "cell_type": "markdown",
   "metadata": {},
   "source": [
    "### Axis limits allow us to control the rectangle of a plot\n",
    "<pre>\n",
    "- xlim=  ,   ylim= \n",
    "- can be a single number or a tuple of size 2"
   ]
  },
  {
   "cell_type": "code",
   "execution_count": 6,
   "metadata": {},
   "outputs": [],
   "source": [
    "# TODO: play with the limits here...change them or remove them\n",
    "# can you figure out what xlim and ylim do?\n",
    "\n",
    "#df_sub.plot.scatter(x=\"pet-wid\", y=\"pet-len\")\n",
    "#df_sub.plot.scatter(x=\"pet-wid\", y=\"pet-len\", xlim=1, ylim=6)\n",
    "#df_sub.plot.scatter(x=\"pet-wid\", y=\"pet-len\", xlim=(1,3), ylim=(4,8))"
   ]
  },
  {
   "cell_type": "code",
   "execution_count": 7,
   "metadata": {},
   "outputs": [
    {
     "data": {
      "image/png": "[encoded data removed]",
      "text/plain": [
       "<Figure size 216x216 with 1 Axes>"
      ]
     },
     "metadata": {
      "needs_background": "light"
     },
     "output_type": "display_data"
    }
   ],
   "source": [
    "# can you figure out what this code is doing?\n",
    "# TODO:  play with xlim and ylim to cause an AssertionError\n",
    "\n",
    "ax = df_sub.plot.scatter(x=\"pet-wid\", y=\"pet-len\",\n",
    "                     xlim=(0,4), ylim=(0,7),\n",
    "                     figsize=(3,3))\n",
    "assert df_sub[ax.get_xlabel()].min() >= ax.get_xlim()[0]\n",
    "assert df_sub[ax.get_xlabel()].max() <= ax.get_xlim()[1]\n",
    "assert df_sub[ax.get_ylabel()].min() >= ax.get_ylim()[0]\n",
    "assert df_sub[ax.get_ylabel()].max() <= ax.get_ylim()[1]"
   ]
  },
  {
   "cell_type": "code",
   "execution_count": null,
   "metadata": {},
   "outputs": [],
   "source": []
  },
  {
   "cell_type": "markdown",
   "metadata": {},
   "source": [
    "### Use Log scale for data that has a very large range:"
   ]
  },
  {
   "cell_type": "code",
   "execution_count": 8,
   "metadata": {},
   "outputs": [
    {
     "data": {
      "text/plain": [
       "<AxesSubplot:>"
      ]
     },
     "execution_count": 8,
     "metadata": {},
     "output_type": "execute_result"
    },
    {
     "data": {
      "image/png": "[encoded data removed]",
      "text/plain": [
       "<Figure size 432x288 with 1 Axes>"
      ]
     },
     "metadata": {
      "needs_background": "light"
     },
     "output_type": "display_data"
    }
   ],
   "source": [
    "# fix this line plot so that it uses log scale for the y-axis\n",
    "s = Series([1, 10, 100, 1000, 10000, 100000, 1000000])\n",
    "s.plot.line()"
   ]
  },
  {
   "cell_type": "code",
   "execution_count": null,
   "metadata": {},
   "outputs": [],
   "source": []
  },
  {
   "cell_type": "markdown",
   "metadata": {},
   "source": [
    "### We can splitting up a plot by using pyplot.subplots\n",
    "- pyplot.subplots allows us to specify the number of cols and rows\n",
    "- pyplot.subplots returns a tuple of (figure object, numpy array of axes)"
   ]
  },
  {
   "cell_type": "code",
   "execution_count": 9,
   "metadata": {},
   "outputs": [
    {
     "data": {
      "text/plain": [
       "(<Figure size 432x288 with 6 Axes>,\n",
       " array([[<AxesSubplot:>, <AxesSubplot:>],\n",
       "        [<AxesSubplot:>, <AxesSubplot:>],\n",
       "        [<AxesSubplot:>, <AxesSubplot:>]], dtype=object))"
      ]
     },
     "execution_count": 9,
     "metadata": {},
     "output_type": "execute_result"
    },
    {
     "data": {
      "image/png": "[encoded data removed]",
      "text/plain": [
       "<Figure size 432x288 with 6 Axes>"
      ]
     },
     "metadata": {
      "needs_background": "light"
     },
     "output_type": "display_data"
    }
   ],
   "source": [
    "from matplotlib import pyplot\n",
    "pyplot.subplots(nrows = 3, ncols = 2)"
   ]
  },
  {
   "cell_type": "code",
   "execution_count": 10,
   "metadata": {},
   "outputs": [
    {
     "data": {
      "text/plain": [
       "<AxesSubplot:>"
      ]
     },
     "execution_count": 10,
     "metadata": {},
     "output_type": "execute_result"
    },
    {
     "data": {
      "image/png": "[encoded data removed]",
      "text/plain": [
       "<Figure size 432x288 with 2 Axes>"
      ]
     },
     "metadata": {
      "needs_background": "light"
     },
     "output_type": "display_data"
    }
   ],
   "source": [
    "fig, axes = pyplot.subplots(ncols = 2)\n",
    "# axes[0] # the area on the left\n",
    "# axes[1] # the area on the right\n",
    "Series([1,2,3,3,4]).plot.line(ax=axes[0])\n",
    "Series([5,7,7,8]).plot.line(ax=axes[1])"
   ]
  },
  {
   "cell_type": "code",
   "execution_count": 11,
   "metadata": {},
   "outputs": [
    {
     "data": {
      "text/plain": [
       "<AxesSubplot:>"
      ]
     },
     "execution_count": 11,
     "metadata": {},
     "output_type": "execute_result"
    },
    {
     "data": {
      "image/png": "[encoded data removed]",
      "text/plain": [
       "<Figure size 432x288 with 2 Axes>"
      ]
     },
     "metadata": {
      "needs_background": "light"
     },
     "output_type": "display_data"
    }
   ],
   "source": [
    "# sharey means 'share y axis'\n",
    "\n",
    "fig, axes = pyplot.subplots(ncols = 2, sharey = True)\n",
    "# axes[0] # the area on the left\n",
    "# axes[1] # the area on the right\n",
    "Series([1,2,3,3,4]).plot.line(ax=axes[0], xticks = range(5))\n",
    "Series([5,7,7,8]).plot.line(ax=axes[1], xticks = range(5))"
   ]
  },
  {
   "cell_type": "markdown",
   "metadata": {},
   "source": [
    "### Final Course Topic:  Randomness"
   ]
  },
  {
   "cell_type": "code",
   "execution_count": 12,
   "metadata": {},
   "outputs": [
    {
     "data": {
      "text/plain": [
       "'rock'"
      ]
     },
     "execution_count": 12,
     "metadata": {},
     "output_type": "execute_result"
    }
   ],
   "source": [
    "from numpy.random import choice\n",
    "choice([\"rock\", \"paper\", \"scissors\"])"
   ]
  },
  {
   "cell_type": "markdown",
   "metadata": {},
   "source": [
    "### Random choice using Numpy\n",
    "Even though Python has a built-in random module, the numpy module's version has benefits\n",
    "- Numpy plays well with Pandas\n",
    "- Numpy is optimized\n",
    "- Numpy has lots of features"
   ]
  },
  {
   "cell_type": "code",
   "execution_count": 13,
   "metadata": {},
   "outputs": [
    {
     "data": {
      "text/plain": [
       "array(['scissors', 'scissors', 'paper', 'scissors', 'paper'], dtype='<U8')"
      ]
     },
     "execution_count": 13,
     "metadata": {},
     "output_type": "execute_result"
    }
   ],
   "source": [
    "# choice has a keyword argument size=\n",
    "# returns an object called a numpy array\n",
    "choice([\"rock\", \"paper\", \"scissors\"], size=5)"
   ]
  },
  {
   "cell_type": "code",
   "execution_count": 14,
   "metadata": {},
   "outputs": [
    {
     "data": {
      "text/plain": [
       "numpy.ndarray"
      ]
     },
     "execution_count": 14,
     "metadata": {},
     "output_type": "execute_result"
    }
   ],
   "source": [
    "type(choice([\"rock\", \"paper\", \"scissors\"], size=5))"
   ]
  },
  {
   "cell_type": "code",
   "execution_count": 15,
   "metadata": {},
   "outputs": [
    {
     "data": {
      "text/plain": [
       "'paper'"
      ]
     },
     "execution_count": 15,
     "metadata": {},
     "output_type": "execute_result"
    }
   ],
   "source": [
    "# Numpy arrays can be accessed like lists\n",
    "a = choice([\"rock\", \"paper\", \"scissors\"], size=5)\n",
    "a[2]\n"
   ]
  },
  {
   "cell_type": "code",
   "execution_count": 16,
   "metadata": {},
   "outputs": [
    {
     "data": {
      "text/plain": [
       "0    scissors\n",
       "1       paper\n",
       "2    scissors\n",
       "3       paper\n",
       "4        rock\n",
       "dtype: object"
      ]
     },
     "execution_count": 16,
     "metadata": {},
     "output_type": "execute_result"
    }
   ],
   "source": [
    "# a numpy array can be made into a Series\n",
    "from pandas import Series, DataFrame\n",
    "Series(choice([\"rock\", \"paper\", \"scissors\"], size=5))"
   ]
  },
  {
   "cell_type": "markdown",
   "metadata": {},
   "source": [
    "----\n",
    "### Multidimensional random Series\n",
    "### Goal:  To Run a Massive Simulation with many trials"
   ]
  },
  {
   "cell_type": "code",
   "execution_count": 17,
   "metadata": {},
   "outputs": [
    {
     "name": "stdout",
     "output_type": "stream",
     "text": [
      "[['rock' 'rock']\n",
      " ['scissors' 'scissors']\n",
      " ['scissors' 'paper']\n",
      " ['rock' 'paper']\n",
      " ['paper' 'rock']]\n"
     ]
    }
   ],
   "source": [
    "# the result of choice can be made into a 2d array\n",
    "# TODO:  CHANGE THE SIZE TUPLE\n",
    "a = choice([\"rock\", \"paper\", \"scissors\"], size=(5, 2))\n",
    "print(a)\n"
   ]
  },
  {
   "cell_type": "code",
   "execution_count": 18,
   "metadata": {},
   "outputs": [
    {
     "data": {
      "text/html": [
       "<div>\n",
       "<style scoped>\n",
       "    .dataframe tbody tr th:only-of-type {\n",
       "        vertical-align: middle;\n",
       "    }\n",
       "\n",
       "    .dataframe tbody tr th {\n",
       "        vertical-align: top;\n",
       "    }\n",
       "\n",
       "    .dataframe thead th {\n",
       "        text-align: right;\n",
       "    }\n",
       "</style>\n",
       "<table border=\"1\" class=\"dataframe\">\n",
       "  <thead>\n",
       "    <tr style=\"text-align: right;\">\n",
       "      <th></th>\n",
       "    </tr>\n",
       "  </thead>\n",
       "  <tbody>\n",
       "  </tbody>\n",
       "</table>\n",
       "</div>"
      ],
      "text/plain": [
       "Empty DataFrame\n",
       "Columns: []\n",
       "Index: []"
      ]
     },
     "execution_count": 18,
     "metadata": {},
     "output_type": "execute_result"
    }
   ],
   "source": [
    "# make a 4x7 dataframe with random choices of rock, paper, scissors\n",
    "DataFrame()"
   ]
  },
  {
   "cell_type": "markdown",
   "metadata": {},
   "source": [
    "----\n",
    "### Random results will tyically not match theoretical probabilities\n",
    "### but they are 'fair'"
   ]
  },
  {
   "cell_type": "code",
   "execution_count": 19,
   "metadata": {},
   "outputs": [
    {
     "name": "stdout",
     "output_type": "stream",
     "text": [
      "0         rock\n",
      "1     scissors\n",
      "2        paper\n",
      "3        paper\n",
      "4        paper\n",
      "        ...   \n",
      "95        rock\n",
      "96        rock\n",
      "97        rock\n",
      "98    scissors\n",
      "99       paper\n",
      "Length: 100, dtype: object\n"
     ]
    }
   ],
   "source": [
    "s = Series(choice([\"rock\", \"paper\", \"scissors\"], size=100))\n",
    "vc = s      # TODO:  GRAB THE VALUE COUNTS OF S\n",
    "print(vc)\n",
    "# TODO:  MAKE A BAR CHART OF VALUE COUNTS\n",
    "# TODO:  RUN THIS CELL MANY TIMES AND NOTICE THE RESULTS"
   ]
  },
  {
   "cell_type": "markdown",
   "metadata": {},
   "source": [
    "----\n",
    "### A Series of random results can be sorted\n",
    "<pre>\n",
    "- sort_index()    by index....alphabetical?\n",
    "- sort_value()    by value_counts"
   ]
  },
  {
   "cell_type": "code",
   "execution_count": 20,
   "metadata": {},
   "outputs": [
    {
     "name": "stdout",
     "output_type": "stream",
     "text": [
      "paper       37\n",
      "scissors    34\n",
      "rock        29\n",
      "dtype: int64\n"
     ]
    },
    {
     "data": {
      "text/plain": [
       "<AxesSubplot:>"
      ]
     },
     "execution_count": 20,
     "metadata": {},
     "output_type": "execute_result"
    },
    {
     "data": {
      "image/png": "[encoded data removed]",
      "text/plain": [
       "<Figure size 432x288 with 1 Axes>"
      ]
     },
     "metadata": {
      "needs_background": "light"
     },
     "output_type": "display_data"
    }
   ],
   "source": [
    "# sort this series by index using sort_index()\n",
    "s = Series(choice([\"rock\", \"paper\", \"scissors\"], size=100))\n",
    "vc = s.value_counts()\n",
    "print(vc)\n",
    "vc = vc # TODO: CALL SORT INDEX\n",
    "vc.plot.bar()\n"
   ]
  },
  {
   "cell_type": "code",
   "execution_count": 21,
   "metadata": {},
   "outputs": [
    {
     "name": "stdout",
     "output_type": "stream",
     "text": [
      "paper       36\n",
      "rock        36\n",
      "scissors    28\n",
      "dtype: int64\n"
     ]
    },
    {
     "data": {
      "text/plain": [
       "<AxesSubplot:>"
      ]
     },
     "execution_count": 21,
     "metadata": {},
     "output_type": "execute_result"
    },
    {
     "data": {
      "image/png": "[encoded data removed]",
      "text/plain": [
       "<Figure size 432x288 with 1 Axes>"
      ]
     },
     "metadata": {
      "needs_background": "light"
     },
     "output_type": "display_data"
    }
   ],
   "source": [
    "# sort by value_counts\n",
    "s = Series(choice([\"rock\", \"paper\", \"scissors\"], size=100))\n",
    "vc = s.value_counts()\n",
    "print(vc)\n",
    "vc = vc.sort_values(ascending=False) # TODO remove this\n",
    "vc.plot.bar()"
   ]
  },
  {
   "cell_type": "markdown",
   "metadata": {},
   "source": [
    "----\n",
    "### Choice has a kwarg to allow you to control the probability of selection with a list\n",
    "<pre>\n",
    "- kwarg = \"key word argument\"\n",
    "- p = [ list of floats between 0 and 1]"
   ]
  },
  {
   "cell_type": "code",
   "execution_count": 22,
   "metadata": {},
   "outputs": [
    {
     "name": "stdout",
     "output_type": "stream",
     "text": [
      "rock        28\n",
      "paper       11\n",
      "scissors    61\n",
      "dtype: int64\n"
     ]
    },
    {
     "data": {
      "text/plain": [
       "<AxesSubplot:>"
      ]
     },
     "execution_count": 22,
     "metadata": {},
     "output_type": "execute_result"
    },
    {
     "data": {
      "image/png": "[encoded data removed]",
      "text/plain": [
       "<Figure size 432x288 with 1 Axes>"
      ]
     },
     "metadata": {
      "needs_background": "light"
     },
     "output_type": "display_data"
    }
   ],
   "source": [
    "s = Series(choice([\"rock\", \"paper\", \"scissors\"], size=100, p=[0.30, 0.10, 0.60]))\n",
    "vc = s.value_counts()\n",
    "vc = vc[ [\"rock\", \"paper\", \"scissors\"] ] # this allows us to choose the ordering\n",
    "print(vc)\n",
    "vc.plot.bar()"
   ]
  },
  {
   "cell_type": "markdown",
   "metadata": {},
   "source": [
    "----\n",
    "### Random integer shortcut"
   ]
  },
  {
   "cell_type": "code",
   "execution_count": 23,
   "metadata": {},
   "outputs": [
    {
     "data": {
      "text/plain": [
       "array([0, 1, 4, 5, 1])"
      ]
     },
     "execution_count": 23,
     "metadata": {},
     "output_type": "execute_result"
    }
   ],
   "source": [
    "choice(6, size=5)"
   ]
  },
  {
   "cell_type": "markdown",
   "metadata": {},
   "source": [
    "### How are Pseudo-Random Numbers Generated? \n",
    "- Numpy (and most simple random generators) uses a Pseudo-Random number generator\n",
    "- a starting value determines the next value, and the next value and so on\n",
    "- as long as the sequence is unpredictable, and generates equally likely outcomes, we can call it random\n"
   ]
  },
  {
   "cell_type": "markdown",
   "metadata": {},
   "source": [
    "----\n",
    "### A Random Seed is a number that used to generate the same sequence of random numbers\n",
    "- This is because random number generators use a formula\n",
    "- Random seeds are useful when running code with random numbers through test.py\n",
    "- Random seeds are also useful when debugging code with random numbers"
   ]
  },
  {
   "cell_type": "code",
   "execution_count": 24,
   "metadata": {},
   "outputs": [
    {
     "data": {
      "text/plain": [
       "array([883, 732,  15])"
      ]
     },
     "execution_count": 24,
     "metadata": {},
     "output_type": "execute_result"
    }
   ],
   "source": [
    "import numpy as np\n",
    "np.random.seed(220)\n",
    "choice(1000, size=3)\n",
    "# no matter how many times you run this cell, you get the same result"
   ]
  },
  {
   "cell_type": "code",
   "execution_count": null,
   "metadata": {},
   "outputs": [],
   "source": []
  },
  {
   "cell_type": "markdown",
   "metadata": {},
   "source": [
    "----\n",
    "### We can make this a little more interesting by Seeding with time\n",
    "- It still allows us to have a different outcome on each run\n",
    "\n",
    "- We can trace the seed value when debugging"
   ]
  },
  {
   "cell_type": "code",
   "execution_count": 25,
   "metadata": {},
   "outputs": [
    {
     "name": "stdout",
     "output_type": "stream",
     "text": [
      "Seeded with: 1619617164\n",
      "[ 70 557 524]\n"
     ]
    }
   ],
   "source": [
    "import time\n",
    "time.time()  # number of seconds since 1-1-1970\n",
    "now = int(time.time())\n",
    "now\n",
    "np.random.seed(now)\n",
    "\n",
    "print(\"Seeded with:\", now)\n",
    "print(choice(1000, size=3))"
   ]
  },
  {
   "cell_type": "markdown",
   "metadata": {},
   "source": [
    "----\n",
    "### Big Idea in Statistics is Significance - \n",
    "### Does the data support drawing that conclusion?\n",
    "### What is the probability that our results happened by chance?"
   ]
  },
  {
   "cell_type": "markdown",
   "metadata": {},
   "source": [
    "----\n",
    "### Is it weird that we have 60 heads, 40 tails? How often are we +- 10 of the expected\n",
    "### Important Skill:  Place the results of a simulation into a Data Frame"
   ]
  },
  {
   "cell_type": "code",
   "execution_count": 26,
   "metadata": {},
   "outputs": [
    {
     "data": {
      "text/html": [
       "<div>\n",
       "<style scoped>\n",
       "    .dataframe tbody tr th:only-of-type {\n",
       "        vertical-align: middle;\n",
       "    }\n",
       "\n",
       "    .dataframe tbody tr th {\n",
       "        vertical-align: top;\n",
       "    }\n",
       "\n",
       "    .dataframe thead th {\n",
       "        text-align: right;\n",
       "    }\n",
       "</style>\n",
       "<table border=\"1\" class=\"dataframe\">\n",
       "  <thead>\n",
       "    <tr style=\"text-align: right;\">\n",
       "      <th></th>\n",
       "    </tr>\n",
       "  </thead>\n",
       "  <tbody>\n",
       "  </tbody>\n",
       "</table>\n",
       "</div>"
      ],
      "text/plain": [
       "Empty DataFrame\n",
       "Columns: []\n",
       "Index: []"
      ]
     },
     "execution_count": 26,
     "metadata": {},
     "output_type": "execute_result"
    }
   ],
   "source": [
    "# What happens when we flip 3 coins? Let's conduct 10 trials\n",
    "flips = 3\n",
    "trials = 10\n",
    "df = DataFrame() # TODO:  fill this in\n",
    "df"
   ]
  },
  {
   "cell_type": "code",
   "execution_count": 27,
   "metadata": {},
   "outputs": [
    {
     "data": {
      "text/html": [
       "<div>\n",
       "<style scoped>\n",
       "    .dataframe tbody tr th:only-of-type {\n",
       "        vertical-align: middle;\n",
       "    }\n",
       "\n",
       "    .dataframe tbody tr th {\n",
       "        vertical-align: top;\n",
       "    }\n",
       "\n",
       "    .dataframe thead th {\n",
       "        text-align: right;\n",
       "    }\n",
       "</style>\n",
       "<table border=\"1\" class=\"dataframe\">\n",
       "  <thead>\n",
       "    <tr style=\"text-align: right;\">\n",
       "      <th></th>\n",
       "    </tr>\n",
       "  </thead>\n",
       "  <tbody>\n",
       "  </tbody>\n",
       "</table>\n",
       "</div>"
      ],
      "text/plain": [
       "Empty DataFrame\n",
       "Columns: []\n",
       "Index: []"
      ]
     },
     "execution_count": 27,
     "metadata": {},
     "output_type": "execute_result"
    }
   ],
   "source": [
    "# Instead of H and T, we can use 1 for Heads and 0 for Tails\n",
    "trials = 10\n",
    "flips = 3\n",
    "df = DataFrame() # TODO: FILL THIS IN\n",
    "df"
   ]
  },
  {
   "cell_type": "code",
   "execution_count": 28,
   "metadata": {},
   "outputs": [
    {
     "name": "stdout",
     "output_type": "stream",
     "text": [
      "Empty DataFrame\n",
      "Columns: []\n",
      "Index: []\n",
      "Empty DataFrame\n",
      "Columns: []\n",
      "Index: []\n"
     ]
    }
   ],
   "source": [
    "# BENEFIT OF USING 1=H, 0=T\n",
    "# this allows us to add up the number of heads in each row easily\n",
    "trials = 10\n",
    "flips = 3\n",
    "df = DataFrame()\n",
    "print(df)\n",
    "# sum across columns with axis=1 or axis = 'columns'\n",
    "print(df)          # add across columns....try this 2 ways\n"
   ]
  },
  {
   "cell_type": "code",
   "execution_count": 29,
   "metadata": {},
   "outputs": [
    {
     "name": "stdout",
     "output_type": "stream",
     "text": [
      "Empty DataFrame\n",
      "Columns: []\n",
      "Index: []\n"
     ]
    },
    {
     "data": {
      "text/plain": [
       "Series([], dtype: float64)"
      ]
     },
     "execution_count": 29,
     "metadata": {},
     "output_type": "execute_result"
    }
   ],
   "source": [
    "# now that we understand how the Dataframe is set up, \n",
    "# do another, larger trial\n",
    "trials = 10000\n",
    "flips = 100\n",
    "df = DataFrame() # TODO:  FIX THIS\n",
    "print(df)\n",
    "counts = df.sum() \n",
    "counts"
   ]
  },
  {
   "cell_type": "code",
   "execution_count": 30,
   "metadata": {},
   "outputs": [
    {
     "ename": "SyntaxError",
     "evalue": "invalid syntax (<ipython-input-30-ce08b1259b7d>, line 2)",
     "output_type": "error",
     "traceback": [
      "\u001b[0;36m  File \u001b[0;32m\"<ipython-input-30-ce08b1259b7d>\"\u001b[0;36m, line \u001b[0;32m2\u001b[0m\n\u001b[0;31m    extremes = counts[] # TODO: FIX THIS\u001b[0m\n\u001b[0m                      ^\u001b[0m\n\u001b[0;31mSyntaxError\u001b[0m\u001b[0;31m:\u001b[0m invalid syntax\n"
     ]
    }
   ],
   "source": [
    "# how many times will we get a total between less than 40 or more than 60 heads?\n",
    "extremes = counts[] # TODO: FIX THIS\n",
    "len(extremes)\n",
    "\n"
   ]
  },
  {
   "cell_type": "code",
   "execution_count": null,
   "metadata": {},
   "outputs": [],
   "source": [
    "# what percent of our trials is this? \n",
    "len(extremes) / trials *100"
   ]
  },
  {
   "cell_type": "markdown",
   "metadata": {},
   "source": [
    "----\n",
    "### if you flip 16 coins, 10000 times, \n",
    "### what percent of the time will you get 11 or more heads?"
   ]
  },
  {
   "cell_type": "code",
   "execution_count": null,
   "metadata": {},
   "outputs": [],
   "source": [
    "# PRACTICE....ON YOUR OWN"
   ]
  },
  {
   "cell_type": "markdown",
   "metadata": {},
   "source": [
    "----\n",
    "### How often do we see 7 heads in a row (or more) in a when flipping 16 coins ? \n",
    "### Use choice and analyze each trial without making a dataframe"
   ]
  },
  {
   "cell_type": "code",
   "execution_count": null,
   "metadata": {},
   "outputs": [],
   "source": [
    "seven_or_more = 0\n",
    "trials = 10000\n",
    "for i in range(trials):\n",
    "    s = \"\".join(choice([\"H\",\"T\"], size=16))\n",
    "    #print(s)\n",
    "    if s.find(\"HHHHHHH\") != -1:\n",
    "        seven_or_more += 1\n",
    "seven_or_more / trials * 100"
   ]
  },
  {
   "cell_type": "code",
   "execution_count": null,
   "metadata": {},
   "outputs": [],
   "source": []
  },
  {
   "cell_type": "markdown",
   "metadata": {},
   "source": [
    "### FINAL CS220 TOPIC.... Graphing with Histograms"
   ]
  },
  {
   "cell_type": "code",
   "execution_count": null,
   "metadata": {},
   "outputs": [],
   "source": []
  },
  {
   "cell_type": "code",
   "execution_count": null,
   "metadata": {},
   "outputs": [],
   "source": []
  },
  {
   "cell_type": "code",
   "execution_count": null,
   "metadata": {},
   "outputs": [],
   "source": [
    "# frequency of heads out of 100 flips\n",
    "trials = 10000\n",
    "flips = 100\n",
    "df = DataFrame(choice([1,0], size = (trials, flips)))\n",
    "counts = df.sum(axis=1)\n",
    "counts.plot.hist(bins = 3) # TODO: CHANGE THIS NUMBER\n",
    "#counts.plot.hist(bins = [30, 35, 40, 45, 50, 55, 60, 65, 70]) # TODO: CHANGE THESE NUMBERS\n",
    "#TODO: ALSO TRY BINS = RANGE( , )"
   ]
  },
  {
   "cell_type": "code",
   "execution_count": null,
   "metadata": {},
   "outputs": [],
   "source": [
    "# this looks like a normal distribution!\n",
    "from numpy.random import normal \n",
    "\n",
    "# loc is the center of the distribution, \n",
    "# scale is the standard deviation (a measure of spread)\n",
    "s = Series(normal(size=10000, loc=50, scale=10))\n",
    "s.plot.hist(bins=100)\n",
    "\n",
    "# TODO: CHANGE LOC, SCALE, BINS, SIZE"
   ]
  },
  {
   "cell_type": "code",
   "execution_count": null,
   "metadata": {},
   "outputs": [],
   "source": [
    "# PRACTICE :Draw a normal distribution of total snowfall in a season in Madison, WI\n",
    "# Assume the mean total of snow is 51 inches, with a standard deviation of 15 inches"
   ]
  }
 ],
 "metadata": {
  "kernelspec": {
   "display_name": "Python 3",
   "language": "python",
   "name": "python3"
  },
  "language_info": {
   "codemirror_mode": {
    "name": "ipython",
    "version": 3
   },
   "file_extension": ".py",
   "mimetype": "text/x-python",
   "name": "python",
   "nbconvert_exporter": "python",
   "pygments_lexer": "ipython3",
   "version": "3.8.5"
  }
 },
 "nbformat": 4,
 "nbformat_minor": 4
}
