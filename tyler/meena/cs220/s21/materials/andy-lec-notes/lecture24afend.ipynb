{
 "cells": [
  {
   "cell_type": "code",
   "execution_count": null,
   "metadata": {},
   "outputs": [],
   "source": []
  },
  {
   "cell_type": "code",
   "execution_count": null,
   "metadata": {},
   "outputs": [],
   "source": [
    "# Functions are Objects!"
   ]
  },
  {
   "cell_type": "code",
   "execution_count": 1,
   "metadata": {},
   "outputs": [],
   "source": [
    "# example : a reference to a function object\n",
    "# try this in Python Tutor\n",
    "\n",
    "x = [1,2,3]\n",
    "y = x\n",
    "\n",
    "def f():   # what is f?  its a function but also an object\n",
    "    return \"hi\"\n",
    "\n",
    "g = f  # what is g? it is a reference to an object that is a function\n",
    "\n",
    "z = f()"
   ]
  },
  {
   "cell_type": "code",
   "execution_count": 2,
   "metadata": {},
   "outputs": [
    {
     "name": "stdout",
     "output_type": "stream",
     "text": [
      "hi\n",
      "hi\n",
      "hi\n"
     ]
    }
   ],
   "source": [
    "# example :  function references can be passed as arguments ...Wow!\n",
    "\n",
    "# try this in Python Tutor\n",
    "\n",
    "def hi():\n",
    "    print(\"hi\")\n",
    "\n",
    "def call_n_times(f, n):\n",
    "    for i in range(n):\n",
    "        f()\n",
    "\n",
    "call_n_times(f=hi, n=3)"
   ]
  },
  {
   "cell_type": "code",
   "execution_count": 11,
   "metadata": {},
   "outputs": [],
   "source": [
    "# Next... Advanced Sorting using function referenes"
   ]
  },
  {
   "cell_type": "code",
   "execution_count": 50,
   "metadata": {},
   "outputs": [
    {
     "data": {
      "text/plain": [
       "[99, 77, 55, 33, 22]"
      ]
     },
     "execution_count": 50,
     "metadata": {},
     "output_type": "execute_result"
    }
   ],
   "source": [
    "# first... did you know that sort/sorted takes a 2nd argument called reverse?\n",
    "\n",
    "populations = [55, 77, 33, 99, 22]\n",
    "#print(sorted(populations, reverse=True)) # returns a new list, keeps old list same\n",
    "populations.sort(reverse = True)\n",
    "populations"
   ]
  },
  {
   "cell_type": "code",
   "execution_count": 57,
   "metadata": {},
   "outputs": [
    {
     "data": {
      "text/plain": [
       "[('JJ', 'Watt', 31),\n",
       " ('Jonathan', 'Taylor', 22),\n",
       " ('Melvin', 'Gordon', 27),\n",
       " ('Russel', 'Wilson', 32)]"
      ]
     },
     "execution_count": 57,
     "metadata": {},
     "output_type": "execute_result"
    }
   ],
   "source": [
    "# sorting part 1....sorting tuples is by default done by element order\n",
    "\n",
    "badgers_in_nfl = [ (\"Jonathan\", \"Taylor\", 22 ), \n",
    "             (\"Russel\", \"Wilson\", 32), \n",
    "            (\"Melvin\", \"Gordon\", 27), \n",
    "\n",
    "            (\"JJ\", \"Watt\", 31)\n",
    "           ]\n",
    "\n",
    "\n",
    "sorted(badgers_in_nfl)  # badgers_in_nfl.sort() modified the list"
   ]
  },
  {
   "cell_type": "code",
   "execution_count": 58,
   "metadata": {},
   "outputs": [
    {
     "data": {
      "text/plain": [
       "[('JJ', 'Watt', 31),\n",
       " ('Russel', 'Wilson', 32),\n",
       " ('Melvin', 'Gordon', 27),\n",
       " ('Jonathan', 'Taylor', 22)]"
      ]
     },
     "execution_count": 58,
     "metadata": {},
     "output_type": "execute_result"
    }
   ],
   "source": [
    "# sorting part 2:  define a function that returns a value from a tuple\n",
    "def select(some_tuple):  # function must have exactly one parameter\n",
    "    #return some_tuple[-1]\n",
    "    return some_tuple[0]\n",
    "    #return len(some_tuple[0])\n",
    "\n",
    "# sort and sorted also take a parameter called key\n",
    "# key is a reference to a function!\n",
    "\n",
    "sorted(badgers_in_nfl, key=select) # badgers_in_nfl.sort(key=select)\n",
    "\n",
    "\n",
    "\n"
   ]
  },
  {
   "cell_type": "code",
   "execution_count": 61,
   "metadata": {},
   "outputs": [
    {
     "name": "stdout",
     "output_type": "stream",
     "text": [
      "('Jonathan', 'Taylor', 22)\n",
      "('Russel', 'Wilson', 32)\n",
      "('Melvin', 'Gordon', 27)\n",
      "('JJ', 'Watt', 31)\n"
     ]
    },
    {
     "data": {
      "text/plain": [
       "[('Jonathan', 'Taylor', 22),\n",
       " ('Melvin', 'Gordon', 27),\n",
       " ('JJ', 'Watt', 31),\n",
       " ('Russel', 'Wilson', 32)]"
      ]
     },
     "execution_count": 61,
     "metadata": {},
     "output_type": "execute_result"
    }
   ],
   "source": [
    "# sorting part 3\n",
    "# the function can do anything you want it to do\n",
    "# the function must have exactly one parameter\n",
    "# and when sorting, the element of the thing being sorted is an implied parameter!\n",
    "import random\n",
    "\n",
    "def random_select(x):\n",
    "    print(x)\n",
    "    return random.random()\n",
    "\n",
    "\n",
    "sorted(badgers_in_nfl, key=random_select) \n"
   ]
  },
  {
   "cell_type": "code",
   "execution_count": 62,
   "metadata": {},
   "outputs": [
    {
     "data": {
      "text/plain": [
       "[('JJ', 'Watt', 31),\n",
       " ('Russel', 'Wilson', 32),\n",
       " ('Jonathan', 'Taylor', 22),\n",
       " ('Melvin', 'Gordon', 27)]"
      ]
     },
     "execution_count": 62,
     "metadata": {},
     "output_type": "execute_result"
    }
   ],
   "source": [
    "# sorting part 4...explain what this selector does\n",
    "\n",
    "def other_select(thing):  # this function is giving information to the sorted method\n",
    "    return thing[0][-1]  \n",
    "\n",
    "sorted(badgers_in_nfl, key=other_select) "
   ]
  },
  {
   "cell_type": "markdown",
   "metadata": {},
   "source": [
    "The value of the key parameter should be a function (or other callable) that takes a single argument and returns a key to use for sorting purposes. This technique is fast because the key function is called exactly once for each input record.\n",
    "\n",
    "from https://docs.python.org/3/howto/sorting.html"
   ]
  },
  {
   "cell_type": "code",
   "execution_count": 65,
   "metadata": {},
   "outputs": [
    {
     "data": {
      "text/plain": [
       "[('Jonathan', 'Taylor', 22),\n",
       " ('Melvin', 'Gordon', 27),\n",
       " ('JJ', 'Watt', 31),\n",
       " ('Russel', 'Wilson', 32)]"
      ]
     },
     "execution_count": 65,
     "metadata": {},
     "output_type": "execute_result"
    }
   ],
   "source": [
    "# sorting part 5....using lambdas\n",
    "# lambda expressions are a way to abstract (make a shortcut to) a function reference\n",
    "# it removes the structure of defining/returing a value/naming the function\n",
    "\n",
    "\n",
    "sorted(badgers_in_nfl, key = lambda thing: thing[2])  # inline reference\n",
    "\n",
    "# read the lambda as:  for each thing in my collection, return thing[0]\n",
    "\n",
    "\n"
   ]
  },
  {
   "cell_type": "code",
   "execution_count": 66,
   "metadata": {},
   "outputs": [
    {
     "data": {
      "text/plain": [
       "[('Jonathan', 'Taylor', 22),\n",
       " ('Russel', 'Wilson', 32),\n",
       " ('Melvin', 'Gordon', 27),\n",
       " ('JJ', 'Watt', 31)]"
      ]
     },
     "execution_count": 66,
     "metadata": {},
     "output_type": "execute_result"
    }
   ],
   "source": [
    "sorted(badgers_in_nfl, key = lambda x: len(x[0]), reverse=True)   \n",
    "# read the lambda as:  for each x in my collection, \n",
    "# sort reversed based on age"
   ]
  },
  {
   "cell_type": "code",
   "execution_count": 39,
   "metadata": {},
   "outputs": [
    {
     "data": {
      "text/plain": [
       "[('Jonathan', 'Taylor', 22),\n",
       " ('Melvin', 'Gordon', 27),\n",
       " ('Russel', 'Wilson', 32),\n",
       " ('JJ', 'Watt', 31)]"
      ]
     },
     "execution_count": 39,
     "metadata": {},
     "output_type": "execute_result"
    }
   ],
   "source": [
    "sorted(badgers_in_nfl, key = lambda y: y, reverse=True)   \n",
    "# read the lambda as : for each y in my collection, return the length of y[0]"
   ]
  },
  {
   "cell_type": "code",
   "execution_count": 67,
   "metadata": {},
   "outputs": [
    {
     "data": {
      "text/plain": [
       "['ala mode', 'cookie', 'donut', 'hot dog', 'loaf', 'milk', 'pie']"
      ]
     },
     "execution_count": 67,
     "metadata": {},
     "output_type": "execute_result"
    }
   ],
   "source": [
    "price = { 'pie': 3.95, \n",
    "         'ala mode':1.50, \n",
    "         'donut': 1.25, \n",
    "         'cookie': 0.79, \n",
    "         'milk':1.65,\n",
    "          'loaf': 5.99,\n",
    "        'hot dog': 4.99}\n",
    "\n",
    "#  sorted always returns a list ...so this does not work:\n",
    "sorted(price)\n"
   ]
  },
  {
   "cell_type": "code",
   "execution_count": 68,
   "metadata": {},
   "outputs": [
    {
     "data": {
      "text/plain": [
       "dict_items([('pie', 3.95), ('ala mode', 1.5), ('donut', 1.25), ('cookie', 0.79), ('milk', 1.65), ('loaf', 5.99), ('hot dog', 4.99)])"
      ]
     },
     "execution_count": 68,
     "metadata": {},
     "output_type": "execute_result"
    }
   ],
   "source": [
    "# but we can make progress on this by using the .items() method \n",
    "price.items()"
   ]
  },
  {
   "cell_type": "code",
   "execution_count": 70,
   "metadata": {},
   "outputs": [
    {
     "data": {
      "text/plain": [
       "[('ala mode', 1.5),\n",
       " ('cookie', 0.79),\n",
       " ('donut', 1.25),\n",
       " ('hot dog', 4.99),\n",
       " ('loaf', 5.99),\n",
       " ('milk', 1.65),\n",
       " ('pie', 3.95)]"
      ]
     },
     "execution_count": 70,
     "metadata": {},
     "output_type": "execute_result"
    }
   ],
   "source": [
    "# that looks like a list tuples!\n",
    "\n",
    "# let's sort this list of tuples\n",
    "sorted(price.items(), key=lambda x: x[0])"
   ]
  },
  {
   "cell_type": "code",
   "execution_count": 71,
   "metadata": {},
   "outputs": [
    {
     "data": {
      "text/plain": [
       "{'ala mode': 1.5,\n",
       " 'cookie': 0.79,\n",
       " 'donut': 1.25,\n",
       " 'hot dog': 4.99,\n",
       " 'loaf': 5.99,\n",
       " 'milk': 1.65,\n",
       " 'pie': 3.95}"
      ]
     },
     "execution_count": 71,
     "metadata": {},
     "output_type": "execute_result"
    }
   ],
   "source": [
    "# now let's turn this list of tuples into a dict\n",
    "# \n",
    "dict(sorted(price.items(), key=lambda x: x[0]))"
   ]
  },
  {
   "cell_type": "code",
   "execution_count": null,
   "metadata": {},
   "outputs": [],
   "source": [
    "# can you do the whole thing over again to sort by name? "
   ]
  }
 ],
 "metadata": {
  "kernelspec": {
   "display_name": "Python 3",
   "language": "python",
   "name": "python3"
  },
  "language_info": {
   "codemirror_mode": {
    "name": "ipython",
    "version": 3
   },
   "file_extension": ".py",
   "mimetype": "text/x-python",
   "name": "python",
   "nbconvert_exporter": "python",
   "pygments_lexer": "ipython3",
   "version": "3.8.5"
  }
 },
 "nbformat": 4,
 "nbformat_minor": 4
}
