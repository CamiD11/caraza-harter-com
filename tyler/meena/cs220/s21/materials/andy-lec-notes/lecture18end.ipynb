{
 "cells": [
  {
   "cell_type": "markdown",
   "metadata": {},
   "source": [
    "As we are getting more sofisticated in this course, its time to define...\n",
    "### Data Structure <br>\n",
    "a data structure is a collection of data values, the relationships among them, and the functions or operations that can be applied to the data  (Wikipedia)\n",
    "\n",
    "In Python, Data Structures are called Collections\n",
    "\n",
    "![collections hierarchy](collections.png)\n",
    "\n",
    "Today you will learn how store data in Dictionaries. \n",
    "\n",
    "#### Dictionary <br>\n",
    "A dictionary is like a list, but more general. In a list, the indices have to be integers; in a dictionary they can be any **immutable** type. You can think of a dictionary as a mapping between a set of indices (which are called keys)and a set of values. Each key maps to a value. The association of a key and a value is called a key-value pair or sometimes an item. (from Think Python, Chapter 11)\n",
    "\n"
   ]
  },
  {
   "cell_type": "code",
   "execution_count": 1,
   "metadata": {},
   "outputs": [
    {
     "data": {
      "text/plain": [
       "{'pie': 3.95,\n",
       " 'ala mode': 1.5,\n",
       " 'donut': 1.25,\n",
       " 'muffin': 2.25,\n",
       " 'brownie': 3.15,\n",
       " 'cookie': 0.79,\n",
       " 'milk': 1.65,\n",
       " 'loaf': 5.99,\n",
       " 'hot dog': 4.99}"
      ]
     },
     "execution_count": 1,
     "metadata": {},
     "output_type": "execute_result"
    }
   ],
   "source": [
    "# a dictionary that stores prices of bakery items\n",
    "# create a dictionary of key/value pairs\n",
    "# curly brackets\n",
    "price = { 'pie': 3.95, \n",
    "         'ala mode':1.50, \n",
    "         'donut': 1.25, \n",
    "         'muffin': 2.25,\n",
    "         'brownie': 3.15,\n",
    "         'cookie': 0.79, \n",
    "         'milk':1.65,\n",
    "          'loaf': 5.99,\n",
    "        'hot dog': 4.99}  # feel free to add some of your own here\n",
    "price"
   ]
  },
  {
   "cell_type": "code",
   "execution_count": 2,
   "metadata": {},
   "outputs": [
    {
     "name": "stdout",
     "output_type": "stream",
     "text": [
      "9\n",
      "5.99\n"
     ]
    }
   ],
   "source": [
    "# print the length of the dictionary\n",
    "print(len(price))\n",
    "\n",
    "#get the price for a certain item\n",
    "print(price['loaf'])\n",
    "\n",
    "#get the price for donut\n",
    "\n"
   ]
  },
  {
   "cell_type": "code",
   "execution_count": 3,
   "metadata": {},
   "outputs": [
    {
     "data": {
      "text/plain": [
       "{'pie': 3.95,\n",
       " 'ala mode': 1.5,\n",
       " 'donut': 1.25,\n",
       " 'muffin': 2.25,\n",
       " 'brownie': 3.15,\n",
       " 'cookie': 0.79,\n",
       " 'milk': 1.65,\n",
       " 'loaf': 5.99,\n",
       " 'hot dog': 4.99,\n",
       " 'drink': 2.49}"
      ]
     },
     "execution_count": 3,
     "metadata": {},
     "output_type": "execute_result"
    }
   ],
   "source": [
    "# Dictionaries are mutable\n",
    "# add a new key/value pair\n",
    "price['drink'] = 2.49\n",
    "\n",
    "# add one of your own\n",
    "\n",
    "\n",
    "price"
   ]
  },
  {
   "cell_type": "code",
   "execution_count": 4,
   "metadata": {},
   "outputs": [
    {
     "data": {
      "text/plain": [
       "{'pie': 3.95,\n",
       " 'ala mode': 1.5,\n",
       " 'donut': 1.25,\n",
       " 'muffin': 2.25,\n",
       " 'brownie': 3.15,\n",
       " 'cookie': 0.79,\n",
       " 'milk': 1.65,\n",
       " 'loaf': 5.99,\n",
       " 'hot dog': 4.99,\n",
       " 'drink': 2.99}"
      ]
     },
     "execution_count": 4,
     "metadata": {},
     "output_type": "execute_result"
    }
   ],
   "source": [
    "# dictionaries are mutable\n",
    "# change the value associated with a key....syntax is like add\n",
    "\n",
    "price['drink'] = 2.99\n",
    "\n",
    "\n",
    "    \n",
    "price "
   ]
  },
  {
   "cell_type": "code",
   "execution_count": 5,
   "metadata": {},
   "outputs": [
    {
     "data": {
      "text/plain": [
       "{'pie': 3.95,\n",
       " 'ala mode': 1.5,\n",
       " 'donut': 1.25,\n",
       " 'muffin': 2.25,\n",
       " 'brownie': 3.15,\n",
       " 'cookie': 0.79,\n",
       " 'milk': 1.65,\n",
       " 'loaf': 5.99,\n",
       " 'drink': 2.99}"
      ]
     },
     "execution_count": 5,
     "metadata": {},
     "output_type": "execute_result"
    }
   ],
   "source": [
    "# delete a key/value pair\n",
    "price.pop('hot dog')  # or del(price['hot dog'])\n",
    "\n",
    "# delete another key/value pair\n",
    "if 'smoothie' in price:\n",
    "    price.pop('smoothie')\n",
    "price"
   ]
  },
  {
   "cell_type": "code",
   "execution_count": 11,
   "metadata": {},
   "outputs": [
    {
     "name": "stdout",
     "output_type": "stream",
     "text": [
      "dict_keys(['pie', 'ala mode', 'donut', 'muffin', 'brownie', 'cookie', 'milk', 'loaf', 'drink'])\n",
      "['pie', 'ala mode', 'donut', 'muffin', 'brownie', 'cookie', 'milk', 'loaf', 'drink']\n"
     ]
    }
   ],
   "source": [
    "# get all keys\n",
    "print(price.keys())\n",
    "print(list(price.keys()))\n"
   ]
  },
  {
   "cell_type": "code",
   "execution_count": 12,
   "metadata": {},
   "outputs": [
    {
     "name": "stdout",
     "output_type": "stream",
     "text": [
      "dict_values([3.95, 1.5, 1.25, 2.25, 3.15, 0.79, 1.65, 5.99, 2.99])\n",
      "[3.95, 1.5, 1.25, 2.25, 3.15, 0.79, 1.65, 5.99, 2.99]\n"
     ]
    }
   ],
   "source": [
    "# get all values\n",
    "print(price.values())\n",
    "print(list(price.values()))"
   ]
  },
  {
   "cell_type": "code",
   "execution_count": 14,
   "metadata": {},
   "outputs": [
    {
     "name": "stdout",
     "output_type": "stream",
     "text": [
      "True\n",
      "False\n",
      "False\n",
      "True\n"
     ]
    }
   ],
   "source": [
    "# use 'in' to see if a key exists\n",
    "print('donut' in price)  # default is to check the keys\n",
    "print(9.95 in price)     # default is NOT values\n",
    "print('apple' in price.keys())   # can call out the keys\n",
    "print(3.95 in price.values())    # can check the values"
   ]
  },
  {
   "cell_type": "code",
   "execution_count": 9,
   "metadata": {},
   "outputs": [],
   "source": [
    "# good summary of common dictionary methods\n",
    "# https://www.w3schools.com/python/python_ref_dictionary.asp"
   ]
  },
  {
   "cell_type": "code",
   "execution_count": 20,
   "metadata": {},
   "outputs": [
    {
     "name": "stdout",
     "output_type": "stream",
     "text": [
      "['pie', 'donut', 'milk', 'cookie', 'tofu']\n",
      "tofu not in the price dictionary\n",
      "Your total is $7.64\n"
     ]
    }
   ],
   "source": [
    "# Example 1: fill a list with an order\n",
    "order = ['pie', 'donut', 'milk', 'cookie', 'tofu'] # add more items to the order\n",
    "print(order)\n",
    "\n",
    "total = 0\n",
    "for item in order:\n",
    "    if item in price:\n",
    "        total += price[item]\n",
    "    else:\n",
    "        print(item, \"not in the price dictionary\")\n",
    "# find the total of the items in the order\n",
    "\n",
    "    \n",
    "print (\"Your total is ${:.2f}\".format(total))"
   ]
  },
  {
   "cell_type": "code",
   "execution_count": 25,
   "metadata": {},
   "outputs": [
    {
     "name": "stdout",
     "output_type": "stream",
     "text": [
      "{'m': 2, 'e': 6, 't': 6, 'a': 5, 'h': 2, 'b': 1, 'i': 1, 'k': 2, 'r': 2, 'c': 2, 's': 2, 'f': 1, 'o': 3, 'l': 1, '3': 2, ':': 1, '0': 1, 'd': 1, 'y': 1}\n"
     ]
    }
   ],
   "source": [
    "# Example 2a:  find the frequency of characters in a sentence\n",
    "\n",
    "# start with an empty dictionary\n",
    "letter_freq = {} \n",
    "# letter_freq = dict()   # other way\n",
    "\n",
    "sentence = \"Meet me at the bike racks after school at 3:30 today.\"\n",
    "\n",
    "for letter in sentence:\n",
    "    if letter in [' ', '.', ',']:\n",
    "        continue\n",
    "    letter = letter.lower()\n",
    "    if not (letter in letter_freq.keys()):\n",
    "        letter_freq[letter] = 1 \n",
    "    else:\n",
    "        letter_freq[letter] = letter_freq[letter] + 1\n",
    "print(letter_freq)\n"
   ]
  },
  {
   "cell_type": "code",
   "execution_count": 28,
   "metadata": {},
   "outputs": [
    {
     "name": "stdout",
     "output_type": "stream",
     "text": [
      "the character e appeared 6 times\n"
     ]
    }
   ],
   "source": [
    "# Example 2b: find the letter that occurred the most\n",
    "most_used_key = None\n",
    "max_value = None\n",
    "\n",
    "for key in letter_freq:\n",
    "    if most_used_key == None or letter_freq[key] > max_value:\n",
    "        most_used_key = key\n",
    "        max_value = letter_freq[key]\n",
    "\n",
    "print(\"the character {} appeared {} times\".format(str(most_used_key), max_value))"
   ]
  },
  {
   "cell_type": "code",
   "execution_count": null,
   "metadata": {},
   "outputs": [],
   "source": [
    "# if time....download this python script to your folder for this lecture\n",
    "# https://tinyurl.com/ys23san8\n",
    "# run the script with the command python scores_dictionary.py\n",
    "\n",
    "# you might be interested in editing this script by opening it up in IDLE\n",
    "# after you edit and save, then go back to the command line to run it.\n"
   ]
  },
  {
   "cell_type": "code",
   "execution_count": null,
   "metadata": {},
   "outputs": [],
   "source": [
    "# Read the slides to explain how dictionaries relate to lists and sets"
   ]
  }
 ],
 "metadata": {
  "kernelspec": {
   "display_name": "Python 3",
   "language": "python",
   "name": "python3"
  },
  "language_info": {
   "codemirror_mode": {
    "name": "ipython",
    "version": 3
   },
   "file_extension": ".py",
   "mimetype": "text/x-python",
   "name": "python",
   "nbconvert_exporter": "python",
   "pygments_lexer": "ipython3",
   "version": "3.8.5"
  }
 },
 "nbformat": 4,
 "nbformat_minor": 4
}
