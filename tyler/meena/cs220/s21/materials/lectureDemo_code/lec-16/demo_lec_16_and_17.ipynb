{
 "cells": [
  {
   "cell_type": "code",
   "execution_count": 1,
   "metadata": {},
   "outputs": [],
   "source": [
    "#Mon March 1 lecture\n",
    "def median(items):\n",
    "    items.sort()\n",
    "    if len(items) % 2 == 1:\n",
    "        return items[len(items) // 2] # When items has odd number of entries\n",
    "    else:\n",
    "        # When items has even number of entries, take average of the two middle entries\n",
    "        first_middle = items[(len(items) // 2) - 1]\n",
    "        second_middle = items[len(items) // 2]\n",
    "        median = (first_middle + second_middle) / 2\n",
    "        return median"
   ]
  },
  {
   "cell_type": "code",
   "execution_count": 2,
   "metadata": {},
   "outputs": [
    {
     "data": {
      "text/plain": [
       "3.5"
      ]
     },
     "execution_count": 2,
     "metadata": {},
     "output_type": "execute_result"
    }
   ],
   "source": [
    "nums = [6, 5, 4, 3, 2, 1]\n",
    "median(nums)"
   ]
  },
  {
   "cell_type": "code",
   "execution_count": 3,
   "metadata": {},
   "outputs": [
    {
     "data": {
      "text/plain": [
       "3"
      ]
     },
     "execution_count": 3,
     "metadata": {},
     "output_type": "execute_result"
    }
   ],
   "source": [
    "nums = [5, 4, 3, 2, 1]\n",
    "median(nums)"
   ]
  },
  {
   "cell_type": "code",
   "execution_count": 4,
   "metadata": {},
   "outputs": [
    {
     "data": {
      "text/plain": [
       "'B'"
      ]
     },
     "execution_count": 4,
     "metadata": {},
     "output_type": "execute_result"
    }
   ],
   "source": [
    "# crashes because even, cannot take avg: \n",
    "median([\"A\", \"C\", \"B\"])"
   ]
  },
  {
   "cell_type": "code",
   "execution_count": 5,
   "metadata": {},
   "outputs": [],
   "source": [
    "# crashes because even, cannot take avg\n",
    "# median([\"A\", \"C\", \"B\", \"D\"])"
   ]
  },
  {
   "cell_type": "code",
   "execution_count": 6,
   "metadata": {},
   "outputs": [],
   "source": [
    "# crashes because of index error\n",
    "# median([])"
   ]
  },
  {
   "cell_type": "code",
   "execution_count": 7,
   "metadata": {},
   "outputs": [
    {
     "name": "stdout",
     "output_type": "stream",
     "text": [
      "['elephant', 'RHINO', 'badger', 'DOG']\n",
      "['RHINO', 'DOG']\n",
      "['elephant', 'badger', 'RHINO', 'DOG']\n",
      "['badger', 'RHINO', 'DOG']\n"
     ]
    }
   ],
   "source": [
    "# Wed Mar 3 lecture\n",
    "#Try this example out using PyTutor\n",
    "\n",
    "L = [\"elephant\", \"RHINO\", \"badger\", \"DOG\"]\n",
    "print(L)\n",
    "\n",
    "#Goal: remove any animals which is not all caps\n",
    "#L.remove(val) : removes first matching value\n",
    "#L.pop(index): removes the value at the index\n",
    "\n",
    "#Bad version\n",
    "for val in L:\n",
    "    if val.upper() != val: # Do we want to remove the value?\n",
    "        L.remove(val)\n",
    "        \n",
    "print(L)\n",
    "#Looks like it might work, but wait for it ....\n",
    "\n",
    "L = [\"elephant\", \"badger\", \"RHINO\", \"DOG\"]\n",
    "print(L)\n",
    "\n",
    "#Bad version\n",
    "for val in L:\n",
    "    if val.upper() != val: # Do we want to remove the value?\n",
    "        L.remove(val)\n",
    "        \n",
    "print(L)\n",
    "\n",
    "#LESSON: Never add / delete to / from a list while iterating over it"
   ]
  },
  {
   "cell_type": "code",
   "execution_count": 8,
   "metadata": {},
   "outputs": [
    {
     "name": "stdout",
     "output_type": "stream",
     "text": [
      "['elephant', 'badger', 'RHINO', 'DOG']\n",
      "['RHINO', 'DOG']\n"
     ]
    }
   ],
   "source": [
    "#Correct version\n",
    "#Try this example out using PyTutor\n",
    "\n",
    "L = [\"elephant\", \"badger\", \"RHINO\", \"DOG\"]\n",
    "print(L)\n",
    "\n",
    "tmp = []\n",
    "#Bad version\n",
    "for val in L:\n",
    "    if val.upper() == val: # Do we want to keep the value?\n",
    "        tmp.append(val)\n",
    "  \n",
    "L = tmp\n",
    "print(L)"
   ]
  },
  {
   "cell_type": "code",
   "execution_count": 9,
   "metadata": {},
   "outputs": [
    {
     "name": "stdout",
     "output_type": "stream",
     "text": [
      "81\n",
      "5\n"
     ]
    }
   ],
   "source": [
    "#Try this example out using PyTutor\n",
    "\n",
    "L = [4, 1, 2, -2, 6, 81, 44, 1]\n",
    "\n",
    "#Goal: to find the max item and its index in the list L\n",
    "\n",
    "max_val = None\n",
    "max_val_index = None\n",
    "\n",
    "for index in range(len(L)):\n",
    "    num = L[index]\n",
    "    if max_val == None or num > max_val:\n",
    "        max_val = num\n",
    "        max_val_index = index\n",
    "\n",
    "print(max_val)\n",
    "print(max_val_index)"
   ]
  },
  {
   "cell_type": "code",
   "execution_count": 10,
   "metadata": {},
   "outputs": [
    {
     "name": "stdout",
     "output_type": "stream",
     "text": [
      "-2\n",
      "3\n"
     ]
    }
   ],
   "source": [
    "#Try this example out using PyTutor\n",
    "#Goal: to find the min item and its index in the list L\n",
    "\n",
    "min_val = None\n",
    "min_val_index = None\n",
    "\n",
    "for index in range(len(L)):\n",
    "    num = L[index]\n",
    "    if min_val == None or num < min_val:\n",
    "        min_val = num\n",
    "        min_val_index = index\n",
    "\n",
    "print(min_val)\n",
    "print(min_val_index)"
   ]
  },
  {
   "cell_type": "code",
   "execution_count": null,
   "metadata": {},
   "outputs": [],
   "source": []
  }
 ],
 "metadata": {
  "kernelspec": {
   "display_name": "Python 3",
   "language": "python",
   "name": "python3"
  },
  "language_info": {
   "codemirror_mode": {
    "name": "ipython",
    "version": 3
   },
   "file_extension": ".py",
   "mimetype": "text/x-python",
   "name": "python",
   "nbconvert_exporter": "python",
   "pygments_lexer": "ipython3",
   "version": "3.8.5"
  }
 },
 "nbformat": 4,
 "nbformat_minor": 2
}
