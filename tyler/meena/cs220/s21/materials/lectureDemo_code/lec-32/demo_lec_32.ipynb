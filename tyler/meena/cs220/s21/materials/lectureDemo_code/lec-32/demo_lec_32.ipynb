{
 "cells": [
  {
   "cell_type": "code",
   "execution_count": 1,
   "metadata": {},
   "outputs": [],
   "source": [
    "from IPython.core.display import display, HTML\n",
    "display(HTML(\"<style>.container { width:100% !important; }</style>\"))"
   ]
  },
  {
   "cell_type": "code",
   "execution_count": 2,
   "metadata": {},
   "outputs": [],
   "source": [
    "import csv\n",
    "import os"
   ]
  },
  {
   "cell_type": "markdown",
   "metadata": {},
   "source": [
    "## Demo 1: List Visualization\n",
    "### Write a gen_html function\n",
    "- Input: shopping_list and path to shopping.html\n",
    "- Outcome: create shopping.html file\n",
    "\n",
    "### Pseudocode\n",
    "1. Open \"shopping.html\" in write mode.\n",
    "2. Write \\<ul\\> tag into the html file\n",
    "3. Iterate over each item in shopping list.\n",
    "4. Write each item with <\\li\\> tag.\n",
    "5. After you are done iterating, write \\</ul\\> tag.\n",
    "6. Close the file object."
   ]
  },
  {
   "cell_type": "code",
   "execution_count": 3,
   "metadata": {},
   "outputs": [],
   "source": [
    "def gen_html(shopping_list, html_path):\n",
    "    f = open(html_path, \"w\")\n",
    "    f.write(\"<ul>\\n\")\n",
    "    for item in shopping_list:\n",
    "        f.write(\"<li>\" + str(item) + \"\\n\")\n",
    "    f.write(\"</ul>\\n\")\n",
    "    f.close()\n",
    "    \n",
    "gen_html([\"apples\", \"oranges\", \"milk\", \"banana\"], \"shopping.html\")"
   ]
  },
  {
   "cell_type": "markdown",
   "metadata": {},
   "source": [
    "## Demo 2: Dictionary Visualization\n",
    "### Write a csv_to_html function\n",
    "- Input: path to review1.csv and path to reviews.html\n",
    "- Outcome 1: create a html file for each review \n",
    "- Outcome 2: create reviews.html file containing link to a html file for each review\n",
    "\n",
    "### Pseudocode\n",
    "1. Create data_html folder using os.mkdir. Make sure to use try ... except blocks to catch FileExistsError\n",
    "2. Parse review1.csv and convert to dict using csv.DictReader\n",
    "3. Extract review id, review title, review text.\n",
    "4. generate the \\<rid\\>.html for each review inside data_html folder.\n",
    "   - Open \\<rid\\>.html in write mode\n",
    "   - Add review title using \\<h1\\> tag\n",
    "   - Add review text inside\\<p\\> tag\n",
    "   - Close \\<rid\\>.html file object\n",
    "5. generate a reviews.html file which has link to each review html page \\<rid\\>.html\n",
    "   - Open reviews.html file in write mode\n",
    "   - Add each \\<rid\\>.html as hyperlink using \\<a\\> tag.\n",
    "   - Close reviews.html file"
   ]
  },
  {
   "cell_type": "code",
   "execution_count": 4,
   "metadata": {},
   "outputs": [],
   "source": [
    "def csv_to_html(csv_path, html_path):\n",
    "    try:\n",
    "        html_dir_path = os.path.join(os.path.dirname(html_path), \"data_html\")\n",
    "        os.mkdir(html_dir_path)\n",
    "    except FileExistsError:\n",
    "        pass\n",
    "    \n",
    "    f = open(csv_path)\n",
    "    reviews_file = open(html_path, \"w\")\n",
    "    reader = csv.DictReader(f)\n",
    "    reviews_file.write(\"<ul>\\n\")\n",
    "    \n",
    "    for row in reader:\n",
    "        rid = row[\"review id\"]\n",
    "        title = row[\"review title\"]\n",
    "        text = row[\"review text\"]\n",
    "\n",
    "        # STEP 4: generate the <rid>.html for each review inside data folder\n",
    "        review_path = os.path.join(html_dir_path, str(rid) + \".html\")\n",
    "        html_file = open(review_path, \"w\")\n",
    "        html_file.write(\"<h1>{}</h1><p>{}</p>\".format(title, text))\n",
    "        html_file.close()\n",
    "    \n",
    "        # STEP 5: generate a reviews.html file which has link to each review html page <rid>.html\n",
    "        html_str = '<li><a href = \"{}\">{}</a>'.format(review_path, str(rid) + \":\" + str(title)) + \"<br>\\n\"\n",
    "        reviews_file.write(html_str)\n",
    "    \n",
    "    reviews_file.write(\"</ul>\\n\")\n",
    "    reviews_file.close()    \n",
    "    f.close()\n",
    "\n",
    "csv_path = os.path.join(\"data\", \"review1.csv\")\n",
    "html_path = os.path.join(\"data\", \"reviews.html\")\n",
    "csv_to_html(csv_path, html_path)"
   ]
  },
  {
   "cell_type": "code",
   "execution_count": 5,
   "metadata": {},
   "outputs": [
    {
     "data": {
      "text/plain": [
       "'reviews.html'"
      ]
     },
     "execution_count": 5,
     "metadata": {},
     "output_type": "execute_result"
    }
   ],
   "source": [
    "os.path.basename(html_path)"
   ]
  },
  {
   "cell_type": "code",
   "execution_count": 6,
   "metadata": {},
   "outputs": [
    {
     "data": {
      "text/plain": [
       "'data'"
      ]
     },
     "execution_count": 6,
     "metadata": {},
     "output_type": "execute_result"
    }
   ],
   "source": [
    "os.path.dirname(html_path)"
   ]
  }
 ],
 "metadata": {
  "kernelspec": {
   "display_name": "Python 3",
   "language": "python",
   "name": "python3"
  },
  "language_info": {
   "codemirror_mode": {
    "name": "ipython",
    "version": 3
   },
   "file_extension": ".py",
   "mimetype": "text/x-python",
   "name": "python",
   "nbconvert_exporter": "python",
   "pygments_lexer": "ipython3",
   "version": "3.8.5"
  }
 },
 "nbformat": 4,
 "nbformat_minor": 2
}
