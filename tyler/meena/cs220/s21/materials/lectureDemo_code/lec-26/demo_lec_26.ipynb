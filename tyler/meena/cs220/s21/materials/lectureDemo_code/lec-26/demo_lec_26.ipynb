{
 "cells": [
  {
   "cell_type": "code",
   "execution_count": 1,
   "metadata": {},
   "outputs": [
    {
     "data": {
      "text/html": [
       "<style>em { color: red; }</style> <style>.container {width:100% !important; }</style>"
      ],
      "text/plain": [
       "<IPython.core.display.HTML object>"
      ]
     },
     "execution_count": 1,
     "metadata": {},
     "output_type": "execute_result"
    }
   ],
   "source": [
    "# This cell just makes juypter notebook use the full width of the screen and changes \n",
    "# some of the text to red.  You can ignore this cell\n",
    "from IPython.core.display import HTML\n",
    "HTML('<style>em { color: red; }</style> <style>.container {width:100% !important; }</style>')"
   ]
  },
  {
   "cell_type": "markdown",
   "metadata": {},
   "source": [
    "<h1>Why might you want your code to crash more?</h1>\n",
    "\n",
    "- It is easier to debug the program if we get a stack trace\n",
    "- Semantic errors are the scariest because we don't get any kind of error"
   ]
  },
  {
   "cell_type": "markdown",
   "metadata": {},
   "source": [
    "<h1>When is it ok for your code to crash less?</h1>\n",
    "\n",
    "- When user enters incorrect input, we simply want to display an error message and not crash\n",
    "- When the program has syntax error, we definitely want the program to crash"
   ]
  },
  {
   "cell_type": "markdown",
   "metadata": {},
   "source": [
    "<h1>List some inputs that will cause problems for pizza.py</h1>\n",
    "\n",
    "- 10, 0: ZeroDivisionError\n",
    "- 10: IndexError\n",
    "- 10, hello: ValueError\n",
    "- 10, 4.5: ValueError\n",
    "- 10, -4: Semantic error\n",
    "- -10, 4: Semantic error (scariest error for this example)"
   ]
  },
  {
   "cell_type": "code",
   "execution_count": 2,
   "metadata": {},
   "outputs": [
    {
     "name": "stdout",
     "output_type": "stream",
     "text": [
      "2 inverse is 0.5\n",
      "1 inverse is 1.0\n",
      "that's all, folks!\n"
     ]
    }
   ],
   "source": [
    "#Example 1 - as soon as you encounter the line in try block with error, you move on to executing except block\n",
    "try:\n",
    "    print(\"2 inverse is\", 1/2)\n",
    "    print(\"1 inverse is\", 1/1)\n",
    "    print(\"0 inverse is\", 1/0)\n",
    "    print(\"-1 inverse is\", -1/1)\n",
    "    print(\"-2 inverse is\", -1/1)\n",
    "except:\n",
    "    print(\"that's all, folks!\")\n"
   ]
  },
  {
   "cell_type": "code",
   "execution_count": 3,
   "metadata": {},
   "outputs": [
    {
     "name": "stdout",
     "output_type": "stream",
     "text": [
      "2 inverse is 0.5\n",
      "1 inverse is 1.0\n",
      "that's all, folks!\n",
      "-1 inverse is -1.0\n",
      "-2 inverse is -1.0\n"
     ]
    }
   ],
   "source": [
    "#Example 2 - version 2\n",
    "try:\n",
    "    print(\"2 inverse is\", 1/2)\n",
    "    print(\"1 inverse is\", 1/1)\n",
    "    print(\"0 inverse is\", 1/0)\n",
    "except:\n",
    "    print(\"that's all, folks!\")\n",
    "\n",
    "try:\n",
    "    print(\"-1 inverse is\", -1/1)\n",
    "    print(\"-2 inverse is\", -1/1)\n",
    "except:\n",
    "    print(\"This will never get executed!\")"
   ]
  },
  {
   "cell_type": "code",
   "execution_count": 4,
   "metadata": {},
   "outputs": [
    {
     "name": "stdout",
     "output_type": "stream",
     "text": [
      "f: let's call g\n",
      "g: before buggy\n",
      "buggy: about to fail\n",
      "f: that didn't go so well\n"
     ]
    }
   ],
   "source": [
    "#Example 2 - hierarchy of catching exceptions\n",
    "def buggy():\n",
    "    print(\"buggy: about to fail\")\n",
    "    print(\"buggy: infinity is \", 1/0)\n",
    "    print(\"buggy: oops!\") # never prints\n",
    "\n",
    "def g():\n",
    "    print(\"g: before buggy\")\n",
    "    buggy()\n",
    "    print(\"g: after buggy\") # never prints\n",
    "\n",
    "def f():\n",
    "    try:\n",
    "        print(\"f: let's call g\")\n",
    "        g()\n",
    "        print(\"f: g returned normally\") # never prints\n",
    "    except:\n",
    "        print(\"f: that didn't go so well\")\n",
    "\n",
    "f()"
   ]
  },
  {
   "cell_type": "code",
   "execution_count": 5,
   "metadata": {},
   "outputs": [
    {
     "name": "stdout",
     "output_type": "stream",
     "text": [
      "f: let's call g\n",
      "g: before buggy\n",
      "buggy: about to fail\n",
      "g: that didn't go well\n",
      "g: after buggy\n",
      "f: g returned normally\n"
     ]
    }
   ],
   "source": [
    "#Example 2 - version 2\n",
    "def buggy():\n",
    "    print(\"buggy: about to fail\")\n",
    "    print(\"buggy: infinity is \", 1/0)\n",
    "    print(\"buggy: oops!\") # never prints\n",
    "\n",
    "def g():\n",
    "    print(\"g: before buggy\")\n",
    "    try:\n",
    "        buggy()\n",
    "    except:\n",
    "        print(\"g: that didn't go well\")\n",
    "    print(\"g: after buggy\") \n",
    "\n",
    "def f():\n",
    "    try:\n",
    "        print(\"f: let's call g\")\n",
    "        g()\n",
    "        print(\"f: g returned normally\") \n",
    "    except:\n",
    "        print(\"f: that didn't go so well\") # never prints\n",
    "\n",
    "f()"
   ]
  },
  {
   "cell_type": "code",
   "execution_count": 6,
   "metadata": {},
   "outputs": [
    {
     "name": "stdout",
     "output_type": "stream",
     "text": [
      "f: let's call g\n",
      "g: before buggy\n",
      "buggy: about to fail\n",
      "buggy: oops!\n",
      "g: after buggy\n",
      "f: g returned normally\n"
     ]
    }
   ],
   "source": [
    "#Example 2 - version 3\n",
    "def buggy():\n",
    "    try:\n",
    "        print(\"buggy: about to fail\")\n",
    "        print(\"buggy: infinity is \", 1/0)\n",
    "    except:\n",
    "        print(\"buggy: oops!\") \n",
    "\n",
    "def g():\n",
    "    print(\"g: before buggy\")\n",
    "    try:\n",
    "        buggy()\n",
    "    except:\n",
    "        print(\"g: that didn't go well\") # never prints\n",
    "    print(\"g: after buggy\")\n",
    "\n",
    "def f():\n",
    "    try:\n",
    "        print(\"f: let's call g\")\n",
    "        g()\n",
    "        print(\"f: g returned normally\") \n",
    "    except:\n",
    "        print(\"f: that didn't go so well\") # never prints\n",
    "\n",
    "f()"
   ]
  },
  {
   "cell_type": "code",
   "execution_count": null,
   "metadata": {},
   "outputs": [],
   "source": []
  }
 ],
 "metadata": {
  "kernelspec": {
   "display_name": "Python 3",
   "language": "python",
   "name": "python3"
  },
  "language_info": {
   "codemirror_mode": {
    "name": "ipython",
    "version": 3
   },
   "file_extension": ".py",
   "mimetype": "text/x-python",
   "name": "python",
   "nbconvert_exporter": "python",
   "pygments_lexer": "ipython3",
   "version": "3.8.5"
  }
 },
 "nbformat": 4,
 "nbformat_minor": 4
}
