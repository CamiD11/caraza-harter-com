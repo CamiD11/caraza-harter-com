{
 "cells": [
  {
   "cell_type": "markdown",
   "metadata": {},
   "source": [
    "# Copying review\n",
    "## Please copy-paste the below code in PyTutor. Un-comment each copy type and look at the visualization of the objects"
   ]
  },
  {
   "cell_type": "code",
   "execution_count": null,
   "metadata": {},
   "outputs": [],
   "source": [
    "import copy\n",
    "\n",
    "x = [ [ [\"hello\", \"world\"] ] ]\n",
    "\n",
    "#y = x                # ref copy (0 new objects)\n",
    "#y = copy.copy(x)     # shallow copy (1 new object)\n",
    "#y = copy.deepcopy(x) # deep copy (all new objects)"
   ]
  },
  {
   "cell_type": "markdown",
   "metadata": {},
   "source": [
    "# Recursion Demo 1: Pretty Print"
   ]
  },
  {
   "cell_type": "markdown",
   "metadata": {},
   "source": [
    "## What is the simplest example for this problem? This determines the base case"
   ]
  },
  {
   "cell_type": "code",
   "execution_count": null,
   "metadata": {},
   "outputs": [],
   "source": []
  },
  {
   "cell_type": "markdown",
   "metadata": {},
   "source": [
    "## How can you define self-reference here?"
   ]
  },
  {
   "cell_type": "code",
   "execution_count": null,
   "metadata": {},
   "outputs": [],
   "source": []
  },
  {
   "cell_type": "markdown",
   "metadata": {},
   "source": [
    "## Let's write the code for the recursive function."
   ]
  },
  {
   "cell_type": "code",
   "execution_count": null,
   "metadata": {},
   "outputs": [],
   "source": [
    "def pretty_print(items):\n",
    "    pass\n",
    "    \n",
    "data = [\"A\", [\"1\", \"2\", \"3\",], \"B\", [\"4\", [\"i\", \"ii\"]]]\n",
    "pretty_print(data)"
   ]
  },
  {
   "cell_type": "markdown",
   "metadata": {},
   "source": [
    "## How can we handle indent for nesting here?\n",
    "- Update the above recursive function definition"
   ]
  },
  {
   "cell_type": "markdown",
   "metadata": {},
   "source": [
    "# Recursion Demo 2: Recursive List Search"
   ]
  },
  {
   "cell_type": "code",
   "execution_count": 3,
   "metadata": {},
   "outputs": [
    {
     "name": "stdout",
     "output_type": "stream",
     "text": [
      "[1, 2, [4, [[3], [8, 9]], 5, 6]]\n",
      "0 False\n",
      "1 True\n",
      "2 True\n",
      "3 True\n",
      "4 True\n",
      "5 True\n",
      "6 True\n",
      "7 False\n",
      "8 True\n",
      "9 True\n",
      "10 False\n",
      "11 False\n",
      "12 False\n"
     ]
    }
   ],
   "source": [
    "def contains(n, numbers):\n",
    "    for i in numbers:\n",
    "        if type(i) == list:\n",
    "            if contains(n, i):\n",
    "                return True\n",
    "        else:\n",
    "            if n == i:\n",
    "                return True\n",
    "    return False\n",
    "\n",
    "data = [1, 2, [4, [[3], [8, 9]], 5, 6]]\n",
    "print(data) # Replace this with pretty_print (recursive) function call! How can you fix \n",
    "            #pretty_print to incorporate this?\n",
    "for i in range(13):\n",
    "    print(i, contains(i, data))"
   ]
  },
  {
   "cell_type": "code",
   "execution_count": null,
   "metadata": {},
   "outputs": [],
   "source": []
  }
 ],
 "metadata": {
  "kernelspec": {
   "display_name": "Python 3",
   "language": "python",
   "name": "python3"
  },
  "language_info": {
   "codemirror_mode": {
    "name": "ipython",
    "version": 3
   },
   "file_extension": ".py",
   "mimetype": "text/x-python",
   "name": "python",
   "nbconvert_exporter": "python",
   "pygments_lexer": "ipython3",
   "version": "3.8.5"
  }
 },
 "nbformat": 4,
 "nbformat_minor": 4
}
