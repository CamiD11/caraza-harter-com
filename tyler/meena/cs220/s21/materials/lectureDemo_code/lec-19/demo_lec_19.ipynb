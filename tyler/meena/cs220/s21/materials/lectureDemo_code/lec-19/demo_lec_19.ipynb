{
 "cells": [
  {
   "cell_type": "markdown",
   "metadata": {},
   "source": [
    "# Dictionaries 2"
   ]
  },
  {
   "cell_type": "code",
   "execution_count": 1,
   "metadata": {},
   "outputs": [
    {
     "data": {
      "text/html": [
       "<style>em { color: red; }</style> <style>.container {width:100% !important; }</style>"
      ],
      "text/plain": [
       "<IPython.core.display.HTML object>"
      ]
     },
     "execution_count": 1,
     "metadata": {},
     "output_type": "execute_result"
    }
   ],
   "source": [
    "# This cell just makes juypter notebook use the full width of the screen and changes \n",
    "# some of the text to red.  You can ignore this cell\n",
    "from IPython.core.display import HTML\n",
    "HTML('<style>em { color: red; }</style> <style>.container {width:100% !important; }</style>')"
   ]
  },
  {
   "cell_type": "markdown",
   "metadata": {},
   "source": [
    "## If you could choose only one data structure to include in Python: *lists or dictionaries*, which would you choose?"
   ]
  },
  {
   "cell_type": "markdown",
   "metadata": {},
   "source": [
    "### List some characteristics of lists - why might you choose to keep *lists*?"
   ]
  },
  {
   "cell_type": "markdown",
   "metadata": {},
   "source": [
    "- indexing - to get data or to update it\n",
    "- slicing - get a sub-sequence\n",
    "- iterate with for loops\n",
    "- string to list and list to string coversion using methods *split* and *join*\n",
    "- csv files are represented using list of lists"
   ]
  },
  {
   "cell_type": "code",
   "execution_count": 2,
   "metadata": {},
   "outputs": [
    {
     "data": {
      "text/plain": [
       "['a', 'b', 'c']"
      ]
     },
     "execution_count": 2,
     "metadata": {},
     "output_type": "execute_result"
    }
   ],
   "source": [
    "L = ['a', 'b', 'c']\n",
    "L"
   ]
  },
  {
   "cell_type": "code",
   "execution_count": 3,
   "metadata": {},
   "outputs": [],
   "source": [
    "letter_dict = {0:'a', 1:'b', 2:'c'}"
   ]
  },
  {
   "cell_type": "markdown",
   "metadata": {},
   "source": [
    "### List some characteristics of dictionaries - why might you choose to keep *dictionaries*?"
   ]
  },
  {
   "cell_type": "markdown",
   "metadata": {},
   "source": [
    "- lookup values using keys\n",
    "- indices can be any (immutable) type\n",
    "- insert and update have same syntax\n",
    "- iterate with for loops"
   ]
  },
  {
   "cell_type": "code",
   "execution_count": 4,
   "metadata": {},
   "outputs": [
    {
     "data": {
      "text/plain": [
       "3"
      ]
     },
     "execution_count": 4,
     "metadata": {},
     "output_type": "execute_result"
    }
   ],
   "source": [
    "d = {'x': 3, 'y': 9}\n",
    "d['x']"
   ]
  },
  {
   "cell_type": "code",
   "execution_count": 5,
   "metadata": {},
   "outputs": [],
   "source": [
    "keys = ['x', 'y']\n",
    "vals = [ 3 ,  9 ]"
   ]
  },
  {
   "cell_type": "markdown",
   "metadata": {},
   "source": [
    "# Dictionary Methods: len, in, for"
   ]
  },
  {
   "cell_type": "code",
   "execution_count": 6,
   "metadata": {},
   "outputs": [
    {
     "data": {
      "text/plain": [
       "{0: 'zero', 1: 'one', 2: 'two', 3: 'three'}"
      ]
     },
     "execution_count": 6,
     "metadata": {},
     "output_type": "execute_result"
    }
   ],
   "source": [
    "num_words = {0:\"zero\", 1:\"one\", 2:\"two\", 3:\"three\"}\n",
    "num_words"
   ]
  },
  {
   "cell_type": "code",
   "execution_count": 7,
   "metadata": {},
   "outputs": [
    {
     "data": {
      "text/plain": [
       "4"
      ]
     },
     "execution_count": 7,
     "metadata": {},
     "output_type": "execute_result"
    }
   ],
   "source": [
    "len(num_words)"
   ]
  },
  {
   "cell_type": "code",
   "execution_count": 8,
   "metadata": {},
   "outputs": [
    {
     "name": "stdout",
     "output_type": "stream",
     "text": [
      "True\n"
     ]
    }
   ],
   "source": [
    "print(1 in num_words)"
   ]
  },
  {
   "cell_type": "code",
   "execution_count": 9,
   "metadata": {},
   "outputs": [
    {
     "name": "stdout",
     "output_type": "stream",
     "text": [
      "False\n"
     ]
    }
   ],
   "source": [
    "print(\"one\" in num_words)"
   ]
  },
  {
   "cell_type": "code",
   "execution_count": 10,
   "metadata": {},
   "outputs": [
    {
     "name": "stdout",
     "output_type": "stream",
     "text": [
      "0 zero\n",
      "1 one\n",
      "2 two\n",
      "3 three\n"
     ]
    }
   ],
   "source": [
    "for key in num_words:\n",
    "    print(key, num_words[key])"
   ]
  },
  {
   "cell_type": "markdown",
   "metadata": {},
   "source": [
    "# Dictionary Methods: keys and values"
   ]
  },
  {
   "cell_type": "code",
   "execution_count": 11,
   "metadata": {},
   "outputs": [
    {
     "data": {
      "text/plain": [
       "[0, 1, 2, 3]"
      ]
     },
     "execution_count": 11,
     "metadata": {},
     "output_type": "execute_result"
    }
   ],
   "source": [
    "list(num_words.keys())"
   ]
  },
  {
   "cell_type": "code",
   "execution_count": 12,
   "metadata": {},
   "outputs": [
    {
     "data": {
      "text/plain": [
       "['zero', 'one', 'two', 'three']"
      ]
     },
     "execution_count": 12,
     "metadata": {},
     "output_type": "execute_result"
    }
   ],
   "source": [
    "list(num_words.values())"
   ]
  },
  {
   "cell_type": "markdown",
   "metadata": {},
   "source": [
    "# Dictionary Methods: Default Values with get and pop"
   ]
  },
  {
   "cell_type": "code",
   "execution_count": 13,
   "metadata": {},
   "outputs": [
    {
     "data": {
      "text/plain": [
       "{1: 'st', 2: 'nd', 3: 'rd'}"
      ]
     },
     "execution_count": 13,
     "metadata": {},
     "output_type": "execute_result"
    }
   ],
   "source": [
    "suffix = {1:\"st\", 2:\"nd\", 3:\"rd\"}\n",
    "suffix"
   ]
  },
  {
   "cell_type": "code",
   "execution_count": 14,
   "metadata": {},
   "outputs": [
    {
     "data": {
      "text/plain": [
       "'th'"
      ]
     },
     "execution_count": 14,
     "metadata": {},
     "output_type": "execute_result"
    }
   ],
   "source": [
    "suffix.pop(0, \"th\")"
   ]
  },
  {
   "cell_type": "code",
   "execution_count": 15,
   "metadata": {},
   "outputs": [
    {
     "data": {
      "text/plain": [
       "'th'"
      ]
     },
     "execution_count": 15,
     "metadata": {},
     "output_type": "execute_result"
    }
   ],
   "source": [
    "suffix.get(4,\"th\")"
   ]
  },
  {
   "cell_type": "markdown",
   "metadata": {},
   "source": [
    "# Compute the Average Speed of Tornados per Year"
   ]
  },
  {
   "cell_type": "code",
   "execution_count": 16,
   "metadata": {},
   "outputs": [],
   "source": [
    "import csv\n",
    "\n",
    "# copied from https://automatetheboringstuff.com/chapter14/\n",
    "def process_csv(filename):\n",
    "    exampleFile = open(filename, encoding=\"utf-8\")\n",
    "    exampleReader = csv.reader(exampleFile)\n",
    "    exampleData = list(exampleReader)\n",
    "    exampleFile.close()\n",
    "    return exampleData"
   ]
  },
  {
   "cell_type": "markdown",
   "metadata": {},
   "source": [
    "### Explore the data"
   ]
  },
  {
   "cell_type": "code",
   "execution_count": 17,
   "metadata": {},
   "outputs": [
    {
     "data": {
      "text/plain": [
       "['year', 'id', 'location', 'speed']"
      ]
     },
     "execution_count": 17,
     "metadata": {},
     "output_type": "execute_result"
    }
   ],
   "source": [
    "data = process_csv(\"tornados.csv\")\n",
    "header = data[0]\n",
    "header"
   ]
  },
  {
   "cell_type": "code",
   "execution_count": 18,
   "metadata": {},
   "outputs": [
    {
     "data": {
      "text/plain": [
       "[['2006', 'QPIQPWDP', 'site B', '175'],\n",
       " ['1996', 'MMMHKDDK', 'site B', '290'],\n",
       " ['2016', 'QSCAPJBU', 'site B', '290'],\n",
       " ['2014', 'KKGOICYZ', 'site C', '122'],\n",
       " ['2015', 'ZDMHZTXL', 'site A', '147']]"
      ]
     },
     "execution_count": 18,
     "metadata": {},
     "output_type": "execute_result"
    }
   ],
   "source": [
    "rows = data[1:]\n",
    "rows[0:5]"
   ]
  },
  {
   "cell_type": "markdown",
   "metadata": {},
   "source": [
    "### Write a function to compute the average speed"
   ]
  },
  {
   "cell_type": "code",
   "execution_count": 19,
   "metadata": {},
   "outputs": [
    {
     "data": {
      "text/plain": [
       "213.48275862068965"
      ]
     },
     "execution_count": 19,
     "metadata": {},
     "output_type": "execute_result"
    }
   ],
   "source": [
    "# data is a list of lists, corresponding to header\n",
    "def avg_speed(data):\n",
    "    total = 0\n",
    "    for row in data:\n",
    "        total += float(row[header.index(\"speed\")])\n",
    "    return total / len(data)\n",
    "    \n",
    "avg_speed(rows)"
   ]
  },
  {
   "cell_type": "markdown",
   "metadata": {},
   "source": [
    "### Collect the data into buckets\n",
    "- Write a function called bucketize\n",
    "    - input: column name for bucketization\n",
    "    - output: buckets -> dict of list of lists"
   ]
  },
  {
   "cell_type": "code",
   "execution_count": 20,
   "metadata": {},
   "outputs": [],
   "source": [
    "def bucketize(bucket_column):\n",
    "    buckets = {}\n",
    "    for row in rows:\n",
    "        year = row[header.index(bucket_column)]\n",
    "        if year not in buckets:\n",
    "            buckets[year] = []\n",
    "        buckets[year].append(row)\n",
    "    return buckets"
   ]
  },
  {
   "cell_type": "markdown",
   "metadata": {},
   "source": [
    "### Bucketize by year"
   ]
  },
  {
   "cell_type": "code",
   "execution_count": 21,
   "metadata": {},
   "outputs": [
    {
     "data": {
      "text/plain": [
       "{'2006': [['2006', 'QPIQPWDP', 'site B', '175']],\n",
       " '1996': [['1996', 'MMMHKDDK', 'site B', '290'],\n",
       "  ['1996', 'JRHLYGLS', 'site C', '238'],\n",
       "  ['1996', 'WIMYUNGE', 'site A', '187'],\n",
       "  ['1996', 'LJJJYSDQ', 'site A', '209'],\n",
       "  ['1996', 'TOXIMTKE', 'site C', '290']],\n",
       " '2016': [['2016', 'QSCAPJBU', 'site B', '290'],\n",
       "  ['2016', 'JQPYBXEI', 'site A', '139'],\n",
       "  ['2016', 'BJDRTWIW', 'site A', '286'],\n",
       "  ['2016', 'KOBWSFXW', 'site A', '186']],\n",
       " '2014': [['2014', 'KKGOICYZ', 'site C', '122'],\n",
       "  ['2014', 'CCCCYZBY', 'site C', '264'],\n",
       "  ['2014', 'EWLAXYVH', 'site C', '153'],\n",
       "  ['2014', 'BPNKITVS', 'site A', '296']],\n",
       " '2015': [['2015', 'ZDMHZTXL', 'site A', '147'],\n",
       "  ['2015', 'YDPQWWGV', 'site B', '130']],\n",
       " '2005': [['2005', 'FEBIJZIF', 'site A', '198'],\n",
       "  ['2005', 'AWLDIUCW', 'site A', '173'],\n",
       "  ['2005', 'CWGFYTZZ', 'site C', '109'],\n",
       "  ['2005', 'EXXPOMSB', 'site C', '236']],\n",
       " '2002': [['2002', 'EYIVKEWL', 'site B', '199'],\n",
       "  ['2002', 'IZXLGNRJ', 'site C', '269'],\n",
       "  ['2002', 'EONEPHOZ', 'site A', '213'],\n",
       "  ['2002', 'VKANHNPC', 'site A', '175'],\n",
       "  ['2002', 'QZKYNJFZ', 'site C', '250']],\n",
       " '1995': [['1995', 'JDUTRHFQ', 'site A', '281'],\n",
       "  ['1995', 'RCAOONFD', 'site A', '198'],\n",
       "  ['1995', 'XCBWVUIF', 'site A', '234'],\n",
       "  ['1995', 'KYUONPMV', 'site C', '187'],\n",
       "  ['1995', 'EMCQGXEG', 'site B', '155']],\n",
       " '1997': [['1997', 'NSCJTEAU', 'site B', '222'],\n",
       "  ['1997', 'MEYDGPRX', 'site A', '272']],\n",
       " '2001': [['2001', 'QRYMLENE', 'site C', '174'],\n",
       "  ['2001', 'VTBWHKRH', 'site B', '271'],\n",
       "  ['2001', 'ZSPSCPBT', 'site C', '259']],\n",
       " '2011': [['2011', 'AUJLPQWN', 'site B', '243'],\n",
       "  ['2011', 'TLSAVUXI', 'site A', '230']],\n",
       " '2010': [['2010', 'SZRUOPIH', 'site B', '201'],\n",
       "  ['2010', 'CETAQQXF', 'site B', '202']],\n",
       " '2017': [['2017', 'LIBFCJBB', 'site C', '181'],\n",
       "  ['2017', 'CNMZERWF', 'site C', '218'],\n",
       "  ['2017', 'YNBKDYTA', 'site A', '179'],\n",
       "  ['2017', 'YWHUCOUS', 'site B', '194']],\n",
       " '2008': [['2008', 'FUBXASWR', 'site B', '255'],\n",
       "  ['2008', 'TVEGOJAM', 'site C', '272'],\n",
       "  ['2008', 'PHSPFJVR', 'site A', '257']],\n",
       " '2003': [['2003', 'NQSHEURP', 'site C', '155'],\n",
       "  ['2003', 'VFIBJORY', 'site B', '240']],\n",
       " '2004': [['2004', 'KRMJSZGY', 'site C', '137'],\n",
       "  ['2004', 'DWIDLQEZ', 'site A', '287']],\n",
       " '2013': [['2013', 'GTKGJLKN', 'site A', '220'],\n",
       "  ['2013', 'RQYVUUGR', 'site A', '259']],\n",
       " '2009': [['2009', 'VLEHBLKH', 'site B', '141'],\n",
       "  ['2009', 'JRKTSFOU', 'site A', '112'],\n",
       "  ['2009', 'ZUCZYBOC', 'site A', '258']],\n",
       " '1998': [['1998', 'DIBERSNP', 'site A', '240']],\n",
       " '2007': [['2007', 'DBEESDMM', 'site A', '159'],\n",
       "  ['2007', 'DSSUCXOI', 'site A', '265']]}"
      ]
     },
     "execution_count": 21,
     "metadata": {},
     "output_type": "execute_result"
    }
   ],
   "source": [
    "year_buckets = bucketize(\"year\")\n",
    "year_buckets"
   ]
  },
  {
   "cell_type": "markdown",
   "metadata": {},
   "source": [
    "### Bucketize by location"
   ]
  },
  {
   "cell_type": "code",
   "execution_count": 22,
   "metadata": {},
   "outputs": [
    {
     "data": {
      "text/plain": [
       "{'site B': [['2006', 'QPIQPWDP', 'site B', '175'],\n",
       "  ['1996', 'MMMHKDDK', 'site B', '290'],\n",
       "  ['2016', 'QSCAPJBU', 'site B', '290'],\n",
       "  ['2002', 'EYIVKEWL', 'site B', '199'],\n",
       "  ['1997', 'NSCJTEAU', 'site B', '222'],\n",
       "  ['2011', 'AUJLPQWN', 'site B', '243'],\n",
       "  ['2010', 'SZRUOPIH', 'site B', '201'],\n",
       "  ['2008', 'FUBXASWR', 'site B', '255'],\n",
       "  ['2003', 'VFIBJORY', 'site B', '240'],\n",
       "  ['2001', 'VTBWHKRH', 'site B', '271'],\n",
       "  ['2009', 'VLEHBLKH', 'site B', '141'],\n",
       "  ['2010', 'CETAQQXF', 'site B', '202'],\n",
       "  ['2017', 'YWHUCOUS', 'site B', '194'],\n",
       "  ['2015', 'YDPQWWGV', 'site B', '130'],\n",
       "  ['1995', 'EMCQGXEG', 'site B', '155']],\n",
       " 'site C': [['2014', 'KKGOICYZ', 'site C', '122'],\n",
       "  ['1996', 'JRHLYGLS', 'site C', '238'],\n",
       "  ['2001', 'QRYMLENE', 'site C', '174'],\n",
       "  ['2002', 'IZXLGNRJ', 'site C', '269'],\n",
       "  ['2005', 'CWGFYTZZ', 'site C', '109'],\n",
       "  ['2017', 'LIBFCJBB', 'site C', '181'],\n",
       "  ['2017', 'CNMZERWF', 'site C', '218'],\n",
       "  ['2003', 'NQSHEURP', 'site C', '155'],\n",
       "  ['2004', 'KRMJSZGY', 'site C', '137'],\n",
       "  ['2008', 'TVEGOJAM', 'site C', '272'],\n",
       "  ['2005', 'EXXPOMSB', 'site C', '236'],\n",
       "  ['2001', 'ZSPSCPBT', 'site C', '259'],\n",
       "  ['2014', 'CCCCYZBY', 'site C', '264'],\n",
       "  ['2014', 'EWLAXYVH', 'site C', '153'],\n",
       "  ['1996', 'TOXIMTKE', 'site C', '290'],\n",
       "  ['2002', 'QZKYNJFZ', 'site C', '250'],\n",
       "  ['1995', 'KYUONPMV', 'site C', '187']],\n",
       " 'site A': [['2015', 'ZDMHZTXL', 'site A', '147'],\n",
       "  ['2005', 'FEBIJZIF', 'site A', '198'],\n",
       "  ['1995', 'JDUTRHFQ', 'site A', '281'],\n",
       "  ['2005', 'AWLDIUCW', 'site A', '173'],\n",
       "  ['1995', 'RCAOONFD', 'site A', '198'],\n",
       "  ['1995', 'XCBWVUIF', 'site A', '234'],\n",
       "  ['2016', 'JQPYBXEI', 'site A', '139'],\n",
       "  ['2016', 'BJDRTWIW', 'site A', '286'],\n",
       "  ['1996', 'WIMYUNGE', 'site A', '187'],\n",
       "  ['1996', 'LJJJYSDQ', 'site A', '209'],\n",
       "  ['2002', 'EONEPHOZ', 'site A', '213'],\n",
       "  ['2013', 'GTKGJLKN', 'site A', '220'],\n",
       "  ['2017', 'YNBKDYTA', 'site A', '179'],\n",
       "  ['1998', 'DIBERSNP', 'site A', '240'],\n",
       "  ['2016', 'KOBWSFXW', 'site A', '186'],\n",
       "  ['2007', 'DBEESDMM', 'site A', '159'],\n",
       "  ['2002', 'VKANHNPC', 'site A', '175'],\n",
       "  ['2007', 'DSSUCXOI', 'site A', '265'],\n",
       "  ['2014', 'BPNKITVS', 'site A', '296'],\n",
       "  ['2009', 'JRKTSFOU', 'site A', '112'],\n",
       "  ['2013', 'RQYVUUGR', 'site A', '259'],\n",
       "  ['2008', 'PHSPFJVR', 'site A', '257'],\n",
       "  ['2009', 'ZUCZYBOC', 'site A', '258'],\n",
       "  ['2004', 'DWIDLQEZ', 'site A', '287'],\n",
       "  ['1997', 'MEYDGPRX', 'site A', '272'],\n",
       "  ['2011', 'TLSAVUXI', 'site A', '230']]}"
      ]
     },
     "execution_count": 22,
     "metadata": {},
     "output_type": "execute_result"
    }
   ],
   "source": [
    "location_buckets = bucketize(\"location\")\n",
    "location_buckets"
   ]
  },
  {
   "cell_type": "markdown",
   "metadata": {},
   "source": [
    "### Write a function to compute the average speed per bucket"
   ]
  },
  {
   "cell_type": "code",
   "execution_count": 23,
   "metadata": {},
   "outputs": [],
   "source": [
    "def avg_per_bucket(groups):\n",
    "    averages = {}\n",
    "    for bucket_name in groups:\n",
    "        bucket_rows = groups[bucket_name]\n",
    "        averages[bucket_name] = avg_speed(bucket_rows)\n",
    "    return averages"
   ]
  },
  {
   "cell_type": "markdown",
   "metadata": {},
   "source": [
    "### What is the *average tornado speed* per *year*?"
   ]
  },
  {
   "cell_type": "code",
   "execution_count": 24,
   "metadata": {},
   "outputs": [
    {
     "data": {
      "text/plain": [
       "{'2006': 175.0,\n",
       " '1996': 242.8,\n",
       " '2016': 225.25,\n",
       " '2014': 208.75,\n",
       " '2015': 138.5,\n",
       " '2005': 179.0,\n",
       " '2002': 221.2,\n",
       " '1995': 211.0,\n",
       " '1997': 247.0,\n",
       " '2001': 234.66666666666666,\n",
       " '2011': 236.5,\n",
       " '2010': 201.5,\n",
       " '2017': 193.0,\n",
       " '2008': 261.3333333333333,\n",
       " '2003': 197.5,\n",
       " '2004': 212.0,\n",
       " '2013': 239.5,\n",
       " '2009': 170.33333333333334,\n",
       " '1998': 240.0,\n",
       " '2007': 212.0}"
      ]
     },
     "execution_count": 24,
     "metadata": {},
     "output_type": "execute_result"
    }
   ],
   "source": [
    "avg_per_bucket(bucketize(\"year\"))"
   ]
  },
  {
   "cell_type": "markdown",
   "metadata": {},
   "source": [
    "### What is the *average tornado speed* per *location*?"
   ]
  },
  {
   "cell_type": "code",
   "execution_count": 25,
   "metadata": {},
   "outputs": [
    {
     "data": {
      "text/plain": [
       "{'site B': 213.86666666666667,\n",
       " 'site C': 206.7058823529412,\n",
       " 'site A': 217.69230769230768}"
      ]
     },
     "execution_count": 25,
     "metadata": {},
     "output_type": "execute_result"
    }
   ],
   "source": [
    "avg_per_bucket(bucketize(\"location\"))"
   ]
  },
  {
   "cell_type": "markdown",
   "metadata": {},
   "source": [
    "# Process a CSV file into a list of dictionaries"
   ]
  },
  {
   "cell_type": "code",
   "execution_count": 26,
   "metadata": {},
   "outputs": [],
   "source": [
    "def transform(data):\n",
    "    header = data[0]\n",
    "    rows = data[1:]\n",
    "    \n",
    "    dict_list = []\n",
    "    \n",
    "    for row in rows:\n",
    "        new_row = {}\n",
    "        for i in range(len(header)):\n",
    "            new_row[header[i]] = row[i]\n",
    "        dict_list.append(new_row)\n",
    "    return dict_list\n",
    "    \n",
    "transformed_data = transform(data)"
   ]
  },
  {
   "cell_type": "code",
   "execution_count": 27,
   "metadata": {},
   "outputs": [
    {
     "data": {
      "text/plain": [
       "{'year': '2006', 'id': 'QPIQPWDP', 'location': 'site B', 'speed': '175'}"
      ]
     },
     "execution_count": 27,
     "metadata": {},
     "output_type": "execute_result"
    }
   ],
   "source": [
    "transformed_data[0]"
   ]
  },
  {
   "cell_type": "code",
   "execution_count": 28,
   "metadata": {},
   "outputs": [
    {
     "data": {
      "text/plain": [
       "'2006'"
      ]
     },
     "execution_count": 28,
     "metadata": {},
     "output_type": "execute_result"
    }
   ],
   "source": [
    "transformed_data[0][\"year\"]"
   ]
  },
  {
   "cell_type": "code",
   "execution_count": 29,
   "metadata": {},
   "outputs": [
    {
     "data": {
      "text/plain": [
       "'site B'"
      ]
     },
     "execution_count": 29,
     "metadata": {},
     "output_type": "execute_result"
    }
   ],
   "source": [
    "transformed_data[1][\"location\"]"
   ]
  }
 ],
 "metadata": {
  "kernelspec": {
   "display_name": "Python 3",
   "language": "python",
   "name": "python3"
  },
  "language_info": {
   "codemirror_mode": {
    "name": "ipython",
    "version": 3
   },
   "file_extension": ".py",
   "mimetype": "text/x-python",
   "name": "python",
   "nbconvert_exporter": "python",
   "pygments_lexer": "ipython3",
   "version": "3.8.5"
  }
 },
 "nbformat": 4,
 "nbformat_minor": 4
}
