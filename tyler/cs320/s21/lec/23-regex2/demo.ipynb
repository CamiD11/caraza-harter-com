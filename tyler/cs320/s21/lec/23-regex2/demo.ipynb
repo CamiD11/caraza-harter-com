{
 "cells": [
  {
   "cell_type": "code",
   "execution_count": 1,
   "metadata": {},
   "outputs": [],
   "source": [
    "import re"
   ]
  },
  {
   "cell_type": "markdown",
   "metadata": {},
   "source": [
    "# Email Extraction"
   ]
  },
  {
   "cell_type": "code",
   "execution_count": 2,
   "metadata": {},
   "outputs": [
    {
     "name": "stdout",
     "output_type": "stream",
     "text": [
      "tharter@wisc.com\n",
      "shridhar2@wisc.edu\n",
      "mohr@wisc.edu\n",
      "morteza@wisc.edu\n",
      "test@gmail.com\n"
     ]
    }
   ],
   "source": [
    "s = \"\"\"\n",
    "Debugging help is usually best in person, but if you can't make that, or have another question not well suited to Piazza, feel free to drop us an email:\n",
    "\n",
    "9edu\n",
    "Tyler [Instructor] - tharter (AT) wisc.com\n",
    "Shri Shruthi [Head TA] - shridhar2 (AT) wisc.edu\n",
    "Joseph [TA] - joseph.victor.mohr (AT) wisc.edu\n",
    "Peyman [TA] - morteza (AT) wisc.edu\n",
    "test@gmail.com\n",
    "\"\"\"\n",
    "\n",
    "suffix = r\"\\.(edu|com|org)\"\n",
    "at = r\"(@|[aA][tT])\"\n",
    "opt_brackets = r\"[\\(\\)\\{\\}\\[\\]]?\"\n",
    "email = r\"(\\w+)\\s*\" + opt_brackets + at + opt_brackets + r\"\\s*(\\w+)\" + suffix\n",
    "for match in re.findall(\"(\"+email+\")\", s):\n",
    "    print(match[1]+\"@\"+match[3]+\".\"+match[4])\n"
   ]
  },
  {
   "cell_type": "markdown",
   "metadata": {},
   "source": [
    "# Notebook Analysis\n",
    "\n",
    "Find all function names in a notebook."
   ]
  },
  {
   "cell_type": "code",
   "execution_count": 3,
   "metadata": {},
   "outputs": [],
   "source": [
    "import json"
   ]
  },
  {
   "cell_type": "code",
   "execution_count": 4,
   "metadata": {},
   "outputs": [
    {
     "data": {
      "text/plain": [
       "dict"
      ]
     },
     "execution_count": 4,
     "metadata": {},
     "output_type": "execute_result"
    }
   ],
   "source": [
    "with open(\"target.ipynb\") as f:\n",
    "    d = json.load(f)\n",
    "type(d)"
   ]
  },
  {
   "cell_type": "code",
   "execution_count": 5,
   "metadata": {},
   "outputs": [
    {
     "data": {
      "text/plain": [
       "dict_keys(['cells', 'metadata', 'nbformat', 'nbformat_minor'])"
      ]
     },
     "execution_count": 5,
     "metadata": {},
     "output_type": "execute_result"
    }
   ],
   "source": [
    "d.keys()"
   ]
  },
  {
   "cell_type": "code",
   "execution_count": 6,
   "metadata": {},
   "outputs": [
    {
     "name": "stdout",
     "output_type": "stream",
     "text": [
      "hello []\n",
      "print_x ['x']\n",
      "add ['x', ' y']\n"
     ]
    }
   ],
   "source": [
    "def fname(line):\n",
    "    matches = re.findall(r\"def (\\w+)\\((.*?)\\):\", line)\n",
    "    if len(matches) == 1:\n",
    "        match = matches[0]\n",
    "        name = match[0]\n",
    "        if len(match[1]) > 0:\n",
    "            params = match[1].split(\",\")\n",
    "        else:\n",
    "            params = []\n",
    "        return name, params\n",
    "    return None\n",
    "\n",
    "for cell in d[\"cells\"]:\n",
    "    for line in cell[\"source\"]:\n",
    "        result = fname(line)\n",
    "        if result == None:\n",
    "            continue\n",
    "        name, params = result\n",
    "        print(name, params)"
   ]
  },
  {
   "cell_type": "code",
   "execution_count": null,
   "metadata": {},
   "outputs": [],
   "source": []
  }
 ],
 "metadata": {
  "kernelspec": {
   "display_name": "Python 3",
   "language": "python",
   "name": "python3"
  },
  "language_info": {
   "codemirror_mode": {
    "name": "ipython",
    "version": 3
   },
   "file_extension": ".py",
   "mimetype": "text/x-python",
   "name": "python",
   "nbconvert_exporter": "python",
   "pygments_lexer": "ipython3",
   "version": "3.7.2"
  }
 },
 "nbformat": 4,
 "nbformat_minor": 2
}
