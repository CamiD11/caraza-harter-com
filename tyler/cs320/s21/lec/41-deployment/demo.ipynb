{
 "cells": [
  {
   "cell_type": "code",
   "execution_count": 6,
   "metadata": {},
   "outputs": [],
   "source": [
    "import pandas as pd"
   ]
  },
  {
   "cell_type": "code",
   "execution_count": 13,
   "metadata": {},
   "outputs": [],
   "source": [
    "rows = []\n",
    "user_clicks = []\n",
    "with open(\"train.txt\") as f:\n",
    "    for line in f:\n",
    "        parts = line.split()\n",
    "        if parts[0] == \"SHOW\":\n",
    "            rows.append(parts[1:])\n",
    "        elif parts[0] == \"CLICK\":\n",
    "            user_clicks.append(parts[1])"
   ]
  },
  {
   "cell_type": "code",
   "execution_count": 18,
   "metadata": {},
   "outputs": [
    {
     "data": {
      "text/html": [
       "<div>\n",
       "<style scoped>\n",
       "    .dataframe tbody tr th:only-of-type {\n",
       "        vertical-align: middle;\n",
       "    }\n",
       "\n",
       "    .dataframe tbody tr th {\n",
       "        vertical-align: top;\n",
       "    }\n",
       "\n",
       "    .dataframe thead th {\n",
       "        text-align: right;\n",
       "    }\n",
       "</style>\n",
       "<table border=\"1\" class=\"dataframe\">\n",
       "  <thead>\n",
       "    <tr style=\"text-align: right;\">\n",
       "      <th></th>\n",
       "      <th>user_id</th>\n",
       "      <th>zipcode</th>\n",
       "      <th>ad</th>\n",
       "      <th>click</th>\n",
       "    </tr>\n",
       "  </thead>\n",
       "  <tbody>\n",
       "    <tr>\n",
       "      <th>0</th>\n",
       "      <td>0</td>\n",
       "      <td>54750</td>\n",
       "      <td>wine</td>\n",
       "      <td>False</td>\n",
       "    </tr>\n",
       "    <tr>\n",
       "      <th>1</th>\n",
       "      <td>1</td>\n",
       "      <td>54812</td>\n",
       "      <td>wine</td>\n",
       "      <td>False</td>\n",
       "    </tr>\n",
       "    <tr>\n",
       "      <th>2</th>\n",
       "      <td>2</td>\n",
       "      <td>54942</td>\n",
       "      <td>coffee</td>\n",
       "      <td>True</td>\n",
       "    </tr>\n",
       "    <tr>\n",
       "      <th>3</th>\n",
       "      <td>3</td>\n",
       "      <td>53218</td>\n",
       "      <td>coffee</td>\n",
       "      <td>False</td>\n",
       "    </tr>\n",
       "    <tr>\n",
       "      <th>4</th>\n",
       "      <td>4</td>\n",
       "      <td>53213</td>\n",
       "      <td>wine</td>\n",
       "      <td>False</td>\n",
       "    </tr>\n",
       "  </tbody>\n",
       "</table>\n",
       "</div>"
      ],
      "text/plain": [
       "  user_id zipcode      ad  click\n",
       "0       0   54750    wine  False\n",
       "1       1   54812    wine  False\n",
       "2       2   54942  coffee   True\n",
       "3       3   53218  coffee  False\n",
       "4       4   53213    wine  False"
      ]
     },
     "execution_count": 18,
     "metadata": {},
     "output_type": "execute_result"
    }
   ],
   "source": [
    "df = pd.DataFrame(rows, columns=[\"user_id\", \"zipcode\", \"ad\"])\n",
    "df[\"click\"] = df[\"user_id\"].isin(user_clicks)\n",
    "df.head()"
   ]
  },
  {
   "cell_type": "code",
   "execution_count": 20,
   "metadata": {},
   "outputs": [
    {
     "data": {
      "text/html": [
       "<div>\n",
       "<style scoped>\n",
       "    .dataframe tbody tr th:only-of-type {\n",
       "        vertical-align: middle;\n",
       "    }\n",
       "\n",
       "    .dataframe tbody tr th {\n",
       "        vertical-align: top;\n",
       "    }\n",
       "\n",
       "    .dataframe thead th {\n",
       "        text-align: right;\n",
       "    }\n",
       "</style>\n",
       "<table border=\"1\" class=\"dataframe\">\n",
       "  <thead>\n",
       "    <tr style=\"text-align: right;\">\n",
       "      <th></th>\n",
       "      <th>income-mean</th>\n",
       "      <th>income-median</th>\n",
       "    </tr>\n",
       "    <tr>\n",
       "      <th>zip</th>\n",
       "      <th></th>\n",
       "      <th></th>\n",
       "    </tr>\n",
       "  </thead>\n",
       "  <tbody>\n",
       "    <tr>\n",
       "      <th>53001</th>\n",
       "      <td>94015</td>\n",
       "      <td>72578</td>\n",
       "    </tr>\n",
       "    <tr>\n",
       "      <th>53002</th>\n",
       "      <td>86643</td>\n",
       "      <td>77708</td>\n",
       "    </tr>\n",
       "    <tr>\n",
       "      <th>53003</th>\n",
       "      <td>71386</td>\n",
       "      <td>47292</td>\n",
       "    </tr>\n",
       "    <tr>\n",
       "      <th>53004</th>\n",
       "      <td>90837</td>\n",
       "      <td>81250</td>\n",
       "    </tr>\n",
       "    <tr>\n",
       "      <th>53005</th>\n",
       "      <td>138901</td>\n",
       "      <td>104534</td>\n",
       "    </tr>\n",
       "  </tbody>\n",
       "</table>\n",
       "</div>"
      ],
      "text/plain": [
       "       income-mean  income-median\n",
       "zip                              \n",
       "53001        94015          72578\n",
       "53002        86643          77708\n",
       "53003        71386          47292\n",
       "53004        90837          81250\n",
       "53005       138901         104534"
      ]
     },
     "execution_count": 20,
     "metadata": {},
     "output_type": "execute_result"
    }
   ],
   "source": [
    "incomes = pd.read_csv(\"income.csv\").set_index(\"zip\")\n",
    "incomes.head()"
   ]
  },
  {
   "cell_type": "code",
   "execution_count": 30,
   "metadata": {},
   "outputs": [
    {
     "data": {
      "text/html": [
       "<div>\n",
       "<style scoped>\n",
       "    .dataframe tbody tr th:only-of-type {\n",
       "        vertical-align: middle;\n",
       "    }\n",
       "\n",
       "    .dataframe tbody tr th {\n",
       "        vertical-align: top;\n",
       "    }\n",
       "\n",
       "    .dataframe thead th {\n",
       "        text-align: right;\n",
       "    }\n",
       "</style>\n",
       "<table border=\"1\" class=\"dataframe\">\n",
       "  <thead>\n",
       "    <tr style=\"text-align: right;\">\n",
       "      <th></th>\n",
       "      <th>income-mean</th>\n",
       "      <th>income-median</th>\n",
       "    </tr>\n",
       "  </thead>\n",
       "  <tbody>\n",
       "    <tr>\n",
       "      <th>0</th>\n",
       "      <td>83863</td>\n",
       "      <td>67614</td>\n",
       "    </tr>\n",
       "    <tr>\n",
       "      <th>1</th>\n",
       "      <td>63414</td>\n",
       "      <td>49958</td>\n",
       "    </tr>\n",
       "    <tr>\n",
       "      <th>2</th>\n",
       "      <td>107470</td>\n",
       "      <td>102383</td>\n",
       "    </tr>\n",
       "    <tr>\n",
       "      <th>3</th>\n",
       "      <td>51411</td>\n",
       "      <td>38584</td>\n",
       "    </tr>\n",
       "    <tr>\n",
       "      <th>4</th>\n",
       "      <td>107369</td>\n",
       "      <td>80139</td>\n",
       "    </tr>\n",
       "  </tbody>\n",
       "</table>\n",
       "</div>"
      ],
      "text/plain": [
       "   income-mean  income-median\n",
       "0        83863          67614\n",
       "1        63414          49958\n",
       "2       107470         102383\n",
       "3        51411          38584\n",
       "4       107369          80139"
      ]
     },
     "execution_count": 30,
     "metadata": {},
     "output_type": "execute_result"
    }
   ],
   "source": [
    "features = incomes.loc[df[\"zipcode\"].astype(int)].reset_index(drop=True)\n",
    "features.head()"
   ]
  },
  {
   "cell_type": "code",
   "execution_count": 32,
   "metadata": {},
   "outputs": [
    {
     "data": {
      "text/html": [
       "<div>\n",
       "<style scoped>\n",
       "    .dataframe tbody tr th:only-of-type {\n",
       "        vertical-align: middle;\n",
       "    }\n",
       "\n",
       "    .dataframe tbody tr th {\n",
       "        vertical-align: top;\n",
       "    }\n",
       "\n",
       "    .dataframe thead th {\n",
       "        text-align: right;\n",
       "    }\n",
       "</style>\n",
       "<table border=\"1\" class=\"dataframe\">\n",
       "  <thead>\n",
       "    <tr style=\"text-align: right;\">\n",
       "      <th></th>\n",
       "      <th>user_id</th>\n",
       "      <th>zipcode</th>\n",
       "      <th>ad</th>\n",
       "      <th>click</th>\n",
       "      <th>income-mean</th>\n",
       "      <th>income-median</th>\n",
       "    </tr>\n",
       "  </thead>\n",
       "  <tbody>\n",
       "    <tr>\n",
       "      <th>0</th>\n",
       "      <td>0</td>\n",
       "      <td>54750</td>\n",
       "      <td>wine</td>\n",
       "      <td>False</td>\n",
       "      <td>83863</td>\n",
       "      <td>67614</td>\n",
       "    </tr>\n",
       "    <tr>\n",
       "      <th>1</th>\n",
       "      <td>1</td>\n",
       "      <td>54812</td>\n",
       "      <td>wine</td>\n",
       "      <td>False</td>\n",
       "      <td>63414</td>\n",
       "      <td>49958</td>\n",
       "    </tr>\n",
       "    <tr>\n",
       "      <th>2</th>\n",
       "      <td>2</td>\n",
       "      <td>54942</td>\n",
       "      <td>coffee</td>\n",
       "      <td>True</td>\n",
       "      <td>107470</td>\n",
       "      <td>102383</td>\n",
       "    </tr>\n",
       "    <tr>\n",
       "      <th>3</th>\n",
       "      <td>3</td>\n",
       "      <td>53218</td>\n",
       "      <td>coffee</td>\n",
       "      <td>False</td>\n",
       "      <td>51411</td>\n",
       "      <td>38584</td>\n",
       "    </tr>\n",
       "    <tr>\n",
       "      <th>4</th>\n",
       "      <td>4</td>\n",
       "      <td>53213</td>\n",
       "      <td>wine</td>\n",
       "      <td>False</td>\n",
       "      <td>107369</td>\n",
       "      <td>80139</td>\n",
       "    </tr>\n",
       "  </tbody>\n",
       "</table>\n",
       "</div>"
      ],
      "text/plain": [
       "  user_id zipcode      ad  click  income-mean  income-median\n",
       "0       0   54750    wine  False        83863          67614\n",
       "1       1   54812    wine  False        63414          49958\n",
       "2       2   54942  coffee   True       107470         102383\n",
       "3       3   53218  coffee  False        51411          38584\n",
       "4       4   53213    wine  False       107369          80139"
      ]
     },
     "execution_count": 32,
     "metadata": {},
     "output_type": "execute_result"
    }
   ],
   "source": [
    "train = pd.concat((df, features), axis=1)\n",
    "train.head()"
   ]
  },
  {
   "cell_type": "markdown",
   "metadata": {},
   "source": [
    "# Part 2"
   ]
  },
  {
   "cell_type": "code",
   "execution_count": 46,
   "metadata": {},
   "outputs": [],
   "source": [
    "from sklearn.pipeline import Pipeline\n",
    "from sklearn.preprocessing import StandardScaler, PolynomialFeatures\n",
    "from sklearn.linear_model import LogisticRegression"
   ]
  },
  {
   "cell_type": "code",
   "execution_count": 51,
   "metadata": {},
   "outputs": [
    {
     "data": {
      "text/plain": [
       "{'coffee': Pipeline(memory=None,\n",
       "          steps=[('poly',\n",
       "                  PolynomialFeatures(degree=3, include_bias=True,\n",
       "                                     interaction_only=False, order='C')),\n",
       "                 ('std',\n",
       "                  StandardScaler(copy=True, with_mean=True, with_std=True)),\n",
       "                 ('lr',\n",
       "                  LogisticRegression(C=1.0, class_weight=None, dual=False,\n",
       "                                     fit_intercept=True, intercept_scaling=1,\n",
       "                                     l1_ratio=None, max_iter=100,\n",
       "                                     multi_class='auto', n_jobs=None,\n",
       "                                     penalty='l2', random_state=None,\n",
       "                                     solver='lbfgs', tol=0.0001, verbose=0,\n",
       "                                     warm_start=False))],\n",
       "          verbose=False), 'wine': Pipeline(memory=None,\n",
       "          steps=[('poly',\n",
       "                  PolynomialFeatures(degree=3, include_bias=True,\n",
       "                                     interaction_only=False, order='C')),\n",
       "                 ('std',\n",
       "                  StandardScaler(copy=True, with_mean=True, with_std=True)),\n",
       "                 ('lr',\n",
       "                  LogisticRegression(C=1.0, class_weight=None, dual=False,\n",
       "                                     fit_intercept=True, intercept_scaling=1,\n",
       "                                     l1_ratio=None, max_iter=100,\n",
       "                                     multi_class='auto', n_jobs=None,\n",
       "                                     penalty='l2', random_state=None,\n",
       "                                     solver='lbfgs', tol=0.0001, verbose=0,\n",
       "                                     warm_start=False))],\n",
       "          verbose=False), 'soda': Pipeline(memory=None,\n",
       "          steps=[('poly',\n",
       "                  PolynomialFeatures(degree=3, include_bias=True,\n",
       "                                     interaction_only=False, order='C')),\n",
       "                 ('std',\n",
       "                  StandardScaler(copy=True, with_mean=True, with_std=True)),\n",
       "                 ('lr',\n",
       "                  LogisticRegression(C=1.0, class_weight=None, dual=False,\n",
       "                                     fit_intercept=True, intercept_scaling=1,\n",
       "                                     l1_ratio=None, max_iter=100,\n",
       "                                     multi_class='auto', n_jobs=None,\n",
       "                                     penalty='l2', random_state=None,\n",
       "                                     solver='lbfgs', tol=0.0001, verbose=0,\n",
       "                                     warm_start=False))],\n",
       "          verbose=False)}"
      ]
     },
     "execution_count": 51,
     "metadata": {},
     "output_type": "execute_result"
    }
   ],
   "source": [
    "xcols = [\"income-mean\", \"income-median\"]\n",
    "ycol = \"click\"\n",
    "models = {} # key: ad name; val: sklearn model\n",
    "for ad_name in set(train[\"ad\"]):\n",
    "    train_subset = train[train[\"ad\"] == ad_name]\n",
    "\n",
    "    model = Pipeline([\n",
    "        (\"poly\", PolynomialFeatures(3)),\n",
    "        (\"std\", StandardScaler()),\n",
    "        (\"lr\", LogisticRegression()),\n",
    "    ])\n",
    "\n",
    "    model.fit(train_subset[xcols], train_subset[ycol])\n",
    "    models[ad_name] = model\n",
    "models"
   ]
  },
  {
   "cell_type": "code",
   "execution_count": 68,
   "metadata": {},
   "outputs": [
    {
     "name": "stdout",
     "output_type": "stream",
     "text": [
      "0.12156257575904296\n",
      "0.2392969941359968\n",
      "0.2442832729986621\n"
     ]
    },
    {
     "data": {
      "text/plain": [
       "'coffee'"
      ]
     },
     "execution_count": 68,
     "metadata": {},
     "output_type": "execute_result"
    }
   ],
   "source": [
    "def click_prob(zipcode, ad_name):\n",
    "    return models[ad_name].predict_proba(incomes.loc[[zipcode]])[0,1]\n",
    "\n",
    "def get_best_ad(zipcode):\n",
    "    best_prob = 0\n",
    "    for ad_name in [\"soda\", \"coffee\", \"wine\"]:\n",
    "        prob = click_prob(zipcode, ad_name)\n",
    "        if prob > best_prob:\n",
    "            best_prob = prob\n",
    "            best_ad = ad_name\n",
    "    return best_ad\n",
    "        \n",
    "print(click_prob(53001, \"soda\"))\n",
    "print(click_prob(53001, \"coffee\"))\n",
    "print(click_prob(53001, \"wine\"))\n",
    "get_best_ad(53006)"
   ]
  },
  {
   "cell_type": "code",
   "execution_count": 70,
   "metadata": {},
   "outputs": [],
   "source": [
    "import pickle"
   ]
  },
  {
   "cell_type": "code",
   "execution_count": 73,
   "metadata": {},
   "outputs": [],
   "source": [
    "with open(\"models.pkl\", \"wb\") as f:\n",
    "    pickle.dump(models, f)"
   ]
  }
 ],
 "metadata": {
  "kernelspec": {
   "display_name": "Python 3",
   "language": "python",
   "name": "python3"
  },
  "language_info": {
   "codemirror_mode": {
    "name": "ipython",
    "version": 3
   },
   "file_extension": ".py",
   "mimetype": "text/x-python",
   "name": "python",
   "nbconvert_exporter": "python",
   "pygments_lexer": "ipython3",
   "version": "3.6.9"
  }
 },
 "nbformat": 4,
 "nbformat_minor": 4
}
