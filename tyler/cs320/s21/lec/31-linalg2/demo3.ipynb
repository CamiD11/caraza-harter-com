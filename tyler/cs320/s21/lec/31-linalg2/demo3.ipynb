{
 "cells": [
  {
   "cell_type": "markdown",
   "metadata": {},
   "source": [
    "# Review Dot Product\n",
    "\n",
    "Solve the following:\n",
    "\n",
    "$\\begin{bmatrix}\n",
    "4&5\\\\6&7\\\\8&9\\\\\n",
    "\\end{bmatrix}\n",
    "\\cdot\n",
    "\\begin{bmatrix}\n",
    "2\\\\3\\\\\n",
    "\\end{bmatrix}\n",
    "$"
   ]
  },
  {
   "cell_type": "code",
   "execution_count": 1,
   "metadata": {},
   "outputs": [
    {
     "data": {
      "text/plain": [
       "array([[4, 5],\n",
       "       [6, 7],\n",
       "       [8, 9]])"
      ]
     },
     "execution_count": 1,
     "metadata": {},
     "output_type": "execute_result"
    }
   ],
   "source": [
    "import numpy as np\n",
    "X = np.array([[4,5], [6,7], [8,9]])\n",
    "X"
   ]
  },
  {
   "cell_type": "code",
   "execution_count": 4,
   "metadata": {},
   "outputs": [
    {
     "data": {
      "text/plain": [
       "array([[2],\n",
       "       [3]])"
      ]
     },
     "execution_count": 4,
     "metadata": {},
     "output_type": "execute_result"
    }
   ],
   "source": [
    "c = np.array([2, 3]).reshape(-1,1)\n",
    "c"
   ]
  },
  {
   "cell_type": "code",
   "execution_count": 5,
   "metadata": {},
   "outputs": [
    {
     "data": {
      "text/plain": [
       "array([[23],\n",
       "       [33],\n",
       "       [43]])"
      ]
     },
     "execution_count": 5,
     "metadata": {},
     "output_type": "execute_result"
    }
   ],
   "source": [
    "X @ c"
   ]
  },
  {
   "cell_type": "code",
   "execution_count": 6,
   "metadata": {},
   "outputs": [
    {
     "data": {
      "text/plain": [
       "array([[23],\n",
       "       [33],\n",
       "       [43]])"
      ]
     },
     "execution_count": 6,
     "metadata": {},
     "output_type": "execute_result"
    }
   ],
   "source": [
    "np.dot(X, c)"
   ]
  },
  {
   "cell_type": "code",
   "execution_count": 7,
   "metadata": {},
   "outputs": [
    {
     "data": {
      "text/plain": [
       "array([[23],\n",
       "       [33],\n",
       "       [43]])"
      ]
     },
     "execution_count": 7,
     "metadata": {},
     "output_type": "execute_result"
    }
   ],
   "source": [
    "X.dot(c)"
   ]
  },
  {
   "cell_type": "code",
   "execution_count": null,
   "metadata": {},
   "outputs": [],
   "source": [
    "# np.dot(M, v), row_dot(M, v), and col_dot(M, v) are all the same"
   ]
  },
  {
   "cell_type": "markdown",
   "metadata": {},
   "source": [
    "# Dot Product: Two Perspectives\n",
    "\n",
    "## Row Picture\n",
    "\n",
    "Do dot product one row at a time.\n",
    "\n",
    "$\\begin{bmatrix}\n",
    "4&5\\\\6&7\\\\8&9\\\\\n",
    "\\end{bmatrix}\n",
    "\\cdot\n",
    "\\begin{bmatrix}\n",
    "2\\\\3\\\\\n",
    "\\end{bmatrix}\n",
    "=\n",
    "\\begin{bmatrix}\n",
    "(4*2)+(5*3)\\\\\n",
    "(6*2)+(7*3)\\\\\n",
    "(8*2)+(9*3)\\\\\n",
    "\\end{bmatrix}\n",
    "=\n",
    "\\begin{bmatrix}\n",
    "23\\\\\n",
    "33\\\\\n",
    "43\\\\\n",
    "\\end{bmatrix}\n",
    "$"
   ]
  },
  {
   "cell_type": "code",
   "execution_count": 14,
   "metadata": {},
   "outputs": [
    {
     "data": {
      "text/plain": [
       "array([[23],\n",
       "       [33],\n",
       "       [43]])"
      ]
     },
     "execution_count": 14,
     "metadata": {},
     "output_type": "execute_result"
    }
   ],
   "source": [
    "def row_dot(M, v):\n",
    "    v = v.reshape(-1)\n",
    "    result = []\n",
    "    for row_idx in range(len(M)):\n",
    "        row = M[row_idx]\n",
    "        y = 0\n",
    "        for i in range(len(row)):\n",
    "            y += row[i] * v[i]\n",
    "        result.append(y)\n",
    "    return np.array(result).reshape(-1,1)\n",
    "        \n",
    "row_dot(X, c)"
   ]
  },
  {
   "cell_type": "markdown",
   "metadata": {},
   "source": [
    "## Column Picture\n",
    "\n",
    "$\\begin{bmatrix}\n",
    "c_0&c_1&c_2\\\\\n",
    "\\end{bmatrix}\n",
    "\\cdot\n",
    "\\begin{bmatrix}\n",
    "x\\\\y\\\\z\\\\\n",
    "\\end{bmatrix}\n",
    "=(c_0*x) + (c_1*y) + (c_2*z)\n",
    "$\n",
    "\n",
    "Dot product takes a **linear combination** of columns.\n",
    "\n",
    "$\\begin{bmatrix}\n",
    "4&5\\\\6&7\\\\8&9\\\\\n",
    "\\end{bmatrix}\n",
    "\\cdot\n",
    "\\begin{bmatrix}\n",
    "2\\\\3\\\\\n",
    "\\end{bmatrix}\n",
    "=\n",
    "\\begin{bmatrix}\n",
    "4\\\\6\\\\8\\\\\n",
    "\\end{bmatrix}*2\n",
    "+\n",
    "\\begin{bmatrix}\n",
    "5\\\\7\\\\9\\\\\n",
    "\\end{bmatrix}*3\n",
    "=\n",
    "\\begin{bmatrix}\n",
    "23\\\\\n",
    "33\\\\\n",
    "43\\\\\n",
    "\\end{bmatrix}\n",
    "$"
   ]
  },
  {
   "cell_type": "code",
   "execution_count": 22,
   "metadata": {},
   "outputs": [
    {
     "data": {
      "text/plain": [
       "array([[23.],\n",
       "       [33.],\n",
       "       [43.]])"
      ]
     },
     "execution_count": 22,
     "metadata": {},
     "output_type": "execute_result"
    }
   ],
   "source": [
    "def col_dot(M, v):\n",
    "    v = v.reshape(-1)\n",
    "    result = np.zeros((len(M), 1))\n",
    "    for col_idx in range(M.shape[1]):\n",
    "        col = M[:, col_idx].reshape(-1,1)\n",
    "        result += col * v[col_idx]\n",
    "    return result\n",
    "        \n",
    "col_dot(X, c)"
   ]
  }
 ],
 "metadata": {
  "kernelspec": {
   "display_name": "Python 3",
   "language": "python",
   "name": "python3"
  },
  "language_info": {
   "codemirror_mode": {
    "name": "ipython",
    "version": 3
   },
   "file_extension": ".py",
   "mimetype": "text/x-python",
   "name": "python",
   "nbconvert_exporter": "python",
   "pygments_lexer": "ipython3",
   "version": "3.7.2"
  }
 },
 "nbformat": 4,
 "nbformat_minor": 4
}
