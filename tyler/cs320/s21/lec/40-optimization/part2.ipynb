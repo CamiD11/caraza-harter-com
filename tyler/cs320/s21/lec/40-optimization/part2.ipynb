{
 "cells": [
  {
   "cell_type": "markdown",
   "metadata": {},
   "source": [
    "# Gradient Descent with a Loop\n",
    "\n",
    "If y=f(x), what x gives us the minimum y?"
   ]
  },
  {
   "cell_type": "code",
   "execution_count": 19,
   "metadata": {},
   "outputs": [
    {
     "data": {
      "text/plain": [
       "6.361111111111111"
      ]
     },
     "execution_count": 19,
     "metadata": {},
     "output_type": "execute_result"
    }
   ],
   "source": [
    "from mystery import f, g, h\n",
    "f(0)"
   ]
  },
  {
   "cell_type": "code",
   "execution_count": 2,
   "metadata": {},
   "outputs": [],
   "source": [
    "import numpy as np\n",
    "import matplotlib.pyplot as plt\n",
    "from torch import tensor\n",
    "\n",
    "plt.rcParams[\"font.size\"] = 16\n",
    "\n",
    "def plot_gradient(x, y, slope):\n",
    "    for line in ax.get_lines():\n",
    "        line.set_color(\"black\")\n",
    "        line.set_linewidth(1)\n",
    "    ax.set_title(\"slope=%.2f\" % slope)\n",
    "    x, y, slope = map(float, (x, y, slope))\n",
    "    dx = 0.5\n",
    "    dy = dx*slope\n",
    "    plt.plot([x-dx/2, x+dx/2], [y-dy/2, y+dy/2], linewidth=4, color=\"r\")\n",
    "    plt.scatter(x, y, s=100, c=\"k\")"
   ]
  },
  {
   "cell_type": "code",
   "execution_count": 37,
   "metadata": {},
   "outputs": [
    {
     "name": "stdout",
     "output_type": "stream",
     "text": [
      "4.0692105547059345 3.1929263399957026\n"
     ]
    },
    {
     "data": {
      "image/png": "[encoded data removed]",
      "text/plain": [
       "<Figure size 432x288 with 1 Axes>"
      ]
     },
     "metadata": {
      "needs_background": "light"
     },
     "output_type": "display_data"
    }
   ],
   "source": [
    "fig,ax = plt.subplots()\n",
    "ax.set_xlim(-1, 5)\n",
    "ax.set_ylim(2, 8)\n",
    "\n",
    "def try_x(x):\n",
    "    x = tensor(float(x)).requires_grad_()\n",
    "    y = h(x)\n",
    "    y.backward()\n",
    "    plot_gradient(x, y, x.grad)\n",
    "    return float(x.grad)\n",
    "\n",
    "x = 5 # starting point might matter, if it's not convex\n",
    "learning_rate = 0.1\n",
    "for i in range(40): # TODO: stop when it seems we've found the best x\n",
    "    grad = try_x(x)\n",
    "    x -= grad * learning_rate\n",
    "print(x, h(x)) # x=1.0785024568438533 y=3.7921893597383733"
   ]
  },
  {
   "cell_type": "markdown",
   "metadata": {},
   "source": [
    "# Practice"
   ]
  },
  {
   "cell_type": "code",
   "execution_count": 22,
   "metadata": {},
   "outputs": [
    {
     "name": "stdout",
     "output_type": "stream",
     "text": [
      "0.9999999761581422 -0.9999999999999989\n"
     ]
    },
    {
     "data": {
      "text/plain": [
       "[<matplotlib.lines.Line2D at 0x7f49a53575f8>]"
      ]
     },
     "execution_count": 22,
     "metadata": {},
     "output_type": "execute_result"
    },
    {
     "data": {
      "image/png": "[encoded data removed]",
      "text/plain": [
       "<Figure size 432x288 with 1 Axes>"
      ]
     },
     "metadata": {
      "needs_background": "light"
     },
     "output_type": "display_data"
    }
   ],
   "source": [
    "def f(x):\n",
    "    if x < 0:\n",
    "        return ((x - -1) ** 2) * 3 - 2\n",
    "    if x > 2:\n",
    "        return (x - 3) ** 2\n",
    "    else:\n",
    "        return ((x - 1) ** 2) * 2 - 1\n",
    "\n",
    "def try_x(x):\n",
    "    x = tensor(float(x)).requires_grad_()\n",
    "    y = f(x)\n",
    "    y.backward()\n",
    "    plot_gradient(x, y, x.grad)\n",
    "    return float(x.grad)\n",
    "\n",
    "fig,ax = plt.subplots()\n",
    "ax.set_xlim(-5, 5)\n",
    "ax.set_ylim(-5, 5)\n",
    "\n",
    "x = 0\n",
    "learning_rate = 0.1\n",
    "\n",
    "for i in range(40):\n",
    "    grad = try_x(x)\n",
    "    x -= grad * learning_rate\n",
    "    \n",
    "print(x, f(x))\n",
    "\n",
    "ax.plot(np.arange(-5,5,0.1), [f(x) for x in np.arange(-5,5,0.1)])"
   ]
  },
  {
   "cell_type": "code",
   "execution_count": null,
   "metadata": {},
   "outputs": [],
   "source": []
  }
 ],
 "metadata": {
  "kernelspec": {
   "display_name": "Python 3",
   "language": "python",
   "name": "python3"
  },
  "language_info": {
   "codemirror_mode": {
    "name": "ipython",
    "version": 3
   },
   "file_extension": ".py",
   "mimetype": "text/x-python",
   "name": "python",
   "nbconvert_exporter": "python",
   "pygments_lexer": "ipython3",
   "version": "3.6.9"
  }
 },
 "nbformat": 4,
 "nbformat_minor": 4
}
