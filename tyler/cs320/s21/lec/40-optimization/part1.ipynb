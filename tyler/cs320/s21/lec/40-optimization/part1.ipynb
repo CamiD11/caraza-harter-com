{
 "cells": [
  {
   "cell_type": "code",
   "execution_count": 1,
   "metadata": {},
   "outputs": [],
   "source": [
    "import numpy as np\n",
    "import matplotlib.pyplot as plt\n",
    "from torch import tensor\n",
    "\n",
    "plt.rcParams[\"font.size\"] = 16\n",
    "\n",
    "def plot_gradient(x, y, slope):\n",
    "    for line in ax.get_lines():\n",
    "        line.set_color(\"black\")\n",
    "        line.set_linewidth(1)\n",
    "    ax.set_title(\"slope=%.2f\" % slope)\n",
    "    x, y, slope = map(float, (x, y, slope))\n",
    "    dx = 0.5\n",
    "    dy = dx*slope\n",
    "    plt.plot([x-dx/2, x+dx/2], [y-dy/2, y+dy/2], linewidth=4, color=\"r\")\n",
    "    plt.scatter(x, y, s=100, c=\"k\")"
   ]
  },
  {
   "cell_type": "code",
   "execution_count": 2,
   "metadata": {},
   "outputs": [],
   "source": [
    "from mystery import f"
   ]
  },
  {
   "cell_type": "code",
   "execution_count": 3,
   "metadata": {},
   "outputs": [
    {
     "data": {
      "text/plain": [
       "4.361111111111112"
      ]
     },
     "execution_count": 3,
     "metadata": {},
     "output_type": "execute_result"
    }
   ],
   "source": [
    "f(1)"
   ]
  },
  {
   "cell_type": "code",
   "execution_count": 4,
   "metadata": {},
   "outputs": [
    {
     "data": {
      "image/png": "[encoded data removed]",
      "text/plain": [
       "<Figure size 432x288 with 1 Axes>"
      ]
     },
     "metadata": {
      "needs_background": "light"
     },
     "output_type": "display_data"
    }
   ],
   "source": [
    "fig,ax = plt.subplots()\n",
    "ax.set_xlim(-1, 5)\n",
    "ax.set_ylim(2, 8)\n",
    "\n",
    "def try_x(values=[]):\n",
    "    for x in values:\n",
    "        x = tensor(float(x)).requires_grad_()\n",
    "        y = f(x)\n",
    "        y.backward()\n",
    "        gradient = x.grad\n",
    "        plot_gradient(x, y, slope=gradient)\n",
    "    \n",
    "try_x([0, 3, 1.5, 2.5, 2.75])"
   ]
  }
 ],
 "metadata": {
  "kernelspec": {
   "display_name": "Python 3",
   "language": "python",
   "name": "python3"
  },
  "language_info": {
   "codemirror_mode": {
    "name": "ipython",
    "version": 3
   },
   "file_extension": ".py",
   "mimetype": "text/x-python",
   "name": "python",
   "nbconvert_exporter": "python",
   "pygments_lexer": "ipython3",
   "version": "3.6.9"
  }
 },
 "nbformat": 4,
 "nbformat_minor": 4
}
