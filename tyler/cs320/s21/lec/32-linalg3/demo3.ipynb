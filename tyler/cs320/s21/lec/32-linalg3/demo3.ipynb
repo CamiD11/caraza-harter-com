{
 "cells": [
  {
   "cell_type": "markdown",
   "metadata": {},
   "source": [
    "# Projection Matrix\n",
    "\n",
    "$P = X(X^TX)^{-1}X^T$\n",
    "\n",
    "$P$ is a projection matrix: if you multiply a vector by $P$, you get back another vector of the same size, with two properties:\n",
    "\n",
    "1. it will be in the column space of $X$\n",
    "2. the new vector will be as close to the original vector as possible\n",
    "\n",
    "Say there's no solution for $Xc=y$.\n",
    "\n",
    "Solve $Xc=p$ instead, where $p=Py$.\n",
    "\n",
    "## Fruit Example"
   ]
  },
  {
   "cell_type": "code",
   "execution_count": 25,
   "metadata": {},
   "outputs": [
    {
     "data": {
      "text/plain": [
       "array([[7. ],\n",
       "       [5. ],\n",
       "       [5. ],\n",
       "       [8. ],\n",
       "       [8.5]])"
      ]
     },
     "execution_count": 25,
     "metadata": {},
     "output_type": "execute_result"
    }
   ],
   "source": [
    "import numpy as np\n",
    "import pandas as pd\n",
    "\n",
    "X = np.array([\n",
    "    [10,0,1],\n",
    "    [2,8,1],\n",
    "    [4,4,1],\n",
    "    [10,4,1],\n",
    "    [10,4,1]\n",
    "])\n",
    "y = np.array([7,5,5,8,8.5]).reshape(-1,1)\n",
    "y"
   ]
  },
  {
   "cell_type": "markdown",
   "metadata": {},
   "source": [
    "$P = X(X^TX)^{-1}X^T$"
   ]
  },
  {
   "cell_type": "code",
   "execution_count": 11,
   "metadata": {},
   "outputs": [
    {
     "data": {
      "text/plain": [
       "array([[ 0.75      , -0.25      ,  0.33333333,  0.08333333,  0.08333333],\n",
       "       [-0.25      ,  0.75      ,  0.33333333,  0.08333333,  0.08333333],\n",
       "       [ 0.33333333,  0.33333333,  0.55555556, -0.11111111, -0.11111111],\n",
       "       [ 0.08333333,  0.08333333, -0.11111111,  0.47222222,  0.47222222],\n",
       "       [ 0.08333333,  0.08333333, -0.11111111,  0.47222222,  0.47222222]])"
      ]
     },
     "execution_count": 11,
     "metadata": {},
     "output_type": "execute_result"
    }
   ],
   "source": [
    "P = X @ np.linalg.inv(X.T @ X) @ X.T\n",
    "P"
   ]
  },
  {
   "cell_type": "code",
   "execution_count": 12,
   "metadata": {},
   "outputs": [
    {
     "data": {
      "text/plain": [
       "array([[7.04166667],\n",
       "       [5.04166667],\n",
       "       [4.94444444],\n",
       "       [8.23611111],\n",
       "       [8.23611111]])"
      ]
     },
     "execution_count": 12,
     "metadata": {},
     "output_type": "execute_result"
    }
   ],
   "source": [
    "p = P @ y\n",
    "p"
   ]
  },
  {
   "cell_type": "markdown",
   "metadata": {},
   "source": [
    "## Scatter Example"
   ]
  },
  {
   "cell_type": "code",
   "execution_count": 31,
   "metadata": {},
   "outputs": [
    {
     "data": {
      "text/plain": [
       "array([[-1.84064214],\n",
       "       [10.67517476],\n",
       "       [10.24625263],\n",
       "       [17.17733854],\n",
       "       [ 9.86454239],\n",
       "       [ 7.20223621],\n",
       "       [ 9.04857908],\n",
       "       [ 5.7588964 ],\n",
       "       [13.45638759],\n",
       "       [13.70414257]])"
      ]
     },
     "execution_count": 31,
     "metadata": {},
     "output_type": "execute_result"
    }
   ],
   "source": [
    "x = np.random.normal(5, 2, size=(10,1))\n",
    "y = 2*x + np.random.normal(size=x.shape)\n",
    "y"
   ]
  },
  {
   "cell_type": "code",
   "execution_count": 32,
   "metadata": {},
   "outputs": [
    {
     "data": {
      "text/plain": [
       "array([-0.90657367,  4.95510863,  5.64960809,  8.29177271,  5.09703736,\n",
       "        3.33869154,  4.70798169,  2.51375374,  7.05195426,  6.09172426])"
      ]
     },
     "execution_count": 32,
     "metadata": {},
     "output_type": "execute_result"
    }
   ],
   "source": [
    "x.reshape(-1)"
   ]
  },
  {
   "cell_type": "code",
   "execution_count": 33,
   "metadata": {},
   "outputs": [
    {
     "data": {
      "text/plain": [
       "array([-1.84064214, 10.67517476, 10.24625263, 17.17733854,  9.86454239,\n",
       "        7.20223621,  9.04857908,  5.7588964 , 13.45638759, 13.70414257])"
      ]
     },
     "execution_count": 33,
     "metadata": {},
     "output_type": "execute_result"
    }
   ],
   "source": [
    "y.reshape(-1)"
   ]
  },
  {
   "cell_type": "code",
   "execution_count": 37,
   "metadata": {},
   "outputs": [
    {
     "data": {
      "text/html": [
       "<div>\n",
       "<style scoped>\n",
       "    .dataframe tbody tr th:only-of-type {\n",
       "        vertical-align: middle;\n",
       "    }\n",
       "\n",
       "    .dataframe tbody tr th {\n",
       "        vertical-align: top;\n",
       "    }\n",
       "\n",
       "    .dataframe thead th {\n",
       "        text-align: right;\n",
       "    }\n",
       "</style>\n",
       "<table border=\"1\" class=\"dataframe\">\n",
       "  <thead>\n",
       "    <tr style=\"text-align: right;\">\n",
       "      <th></th>\n",
       "      <th>x</th>\n",
       "      <th>y</th>\n",
       "    </tr>\n",
       "  </thead>\n",
       "  <tbody>\n",
       "    <tr>\n",
       "      <th>0</th>\n",
       "      <td>-0.906574</td>\n",
       "      <td>-1.840642</td>\n",
       "    </tr>\n",
       "    <tr>\n",
       "      <th>1</th>\n",
       "      <td>4.955109</td>\n",
       "      <td>10.675175</td>\n",
       "    </tr>\n",
       "    <tr>\n",
       "      <th>2</th>\n",
       "      <td>5.649608</td>\n",
       "      <td>10.246253</td>\n",
       "    </tr>\n",
       "    <tr>\n",
       "      <th>3</th>\n",
       "      <td>8.291773</td>\n",
       "      <td>17.177339</td>\n",
       "    </tr>\n",
       "    <tr>\n",
       "      <th>4</th>\n",
       "      <td>5.097037</td>\n",
       "      <td>9.864542</td>\n",
       "    </tr>\n",
       "  </tbody>\n",
       "</table>\n",
       "</div>"
      ],
      "text/plain": [
       "          x          y\n",
       "0 -0.906574  -1.840642\n",
       "1  4.955109  10.675175\n",
       "2  5.649608  10.246253\n",
       "3  8.291773  17.177339\n",
       "4  5.097037   9.864542"
      ]
     },
     "execution_count": 37,
     "metadata": {},
     "output_type": "execute_result"
    }
   ],
   "source": [
    "df = pd.DataFrame({\"x\":x.reshape(-1), \"y\":y.reshape(-1)})\n",
    "df.head()"
   ]
  },
  {
   "cell_type": "code",
   "execution_count": 39,
   "metadata": {},
   "outputs": [
    {
     "data": {
      "text/plain": [
       "<matplotlib.axes._subplots.AxesSubplot at 0x7f40f9519b70>"
      ]
     },
     "execution_count": 39,
     "metadata": {},
     "output_type": "execute_result"
    },
    {
     "data": {
      "image/png": "[encoded data removed]",
      "text/plain": [
       "<Figure size 432x288 with 1 Axes>"
      ]
     },
     "metadata": {
      "needs_background": "light"
     },
     "output_type": "display_data"
    }
   ],
   "source": [
    "df.plot.scatter(x=\"x\", y=\"y\", c=\"0.4\") # cannot find c, where y = x * c"
   ]
  },
  {
   "cell_type": "code",
   "execution_count": 42,
   "metadata": {},
   "outputs": [
    {
     "data": {
      "text/plain": [
       "array([[-1.83811206],\n",
       "       [10.04666826],\n",
       "       [11.45479192],\n",
       "       [16.8118796 ],\n",
       "       [10.33443409],\n",
       "       [ 6.7693221 ],\n",
       "       [ 9.54560913],\n",
       "       [ 5.09672982],\n",
       "       [14.29810128],\n",
       "       [12.351199  ]])"
      ]
     },
     "execution_count": 42,
     "metadata": {},
     "output_type": "execute_result"
    }
   ],
   "source": [
    "P = x @ np.linalg.inv(x.T @ x) @ x.T\n",
    "p = P @ y\n",
    "p"
   ]
  },
  {
   "cell_type": "code",
   "execution_count": 43,
   "metadata": {},
   "outputs": [
    {
     "data": {
      "text/html": [
       "<div>\n",
       "<style scoped>\n",
       "    .dataframe tbody tr th:only-of-type {\n",
       "        vertical-align: middle;\n",
       "    }\n",
       "\n",
       "    .dataframe tbody tr th {\n",
       "        vertical-align: top;\n",
       "    }\n",
       "\n",
       "    .dataframe thead th {\n",
       "        text-align: right;\n",
       "    }\n",
       "</style>\n",
       "<table border=\"1\" class=\"dataframe\">\n",
       "  <thead>\n",
       "    <tr style=\"text-align: right;\">\n",
       "      <th></th>\n",
       "      <th>x</th>\n",
       "      <th>y</th>\n",
       "      <th>p</th>\n",
       "    </tr>\n",
       "  </thead>\n",
       "  <tbody>\n",
       "    <tr>\n",
       "      <th>0</th>\n",
       "      <td>-0.906574</td>\n",
       "      <td>-1.840642</td>\n",
       "      <td>-1.838112</td>\n",
       "    </tr>\n",
       "    <tr>\n",
       "      <th>1</th>\n",
       "      <td>4.955109</td>\n",
       "      <td>10.675175</td>\n",
       "      <td>10.046668</td>\n",
       "    </tr>\n",
       "    <tr>\n",
       "      <th>2</th>\n",
       "      <td>5.649608</td>\n",
       "      <td>10.246253</td>\n",
       "      <td>11.454792</td>\n",
       "    </tr>\n",
       "    <tr>\n",
       "      <th>3</th>\n",
       "      <td>8.291773</td>\n",
       "      <td>17.177339</td>\n",
       "      <td>16.811880</td>\n",
       "    </tr>\n",
       "    <tr>\n",
       "      <th>4</th>\n",
       "      <td>5.097037</td>\n",
       "      <td>9.864542</td>\n",
       "      <td>10.334434</td>\n",
       "    </tr>\n",
       "    <tr>\n",
       "      <th>5</th>\n",
       "      <td>3.338692</td>\n",
       "      <td>7.202236</td>\n",
       "      <td>6.769322</td>\n",
       "    </tr>\n",
       "    <tr>\n",
       "      <th>6</th>\n",
       "      <td>4.707982</td>\n",
       "      <td>9.048579</td>\n",
       "      <td>9.545609</td>\n",
       "    </tr>\n",
       "    <tr>\n",
       "      <th>7</th>\n",
       "      <td>2.513754</td>\n",
       "      <td>5.758896</td>\n",
       "      <td>5.096730</td>\n",
       "    </tr>\n",
       "    <tr>\n",
       "      <th>8</th>\n",
       "      <td>7.051954</td>\n",
       "      <td>13.456388</td>\n",
       "      <td>14.298101</td>\n",
       "    </tr>\n",
       "    <tr>\n",
       "      <th>9</th>\n",
       "      <td>6.091724</td>\n",
       "      <td>13.704143</td>\n",
       "      <td>12.351199</td>\n",
       "    </tr>\n",
       "  </tbody>\n",
       "</table>\n",
       "</div>"
      ],
      "text/plain": [
       "          x          y          p\n",
       "0 -0.906574  -1.840642  -1.838112\n",
       "1  4.955109  10.675175  10.046668\n",
       "2  5.649608  10.246253  11.454792\n",
       "3  8.291773  17.177339  16.811880\n",
       "4  5.097037   9.864542  10.334434\n",
       "5  3.338692   7.202236   6.769322\n",
       "6  4.707982   9.048579   9.545609\n",
       "7  2.513754   5.758896   5.096730\n",
       "8  7.051954  13.456388  14.298101\n",
       "9  6.091724  13.704143  12.351199"
      ]
     },
     "execution_count": 43,
     "metadata": {},
     "output_type": "execute_result"
    }
   ],
   "source": [
    "df[\"p\"] = p.reshape(-1)\n",
    "df"
   ]
  },
  {
   "cell_type": "code",
   "execution_count": 48,
   "metadata": {},
   "outputs": [
    {
     "data": {
      "text/plain": [
       "<matplotlib.axes._subplots.AxesSubplot at 0x7f40f8ed8940>"
      ]
     },
     "execution_count": 48,
     "metadata": {},
     "output_type": "execute_result"
    },
    {
     "data": {
      "image/png": "[encoded data removed]",
      "text/plain": [
       "<Figure size 432x288 with 1 Axes>"
      ]
     },
     "metadata": {
      "needs_background": "light"
     },
     "output_type": "display_data"
    }
   ],
   "source": [
    "ax = df.plot.scatter(x=\"x\", y=\"y\", c=\"0.7\") # cannot find c, where y = x @ c\n",
    "df.plot.scatter(x=\"x\", y=\"p\", c=\"black\", ax=ax) # CAN find c, where p = x @ c"
   ]
  },
  {
   "cell_type": "code",
   "execution_count": 49,
   "metadata": {},
   "outputs": [
    {
     "data": {
      "text/plain": [
       "0    2.027537\n",
       "1    2.027537\n",
       "2    2.027537\n",
       "3    2.027537\n",
       "4    2.027537\n",
       "5    2.027537\n",
       "6    2.027537\n",
       "7    2.027537\n",
       "8    2.027537\n",
       "9    2.027537\n",
       "dtype: float64"
      ]
     },
     "execution_count": 49,
     "metadata": {},
     "output_type": "execute_result"
    }
   ],
   "source": [
    "df[\"p\"]/df[\"x\"]"
   ]
  }
 ],
 "metadata": {
  "kernelspec": {
   "display_name": "Python 3",
   "language": "python",
   "name": "python3"
  },
  "language_info": {
   "codemirror_mode": {
    "name": "ipython",
    "version": 3
   },
   "file_extension": ".py",
   "mimetype": "text/x-python",
   "name": "python",
   "nbconvert_exporter": "python",
   "pygments_lexer": "ipython3",
   "version": "3.7.2"
  }
 },
 "nbformat": 4,
 "nbformat_minor": 4
}
