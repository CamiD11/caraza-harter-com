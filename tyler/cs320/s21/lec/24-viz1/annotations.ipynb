{
 "cells": [
  {
   "cell_type": "code",
   "execution_count": 1,
   "metadata": {},
   "outputs": [],
   "source": [
    "import numpy as np\n",
    "import pandas as pd\n",
    "import matplotlib.pyplot as plt"
   ]
  },
  {
   "cell_type": "code",
   "execution_count": 2,
   "metadata": {},
   "outputs": [],
   "source": [
    "plt.rcParams[\"font.size\"] = 16"
   ]
  },
  {
   "cell_type": "code",
   "execution_count": 3,
   "metadata": {},
   "outputs": [
    {
     "data": {
      "text/html": [
       "<div>\n",
       "<style scoped>\n",
       "    .dataframe tbody tr th:only-of-type {\n",
       "        vertical-align: middle;\n",
       "    }\n",
       "\n",
       "    .dataframe tbody tr th {\n",
       "        vertical-align: top;\n",
       "    }\n",
       "\n",
       "    .dataframe thead th {\n",
       "        text-align: right;\n",
       "    }\n",
       "</style>\n",
       "<table border=\"1\" class=\"dataframe\">\n",
       "  <thead>\n",
       "    <tr style=\"text-align: right;\">\n",
       "      <th></th>\n",
       "      <th>X</th>\n",
       "      <th>Y</th>\n",
       "    </tr>\n",
       "  </thead>\n",
       "  <tbody>\n",
       "    <tr>\n",
       "      <th>0</th>\n",
       "      <td>17.708399</td>\n",
       "      <td>-7.370717</td>\n",
       "    </tr>\n",
       "    <tr>\n",
       "      <th>1</th>\n",
       "      <td>55.518746</td>\n",
       "      <td>-6.690944</td>\n",
       "    </tr>\n",
       "    <tr>\n",
       "      <th>2</th>\n",
       "      <td>50.489804</td>\n",
       "      <td>34.156815</td>\n",
       "    </tr>\n",
       "    <tr>\n",
       "      <th>3</th>\n",
       "      <td>71.927123</td>\n",
       "      <td>62.517577</td>\n",
       "    </tr>\n",
       "    <tr>\n",
       "      <th>4</th>\n",
       "      <td>93.128018</td>\n",
       "      <td>115.675726</td>\n",
       "    </tr>\n",
       "  </tbody>\n",
       "</table>\n",
       "</div>"
      ],
      "text/plain": [
       "           X           Y\n",
       "0  17.708399   -7.370717\n",
       "1  55.518746   -6.690944\n",
       "2  50.489804   34.156815\n",
       "3  71.927123   62.517577\n",
       "4  93.128018  115.675726"
      ]
     },
     "execution_count": 3,
     "metadata": {},
     "output_type": "execute_result"
    }
   ],
   "source": [
    "df = pd.DataFrame({\n",
    "    \"X\": np.random.normal(10, 25, 100),\n",
    "    \"Y\": np.random.normal(20, 25, 100),\n",
    "}).cumsum()\n",
    "df.head()"
   ]
  },
  {
   "cell_type": "code",
   "execution_count": 4,
   "metadata": {},
   "outputs": [
    {
     "data": {
      "text/plain": [
       "<matplotlib.patches.Rectangle at 0x7f3321cfeb00>"
      ]
     },
     "execution_count": 4,
     "metadata": {},
     "output_type": "execute_result"
    },
    {
     "data": {
      "image/png": "[encoded data removed]",
      "text/plain": [
       "<Figure size 432x180 with 1 Axes>"
      ]
     },
     "metadata": {
      "needs_background": "light"
     },
     "output_type": "display_data"
    }
   ],
   "source": [
    "ax = df.plot.line(legend=False, figsize=(6,2.5))\n",
    "ax.set_xlabel(\"Time\")\n",
    "ax.set_ylabel(\"Quantity\")\n",
    "\n",
    "# 1. text directly labeling lines (instead of legend)\n",
    "ax.spines[\"right\"].set_visible(False)\n",
    "ax.spines[\"top\"].set_visible(False)\n",
    "ax.text(df.index[-1], df.iloc[-1,0], df.columns[0], va=\"center\")\n",
    "ax.text(df.index[-1], df.iloc[-1,1], df.columns[1], va=\"center\")\n",
    "\n",
    "# 2. vertical line (indicating some event)\n",
    "patch = plt.Line2D((20, 20), ax.get_ylim(),\n",
    "                   color=\"red\", linestyle=\"--\")\n",
    "ax.add_artist(patch)\n",
    "\n",
    "# 3. highlighted region (indicating time interval)\n",
    "patch = plt.Rectangle((60, ax.get_ylim()[0]), 20, ax.get_ylim()[1],\n",
    "                      color=\"k\", zorder=30, alpha=0.2,\n",
    "                      transform=ax.transData)\n",
    "ax.add_artist(patch)\n",
    "\n",
    "\n",
    "patch = plt.Rectangle((0, 0), 0.5, 1,\n",
    "                      color=\"red\", zorder=30, alpha=0.2,\n",
    "                      transform=ax.transAxes)\n",
    "ax.add_artist(patch)"
   ]
  }
 ],
 "metadata": {
  "kernelspec": {
   "display_name": "Python 3",
   "language": "python",
   "name": "python3"
  },
  "language_info": {
   "codemirror_mode": {
    "name": "ipython",
    "version": 3
   },
   "file_extension": ".py",
   "mimetype": "text/x-python",
   "name": "python",
   "nbconvert_exporter": "python",
   "pygments_lexer": "ipython3",
   "version": "3.6.9"
  }
 },
 "nbformat": 4,
 "nbformat_minor": 4
}
