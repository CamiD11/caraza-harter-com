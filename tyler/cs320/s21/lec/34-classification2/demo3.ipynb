{
 "cells": [
  {
   "cell_type": "markdown",
   "metadata": {},
   "source": [
    "# Regularization and Standardization\n",
    "\n",
    "**Problem:** LogisticRegression is sensative to scaling issue that might result from changing units used.\n",
    "\n",
    "**Why:** LogisticRegression apply *regularization*, which prefers to use small coefficients (the idea is that models with smaller coefficients are simpler).  LinearRegression does not apply regularization, but similar models not covered in 320 (RidgeRegression and LassoRegression do).\n",
    "\n",
    "**Solution:** *standardize* the features\n",
    "\n",
    "## Demo Data\n",
    "\n",
    "* Let's say the same quantity is measured (with error) 3 times\n",
    "* Whenever the true length (unknown) is >5, the thing we're measuring is categorized as True."
   ]
  },
  {
   "cell_type": "code",
   "execution_count": 44,
   "metadata": {},
   "outputs": [],
   "source": [
    "import numpy as np\n",
    "import pandas as pd\n",
    "from sklearn.linear_model import LogisticRegression\n",
    "from sklearn.pipeline import Pipeline\n",
    "from sklearn.preprocessing import StandardScaler"
   ]
  },
  {
   "cell_type": "code",
   "execution_count": 45,
   "metadata": {},
   "outputs": [],
   "source": [
    "%matplotlib inline"
   ]
  },
  {
   "cell_type": "code",
   "execution_count": 46,
   "metadata": {},
   "outputs": [
    {
     "data": {
      "text/html": [
       "<div>\n",
       "<style scoped>\n",
       "    .dataframe tbody tr th:only-of-type {\n",
       "        vertical-align: middle;\n",
       "    }\n",
       "\n",
       "    .dataframe tbody tr th {\n",
       "        vertical-align: top;\n",
       "    }\n",
       "\n",
       "    .dataframe thead th {\n",
       "        text-align: right;\n",
       "    }\n",
       "</style>\n",
       "<table border=\"1\" class=\"dataframe\">\n",
       "  <thead>\n",
       "    <tr style=\"text-align: right;\">\n",
       "      <th></th>\n",
       "      <th>x1</th>\n",
       "      <th>x2</th>\n",
       "      <th>x3</th>\n",
       "      <th>y</th>\n",
       "    </tr>\n",
       "  </thead>\n",
       "  <tbody>\n",
       "    <tr>\n",
       "      <th>0</th>\n",
       "      <td>1.006352</td>\n",
       "      <td>0.000064</td>\n",
       "      <td>3.161445</td>\n",
       "      <td>False</td>\n",
       "    </tr>\n",
       "    <tr>\n",
       "      <th>1</th>\n",
       "      <td>5.897718</td>\n",
       "      <td>0.001213</td>\n",
       "      <td>5.458255</td>\n",
       "      <td>True</td>\n",
       "    </tr>\n",
       "    <tr>\n",
       "      <th>2</th>\n",
       "      <td>3.148717</td>\n",
       "      <td>0.000398</td>\n",
       "      <td>3.557861</td>\n",
       "      <td>False</td>\n",
       "    </tr>\n",
       "    <tr>\n",
       "      <th>3</th>\n",
       "      <td>3.034777</td>\n",
       "      <td>0.001033</td>\n",
       "      <td>6.752629</td>\n",
       "      <td>False</td>\n",
       "    </tr>\n",
       "    <tr>\n",
       "      <th>4</th>\n",
       "      <td>2.525495</td>\n",
       "      <td>0.000301</td>\n",
       "      <td>3.451702</td>\n",
       "      <td>False</td>\n",
       "    </tr>\n",
       "  </tbody>\n",
       "</table>\n",
       "</div>"
      ],
      "text/plain": [
       "         x1        x2        x3      y\n",
       "0  1.006352  0.000064  3.161445  False\n",
       "1  5.897718  0.001213  5.458255   True\n",
       "2  3.148717  0.000398  3.557861  False\n",
       "3  3.034777  0.001033  6.752629  False\n",
       "4  2.525495  0.000301  3.451702  False"
      ]
     },
     "execution_count": 46,
     "metadata": {},
     "output_type": "execute_result"
    }
   ],
   "source": [
    "true_feet = np.random.normal(4, size=1000)\n",
    "category = true_feet > 5\n",
    "df = pd.DataFrame({\n",
    "    \"x1\": true_feet + np.random.normal(size=len(true_feet)),\n",
    "    \"x2\": (true_feet + np.random.normal(size=len(true_feet))) / 5280, # ft => mi\n",
    "    \"x3\": true_feet + np.random.normal(size=len(true_feet)),\n",
    "    \"y\": category\n",
    "})\n",
    "train, test = df.iloc[:500].copy(), df.iloc[500:].copy()\n",
    "train.head()"
   ]
  },
  {
   "cell_type": "code",
   "execution_count": 47,
   "metadata": {},
   "outputs": [],
   "source": [
    "# manually standardize\n",
    "# X = train.loc[:, \"x1\":\"x3\"]\n",
    "# X = (X - X.mean()) / X.std()\n",
    "# train.loc[:, \"x1\":\"x3\"] = X"
   ]
  },
  {
   "cell_type": "code",
   "execution_count": 48,
   "metadata": {},
   "outputs": [
    {
     "data": {
      "text/plain": [
       "LogisticRegression(C=1.0, class_weight=None, dual=False, fit_intercept=True,\n",
       "                   intercept_scaling=1, l1_ratio=None, max_iter=100,\n",
       "                   multi_class='auto', n_jobs=None, penalty='l2',\n",
       "                   random_state=None, solver='lbfgs', tol=0.0001, verbose=0,\n",
       "                   warm_start=False)"
      ]
     },
     "execution_count": 48,
     "metadata": {},
     "output_type": "execute_result"
    }
   ],
   "source": [
    "xcols = [\"x1\", \"x2\", \"x3\"]\n",
    "model = LogisticRegression()\n",
    "model.fit(train[xcols], train[\"y\"])"
   ]
  },
  {
   "cell_type": "code",
   "execution_count": 49,
   "metadata": {},
   "outputs": [
    {
     "data": {
      "text/plain": [
       "0.88"
      ]
     },
     "execution_count": 49,
     "metadata": {},
     "output_type": "execute_result"
    }
   ],
   "source": [
    "model.score(test[xcols], test[\"y\"])"
   ]
  },
  {
   "cell_type": "code",
   "execution_count": 50,
   "metadata": {},
   "outputs": [
    {
     "data": {
      "text/plain": [
       "False    0.85\n",
       "True     0.15\n",
       "Name: y, dtype: float64"
      ]
     },
     "execution_count": 50,
     "metadata": {},
     "output_type": "execute_result"
    }
   ],
   "source": [
    "test[\"y\"].value_counts() / len(test)"
   ]
  },
  {
   "cell_type": "code",
   "execution_count": 51,
   "metadata": {},
   "outputs": [
    {
     "data": {
      "text/plain": [
       "<matplotlib.axes._subplots.AxesSubplot at 0x7f8e3c5298d0>"
      ]
     },
     "execution_count": 51,
     "metadata": {},
     "output_type": "execute_result"
    },
    {
     "data": {
      "image/png": "[encoded data removed]",
      "text/plain": [
       "<Figure size 432x288 with 1 Axes>"
      ]
     },
     "metadata": {
      "needs_background": "light"
     },
     "output_type": "display_data"
    }
   ],
   "source": [
    "pd.Series(model.coef_.reshape(-1), index=xcols).plot.bar()"
   ]
  },
  {
   "cell_type": "code",
   "execution_count": 59,
   "metadata": {},
   "outputs": [
    {
     "data": {
      "text/plain": [
       "<matplotlib.axes._subplots.AxesSubplot at 0x7f8e3c66ed30>"
      ]
     },
     "execution_count": 59,
     "metadata": {},
     "output_type": "execute_result"
    },
    {
     "data": {
      "image/png": "[encoded data removed]",
      "text/plain": [
       "<Figure size 432x288 with 1 Axes>"
      ]
     },
     "metadata": {
      "needs_background": "light"
     },
     "output_type": "display_data"
    }
   ],
   "source": [
    "model = Pipeline([\n",
    "    (\"std\", StandardScaler()),\n",
    "    (\"logr\", LogisticRegression())\n",
    "])\n",
    "model.fit(train[xcols], train[\"y\"])\n",
    "model.score(test[xcols], test[\"y\"])\n",
    "pd.Series(model[\"logr\"].coef_.reshape(-1), index=xcols).plot.bar()"
   ]
  }
 ],
 "metadata": {
  "kernelspec": {
   "display_name": "Python 3",
   "language": "python",
   "name": "python3"
  },
  "language_info": {
   "codemirror_mode": {
    "name": "ipython",
    "version": 3
   },
   "file_extension": ".py",
   "mimetype": "text/x-python",
   "name": "python",
   "nbconvert_exporter": "python",
   "pygments_lexer": "ipython3",
   "version": "3.7.2"
  }
 },
 "nbformat": 4,
 "nbformat_minor": 2
}
