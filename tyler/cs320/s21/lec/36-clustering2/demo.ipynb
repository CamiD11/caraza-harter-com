{
 "cells": [
  {
   "cell_type": "markdown",
   "metadata": {},
   "source": [
    "# Demo 1: Linkage Matrix to Dendrogram"
   ]
  },
  {
   "cell_type": "code",
   "execution_count": 1,
   "metadata": {},
   "outputs": [],
   "source": [
    "import numpy as np\n",
    "import pandas as pd\n",
    "import matplotlib.pyplot as plt\n",
    "from graphviz import Digraph\n",
    "from scipy.cluster.hierarchy import dendrogram"
   ]
  },
  {
   "cell_type": "code",
   "execution_count": 2,
   "metadata": {},
   "outputs": [],
   "source": [
    "%matplotlib inline"
   ]
  },
  {
   "cell_type": "code",
   "execution_count": 3,
   "metadata": {},
   "outputs": [],
   "source": [
    "plt.rcParams[\"font.size\"] = 16"
   ]
  },
  {
   "cell_type": "code",
   "execution_count": 4,
   "metadata": {},
   "outputs": [
    {
     "data": {
      "text/html": [
       "<div>\n",
       "<style scoped>\n",
       "    .dataframe tbody tr th:only-of-type {\n",
       "        vertical-align: middle;\n",
       "    }\n",
       "\n",
       "    .dataframe tbody tr th {\n",
       "        vertical-align: top;\n",
       "    }\n",
       "\n",
       "    .dataframe thead th {\n",
       "        text-align: right;\n",
       "    }\n",
       "</style>\n",
       "<table border=\"1\" class=\"dataframe\">\n",
       "  <thead>\n",
       "    <tr style=\"text-align: right;\">\n",
       "      <th></th>\n",
       "      <th>x</th>\n",
       "      <th>y</th>\n",
       "    </tr>\n",
       "  </thead>\n",
       "  <tbody>\n",
       "    <tr>\n",
       "      <th>A</th>\n",
       "      <td>2</td>\n",
       "      <td>1</td>\n",
       "    </tr>\n",
       "    <tr>\n",
       "      <th>B</th>\n",
       "      <td>5</td>\n",
       "      <td>1</td>\n",
       "    </tr>\n",
       "    <tr>\n",
       "      <th>C</th>\n",
       "      <td>5</td>\n",
       "      <td>5</td>\n",
       "    </tr>\n",
       "  </tbody>\n",
       "</table>\n",
       "</div>"
      ],
      "text/plain": [
       "   x  y\n",
       "A  2  1\n",
       "B  5  1\n",
       "C  5  5"
      ]
     },
     "execution_count": 4,
     "metadata": {},
     "output_type": "execute_result"
    }
   ],
   "source": [
    "df = pd.DataFrame([[2,1], [5,1], [5,5]], columns=[\"x\", \"y\"], index=[\"A\", \"B\", \"C\"])\n",
    "df"
   ]
  },
  {
   "cell_type": "code",
   "execution_count": 5,
   "metadata": {},
   "outputs": [
    {
     "data": {
      "text/html": [
       "<div>\n",
       "<style scoped>\n",
       "    .dataframe tbody tr th:only-of-type {\n",
       "        vertical-align: middle;\n",
       "    }\n",
       "\n",
       "    .dataframe tbody tr th {\n",
       "        vertical-align: top;\n",
       "    }\n",
       "\n",
       "    .dataframe thead th {\n",
       "        text-align: right;\n",
       "    }\n",
       "</style>\n",
       "<table border=\"1\" class=\"dataframe\">\n",
       "  <thead>\n",
       "    <tr style=\"text-align: right;\">\n",
       "      <th></th>\n",
       "      <th>name</th>\n",
       "      <th>left</th>\n",
       "      <th>right</th>\n",
       "      <th>distance</th>\n",
       "      <th>nodes</th>\n",
       "    </tr>\n",
       "  </thead>\n",
       "  <tbody>\n",
       "    <tr>\n",
       "      <th>0</th>\n",
       "      <td>A</td>\n",
       "      <td></td>\n",
       "      <td></td>\n",
       "      <td>0.0</td>\n",
       "      <td>1</td>\n",
       "    </tr>\n",
       "    <tr>\n",
       "      <th>1</th>\n",
       "      <td>B</td>\n",
       "      <td></td>\n",
       "      <td></td>\n",
       "      <td>0.0</td>\n",
       "      <td>1</td>\n",
       "    </tr>\n",
       "    <tr>\n",
       "      <th>2</th>\n",
       "      <td>C</td>\n",
       "      <td></td>\n",
       "      <td></td>\n",
       "      <td>0.0</td>\n",
       "      <td>1</td>\n",
       "    </tr>\n",
       "    <tr>\n",
       "      <th>3</th>\n",
       "      <td>cluster1</td>\n",
       "      <td>0</td>\n",
       "      <td>1</td>\n",
       "      <td>3.0</td>\n",
       "      <td>3</td>\n",
       "    </tr>\n",
       "    <tr>\n",
       "      <th>4</th>\n",
       "      <td>cluster0</td>\n",
       "      <td>3</td>\n",
       "      <td>2</td>\n",
       "      <td>4.5</td>\n",
       "      <td>2</td>\n",
       "    </tr>\n",
       "  </tbody>\n",
       "</table>\n",
       "</div>"
      ],
      "text/plain": [
       "       name left right  distance  nodes\n",
       "0         A                  0.0      1\n",
       "1         B                  0.0      1\n",
       "2         C                  0.0      1\n",
       "3  cluster1    0     1       3.0      3\n",
       "4  cluster0    3     2       4.5      2"
      ]
     },
     "execution_count": 5,
     "metadata": {},
     "output_type": "execute_result"
    }
   ],
   "source": [
    "graph = np.array([\n",
    "       [\"A\", None, None, 0, 1],\n",
    "       [\"B\", None, None, 0, 1],\n",
    "       [\"C\", None, None, 0, 1],\n",
    "       [\"cluster1\", 0, 1, 3, 3],\n",
    "       [\"cluster0\", 3, 2, 4.5, 2]])\n",
    "graph = pd.DataFrame(graph, columns=[\"name\", \"left\", \"right\", \"distance\", \"nodes\"]).fillna(\"\")\n",
    "graph"
   ]
  },
  {
   "cell_type": "code",
   "execution_count": 6,
   "metadata": {},
   "outputs": [
    {
     "data": {
      "text/plain": [
       "array(['A', 'B', 'C'], dtype=object)"
      ]
     },
     "execution_count": 6,
     "metadata": {},
     "output_type": "execute_result"
    }
   ],
   "source": [
    "leaf_labels = graph.values[:3, 0]\n",
    "leaf_labels"
   ]
  },
  {
   "cell_type": "code",
   "execution_count": 7,
   "metadata": {},
   "outputs": [
    {
     "data": {
      "text/plain": [
       "array([['A', '', '', 0.0, 1],\n",
       "       ['B', '', '', 0.0, 1],\n",
       "       ['C', '', '', 0.0, 1],\n",
       "       ['cluster1', 0, 1, 3.0, 3],\n",
       "       ['cluster0', 3, 2, 4.5, 2]], dtype=object)"
      ]
     },
     "execution_count": 7,
     "metadata": {},
     "output_type": "execute_result"
    }
   ],
   "source": [
    "graph.values"
   ]
  },
  {
   "cell_type": "code",
   "execution_count": 8,
   "metadata": {},
   "outputs": [
    {
     "data": {
      "text/plain": [
       "array([[0. , 1. , 3. , 3. ],\n",
       "       [3. , 2. , 4.5, 2. ]])"
      ]
     },
     "execution_count": 8,
     "metadata": {},
     "output_type": "execute_result"
    }
   ],
   "source": [
    "link_matrix = graph.values[3:, 1:].astype(float)\n",
    "link_matrix"
   ]
  },
  {
   "cell_type": "code",
   "execution_count": 9,
   "metadata": {},
   "outputs": [
    {
     "data": {
      "text/plain": [
       "{'icoord': [[5.0, 5.0, 15.0, 15.0], [10.0, 10.0, 25.0, 25.0]],\n",
       " 'dcoord': [[0.0, 3.0, 3.0, 0.0], [3.0, 4.5, 4.5, 0.0]],\n",
       " 'ivl': ['A', 'B', 'C'],\n",
       " 'leaves': [0, 1, 2],\n",
       " 'color_list': ['g', 'b']}"
      ]
     },
     "execution_count": 9,
     "metadata": {},
     "output_type": "execute_result"
    },
    {
     "data": {
      "image/png": "[encoded data removed]",
      "text/plain": [
       "<Figure size 432x288 with 1 Axes>"
      ]
     },
     "metadata": {
      "needs_background": "light"
     },
     "output_type": "display_data"
    }
   ],
   "source": [
    "dendrogram(link_matrix, labels=leaf_labels)"
   ]
  },
  {
   "cell_type": "markdown",
   "metadata": {},
   "source": [
    "# Demo 2: Tree to Linkage Matrix"
   ]
  },
  {
   "cell_type": "code",
   "execution_count": 10,
   "metadata": {},
   "outputs": [
    {
     "data": {
      "image/png": "[encoded data removed]",
      "text/plain": [
       "<Figure size 432x288 with 1 Axes>"
      ]
     },
     "metadata": {
      "needs_background": "light"
     },
     "output_type": "display_data"
    }
   ],
   "source": [
    "# binary tree for cluster hierarchy:\n",
    "#  - 0 or 2 children\n",
    "#  - parent records distance between siblings\n",
    "\n",
    "class Node:\n",
    "    def __init__(self, name, left=None, right=None, dist=0, data=None):\n",
    "        self.name = name\n",
    "        self.data = data\n",
    "        self.dist = dist\n",
    "        self.children = []\n",
    "        if left != None:\n",
    "            # non-leaf\n",
    "            assert right != None\n",
    "            assert data is None\n",
    "            self.children.append(left)\n",
    "            self.children.append(right)\n",
    "        else:\n",
    "            assert right == None\n",
    "            assert data is not None\n",
    "\n",
    "    def draw(self, gv):\n",
    "        gv.node(self.name)\n",
    "        for child in self.children:\n",
    "            child.draw(gv)\n",
    "            gv.edge(self.name, child.name)\n",
    "\n",
    "    def __repr__(self):\n",
    "        return f\"Node({self.name})\"\n",
    "\n",
    "    def _repr_svg_(self):\n",
    "        g = Digraph()\n",
    "        self.draw(g)\n",
    "        return g._repr_svg_()\n",
    "\n",
    "    def fill_node_list(self, nodes, child_count=None):\n",
    "        for c in self.children:\n",
    "            c.fill_node_list(nodes, child_count)\n",
    "        if child_count == None or len(self.children) == child_count:\n",
    "            nodes.append(self)\n",
    "    \n",
    "    def draw_hierarchy(self):\n",
    "        leafs = []\n",
    "        nonleafs = []\n",
    "        self.fill_node_list(leafs, child_count=0)\n",
    "        self.fill_node_list(nonleafs, child_count=2)\n",
    "        for idx, node in enumerate(leafs+nonleafs):\n",
    "            node.idx = idx\n",
    "            \n",
    "        leaf_labels = []\n",
    "        for node in leafs:\n",
    "            leaf_labels.append(node.name)\n",
    "            \n",
    "        links = []\n",
    "        for node in nonleafs:\n",
    "            links.append([node.children[0].idx, node.children[1].idx, node.dist, 0])\n",
    "        links = np.array(links).astype(float)\n",
    "        dendrogram(links, labels=leaf_labels)\n",
    "\n",
    "A = Node(\"A\", data=df.loc[\"A\"].values)\n",
    "B = Node(\"B\", data=df.loc[\"B\"].values)\n",
    "C = Node(\"C\", data=df.loc[\"C\"].values)\n",
    "Y = Node(\"cluster1\", A, B, 3)\n",
    "X = Node(\"cluster0\", Y, C, 4)\n",
    "X.draw_hierarchy()"
   ]
  },
  {
   "cell_type": "markdown",
   "metadata": {},
   "source": [
    "# Demo 3: Data => Tree"
   ]
  },
  {
   "cell_type": "code",
   "execution_count": 11,
   "metadata": {},
   "outputs": [],
   "source": [
    "# binary tree for cluster hierarchy:\n",
    "#  - 0 or 2 children\n",
    "#  - parent records distance between siblings\n",
    "\n",
    "class Node:\n",
    "    def __init__(self, name, left=None, right=None, dist=0, data=None):\n",
    "        self.name = name\n",
    "        self.data = data\n",
    "        self.dist = dist\n",
    "        self.children = []\n",
    "        if left != None:\n",
    "            # non-leaf\n",
    "            assert right != None\n",
    "            assert data is None\n",
    "            self.children.append(left)\n",
    "            self.children.append(right)\n",
    "        else:\n",
    "            assert right == None\n",
    "            assert data is not None\n",
    "\n",
    "    def draw(self, gv):\n",
    "        gv.node(self.name)\n",
    "        for child in self.children:\n",
    "            child.draw(gv)\n",
    "            gv.edge(self.name, child.name)\n",
    "\n",
    "    def __repr__(self):\n",
    "        return f\"Node({self.name})\"\n",
    "\n",
    "    def _repr_svg_(self):\n",
    "        g = Digraph()\n",
    "        self.draw(g)\n",
    "        return g._repr_svg_()\n",
    "\n",
    "    def fill_node_list(self, nodes, child_count=None):\n",
    "        for c in self.children:\n",
    "            c.fill_node_list(nodes, child_count)\n",
    "        if child_count == None or len(self.children) == child_count:\n",
    "            nodes.append(self)\n",
    "    \n",
    "    def draw_hierarchy(self):\n",
    "        leafs = []\n",
    "        nonleafs = []\n",
    "        self.fill_node_list(leafs, child_count=0)\n",
    "        self.fill_node_list(nonleafs, child_count=2)\n",
    "        for idx, node in enumerate(leafs+nonleafs):\n",
    "            node.idx = idx\n",
    "            \n",
    "        leaf_labels = []\n",
    "        for node in leafs:\n",
    "            leaf_labels.append(node.name)\n",
    "            \n",
    "        links = []\n",
    "        for node in nonleafs:\n",
    "            links.append([node.children[0].idx, node.children[1].idx, node.dist, 0])\n",
    "        links = np.array(links).astype(float)\n",
    "        dendrogram(links, labels=leaf_labels)\n",
    "        \n",
    "    def distance(self, other):\n",
    "        leafs1 = []\n",
    "        leafs2 = []\n",
    "        self.fill_node_list(leafs1, child_count=0)\n",
    "        other.fill_node_list(leafs2, child_count=0)\n",
    "        distances = []\n",
    "        for node1 in leafs1:\n",
    "            for node2 in leafs2:\n",
    "                dist = ((node1.data - node2.data) ** 2).sum() ** 0.5\n",
    "                distances.append(dist)\n",
    "        return sum(distances) / len(distances)\n",
    "        \n",
    "A = Node(\"A\", data=df.loc[\"A\"].values)\n",
    "B = Node(\"B\", data=df.loc[\"B\"].values)\n",
    "C = Node(\"C\", data=df.loc[\"C\"].values)"
   ]
  },
  {
   "cell_type": "code",
   "execution_count": 12,
   "metadata": {},
   "outputs": [
    {
     "name": "stdout",
     "output_type": "stream",
     "text": [
      "{Node(C), Node(B), Node(A)}\n",
      "{Node(cluster1), Node(C)}\n",
      "{Node(cluster0)}\n"
     ]
    },
    {
     "data": {
      "image/png": "[encoded data removed]",
      "text/plain": [
       "<Figure size 432x288 with 1 Axes>"
      ]
     },
     "metadata": {
      "needs_background": "light"
     },
     "output_type": "display_data"
    }
   ],
   "source": [
    "trees = {A, B, C} # each cluster is a tree\n",
    "while len(trees) > 1:\n",
    "    print(trees)\n",
    "    best_dist = None\n",
    "    for tree1 in trees:\n",
    "        for tree2 in trees:\n",
    "            if tree1 == tree2:\n",
    "                continue\n",
    "            dist = tree1.distance(tree2)\n",
    "            if best_dist == None or dist < best_dist:\n",
    "                best_dist = dist\n",
    "                best_tree1 = tree1\n",
    "                best_tree2 = tree2\n",
    "    trees.remove(best_tree1)\n",
    "    trees.remove(best_tree2)\n",
    "    new_tree = Node(f\"cluster{len(trees)}\", best_tree1, best_tree2, best_dist)\n",
    "    trees.add(new_tree)\n",
    "print(trees)\n",
    "root = list(trees)[0]\n",
    "root.draw_hierarchy()"
   ]
  }
 ],
 "metadata": {
  "kernelspec": {
   "display_name": "Python 3",
   "language": "python",
   "name": "python3"
  },
  "language_info": {
   "codemirror_mode": {
    "name": "ipython",
    "version": 3
   },
   "file_extension": ".py",
   "mimetype": "text/x-python",
   "name": "python",
   "nbconvert_exporter": "python",
   "pygments_lexer": "ipython3",
   "version": "3.7.2"
  }
 },
 "nbformat": 4,
 "nbformat_minor": 2
}
