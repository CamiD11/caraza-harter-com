{
 "cells": [
  {
   "cell_type": "markdown",
   "metadata": {},
   "source": [
    "# Instructor Lecture Prep notes (probably not useful for student review)\n",
    "\n",
    "# Dendrograms and AgglomerativeClustering\n",
    "\n",
    "1. linkage matrix => dengrogram\n",
    "2. tree => linkage matrix\n",
    "3. data => tree"
   ]
  },
  {
   "cell_type": "code",
   "execution_count": 1,
   "metadata": {},
   "outputs": [],
   "source": [
    "from scipy.cluster.hierarchy import dendrogram\n",
    "import numpy as np\n",
    "import pandas as pd\n",
    "import matplotlib.pyplot as plt\n",
    "from graphviz import Digraph"
   ]
  },
  {
   "cell_type": "code",
   "execution_count": 2,
   "metadata": {},
   "outputs": [],
   "source": [
    "%matplotlib inline"
   ]
  },
  {
   "cell_type": "code",
   "execution_count": 3,
   "metadata": {},
   "outputs": [],
   "source": [
    "plt.rcParams[\"font.size\"] = 16"
   ]
  },
  {
   "cell_type": "code",
   "execution_count": 4,
   "metadata": {},
   "outputs": [
    {
     "data": {
      "text/html": [
       "<div>\n",
       "<style scoped>\n",
       "    .dataframe tbody tr th:only-of-type {\n",
       "        vertical-align: middle;\n",
       "    }\n",
       "\n",
       "    .dataframe tbody tr th {\n",
       "        vertical-align: top;\n",
       "    }\n",
       "\n",
       "    .dataframe thead th {\n",
       "        text-align: right;\n",
       "    }\n",
       "</style>\n",
       "<table border=\"1\" class=\"dataframe\">\n",
       "  <thead>\n",
       "    <tr style=\"text-align: right;\">\n",
       "      <th></th>\n",
       "      <th>x</th>\n",
       "      <th>y</th>\n",
       "    </tr>\n",
       "  </thead>\n",
       "  <tbody>\n",
       "    <tr>\n",
       "      <th>A</th>\n",
       "      <td>2</td>\n",
       "      <td>1</td>\n",
       "    </tr>\n",
       "    <tr>\n",
       "      <th>B</th>\n",
       "      <td>5</td>\n",
       "      <td>1</td>\n",
       "    </tr>\n",
       "    <tr>\n",
       "      <th>C</th>\n",
       "      <td>5</td>\n",
       "      <td>5</td>\n",
       "    </tr>\n",
       "  </tbody>\n",
       "</table>\n",
       "</div>"
      ],
      "text/plain": [
       "   x  y\n",
       "A  2  1\n",
       "B  5  1\n",
       "C  5  5"
      ]
     },
     "execution_count": 4,
     "metadata": {},
     "output_type": "execute_result"
    }
   ],
   "source": [
    "df = pd.DataFrame([[2,1], [5,1], [5,5]], columns=[\"x\", \"y\"], index=[\"A\", \"B\", \"C\"])\n",
    "df"
   ]
  },
  {
   "cell_type": "code",
   "execution_count": 5,
   "metadata": {},
   "outputs": [
    {
     "data": {
      "image/png": "[encoded data removed]",
      "text/plain": [
       "<Figure size 432x288 with 1 Axes>"
      ]
     },
     "metadata": {
      "needs_background": "light"
     },
     "output_type": "display_data"
    }
   ],
   "source": [
    "ax = df.plot.scatter(x=\"x\", y=\"y\", xlim=(0,8), ylim=(0,8))\n",
    "ax.set_aspect(\"equal\")"
   ]
  },
  {
   "cell_type": "code",
   "execution_count": 31,
   "metadata": {},
   "outputs": [
    {
     "data": {
      "text/html": [
       "<div>\n",
       "<style scoped>\n",
       "    .dataframe tbody tr th:only-of-type {\n",
       "        vertical-align: middle;\n",
       "    }\n",
       "\n",
       "    .dataframe tbody tr th {\n",
       "        vertical-align: top;\n",
       "    }\n",
       "\n",
       "    .dataframe thead th {\n",
       "        text-align: right;\n",
       "    }\n",
       "</style>\n",
       "<table border=\"1\" class=\"dataframe\">\n",
       "  <thead>\n",
       "    <tr style=\"text-align: right;\">\n",
       "      <th></th>\n",
       "      <th>name</th>\n",
       "      <th>left</th>\n",
       "      <th>right</th>\n",
       "      <th>distance</th>\n",
       "      <th>nodes</th>\n",
       "    </tr>\n",
       "  </thead>\n",
       "  <tbody>\n",
       "    <tr>\n",
       "      <th>0</th>\n",
       "      <td>A</td>\n",
       "      <td></td>\n",
       "      <td></td>\n",
       "      <td>0.0</td>\n",
       "      <td>1</td>\n",
       "    </tr>\n",
       "    <tr>\n",
       "      <th>1</th>\n",
       "      <td>B</td>\n",
       "      <td></td>\n",
       "      <td></td>\n",
       "      <td>0.0</td>\n",
       "      <td>1</td>\n",
       "    </tr>\n",
       "    <tr>\n",
       "      <th>2</th>\n",
       "      <td>C</td>\n",
       "      <td></td>\n",
       "      <td></td>\n",
       "      <td>0.0</td>\n",
       "      <td>1</td>\n",
       "    </tr>\n",
       "    <tr>\n",
       "      <th>3</th>\n",
       "      <td>cluster1</td>\n",
       "      <td>0</td>\n",
       "      <td>1</td>\n",
       "      <td>3.0</td>\n",
       "      <td>3</td>\n",
       "    </tr>\n",
       "    <tr>\n",
       "      <th>4</th>\n",
       "      <td>cluster0</td>\n",
       "      <td>3</td>\n",
       "      <td>2</td>\n",
       "      <td>4.5</td>\n",
       "      <td>2</td>\n",
       "    </tr>\n",
       "  </tbody>\n",
       "</table>\n",
       "</div>"
      ],
      "text/plain": [
       "       name left right  distance  nodes\n",
       "0         A                  0.0      1\n",
       "1         B                  0.0      1\n",
       "2         C                  0.0      1\n",
       "3  cluster1    0     1       3.0      3\n",
       "4  cluster0    3     2       4.5      2"
      ]
     },
     "execution_count": 31,
     "metadata": {},
     "output_type": "execute_result"
    }
   ],
   "source": [
    "graph = np.array([\n",
    "       [\"A\", None, None, 0, 1],\n",
    "       [\"B\", None, None, 0, 1],\n",
    "       [\"C\", None, None, 0, 1],\n",
    "       [\"cluster1\", 0, 1, 3, 3],\n",
    "       [\"cluster0\", 3, 2, 4.5, 2]])\n",
    "graph = pd.DataFrame(graph, columns=[\"name\", \"left\", \"right\", \"distance\", \"nodes\"]).fillna(\"\")\n",
    "graph"
   ]
  },
  {
   "cell_type": "code",
   "execution_count": 30,
   "metadata": {},
   "outputs": [
    {
     "data": {
      "text/plain": [
       "{'icoord': [[5.0, 5.0, 15.0, 15.0], [10.0, 10.0, 25.0, 25.0]],\n",
       " 'dcoord': [[0.0, 3.0, 3.0, 0.0], [3.0, 4.0, 4.0, 0.0]],\n",
       " 'ivl': ['A', 'B', 'C'],\n",
       " 'leaves': [0, 1, 2],\n",
       " 'color_list': ['b', 'b']}"
      ]
     },
     "execution_count": 30,
     "metadata": {},
     "output_type": "execute_result"
    },
    {
     "data": {
      "image/png": "[encoded data removed]",
      "text/plain": [
       "<Figure size 432x288 with 1 Axes>"
      ]
     },
     "metadata": {
      "needs_background": "light"
     },
     "output_type": "display_data"
    }
   ],
   "source": [
    "dendrogram(graph.values[3:, 1:].astype(float), labels=graph.values[:3,0])"
   ]
  },
  {
   "cell_type": "code",
   "execution_count": 32,
   "metadata": {},
   "outputs": [
    {
     "data": {
      "image/svg+xml": [
       "<?xml version=\"1.0\" encoding=\"UTF-8\" standalone=\"no\"?>\n",
       "<!DOCTYPE svg PUBLIC \"-//W3C//DTD SVG 1.1//EN\"\n",
       " \"http://www.w3.org/Graphics/SVG/1.1/DTD/svg11.dtd\">\n",
       "<!-- Generated by graphviz version 2.44.1 (20200629.0846)\n",
       " -->\n",
       "<!-- Pages: 1 -->\n",
       "<svg width=\"85pt\" height=\"44pt\"\n",
       " viewBox=\"0.00 0.00 84.69 44.00\" xmlns=\"http://www.w3.org/2000/svg\" xmlns:xlink=\"http://www.w3.org/1999/xlink\">\n",
       "<g id=\"graph0\" class=\"graph\" transform=\"scale(1 1) rotate(0) translate(4 40)\">\n",
       "<polygon fill=\"white\" stroke=\"transparent\" points=\"-4,4 -4,-40 80.69,-40 80.69,4 -4,4\"/>\n",
       "<!-- cluster0 -->\n",
       "<g id=\"node1\" class=\"node\">\n",
       "<title>cluster0</title>\n",
       "<ellipse fill=\"none\" stroke=\"black\" cx=\"38.35\" cy=\"-18\" rx=\"38.19\" ry=\"18\"/>\n",
       "<text text-anchor=\"middle\" x=\"38.35\" y=\"-14.3\" font-family=\"Times,serif\" font-size=\"14.00\">cluster0</text>\n",
       "</g>\n",
       "</g>\n",
       "</svg>\n"
      ],
      "text/plain": [
       "Node(cluster0)"
      ]
     },
     "execution_count": 32,
     "metadata": {},
     "output_type": "execute_result"
    }
   ],
   "source": [
    "# binary tree for cluster hierarchy:\n",
    "#  - 0 or 2 children\n",
    "#  - parent records distance between siblings\n",
    "\n",
    "class Node:\n",
    "    def __init__(self, name, left=None, right=None, dist=0, data=None):\n",
    "        self.name = name\n",
    "        self.data = data\n",
    "        self.dist = dist\n",
    "        self.children = []\n",
    "        # TODO: fill children, check params\n",
    "\n",
    "    def draw(self, gv):\n",
    "        gv.node(self.name)\n",
    "        for child in self.children:\n",
    "            child.draw(gv)\n",
    "            gv.edge(self.name, child.name)\n",
    "\n",
    "    def __repr__(self):\n",
    "        return f\"Node({self.name})\"\n",
    "\n",
    "    def _repr_svg_(self):\n",
    "        g = Digraph()\n",
    "        self.draw(g)\n",
    "        return g._repr_svg_()\n",
    "\n",
    "    def fill_node_list(self, nodes, child_count=None):\n",
    "        pass\n",
    "        # TODO: fill nodes list with every node in our subtree\n",
    "        # that has specified child_count (or all if it's None)\n",
    "    \n",
    "    def draw_hierarchy(self):\n",
    "        pass\n",
    "        # TODO: collect leaf labels and non-leaf linkage matrix.\n",
    "        # plot dendrogram using these.\n",
    "\n",
    "A = Node(\"A\", data=df.loc[\"A\"].values)\n",
    "B = Node(\"B\", data=df.loc[\"B\"].values)\n",
    "C = Node(\"C\", data=df.loc[\"C\"].values)\n",
    "Y = Node(\"cluster1\", A, B, 3)\n",
    "X = Node(\"cluster0\", Y, C, 4)\n",
    "X"
   ]
  },
  {
   "cell_type": "code",
   "execution_count": 14,
   "metadata": {},
   "outputs": [
    {
     "data": {
      "image/svg+xml": [
       "<?xml version=\"1.0\" encoding=\"UTF-8\" standalone=\"no\"?>\n",
       "<!DOCTYPE svg PUBLIC \"-//W3C//DTD SVG 1.1//EN\"\n",
       " \"http://www.w3.org/Graphics/SVG/1.1/DTD/svg11.dtd\">\n",
       "<!-- Generated by graphviz version 2.44.1 (20200629.0846)\n",
       " -->\n",
       "<!-- Pages: 1 -->\n",
       "<svg width=\"181pt\" height=\"188pt\"\n",
       " viewBox=\"0.00 0.00 181.00 188.00\" xmlns=\"http://www.w3.org/2000/svg\" xmlns:xlink=\"http://www.w3.org/1999/xlink\">\n",
       "<g id=\"graph0\" class=\"graph\" transform=\"scale(1 1) rotate(0) translate(4 184)\">\n",
       "<polygon fill=\"white\" stroke=\"transparent\" points=\"-4,4 -4,-184 177,-184 177,4 -4,4\"/>\n",
       "<!-- cluster0 -->\n",
       "<g id=\"node1\" class=\"node\">\n",
       "<title>cluster0</title>\n",
       "<ellipse fill=\"none\" stroke=\"black\" cx=\"104\" cy=\"-162\" rx=\"38.19\" ry=\"18\"/>\n",
       "<text text-anchor=\"middle\" x=\"104\" y=\"-158.3\" font-family=\"Times,serif\" font-size=\"14.00\">cluster0</text>\n",
       "</g>\n",
       "<!-- cluster1 -->\n",
       "<g id=\"node2\" class=\"node\">\n",
       "<title>cluster1</title>\n",
       "<ellipse fill=\"none\" stroke=\"black\" cx=\"63\" cy=\"-90\" rx=\"38.19\" ry=\"18\"/>\n",
       "<text text-anchor=\"middle\" x=\"63\" y=\"-86.3\" font-family=\"Times,serif\" font-size=\"14.00\">cluster1</text>\n",
       "</g>\n",
       "<!-- cluster0&#45;&gt;cluster1 -->\n",
       "<g id=\"edge3\" class=\"edge\">\n",
       "<title>cluster0&#45;&gt;cluster1</title>\n",
       "<path fill=\"none\" stroke=\"black\" d=\"M94.28,-144.41C89.38,-136.04 83.33,-125.71 77.86,-116.37\"/>\n",
       "<polygon fill=\"black\" stroke=\"black\" points=\"80.72,-114.33 72.65,-107.47 74.68,-117.87 80.72,-114.33\"/>\n",
       "</g>\n",
       "<!-- C -->\n",
       "<g id=\"node5\" class=\"node\">\n",
       "<title>C</title>\n",
       "<ellipse fill=\"none\" stroke=\"black\" cx=\"146\" cy=\"-90\" rx=\"27\" ry=\"18\"/>\n",
       "<text text-anchor=\"middle\" x=\"146\" y=\"-86.3\" font-family=\"Times,serif\" font-size=\"14.00\">C</text>\n",
       "</g>\n",
       "<!-- cluster0&#45;&gt;C -->\n",
       "<g id=\"edge4\" class=\"edge\">\n",
       "<title>cluster0&#45;&gt;C</title>\n",
       "<path fill=\"none\" stroke=\"black\" d=\"M113.95,-144.41C119.1,-135.83 125.49,-125.19 131.2,-115.67\"/>\n",
       "<polygon fill=\"black\" stroke=\"black\" points=\"134.26,-117.36 136.41,-106.99 128.26,-113.76 134.26,-117.36\"/>\n",
       "</g>\n",
       "<!-- A -->\n",
       "<g id=\"node3\" class=\"node\">\n",
       "<title>A</title>\n",
       "<ellipse fill=\"none\" stroke=\"black\" cx=\"27\" cy=\"-18\" rx=\"27\" ry=\"18\"/>\n",
       "<text text-anchor=\"middle\" x=\"27\" y=\"-14.3\" font-family=\"Times,serif\" font-size=\"14.00\">A</text>\n",
       "</g>\n",
       "<!-- cluster1&#45;&gt;A -->\n",
       "<g id=\"edge1\" class=\"edge\">\n",
       "<title>cluster1&#45;&gt;A</title>\n",
       "<path fill=\"none\" stroke=\"black\" d=\"M54.47,-72.41C50.16,-64.04 44.85,-53.71 40.05,-44.37\"/>\n",
       "<polygon fill=\"black\" stroke=\"black\" points=\"43.16,-42.76 35.47,-35.47 36.93,-45.96 43.16,-42.76\"/>\n",
       "</g>\n",
       "<!-- B -->\n",
       "<g id=\"node4\" class=\"node\">\n",
       "<title>B</title>\n",
       "<ellipse fill=\"none\" stroke=\"black\" cx=\"99\" cy=\"-18\" rx=\"27\" ry=\"18\"/>\n",
       "<text text-anchor=\"middle\" x=\"99\" y=\"-14.3\" font-family=\"Times,serif\" font-size=\"14.00\">B</text>\n",
       "</g>\n",
       "<!-- cluster1&#45;&gt;B -->\n",
       "<g id=\"edge2\" class=\"edge\">\n",
       "<title>cluster1&#45;&gt;B</title>\n",
       "<path fill=\"none\" stroke=\"black\" d=\"M71.53,-72.41C75.84,-64.04 81.15,-53.71 85.95,-44.37\"/>\n",
       "<polygon fill=\"black\" stroke=\"black\" points=\"89.07,-45.96 90.53,-35.47 82.84,-42.76 89.07,-45.96\"/>\n",
       "</g>\n",
       "</g>\n",
       "</svg>\n"
      ],
      "text/plain": [
       "Node(cluster0)"
      ]
     },
     "execution_count": 14,
     "metadata": {},
     "output_type": "execute_result"
    }
   ],
   "source": [
    "class Node:\n",
    "    def __init__(self, name, left=None, right=None, dist=0, data=None):\n",
    "        self.name = name\n",
    "        self.data = data\n",
    "        self.dist = dist\n",
    "\n",
    "        if left != None:\n",
    "            # non-leaf\n",
    "            assert right is not None\n",
    "            assert data == None\n",
    "            self.children = [left, right]\n",
    "        else:\n",
    "            # leaf\n",
    "            assert dist == 0\n",
    "            assert data is not None\n",
    "            self.children = []\n",
    "\n",
    "    def draw(self, gv):\n",
    "        gv.node(self.name)\n",
    "        for child in self.children:\n",
    "            child.draw(gv)\n",
    "            gv.edge(self.name, child.name)\n",
    "\n",
    "    def __repr__(self):\n",
    "        return f\"Node({self.name})\"\n",
    "\n",
    "    def _repr_svg_(self):\n",
    "        g = Digraph()\n",
    "        self.draw(g)\n",
    "        return g._repr_svg_()\n",
    "\n",
    "    def draw_hierarchy(self):\n",
    "        leafs = []\n",
    "        nonleafs = []\n",
    "        self.fill_node_list(leafs, child_count=0)\n",
    "        self.fill_node_list(nonleafs, child_count=2)\n",
    "\n",
    "        names = [node.name for node in leafs]\n",
    "\n",
    "        for i, n in enumerate(leafs+nonleafs):\n",
    "            n.idx = i\n",
    "        linkage = []\n",
    "        for n in nonleafs:\n",
    "            linkage.append([n.children[0].idx, n.children[1].idx, n.dist, 0])\n",
    "        linkage = np.array(linkage).astype(float)\n",
    "        dendrogram(linkage, labels=names)\n",
    "\n",
    "    def fill_node_list(self, nodes, child_count=None):\n",
    "        for c in self.children:\n",
    "            c.fill_node_list(nodes, child_count=child_count)\n",
    "        if child_count == None or len(self.children) == child_count:\n",
    "            nodes.append(self)\n",
    "\n",
    "    def distance(self, other):\n",
    "        nodes1 = []\n",
    "        nodes2 = []\n",
    "        self.fill_node_list(nodes1, child_count=0)\n",
    "        other.fill_node_list(nodes2, child_count=0)\n",
    "        dists = []\n",
    "        for n1 in nodes1:\n",
    "            for n2 in nodes2:\n",
    "                if not n1.data is None and not n2.data is None:\n",
    "                    dist = ((n1.data - n2.data) ** 2).sum() ** 0.5\n",
    "                    dists.append(dist)\n",
    "        return sum(dists) / len(dists)\n",
    "\n",
    "A = Node(\"A\", data=df.loc[\"A\"].values)\n",
    "B = Node(\"B\", data=df.loc[\"B\"].values)\n",
    "C = Node(\"C\", data=df.loc[\"C\"].values)\n",
    "Y = Node(\"cluster1\", A, B, 3)\n",
    "X = Node(\"cluster0\", Y, C, 4)\n",
    "X"
   ]
  },
  {
   "cell_type": "code",
   "execution_count": 15,
   "metadata": {},
   "outputs": [
    {
     "data": {
      "image/png": "[encoded data removed]",
      "text/plain": [
       "<Figure size 432x288 with 1 Axes>"
      ]
     },
     "metadata": {
      "needs_background": "light"
     },
     "output_type": "display_data"
    }
   ],
   "source": [
    "X.draw_hierarchy()"
   ]
  },
  {
   "cell_type": "code",
   "execution_count": 16,
   "metadata": {},
   "outputs": [
    {
     "data": {
      "text/plain": [
       "4.5"
      ]
     },
     "execution_count": 16,
     "metadata": {},
     "output_type": "execute_result"
    }
   ],
   "source": [
    "Y.distance(C)"
   ]
  },
  {
   "cell_type": "code",
   "execution_count": 17,
   "metadata": {},
   "outputs": [
    {
     "name": "stdout",
     "output_type": "stream",
     "text": [
      "{Node(B), Node(A), Node(C)}\n",
      "MERGE Node(B) Node(A) 3.0\n",
      "{Node(cluster1), Node(C)}\n",
      "MERGE Node(cluster1) Node(C) 4.5\n",
      "{Node(cluster0)}\n"
     ]
    },
    {
     "data": {
      "image/svg+xml": [
       "<?xml version=\"1.0\" encoding=\"UTF-8\" standalone=\"no\"?>\n",
       "<!DOCTYPE svg PUBLIC \"-//W3C//DTD SVG 1.1//EN\"\n",
       " \"http://www.w3.org/Graphics/SVG/1.1/DTD/svg11.dtd\">\n",
       "<!-- Generated by graphviz version 2.44.1 (20200629.0846)\n",
       " -->\n",
       "<!-- Pages: 1 -->\n",
       "<svg width=\"181pt\" height=\"188pt\"\n",
       " viewBox=\"0.00 0.00 181.00 188.00\" xmlns=\"http://www.w3.org/2000/svg\" xmlns:xlink=\"http://www.w3.org/1999/xlink\">\n",
       "<g id=\"graph0\" class=\"graph\" transform=\"scale(1 1) rotate(0) translate(4 184)\">\n",
       "<polygon fill=\"white\" stroke=\"transparent\" points=\"-4,4 -4,-184 177,-184 177,4 -4,4\"/>\n",
       "<!-- cluster0 -->\n",
       "<g id=\"node1\" class=\"node\">\n",
       "<title>cluster0</title>\n",
       "<ellipse fill=\"none\" stroke=\"black\" cx=\"104\" cy=\"-162\" rx=\"38.19\" ry=\"18\"/>\n",
       "<text text-anchor=\"middle\" x=\"104\" y=\"-158.3\" font-family=\"Times,serif\" font-size=\"14.00\">cluster0</text>\n",
       "</g>\n",
       "<!-- cluster1 -->\n",
       "<g id=\"node2\" class=\"node\">\n",
       "<title>cluster1</title>\n",
       "<ellipse fill=\"none\" stroke=\"black\" cx=\"63\" cy=\"-90\" rx=\"38.19\" ry=\"18\"/>\n",
       "<text text-anchor=\"middle\" x=\"63\" y=\"-86.3\" font-family=\"Times,serif\" font-size=\"14.00\">cluster1</text>\n",
       "</g>\n",
       "<!-- cluster0&#45;&gt;cluster1 -->\n",
       "<g id=\"edge3\" class=\"edge\">\n",
       "<title>cluster0&#45;&gt;cluster1</title>\n",
       "<path fill=\"none\" stroke=\"black\" d=\"M94.28,-144.41C89.38,-136.04 83.33,-125.71 77.86,-116.37\"/>\n",
       "<polygon fill=\"black\" stroke=\"black\" points=\"80.72,-114.33 72.65,-107.47 74.68,-117.87 80.72,-114.33\"/>\n",
       "</g>\n",
       "<!-- C -->\n",
       "<g id=\"node5\" class=\"node\">\n",
       "<title>C</title>\n",
       "<ellipse fill=\"none\" stroke=\"black\" cx=\"146\" cy=\"-90\" rx=\"27\" ry=\"18\"/>\n",
       "<text text-anchor=\"middle\" x=\"146\" y=\"-86.3\" font-family=\"Times,serif\" font-size=\"14.00\">C</text>\n",
       "</g>\n",
       "<!-- cluster0&#45;&gt;C -->\n",
       "<g id=\"edge4\" class=\"edge\">\n",
       "<title>cluster0&#45;&gt;C</title>\n",
       "<path fill=\"none\" stroke=\"black\" d=\"M113.95,-144.41C119.1,-135.83 125.49,-125.19 131.2,-115.67\"/>\n",
       "<polygon fill=\"black\" stroke=\"black\" points=\"134.26,-117.36 136.41,-106.99 128.26,-113.76 134.26,-117.36\"/>\n",
       "</g>\n",
       "<!-- B -->\n",
       "<g id=\"node3\" class=\"node\">\n",
       "<title>B</title>\n",
       "<ellipse fill=\"none\" stroke=\"black\" cx=\"27\" cy=\"-18\" rx=\"27\" ry=\"18\"/>\n",
       "<text text-anchor=\"middle\" x=\"27\" y=\"-14.3\" font-family=\"Times,serif\" font-size=\"14.00\">B</text>\n",
       "</g>\n",
       "<!-- cluster1&#45;&gt;B -->\n",
       "<g id=\"edge1\" class=\"edge\">\n",
       "<title>cluster1&#45;&gt;B</title>\n",
       "<path fill=\"none\" stroke=\"black\" d=\"M54.47,-72.41C50.16,-64.04 44.85,-53.71 40.05,-44.37\"/>\n",
       "<polygon fill=\"black\" stroke=\"black\" points=\"43.16,-42.76 35.47,-35.47 36.93,-45.96 43.16,-42.76\"/>\n",
       "</g>\n",
       "<!-- A -->\n",
       "<g id=\"node4\" class=\"node\">\n",
       "<title>A</title>\n",
       "<ellipse fill=\"none\" stroke=\"black\" cx=\"99\" cy=\"-18\" rx=\"27\" ry=\"18\"/>\n",
       "<text text-anchor=\"middle\" x=\"99\" y=\"-14.3\" font-family=\"Times,serif\" font-size=\"14.00\">A</text>\n",
       "</g>\n",
       "<!-- cluster1&#45;&gt;A -->\n",
       "<g id=\"edge2\" class=\"edge\">\n",
       "<title>cluster1&#45;&gt;A</title>\n",
       "<path fill=\"none\" stroke=\"black\" d=\"M71.53,-72.41C75.84,-64.04 81.15,-53.71 85.95,-44.37\"/>\n",
       "<polygon fill=\"black\" stroke=\"black\" points=\"89.07,-45.96 90.53,-35.47 82.84,-42.76 89.07,-45.96\"/>\n",
       "</g>\n",
       "</g>\n",
       "</svg>\n"
      ],
      "text/plain": [
       "Node(cluster0)"
      ]
     },
     "execution_count": 17,
     "metadata": {},
     "output_type": "execute_result"
    }
   ],
   "source": [
    "# agglomerative clustering\n",
    "clusters = {A, B, C}\n",
    "while len(clusters) > 1:\n",
    "    print(clusters)\n",
    "    best_dist = None\n",
    "    for c1 in clusters:\n",
    "        for c2 in clusters:\n",
    "            if c1 is c2:\n",
    "                continue\n",
    "            dist = c1.distance(c2)\n",
    "            if best_dist is None or dist < best_dist:\n",
    "                best_dist = dist\n",
    "                best_c1 = c1\n",
    "                best_c2 = c2\n",
    "    print(\"MERGE\", best_c1, best_c2, best_dist)\n",
    "    clusters.remove(best_c1)\n",
    "    clusters.remove(best_c2)\n",
    "    new_cluster = Node(f\"cluster{len(clusters)}\", best_c1, best_c2, best_dist)\n",
    "    clusters.add(new_cluster)\n",
    "print(clusters)\n",
    "\n",
    "root = list(clusters)[0]\n",
    "root"
   ]
  },
  {
   "cell_type": "code",
   "execution_count": 18,
   "metadata": {},
   "outputs": [
    {
     "data": {
      "image/png": "[encoded data removed]",
      "text/plain": [
       "<Figure size 432x288 with 1 Axes>"
      ]
     },
     "metadata": {
      "needs_background": "light"
     },
     "output_type": "display_data"
    }
   ],
   "source": [
    "root.draw_hierarchy()"
   ]
  },
  {
   "cell_type": "markdown",
   "metadata": {},
   "source": [
    "# Practice"
   ]
  },
  {
   "cell_type": "code",
   "execution_count": 2,
   "metadata": {},
   "outputs": [
    {
     "data": {
      "text/plain": [
       "{'icoord': [[5.0, 5.0, 15.0, 15.0],\n",
       "  [25.0, 25.0, 35.0, 35.0],\n",
       "  [10.0, 10.0, 30.0, 30.0]],\n",
       " 'dcoord': [[0.0, 1.0, 1.0, 0.0], [0.0, 2.0, 2.0, 0.0], [1.0, 3.0, 3.0, 2.0]],\n",
       " 'ivl': ['A', 'B', 'C', 'D'],\n",
       " 'leaves': [0, 1, 2, 3],\n",
       " 'color_list': ['g', 'r', 'b']}"
      ]
     },
     "execution_count": 2,
     "metadata": {},
     "output_type": "execute_result"
    },
    {
     "data": {
      "image/png": "[encoded data removed]",
      "text/plain": [
       "<Figure size 432x288 with 1 Axes>"
      ]
     },
     "metadata": {
      "needs_background": "light"
     },
     "output_type": "display_data"
    }
   ],
   "source": [
    "from scipy.cluster.hierarchy import dendrogram\n",
    "import numpy as np\n",
    "import pandas as pd\n",
    "\n",
    "graph = np.array([\n",
    "       [\"A\", None, None, 0, 1],\n",
    "       [\"B\", None, None, 0, 1],\n",
    "       [\"C\", None, None, 0, 1],\n",
    "       [\"D\", None, None, 0, 1],\n",
    "       [\"cluster1\", 0, 1, 1, 3],\n",
    "       [\"cluster2\", 2, 3, 2, 3],\n",
    "       [\"cluster0\", 4, 5, 3, 7]])\n",
    "graph = pd.DataFrame(graph, columns=[\"name\", \"left\", \"right\", \"distance\", \"nodes\"]).fillna(\"\")\n",
    "dendrogram(graph.values[4:, 1:].astype(float), labels=graph.values[:4,0])"
   ]
  },
  {
   "cell_type": "code",
   "execution_count": 30,
   "metadata": {},
   "outputs": [
    {
     "data": {
      "text/plain": [
       "<matplotlib.axes._subplots.AxesSubplot at 0x7fdf0f571668>"
      ]
     },
     "execution_count": 30,
     "metadata": {},
     "output_type": "execute_result"
    },
    {
     "data": {
      "image/png": "[encoded data removed]",
      "text/plain": [
       "<Figure size 432x288 with 1 Axes>"
      ]
     },
     "metadata": {
      "needs_background": "light"
     },
     "output_type": "display_data"
    }
   ],
   "source": [
    "from sklearn.cluster import KMeans, AgglomerativeClustering\n",
    "from sklearn.datasets import make_moons\n",
    "df = pd.DataFrame(make_moons(noise=0.05)[0], columns=[\"x\", \"y\"])\n",
    "df[\"color\"] = AgglomerativeClustering(n_clusters=2, linkage=\"single\").fit_predict(df[[\"x\", \"y\"]])\n",
    "df.plot.scatter(x=\"x\", y=\"y\", c=df[\"color\"], vmin=-1)"
   ]
  },
  {
   "cell_type": "code",
   "execution_count": 11,
   "metadata": {},
   "outputs": [
    {
     "data": {
      "text/plain": [
       "array([[ 1.83808810e+00, -4.55349012e-02],\n",
       "       [ 7.77479066e-01, -4.74927912e-01],\n",
       "       [ 8.40400105e-01, -4.87181783e-01],\n",
       "       [ 1.99179001e+00,  3.72122838e-01],\n",
       "       [-9.49055747e-01,  3.15108218e-01],\n",
       "       [ 2.81650650e-01, -1.95682551e-01],\n",
       "       [ 1.92691676e+00,  1.24732995e-01],\n",
       "       [ 9.26916757e-01,  3.75267005e-01],\n",
       "       [ 1.28452759e+00, -4.58667853e-01],\n",
       "       [-9.91790014e-01,  1.27877162e-01],\n",
       "       [-7.18349350e-01,  6.95682551e-01],\n",
       "       [ 6.72300890e-01,  7.40277997e-01],\n",
       "       [-4.04783343e-01,  9.14412623e-01],\n",
       "       [ 9.60230259e-02,  9.95379113e-01],\n",
       "       [ 1.62348980e+00, -2.81831482e-01],\n",
       "       [ 9.67948422e-01, -4.99486216e-01],\n",
       "       [ 1.28681296e-01,  9.28244800e-03],\n",
       "       [ 5.09442530e-02,  1.84891782e-01],\n",
       "       [ 2.00000000e+00,  5.00000000e-01],\n",
       "       [-8.38088105e-01,  5.45534901e-01],\n",
       "       [ 6.23489802e-01,  7.81831482e-01],\n",
       "       [ 9.90311321e-02,  6.61162609e-02],\n",
       "       [ 7.61445958e-01,  6.48228395e-01],\n",
       "       [ 8.01413622e-01,  5.98110530e-01],\n",
       "       [-8.01413622e-01,  5.98110530e-01],\n",
       "       [ 2.84527587e-01,  9.58667853e-01],\n",
       "       [ 1.84408430e-02,  3.08841371e-01],\n",
       "       [ 2.05460725e-03,  4.35929780e-01],\n",
       "       [ 1.71834935e+00, -1.95682551e-01],\n",
       "       [ 1.03205158e+00, -4.99486216e-01],\n",
       "       [ 1.46253829e+00, -3.86599306e-01],\n",
       "       [ 2.22520934e-01,  9.74927912e-01],\n",
       "       [ 9.49055747e-01,  3.15108218e-01],\n",
       "       [-4.62538290e-01,  8.86599306e-01],\n",
       "       [-9.26916757e-01,  3.75267005e-01],\n",
       "       [-9.60230259e-02,  9.95379113e-01],\n",
       "       [ 9.91790014e-01,  1.27877162e-01],\n",
       "       [-6.72300890e-01,  7.40277997e-01],\n",
       "       [ 1.34536505e+00, -4.38468422e-01],\n",
       "       [ 7.30832427e-02,  1.24732995e-01],\n",
       "       [ 9.81559157e-01,  1.91158629e-01],\n",
       "       [ 1.40478334e+00, -4.14412623e-01],\n",
       "       [-7.61445958e-01,  6.48228395e-01],\n",
       "       [ 1.09602303e+00, -4.95379113e-01],\n",
       "       [ 5.37461710e-01, -3.86599306e-01],\n",
       "       [ 4.62538290e-01,  8.86599306e-01],\n",
       "       [ 1.67230089e+00, -2.40277997e-01],\n",
       "       [-5.18392568e-01,  8.55142763e-01],\n",
       "       [-9.00968868e-01,  4.33883739e-01],\n",
       "       [ 4.04783343e-01,  9.14412623e-01],\n",
       "       [ 9.67294863e-01,  2.53654584e-01],\n",
       "       [ 4.27883340e-01, -3.20172255e-01],\n",
       "       [ 9.97945393e-01,  6.40702200e-02],\n",
       "       [ 1.76144596e+00, -1.48228395e-01],\n",
       "       [ 1.80141362e+00, -9.81105305e-02],\n",
       "       [ 8.20998618e-03,  3.72122838e-01],\n",
       "       [ 2.38554042e-01, -1.48228395e-01],\n",
       "       [ 3.45365054e-01,  9.38468422e-01],\n",
       "       [ 1.59599895e-01,  9.87181783e-01],\n",
       "       [ 0.00000000e+00,  5.00000000e-01],\n",
       "       [ 1.22252093e+00, -4.74927912e-01],\n",
       "       [ 3.27051370e-02,  2.46345416e-01],\n",
       "       [ 5.18392568e-01,  8.55142763e-01],\n",
       "       [ 1.15959990e+00, -4.87181783e-01],\n",
       "       [ 4.81607432e-01, -3.55142763e-01],\n",
       "       [ 1.96729486e+00,  2.46345416e-01],\n",
       "       [-1.59599895e-01,  9.87181783e-01],\n",
       "       [-3.20515776e-02,  9.99486216e-01],\n",
       "       [-2.84527587e-01,  9.58667853e-01],\n",
       "       [ 3.20515776e-02,  9.99486216e-01],\n",
       "       [ 9.00968868e-01,  4.33883739e-01],\n",
       "       [ 5.72116660e-01,  8.20172255e-01],\n",
       "       [ 1.87131870e+00,  9.28244800e-03],\n",
       "       [-9.67294863e-01,  2.53654584e-01],\n",
       "       [ 1.94905575e+00,  1.84891782e-01],\n",
       "       [ 3.27699110e-01, -2.40277997e-01],\n",
       "       [ 7.15472413e-01, -4.58667853e-01],\n",
       "       [ 3.76510198e-01, -2.81831482e-01],\n",
       "       [-8.71318704e-01,  4.90717552e-01],\n",
       "       [-9.81559157e-01,  1.91158629e-01],\n",
       "       [ 1.51839257e+00, -3.55142763e-01],\n",
       "       [ 1.98155916e+00,  3.08841371e-01],\n",
       "       [ 6.54634946e-01, -4.38468422e-01],\n",
       "       [ 1.99794539e+00,  4.35929780e-01],\n",
       "       [ 1.00000000e+00,  0.00000000e+00],\n",
       "       [ 8.71318704e-01,  4.90717552e-01],\n",
       "       [ 1.90096887e+00,  6.61162609e-02],\n",
       "       [-1.00000000e+00,  1.22464680e-16],\n",
       "       [ 5.95216657e-01, -4.14412623e-01],\n",
       "       [ 9.03976974e-01, -4.95379113e-01],\n",
       "       [-2.22520934e-01,  9.74927912e-01],\n",
       "       [ 1.57211666e+00, -3.20172255e-01],\n",
       "       [ 1.61911895e-01, -4.55349012e-02],\n",
       "       [-3.45365054e-01,  9.38468422e-01],\n",
       "       [ 7.18349350e-01,  6.95682551e-01],\n",
       "       [ 8.38088105e-01,  5.45534901e-01],\n",
       "       [-6.23489802e-01,  7.81831482e-01],\n",
       "       [-9.97945393e-01,  6.40702200e-02],\n",
       "       [ 1.98586378e-01, -9.81105305e-02],\n",
       "       [-5.72116660e-01,  8.20172255e-01]])"
      ]
     },
     "execution_count": 11,
     "metadata": {},
     "output_type": "execute_result"
    }
   ],
   "source": []
  },
  {
   "cell_type": "code",
   "execution_count": null,
   "metadata": {},
   "outputs": [],
   "source": []
  }
 ],
 "metadata": {
  "kernelspec": {
   "display_name": "Python 3",
   "language": "python",
   "name": "python3"
  },
  "language_info": {
   "codemirror_mode": {
    "name": "ipython",
    "version": 3
   },
   "file_extension": ".py",
   "mimetype": "text/x-python",
   "name": "python",
   "nbconvert_exporter": "python",
   "pygments_lexer": "ipython3",
   "version": "3.7.2"
  }
 },
 "nbformat": 4,
 "nbformat_minor": 2
}
