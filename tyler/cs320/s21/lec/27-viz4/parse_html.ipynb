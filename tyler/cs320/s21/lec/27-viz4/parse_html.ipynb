{
 "cells": [
  {
   "cell_type": "code",
   "execution_count": 44,
   "id": "determined-identity",
   "metadata": {},
   "outputs": [],
   "source": [
    "import os\n",
    "from bs4 import BeautifulSoup\n",
    "import pandas as pd"
   ]
  },
  {
   "cell_type": "code",
   "execution_count": 51,
   "id": "hollywood-violin",
   "metadata": {},
   "outputs": [
    {
     "data": {
      "text/html": [
       "<div>\n",
       "<style scoped>\n",
       "    .dataframe tbody tr th:only-of-type {\n",
       "        vertical-align: middle;\n",
       "    }\n",
       "\n",
       "    .dataframe tbody tr th {\n",
       "        vertical-align: top;\n",
       "    }\n",
       "\n",
       "    .dataframe thead th {\n",
       "        text-align: right;\n",
       "    }\n",
       "</style>\n",
       "<table border=\"1\" class=\"dataframe\">\n",
       "  <thead>\n",
       "    <tr style=\"text-align: right;\">\n",
       "      <th></th>\n",
       "      <th>Incident</th>\n",
       "      <th>Date</th>\n",
       "      <th>Incident Type</th>\n",
       "      <th>Address</th>\n",
       "      <th>Updated</th>\n",
       "    </tr>\n",
       "  </thead>\n",
       "  <tbody>\n",
       "    <tr>\n",
       "      <th>0</th>\n",
       "      <td>Fire Engulfs Shed Outside Eastside Restaurant,...</td>\n",
       "      <td>06/17/2020</td>\n",
       "      <td>Structure</td>\n",
       "      <td>1700 Block Parkside DriveMadison, WI</td>\n",
       "      <td>NaN</td>\n",
       "    </tr>\n",
       "    <tr>\n",
       "      <th>1</th>\n",
       "      <td>Nobody Injured In Northside Fire, Cause Under ...</td>\n",
       "      <td>06/15/2020</td>\n",
       "      <td>Structure</td>\n",
       "      <td>3700 Block E. Karstens DriveMadison, WI</td>\n",
       "      <td>07/06/2020</td>\n",
       "    </tr>\n",
       "    <tr>\n",
       "      <th>2</th>\n",
       "      <td>Three Taken To Hospital Following Crash On Mil...</td>\n",
       "      <td>06/11/2020</td>\n",
       "      <td>Vehicle</td>\n",
       "      <td>Milwaukee Street &amp; Fair Oaks AvenueMadison, WI</td>\n",
       "      <td>NaN</td>\n",
       "    </tr>\n",
       "    <tr>\n",
       "      <th>3</th>\n",
       "      <td>Two Rescued After Jet Ski Overturns On Lake Me...</td>\n",
       "      <td>06/08/2020</td>\n",
       "      <td>Lake Rescue</td>\n",
       "      <td>Lake MendotaMadison, WI</td>\n",
       "      <td>NaN</td>\n",
       "    </tr>\n",
       "    <tr>\n",
       "      <th>4</th>\n",
       "      <td>Fire Damages Northside Apartment, Displaces Re...</td>\n",
       "      <td>06/06/2020</td>\n",
       "      <td>Structure</td>\n",
       "      <td>3700 Block E. Karstens DriveMadison, WI 53704</td>\n",
       "      <td>06/08/2020</td>\n",
       "    </tr>\n",
       "  </tbody>\n",
       "</table>\n",
       "</div>"
      ],
      "text/plain": [
       "                                            Incident        Date  \\\n",
       "0  Fire Engulfs Shed Outside Eastside Restaurant,...  06/17/2020   \n",
       "1  Nobody Injured In Northside Fire, Cause Under ...  06/15/2020   \n",
       "2  Three Taken To Hospital Following Crash On Mil...  06/11/2020   \n",
       "3  Two Rescued After Jet Ski Overturns On Lake Me...  06/08/2020   \n",
       "4  Fire Damages Northside Apartment, Displaces Re...  06/06/2020   \n",
       "\n",
       "  Incident Type                                         Address     Updated  \n",
       "0     Structure            1700 Block Parkside DriveMadison, WI         NaN  \n",
       "1     Structure         3700 Block E. Karstens DriveMadison, WI  07/06/2020  \n",
       "2       Vehicle  Milwaukee Street & Fair Oaks AvenueMadison, WI         NaN  \n",
       "3   Lake Rescue                         Lake MendotaMadison, WI         NaN  \n",
       "4     Structure   3700 Block E. Karstens DriveMadison, WI 53704  06/08/2020  "
      ]
     },
     "execution_count": 51,
     "metadata": {},
     "output_type": "execute_result"
    }
   ],
   "source": [
    "def html_to_df(fname):\n",
    "    with open(os.path.join(\"html\", fname)) as f:\n",
    "        html = f.read()\n",
    "\n",
    "    doc = BeautifulSoup(html, \"html.parser\")\n",
    "    \n",
    "    table = None\n",
    "    for div in doc.find_all(\"div\"):\n",
    "        if \"pseudo-table\" in div.attrs.get(\"class\", []):\n",
    "            table = div\n",
    "            break\n",
    "    assert table != None\n",
    "    \n",
    "    data = [] # list of dicts, each of which represents a row\n",
    "    for row in table.find_all(\"div\"):\n",
    "        if \"row\" in row.attrs.get(\"class\", []):\n",
    "            if \"Incident\" in row.text:\n",
    "                dict_row = {}\n",
    "                for cell in row.find_all(\"div\"):\n",
    "                    idx = cell.text.find(\":\")\n",
    "                    if idx < 0:\n",
    "                        break\n",
    "                    key = cell.text[:idx].strip()\n",
    "                    val = cell.text[idx+1:].strip()\n",
    "                    dict_row[key] = val\n",
    "                if len(dict_row) > 0:\n",
    "                    data.append(dict_row)\n",
    "    return pd.DataFrame(data)\n",
    "    \n",
    "html_to_df(fnames[0]).head()"
   ]
  },
  {
   "cell_type": "code",
   "execution_count": 54,
   "id": "jewish-joyce",
   "metadata": {},
   "outputs": [
    {
     "data": {
      "text/plain": [
       "14"
      ]
     },
     "execution_count": 54,
     "metadata": {},
     "output_type": "execute_result"
    }
   ],
   "source": [
    "fnames = os.listdir(\"html\")\n",
    "dfs = []\n",
    "for fname in fnames:\n",
    "    dfs.append(html_to_df(fname))\n",
    "len(dfs)"
   ]
  },
  {
   "cell_type": "code",
   "execution_count": 62,
   "id": "trained-papua",
   "metadata": {},
   "outputs": [],
   "source": [
    "all_df = pd.concat(dfs).reset_index(drop=True)\n",
    "all_df.to_csv(\"events.csv\", index=False)"
   ]
  }
 ],
 "metadata": {
  "kernelspec": {
   "display_name": "Python 3",
   "language": "python",
   "name": "python3"
  },
  "language_info": {
   "codemirror_mode": {
    "name": "ipython",
    "version": 3
   },
   "file_extension": ".py",
   "mimetype": "text/x-python",
   "name": "python",
   "nbconvert_exporter": "python",
   "pygments_lexer": "ipython3",
   "version": "3.6.9"
  }
 },
 "nbformat": 4,
 "nbformat_minor": 5
}
