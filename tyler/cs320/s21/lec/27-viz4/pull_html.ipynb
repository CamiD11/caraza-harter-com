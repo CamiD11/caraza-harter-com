{
 "cells": [
  {
   "cell_type": "code",
   "execution_count": 5,
   "id": "southern-inside",
   "metadata": {},
   "outputs": [],
   "source": [
    "import os\n",
    "import requests"
   ]
  },
  {
   "cell_type": "code",
   "execution_count": 8,
   "id": "broke-radio",
   "metadata": {},
   "outputs": [
    {
     "name": "stdout",
     "output_type": "stream",
     "text": [
      "https://www.cityofmadison.com/fire/daily-reports?page=0\n",
      "https://www.cityofmadison.com/fire/daily-reports?page=1\n",
      "https://www.cityofmadison.com/fire/daily-reports?page=2\n",
      "https://www.cityofmadison.com/fire/daily-reports?page=3\n",
      "https://www.cityofmadison.com/fire/daily-reports?page=4\n",
      "https://www.cityofmadison.com/fire/daily-reports?page=5\n",
      "https://www.cityofmadison.com/fire/daily-reports?page=6\n",
      "https://www.cityofmadison.com/fire/daily-reports?page=7\n",
      "https://www.cityofmadison.com/fire/daily-reports?page=8\n",
      "https://www.cityofmadison.com/fire/daily-reports?page=9\n",
      "https://www.cityofmadison.com/fire/daily-reports?page=10\n",
      "https://www.cityofmadison.com/fire/daily-reports?page=11\n",
      "https://www.cityofmadison.com/fire/daily-reports?page=12\n",
      "https://www.cityofmadison.com/fire/daily-reports?page=13\n"
     ]
    }
   ],
   "source": [
    "for i in range(14):\n",
    "    url = \"https://www.cityofmadison.com/fire/daily-reports?page=\"+str(i)\n",
    "    print(url)\n",
    "    r = requests.get(url)\n",
    "    r.raise_for_status()\n",
    "    with open(os.path.join(\"html\", str(i)+\".html\"), \"w\") as f:\n",
    "        f.write(r.text)"
   ]
  },
  {
   "cell_type": "code",
   "execution_count": null,
   "id": "cardiovascular-survey",
   "metadata": {},
   "outputs": [],
   "source": []
  }
 ],
 "metadata": {
  "kernelspec": {
   "display_name": "Python 3",
   "language": "python",
   "name": "python3"
  },
  "language_info": {
   "codemirror_mode": {
    "name": "ipython",
    "version": 3
   },
   "file_extension": ".py",
   "mimetype": "text/x-python",
   "name": "python",
   "nbconvert_exporter": "python",
   "pygments_lexer": "ipython3",
   "version": "3.6.9"
  }
 },
 "nbformat": 4,
 "nbformat_minor": 5
}
