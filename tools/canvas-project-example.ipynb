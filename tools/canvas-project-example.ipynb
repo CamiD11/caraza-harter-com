{
 "cells": [
  {
   "cell_type": "code",
   "execution_count": null,
   "metadata": {},
   "outputs": [],
   "source": [
    "import pandas as pd\n",
    "import numpy as np\n",
    "import json, os, math\n",
    "from collections import defaultdict as ddict"
   ]
  },
  {
   "cell_type": "code",
   "execution_count": null,
   "metadata": {},
   "outputs": [],
   "source": [
    "# adding grades for another project just involves changing these and re-running\n",
    "\n",
    "# file exported from Canvas\n",
    "file_a = \"canvas-v22.csv\"\n",
    "\n",
    "# new file we'll create to be imported to Canvas\n",
    "file_b = \"canvas-v23.csv\"\n",
    "\n",
    "# will update this project and all before it\n",
    "last_proj = 9\n",
    "\n",
    "# this directory contains p1.json, p2.json, etc\n",
    "grades_dir = (\"/Users\", \"trh\", \"g\", \"caraza-harter-com\", \"tools\", \"grades\")\n",
    "\n",
    "# how many late days can they use before they get ZERO?\n",
    "late_allowed = 9"
   ]
  },
  {
   "cell_type": "code",
   "execution_count": null,
   "metadata": {},
   "outputs": [],
   "source": [
    "# c is the canvas DataFrame\n",
    "c = pd.read_csv(file_a)\n",
    "c.head()"
   ]
  },
  {
   "cell_type": "code",
   "execution_count": null,
   "metadata": {},
   "outputs": [],
   "source": [
    "def proj_col(num):\n",
    "    pcol = None\n",
    "    for col in list(c):\n",
    "        if col.startswith(\"P\"+str(num)+\" \"):\n",
    "            pcol = col\n",
    "    assert(pcol != None)\n",
    "    return pcol\n",
    "proj_col(last_proj)"
   ]
  },
  {
   "cell_type": "code",
   "execution_count": null,
   "metadata": {},
   "outputs": [],
   "source": [
    "idx = c[\"SIS Login ID\"].str.split(\"@\", expand=True)[0].str.lower()\n",
    "idx = idx.rename(\"\")\n",
    "idx[0] = \"points\" # FIX this after tweaks\n",
    "c.set_index(idx, inplace=True)\n",
    "c.head()"
   ]
  },
  {
   "cell_type": "code",
   "execution_count": null,
   "metadata": {},
   "outputs": [],
   "source": [
    "# we'll merge all project grades here, ordered by project number\n",
    "rows = []\n",
    "\n",
    "# loop over project JSON files, updating Canvas\n",
    "for i in range(1, last_proj+1):\n",
    "    path = grades_dir + (\"p%d.json\"%i,)\n",
    "    path = os.path.join(*path)\n",
    "    with open(path) as f:\n",
    "        rows += json.load(f)"
   ]
  },
  {
   "cell_type": "code",
   "execution_count": null,
   "metadata": {},
   "outputs": [],
   "source": [
    "c"
   ]
  },
  {
   "cell_type": "code",
   "execution_count": null,
   "metadata": {},
   "outputs": [],
   "source": [
    "total_late = ddict(int)\n",
    "\n",
    "# update Canvas grades, cell-by-cell\n",
    "for row in rows:\n",
    "    net_id = row[\"net_id\"]\n",
    "    if not net_id in c.index:\n",
    "        continue # they dropped?f\n",
    "    \n",
    "    pcol = proj_col(row[\"project\"][1:])\n",
    "    possible = float(c.loc[\"points\", pcol])\n",
    "    score = (row[\"score\"] / 100) * possible\n",
    "    late = row[\"late_days\"]\n",
    "    \n",
    "    if late > 0:\n",
    "        total_late[net_id] += late\n",
    "        if total_late[net_id] > late_allowed:\n",
    "            warn = \"WARNING: not counting '%s' grade of %d for '%s' due to lateness\"\n",
    "            print(warn % (pcol, score, net_id))\n",
    "            score = 0\n",
    "\n",
    "    # update Canvas if new grade is better\n",
    "    prev = float(c.loc[net_id, pcol])\n",
    "    if math.isnan(prev) or score >= prev:\n",
    "        # increase their canvas score\n",
    "        c.loc[net_id, pcol] = score\n",
    "    else:\n",
    "        warn = \"WARNING: not reducing '%s' grade for '%s' from %.1f to %.1f\"\n",
    "        print(warn % (pcol, net_id, prev, score))"
   ]
  },
  {
   "cell_type": "markdown",
   "metadata": {},
   "source": [
    "# apply zeros for cheating"
   ]
  },
  {
   "cell_type": "code",
   "execution_count": null,
   "metadata": {},
   "outputs": [],
   "source": [
    "def set_proj(df, net_id, proj, score):\n",
    "    for col in df.columns:\n",
    "        if col.split(\" \")[0].lower() == proj.lower():\n",
    "            break\n",
    "    else:\n",
    "        raise Exception(\"could not find {} {}\".format(net_id, proj))\n",
    "    assert net_id in df.index\n",
    "    df.loc[net_id, col] = score\n",
    "        \n",
    "with open(\"cheating.json\") as f:\n",
    "    cheating = json.load(f)\n",
    "for proj, students in cheating.items():\n",
    "    for net_id, score in students.items():\n",
    "        print(\"Set score to {} on {} for {}\".format(score, proj, net_id))\n",
    "        set_proj(c, net_id, proj, score)"
   ]
  },
  {
   "cell_type": "code",
   "execution_count": null,
   "metadata": {},
   "outputs": [],
   "source": [
    "# create new Canvas CSV that we can import back in\n",
    "c.to_csv(file_b, index=False)"
   ]
  }
 ],
 "metadata": {
  "kernelspec": {
   "display_name": "Python 3",
   "language": "python",
   "name": "python3"
  },
  "language_info": {
   "codemirror_mode": {
    "name": "ipython",
    "version": 3
   },
   "file_extension": ".py",
   "mimetype": "text/x-python",
   "name": "python",
   "nbconvert_exporter": "python",
   "pygments_lexer": "ipython3",
   "version": "3.7.2"
  }
 },
 "nbformat": 4,
 "nbformat_minor": 2
}
