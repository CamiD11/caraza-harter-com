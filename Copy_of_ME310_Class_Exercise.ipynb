{
  "nbformat": 4,
  "nbformat_minor": 0,
  "metadata": {
    "colab": {
      "provenance": [],
      "collapsed_sections": [],
      "include_colab_link": true
    },
    "kernelspec": {
      "name": "python3",
      "display_name": "Python 3"
    },
    "language_info": {
      "name": "python"
    }
  },
  "cells": [
    {
      "cell_type": "markdown",
      "metadata": {
        "id": "view-in-github",
        "colab_type": "text"
      },
      "source": [
        "<a href=\"https://colab.research.google.com/github/CamiD11/caraza-harter-com/blob/master/Copy_of_ME310_Class_Exercise.ipynb\" target=\"_parent\"><img src=\"https://colab.research.google.com/assets/colab-badge.svg\" alt=\"Open In Colab\"/></a>"
      ]
    },
    {
      "cell_type": "markdown",
      "source": [
        "# Machine Learning in FFF\n",
        "\n",
        "### Developed by Paul E. V. Oehlmann, Gerardo A. Mazzei Capote, and Zijie Liu.\n",
        "\n",
        "Last revision: October 2021 columns: Uz, F file name: ME310-data.csv"
      ],
      "metadata": {
        "id": "AUq_epI2cOAK"
      }
    },
    {
      "cell_type": "code",
      "execution_count": 86,
      "metadata": {
        "colab": {
          "base_uri": "https://localhost:8080/",
          "height": 0
        },
        "id": "C2BkBI5KxQp1",
        "outputId": "8adc80d3-fa2a-49ea-b43a-e0a72b373ef7"
      },
      "outputs": [
        {
          "output_type": "stream",
          "name": "stdout",
          "text": [
            "Drive already mounted at /content/drive; to attempt to forcibly remount, call drive.mount(\"/content/drive\", force_remount=True).\n"
          ]
        }
      ],
      "source": [
        "from google.colab import drive\n",
        "drive.mount('/content/drive')"
      ]
    },
    {
      "cell_type": "markdown",
      "source": [
        "<div class=\"alert alert-block alert-info\">\n",
        "<b></b> The code below is designed to give you a simple introduction to Machine Learning (ML) applied to polymer engineering problems. The snippet of code below simply imports the necessary Python libraries so the code runs properly. Be sure to run this first and foremost. This particular application of ML utilizes the TensorFlow framework applied through keras.</div>"
      ],
      "metadata": {
        "id": "Tr9IWUgtceHz"
      }
    },
    {
      "cell_type": "code",
      "source": [
        "from __future__ import absolute_import, division, print_function\n",
        "\n",
        "import pathlib\n",
        "import numpy as np\n",
        "import matplotlib.pyplot as plt\n",
        "import pandas as pd\n",
        "import seaborn as sns\n",
        "import tensorflow as tf\n",
        "from tensorflow import keras\n",
        "from tensorflow.keras import layers\n",
        "\n",
        "print(tf.__version__)"
      ],
      "metadata": {
        "colab": {
          "base_uri": "https://localhost:8080/",
          "height": 0
        },
        "id": "resgrUjC4dwn",
        "outputId": "b7c4df83-2ef0-4abe-d7a8-b3cf472939b5"
      },
      "execution_count": 87,
      "outputs": [
        {
          "output_type": "stream",
          "name": "stdout",
          "text": [
            "2.9.2\n"
          ]
        }
      ]
    },
    {
      "cell_type": "markdown",
      "source": [
        "<div class=\"alert alert-block alert-info\">\n",
        "<b></b>The snippet of code below simply loads the data and formats it in a way the software can interpret it. Make sure you name the data under the csv file format and save it under the same directory as this Jupyter Notebook for the code to properly work! For the purposes of this class we will be using the following notation:\n",
        "\n",
        "* $U_{sz}$ is the measured filament velocity.\n",
        "* $F_z$ is the measured force applied by the filament.</div>"
      ],
      "metadata": {
        "id": "IQBpE0eEcmcU"
      }
    },
    {
      "cell_type": "code",
      "source": [
        "column_names = ['USZ','F']\n",
        "raw_dataset = pd.read_csv('/content/drive/My Drive/Colab Notebooks/0.8_Cleaned_Data.csv', names=column_names, na_values=\"?\", comment='\\t', sep=\",\", skipinitialspace=True)\n",
        "\n",
        "dataset = raw_dataset.copy()\n",
        "USZ = dataset.iloc[:, 0].values\n",
        "print(USZ[0:10])\n",
        "print(dataset)"
      ],
      "metadata": {
        "id": "daaqtpwmy-K4",
        "colab": {
          "base_uri": "https://localhost:8080/",
          "height": 0
        },
        "outputId": "a8569c86-84a0-43a9-b5a2-70cdf58b2203"
      },
      "execution_count": 88,
      "outputs": [
        {
          "output_type": "stream",
          "name": "stdout",
          "text": [
            "[1.16807874 1.19078997 1.35777164 1.061898   1.28479697 1.22028276\n",
            " 1.17144844 1.19320318 1.28904001 1.04228943]\n",
            "           USZ            F\n",
            "0     1.168079   615.711253\n",
            "1     1.190790   594.479830\n",
            "2     1.357772   615.711253\n",
            "3     1.061898   594.479830\n",
            "4     1.284797   615.711253\n",
            "...        ...          ...\n",
            "3413  3.749882  1019.108280\n",
            "3414  3.727945  1019.108280\n",
            "3415  3.735721  1040.339703\n",
            "3416  3.453037  1040.339703\n",
            "3417  3.430995  1019.108280\n",
            "\n",
            "[3418 rows x 2 columns]\n"
          ]
        }
      ]
    },
    {
      "cell_type": "markdown",
      "source": [
        "<div class=\"alert alert-block alert-info\">\n",
        "<b></b> The code below is designed to drop missing values in each column.</div>"
      ],
      "metadata": {
        "id": "YnWWYv4Rc0CL"
      }
    },
    {
      "cell_type": "code",
      "source": [
        "dataset.isna().sum()\n",
        "dataset = dataset.dropna()\n",
        "dataset.tail()"
      ],
      "metadata": {
        "id": "R_rfxFOp5qEz",
        "colab": {
          "base_uri": "https://localhost:8080/",
          "height": 206
        },
        "outputId": "80894fa2-a133-454a-a77c-e36b25bd83ab"
      },
      "execution_count": 89,
      "outputs": [
        {
          "output_type": "execute_result",
          "data": {
            "text/plain": [
              "           USZ            F\n",
              "3413  3.749882  1019.108280\n",
              "3414  3.727945  1019.108280\n",
              "3415  3.735721  1040.339703\n",
              "3416  3.453037  1040.339703\n",
              "3417  3.430995  1019.108280"
            ],
            "text/html": [
              "\n",
              "  <div id=\"df-77db2ecc-2d91-4972-98ee-a7fb3ed0bdea\">\n",
              "    <div class=\"colab-df-container\">\n",
              "      <div>\n",
              "<style scoped>\n",
              "    .dataframe tbody tr th:only-of-type {\n",
              "        vertical-align: middle;\n",
              "    }\n",
              "\n",
              "    .dataframe tbody tr th {\n",
              "        vertical-align: top;\n",
              "    }\n",
              "\n",
              "    .dataframe thead th {\n",
              "        text-align: right;\n",
              "    }\n",
              "</style>\n",
              "<table border=\"1\" class=\"dataframe\">\n",
              "  <thead>\n",
              "    <tr style=\"text-align: right;\">\n",
              "      <th></th>\n",
              "      <th>USZ</th>\n",
              "      <th>F</th>\n",
              "    </tr>\n",
              "  </thead>\n",
              "  <tbody>\n",
              "    <tr>\n",
              "      <th>3413</th>\n",
              "      <td>3.749882</td>\n",
              "      <td>1019.108280</td>\n",
              "    </tr>\n",
              "    <tr>\n",
              "      <th>3414</th>\n",
              "      <td>3.727945</td>\n",
              "      <td>1019.108280</td>\n",
              "    </tr>\n",
              "    <tr>\n",
              "      <th>3415</th>\n",
              "      <td>3.735721</td>\n",
              "      <td>1040.339703</td>\n",
              "    </tr>\n",
              "    <tr>\n",
              "      <th>3416</th>\n",
              "      <td>3.453037</td>\n",
              "      <td>1040.339703</td>\n",
              "    </tr>\n",
              "    <tr>\n",
              "      <th>3417</th>\n",
              "      <td>3.430995</td>\n",
              "      <td>1019.108280</td>\n",
              "    </tr>\n",
              "  </tbody>\n",
              "</table>\n",
              "</div>\n",
              "      <button class=\"colab-df-convert\" onclick=\"convertToInteractive('df-77db2ecc-2d91-4972-98ee-a7fb3ed0bdea')\"\n",
              "              title=\"Convert this dataframe to an interactive table.\"\n",
              "              style=\"display:none;\">\n",
              "        \n",
              "  <svg xmlns=\"http://www.w3.org/2000/svg\" height=\"24px\"viewBox=\"0 0 24 24\"\n",
              "       width=\"24px\">\n",
              "    <path d=\"M0 0h24v24H0V0z\" fill=\"none\"/>\n",
              "    <path d=\"M18.56 5.44l.94 2.06.94-2.06 2.06-.94-2.06-.94-.94-2.06-.94 2.06-2.06.94zm-11 1L8.5 8.5l.94-2.06 2.06-.94-2.06-.94L8.5 2.5l-.94 2.06-2.06.94zm10 10l.94 2.06.94-2.06 2.06-.94-2.06-.94-.94-2.06-.94 2.06-2.06.94z\"/><path d=\"M17.41 7.96l-1.37-1.37c-.4-.4-.92-.59-1.43-.59-.52 0-1.04.2-1.43.59L10.3 9.45l-7.72 7.72c-.78.78-.78 2.05 0 2.83L4 21.41c.39.39.9.59 1.41.59.51 0 1.02-.2 1.41-.59l7.78-7.78 2.81-2.81c.8-.78.8-2.07 0-2.86zM5.41 20L4 18.59l7.72-7.72 1.47 1.35L5.41 20z\"/>\n",
              "  </svg>\n",
              "      </button>\n",
              "      \n",
              "  <style>\n",
              "    .colab-df-container {\n",
              "      display:flex;\n",
              "      flex-wrap:wrap;\n",
              "      gap: 12px;\n",
              "    }\n",
              "\n",
              "    .colab-df-convert {\n",
              "      background-color: #E8F0FE;\n",
              "      border: none;\n",
              "      border-radius: 50%;\n",
              "      cursor: pointer;\n",
              "      display: none;\n",
              "      fill: #1967D2;\n",
              "      height: 32px;\n",
              "      padding: 0 0 0 0;\n",
              "      width: 32px;\n",
              "    }\n",
              "\n",
              "    .colab-df-convert:hover {\n",
              "      background-color: #E2EBFA;\n",
              "      box-shadow: 0px 1px 2px rgba(60, 64, 67, 0.3), 0px 1px 3px 1px rgba(60, 64, 67, 0.15);\n",
              "      fill: #174EA6;\n",
              "    }\n",
              "\n",
              "    [theme=dark] .colab-df-convert {\n",
              "      background-color: #3B4455;\n",
              "      fill: #D2E3FC;\n",
              "    }\n",
              "\n",
              "    [theme=dark] .colab-df-convert:hover {\n",
              "      background-color: #434B5C;\n",
              "      box-shadow: 0px 1px 3px 1px rgba(0, 0, 0, 0.15);\n",
              "      filter: drop-shadow(0px 1px 2px rgba(0, 0, 0, 0.3));\n",
              "      fill: #FFFFFF;\n",
              "    }\n",
              "  </style>\n",
              "\n",
              "      <script>\n",
              "        const buttonEl =\n",
              "          document.querySelector('#df-77db2ecc-2d91-4972-98ee-a7fb3ed0bdea button.colab-df-convert');\n",
              "        buttonEl.style.display =\n",
              "          google.colab.kernel.accessAllowed ? 'block' : 'none';\n",
              "\n",
              "        async function convertToInteractive(key) {\n",
              "          const element = document.querySelector('#df-77db2ecc-2d91-4972-98ee-a7fb3ed0bdea');\n",
              "          const dataTable =\n",
              "            await google.colab.kernel.invokeFunction('convertToInteractive',\n",
              "                                                     [key], {});\n",
              "          if (!dataTable) return;\n",
              "\n",
              "          const docLinkHtml = 'Like what you see? Visit the ' +\n",
              "            '<a target=\"_blank\" href=https://colab.research.google.com/notebooks/data_table.ipynb>data table notebook</a>'\n",
              "            + ' to learn more about interactive tables.';\n",
              "          element.innerHTML = '';\n",
              "          dataTable['output_type'] = 'display_data';\n",
              "          await google.colab.output.renderOutput(dataTable, element);\n",
              "          const docLink = document.createElement('div');\n",
              "          docLink.innerHTML = docLinkHtml;\n",
              "          element.appendChild(docLink);\n",
              "        }\n",
              "      </script>\n",
              "    </div>\n",
              "  </div>\n",
              "  "
            ]
          },
          "metadata": {},
          "execution_count": 89
        }
      ]
    },
    {
      "cell_type": "markdown",
      "source": [
        "<div class=\"alert alert-block alert-info\">\n",
        "<b></b> Split the data into train and test. We will use the test set in the final evaluation of our model. </div>"
      ],
      "metadata": {
        "id": "sr3nRbQUc5AO"
      }
    },
    {
      "cell_type": "code",
      "source": [
        "train_dataset = dataset.sample(frac=0.8, random_state=5)\n",
        "test_dataset = dataset.drop(train_dataset.index)"
      ],
      "metadata": {
        "id": "4VTISNrH5t9x"
      },
      "execution_count": 90,
      "outputs": []
    },
    {
      "cell_type": "markdown",
      "source": [
        "<div class=\"alert alert-block alert-info\">\n",
        "<b></b>Inspect the data. First, have a quick look at the joint distribution of a few pairs of colums from the training set. Then also look at the overall statistics.</div>"
      ],
      "metadata": {
        "id": "uq83n_H6c-_L"
      }
    },
    {
      "cell_type": "code",
      "source": [
        "sns.pairplot(train_dataset[[\"USZ\", \"F\"]], diag_kind=\"kde\")\n",
        "plt.show()"
      ],
      "metadata": {
        "id": "-9mU4uEQ5utG",
        "colab": {
          "base_uri": "https://localhost:8080/",
          "height": 374
        },
        "outputId": "2bb6f89e-2781-4650-91b5-792b31c63950"
      },
      "execution_count": 91,
      "outputs": [
        {
          "output_type": "display_data",
          "data": {
            "text/plain": [
              "<Figure size 360x360 with 6 Axes>"
            ],
            "image/png": "[encoded data removed]"
          },
          "metadata": {
            "needs_background": "light"
          }
        }
      ]
    },
    {
      "cell_type": "code",
      "source": [
        "train_stats = train_dataset.describe() #for calculating some statistical data like percentile, mean and std of the numerical values of the Series or DataFrame\n",
        "train_stats.pop(\"F\") \n",
        "train_stats = train_stats.transpose()\n",
        "train_stats"
      ],
      "metadata": {
        "id": "MO2jddaf5wjA",
        "colab": {
          "base_uri": "https://localhost:8080/",
          "height": 81
        },
        "outputId": "a47c290b-30f5-4c3f-c118-77a7fd047db8"
      },
      "execution_count": 92,
      "outputs": [
        {
          "output_type": "execute_result",
          "data": {
            "text/plain": [
              "      count      mean       std      min       25%       50%       75%  \\\n",
              "USZ  2734.0  2.752221  0.823008  0.87345  2.020079  2.783208  3.513959   \n",
              "\n",
              "          max  \n",
              "USZ  4.378702  "
            ],
            "text/html": [
              "\n",
              "  <div id=\"df-86a6fc39-d91b-4f19-877d-1be74d7bdc6d\">\n",
              "    <div class=\"colab-df-container\">\n",
              "      <div>\n",
              "<style scoped>\n",
              "    .dataframe tbody tr th:only-of-type {\n",
              "        vertical-align: middle;\n",
              "    }\n",
              "\n",
              "    .dataframe tbody tr th {\n",
              "        vertical-align: top;\n",
              "    }\n",
              "\n",
              "    .dataframe thead th {\n",
              "        text-align: right;\n",
              "    }\n",
              "</style>\n",
              "<table border=\"1\" class=\"dataframe\">\n",
              "  <thead>\n",
              "    <tr style=\"text-align: right;\">\n",
              "      <th></th>\n",
              "      <th>count</th>\n",
              "      <th>mean</th>\n",
              "      <th>std</th>\n",
              "      <th>min</th>\n",
              "      <th>25%</th>\n",
              "      <th>50%</th>\n",
              "      <th>75%</th>\n",
              "      <th>max</th>\n",
              "    </tr>\n",
              "  </thead>\n",
              "  <tbody>\n",
              "    <tr>\n",
              "      <th>USZ</th>\n",
              "      <td>2734.0</td>\n",
              "      <td>2.752221</td>\n",
              "      <td>0.823008</td>\n",
              "      <td>0.87345</td>\n",
              "      <td>2.020079</td>\n",
              "      <td>2.783208</td>\n",
              "      <td>3.513959</td>\n",
              "      <td>4.378702</td>\n",
              "    </tr>\n",
              "  </tbody>\n",
              "</table>\n",
              "</div>\n",
              "      <button class=\"colab-df-convert\" onclick=\"convertToInteractive('df-86a6fc39-d91b-4f19-877d-1be74d7bdc6d')\"\n",
              "              title=\"Convert this dataframe to an interactive table.\"\n",
              "              style=\"display:none;\">\n",
              "        \n",
              "  <svg xmlns=\"http://www.w3.org/2000/svg\" height=\"24px\"viewBox=\"0 0 24 24\"\n",
              "       width=\"24px\">\n",
              "    <path d=\"M0 0h24v24H0V0z\" fill=\"none\"/>\n",
              "    <path d=\"M18.56 5.44l.94 2.06.94-2.06 2.06-.94-2.06-.94-.94-2.06-.94 2.06-2.06.94zm-11 1L8.5 8.5l.94-2.06 2.06-.94-2.06-.94L8.5 2.5l-.94 2.06-2.06.94zm10 10l.94 2.06.94-2.06 2.06-.94-2.06-.94-.94-2.06-.94 2.06-2.06.94z\"/><path d=\"M17.41 7.96l-1.37-1.37c-.4-.4-.92-.59-1.43-.59-.52 0-1.04.2-1.43.59L10.3 9.45l-7.72 7.72c-.78.78-.78 2.05 0 2.83L4 21.41c.39.39.9.59 1.41.59.51 0 1.02-.2 1.41-.59l7.78-7.78 2.81-2.81c.8-.78.8-2.07 0-2.86zM5.41 20L4 18.59l7.72-7.72 1.47 1.35L5.41 20z\"/>\n",
              "  </svg>\n",
              "      </button>\n",
              "      \n",
              "  <style>\n",
              "    .colab-df-container {\n",
              "      display:flex;\n",
              "      flex-wrap:wrap;\n",
              "      gap: 12px;\n",
              "    }\n",
              "\n",
              "    .colab-df-convert {\n",
              "      background-color: #E8F0FE;\n",
              "      border: none;\n",
              "      border-radius: 50%;\n",
              "      cursor: pointer;\n",
              "      display: none;\n",
              "      fill: #1967D2;\n",
              "      height: 32px;\n",
              "      padding: 0 0 0 0;\n",
              "      width: 32px;\n",
              "    }\n",
              "\n",
              "    .colab-df-convert:hover {\n",
              "      background-color: #E2EBFA;\n",
              "      box-shadow: 0px 1px 2px rgba(60, 64, 67, 0.3), 0px 1px 3px 1px rgba(60, 64, 67, 0.15);\n",
              "      fill: #174EA6;\n",
              "    }\n",
              "\n",
              "    [theme=dark] .colab-df-convert {\n",
              "      background-color: #3B4455;\n",
              "      fill: #D2E3FC;\n",
              "    }\n",
              "\n",
              "    [theme=dark] .colab-df-convert:hover {\n",
              "      background-color: #434B5C;\n",
              "      box-shadow: 0px 1px 3px 1px rgba(0, 0, 0, 0.15);\n",
              "      filter: drop-shadow(0px 1px 2px rgba(0, 0, 0, 0.3));\n",
              "      fill: #FFFFFF;\n",
              "    }\n",
              "  </style>\n",
              "\n",
              "      <script>\n",
              "        const buttonEl =\n",
              "          document.querySelector('#df-86a6fc39-d91b-4f19-877d-1be74d7bdc6d button.colab-df-convert');\n",
              "        buttonEl.style.display =\n",
              "          google.colab.kernel.accessAllowed ? 'block' : 'none';\n",
              "\n",
              "        async function convertToInteractive(key) {\n",
              "          const element = document.querySelector('#df-86a6fc39-d91b-4f19-877d-1be74d7bdc6d');\n",
              "          const dataTable =\n",
              "            await google.colab.kernel.invokeFunction('convertToInteractive',\n",
              "                                                     [key], {});\n",
              "          if (!dataTable) return;\n",
              "\n",
              "          const docLinkHtml = 'Like what you see? Visit the ' +\n",
              "            '<a target=\"_blank\" href=https://colab.research.google.com/notebooks/data_table.ipynb>data table notebook</a>'\n",
              "            + ' to learn more about interactive tables.';\n",
              "          element.innerHTML = '';\n",
              "          dataTable['output_type'] = 'display_data';\n",
              "          await google.colab.output.renderOutput(dataTable, element);\n",
              "          const docLink = document.createElement('div');\n",
              "          docLink.innerHTML = docLinkHtml;\n",
              "          element.appendChild(docLink);\n",
              "        }\n",
              "      </script>\n",
              "    </div>\n",
              "  </div>\n",
              "  "
            ]
          },
          "metadata": {},
          "execution_count": 92
        }
      ]
    },
    {
      "cell_type": "markdown",
      "source": [
        "<div class=\"alert alert-block alert-info\">\n",
        "<b></b> Split features from labels.\n",
        "</div>"
      ],
      "metadata": {
        "id": "FpA8fzqmdICz"
      }
    },
    {
      "cell_type": "code",
      "source": [
        "train_labels = train_dataset.pop('F')\n",
        "test_labels = test_dataset.pop('F')\n",
        "test_labels"
      ],
      "metadata": {
        "id": "vDz4xHQ-5zxN",
        "colab": {
          "base_uri": "https://localhost:8080/",
          "height": 0
        },
        "outputId": "80855fd7-f307-4f8f-8c13-e5d01bd381b8"
      },
      "execution_count": 93,
      "outputs": [
        {
          "output_type": "execute_result",
          "data": {
            "text/plain": [
              "5        615.711253\n",
              "14       615.711253\n",
              "16       615.711253\n",
              "17       615.711253\n",
              "19       615.711253\n",
              "           ...     \n",
              "3351     997.876858\n",
              "3363     997.876858\n",
              "3366     997.876858\n",
              "3379    1061.571125\n",
              "3415    1040.339703\n",
              "Name: F, Length: 684, dtype: float64"
            ]
          },
          "metadata": {},
          "execution_count": 93
        }
      ]
    },
    {
      "cell_type": "markdown",
      "source": [
        "<div class=\"alert alert-block alert-info\">\n",
        "<b></b>Normalize the data. Look again at the train_stats block above and note how different the ranges of each feature are. It is good practice to normalize features that use different scales and ranges. Without feature normalization makes training more difficult and the resulting model dependent on the choice of units used in the input.\n",
        "\n",
        "Note: Although we intentionally generate these statistics from only the training dataset, these statistics will also be used to normalize the test dataset. We need to do that to project the test dataset into the same distribution that the model has been trained on.\n",
        "</div>"
      ],
      "metadata": {
        "id": "Wf1hYSBAdUIa"
      }
    },
    {
      "cell_type": "code",
      "source": [
        "def norm(x):\n",
        "    return (x - train_stats['mean']) / train_stats['std']\n",
        "\n",
        "normed_train_data = norm(train_dataset)\n",
        "normed_test_data = norm(test_dataset)"
      ],
      "metadata": {
        "id": "iJ7BrQtc6G7y"
      },
      "execution_count": 94,
      "outputs": []
    },
    {
      "cell_type": "markdown",
      "source": [
        "<div class=\"alert alert-block alert-info\">\n",
        "<b></b> Build the model: Here, we’ll use a Sequential model with two densely connected hidden layers, and an output layer that returns a single, continuous value. The model building steps are wrapped in a function, build_model, since we’ll create a second model, later on.\n",
        "</div>"
      ],
      "metadata": {
        "id": "OOuJcqg6dW62"
      }
    },
    {
      "cell_type": "code",
      "source": [
        "def build_model():\n",
        "    model = keras.Sequential([\n",
        "        layers.Dense(50, activation=tf.nn.sigmoid, input_shape=[\n",
        "                     len(train_dataset.keys())]),\n",
        "        layers.Dense(50, activation=tf.nn.sigmoid),\n",
        "        layers.Dense(1)\n",
        "  ])\n",
        "\n",
        "    optimizer = tf.keras.optimizers.Adam(learning_rate=0.1, beta_1=0.9, beta_2=0.999,epsilon=1e-07, amsgrad=False, name=\"Adam\")\n",
        "\n",
        "    model.compile(loss='mean_squared_error',\n",
        "                  optimizer=optimizer,\n",
        "                  metrics=['mean_absolute_error', 'mean_squared_error'])\n",
        "    return model\n",
        "\n",
        "\n",
        "model = build_model()"
      ],
      "metadata": {
        "id": "n0pGlwVa6I4L"
      },
      "execution_count": 95,
      "outputs": []
    },
    {
      "cell_type": "markdown",
      "source": [
        "<div class=\"alert alert-block alert-info\">\n",
        "<b></b> Inspect the model: Use the .summary method to print a simple description of the model. And try out the model. Take a batch of 10 examples from the training data and call model.predict on it.\n",
        "</div>"
      ],
      "metadata": {
        "id": "veFqoBKgdfVB"
      }
    },
    {
      "cell_type": "code",
      "source": [
        "print(model.summary())\n",
        "example_batch = normed_train_data[:10]\n",
        "example_result = model.predict(example_batch)\n",
        "print('example batch')\n",
        "print(example_batch)\n",
        "print('example result')\n",
        "print(example_result)"
      ],
      "metadata": {
        "id": "xL32wuTL6Ixn",
        "colab": {
          "base_uri": "https://localhost:8080/",
          "height": 0
        },
        "outputId": "955b4f35-a111-4ab5-dc47-cde121d83727"
      },
      "execution_count": 96,
      "outputs": [
        {
          "output_type": "stream",
          "name": "stdout",
          "text": [
            "Model: \"sequential_10\"\n",
            "_________________________________________________________________\n",
            " Layer (type)                Output Shape              Param #   \n",
            "=================================================================\n",
            " dense_30 (Dense)            (None, 50)                100       \n",
            "                                                                 \n",
            " dense_31 (Dense)            (None, 50)                2550      \n",
            "                                                                 \n",
            " dense_32 (Dense)            (None, 1)                 51        \n",
            "                                                                 \n",
            "=================================================================\n",
            "Total params: 2,701\n",
            "Trainable params: 2,701\n",
            "Non-trainable params: 0\n",
            "_________________________________________________________________\n",
            "None\n",
            "1/1 [==============================] - 0s 61ms/step\n",
            "example batch\n",
            "           USZ\n",
            "163  -1.375486\n",
            "2631  1.011012\n",
            "2193  0.696908\n",
            "2804  1.006695\n",
            "2128  0.452830\n",
            "2984  1.366163\n",
            "544  -1.709703\n",
            "3003  1.501782\n",
            "1834 -0.056906\n",
            "1056 -0.469143\n",
            "example result\n",
            "[[1.0205467]\n",
            " [1.026271 ]\n",
            " [1.0253414]\n",
            " [1.026258 ]\n",
            " [1.0246485]\n",
            " [1.0273646]\n",
            " [1.020035 ]\n",
            " [1.0277921]\n",
            " [1.0232993]\n",
            " [1.0223174]]\n"
          ]
        }
      ]
    },
    {
      "cell_type": "markdown",
      "source": [
        "<div class=\"alert alert-block alert-info\">\n",
        "<b></b>$Train$ $the$ $model$: Train the model for 500 epochs, and record the training and validation accuracy in the history object.</div>"
      ],
      "metadata": {
        "id": "X39ZkE-ddj8b"
      }
    },
    {
      "cell_type": "code",
      "source": [
        "# Display training progress by printing a single dot for each completed epoch\n",
        "class PrintDot(keras.callbacks.Callback):\n",
        "    def on_epoch_end(self, epoch, logs):\n",
        "        if epoch % 100 == 0:\n",
        "            print('')\n",
        "        print('.', end='')\n",
        "\n",
        "\n",
        "EPOCHS = 500\n",
        "\n",
        "history = model.fit(\n",
        "    normed_train_data, train_labels,\n",
        "    epochs=EPOCHS, validation_split=0.2, verbose=0,\n",
        "    callbacks=[PrintDot()])\n",
        "hist = pd.DataFrame(history.history)\n",
        "hist['epoch'] = history.epoch\n",
        "hist.tail()"
      ],
      "metadata": {
        "id": "IQuhm4js6InH",
        "colab": {
          "base_uri": "https://localhost:8080/",
          "height": 313
        },
        "outputId": "7fd54c5e-fa80-43e3-a8e0-6629553ee192"
      },
      "execution_count": 97,
      "outputs": [
        {
          "output_type": "stream",
          "name": "stdout",
          "text": [
            "\n",
            "....................................................................................................\n",
            "....................................................................................................\n",
            "....................................................................................................\n",
            "....................................................................................................\n",
            "...................................................................................................."
          ]
        },
        {
          "output_type": "execute_result",
          "data": {
            "text/plain": [
              "            loss  mean_absolute_error  mean_squared_error     val_loss  \\\n",
              "495  1188.365112            26.404760         1188.365112  1425.953857   \n",
              "496  1180.993286            25.914808         1180.993286  1304.989258   \n",
              "497  1221.930054            26.510658         1221.930054  1269.944214   \n",
              "498  1108.349487            25.677223         1108.349487  1213.416626   \n",
              "499  1092.436035            25.461399         1092.436035  1322.383545   \n",
              "\n",
              "     val_mean_absolute_error  val_mean_squared_error  epoch  \n",
              "495                28.689077             1425.953857    495  \n",
              "496                27.480238             1304.989258    496  \n",
              "497                27.560673             1269.944214    497  \n",
              "498                26.943810             1213.416626    498  \n",
              "499                27.389700             1322.383545    499  "
            ],
            "text/html": [
              "\n",
              "  <div id=\"df-c87cd686-3a78-4c10-9465-dec3ea89a487\">\n",
              "    <div class=\"colab-df-container\">\n",
              "      <div>\n",
              "<style scoped>\n",
              "    .dataframe tbody tr th:only-of-type {\n",
              "        vertical-align: middle;\n",
              "    }\n",
              "\n",
              "    .dataframe tbody tr th {\n",
              "        vertical-align: top;\n",
              "    }\n",
              "\n",
              "    .dataframe thead th {\n",
              "        text-align: right;\n",
              "    }\n",
              "</style>\n",
              "<table border=\"1\" class=\"dataframe\">\n",
              "  <thead>\n",
              "    <tr style=\"text-align: right;\">\n",
              "      <th></th>\n",
              "      <th>loss</th>\n",
              "      <th>mean_absolute_error</th>\n",
              "      <th>mean_squared_error</th>\n",
              "      <th>val_loss</th>\n",
              "      <th>val_mean_absolute_error</th>\n",
              "      <th>val_mean_squared_error</th>\n",
              "      <th>epoch</th>\n",
              "    </tr>\n",
              "  </thead>\n",
              "  <tbody>\n",
              "    <tr>\n",
              "      <th>495</th>\n",
              "      <td>1188.365112</td>\n",
              "      <td>26.404760</td>\n",
              "      <td>1188.365112</td>\n",
              "      <td>1425.953857</td>\n",
              "      <td>28.689077</td>\n",
              "      <td>1425.953857</td>\n",
              "      <td>495</td>\n",
              "    </tr>\n",
              "    <tr>\n",
              "      <th>496</th>\n",
              "      <td>1180.993286</td>\n",
              "      <td>25.914808</td>\n",
              "      <td>1180.993286</td>\n",
              "      <td>1304.989258</td>\n",
              "      <td>27.480238</td>\n",
              "      <td>1304.989258</td>\n",
              "      <td>496</td>\n",
              "    </tr>\n",
              "    <tr>\n",
              "      <th>497</th>\n",
              "      <td>1221.930054</td>\n",
              "      <td>26.510658</td>\n",
              "      <td>1221.930054</td>\n",
              "      <td>1269.944214</td>\n",
              "      <td>27.560673</td>\n",
              "      <td>1269.944214</td>\n",
              "      <td>497</td>\n",
              "    </tr>\n",
              "    <tr>\n",
              "      <th>498</th>\n",
              "      <td>1108.349487</td>\n",
              "      <td>25.677223</td>\n",
              "      <td>1108.349487</td>\n",
              "      <td>1213.416626</td>\n",
              "      <td>26.943810</td>\n",
              "      <td>1213.416626</td>\n",
              "      <td>498</td>\n",
              "    </tr>\n",
              "    <tr>\n",
              "      <th>499</th>\n",
              "      <td>1092.436035</td>\n",
              "      <td>25.461399</td>\n",
              "      <td>1092.436035</td>\n",
              "      <td>1322.383545</td>\n",
              "      <td>27.389700</td>\n",
              "      <td>1322.383545</td>\n",
              "      <td>499</td>\n",
              "    </tr>\n",
              "  </tbody>\n",
              "</table>\n",
              "</div>\n",
              "      <button class=\"colab-df-convert\" onclick=\"convertToInteractive('df-c87cd686-3a78-4c10-9465-dec3ea89a487')\"\n",
              "              title=\"Convert this dataframe to an interactive table.\"\n",
              "              style=\"display:none;\">\n",
              "        \n",
              "  <svg xmlns=\"http://www.w3.org/2000/svg\" height=\"24px\"viewBox=\"0 0 24 24\"\n",
              "       width=\"24px\">\n",
              "    <path d=\"M0 0h24v24H0V0z\" fill=\"none\"/>\n",
              "    <path d=\"M18.56 5.44l.94 2.06.94-2.06 2.06-.94-2.06-.94-.94-2.06-.94 2.06-2.06.94zm-11 1L8.5 8.5l.94-2.06 2.06-.94-2.06-.94L8.5 2.5l-.94 2.06-2.06.94zm10 10l.94 2.06.94-2.06 2.06-.94-2.06-.94-.94-2.06-.94 2.06-2.06.94z\"/><path d=\"M17.41 7.96l-1.37-1.37c-.4-.4-.92-.59-1.43-.59-.52 0-1.04.2-1.43.59L10.3 9.45l-7.72 7.72c-.78.78-.78 2.05 0 2.83L4 21.41c.39.39.9.59 1.41.59.51 0 1.02-.2 1.41-.59l7.78-7.78 2.81-2.81c.8-.78.8-2.07 0-2.86zM5.41 20L4 18.59l7.72-7.72 1.47 1.35L5.41 20z\"/>\n",
              "  </svg>\n",
              "      </button>\n",
              "      \n",
              "  <style>\n",
              "    .colab-df-container {\n",
              "      display:flex;\n",
              "      flex-wrap:wrap;\n",
              "      gap: 12px;\n",
              "    }\n",
              "\n",
              "    .colab-df-convert {\n",
              "      background-color: #E8F0FE;\n",
              "      border: none;\n",
              "      border-radius: 50%;\n",
              "      cursor: pointer;\n",
              "      display: none;\n",
              "      fill: #1967D2;\n",
              "      height: 32px;\n",
              "      padding: 0 0 0 0;\n",
              "      width: 32px;\n",
              "    }\n",
              "\n",
              "    .colab-df-convert:hover {\n",
              "      background-color: #E2EBFA;\n",
              "      box-shadow: 0px 1px 2px rgba(60, 64, 67, 0.3), 0px 1px 3px 1px rgba(60, 64, 67, 0.15);\n",
              "      fill: #174EA6;\n",
              "    }\n",
              "\n",
              "    [theme=dark] .colab-df-convert {\n",
              "      background-color: #3B4455;\n",
              "      fill: #D2E3FC;\n",
              "    }\n",
              "\n",
              "    [theme=dark] .colab-df-convert:hover {\n",
              "      background-color: #434B5C;\n",
              "      box-shadow: 0px 1px 3px 1px rgba(0, 0, 0, 0.15);\n",
              "      filter: drop-shadow(0px 1px 2px rgba(0, 0, 0, 0.3));\n",
              "      fill: #FFFFFF;\n",
              "    }\n",
              "  </style>\n",
              "\n",
              "      <script>\n",
              "        const buttonEl =\n",
              "          document.querySelector('#df-c87cd686-3a78-4c10-9465-dec3ea89a487 button.colab-df-convert');\n",
              "        buttonEl.style.display =\n",
              "          google.colab.kernel.accessAllowed ? 'block' : 'none';\n",
              "\n",
              "        async function convertToInteractive(key) {\n",
              "          const element = document.querySelector('#df-c87cd686-3a78-4c10-9465-dec3ea89a487');\n",
              "          const dataTable =\n",
              "            await google.colab.kernel.invokeFunction('convertToInteractive',\n",
              "                                                     [key], {});\n",
              "          if (!dataTable) return;\n",
              "\n",
              "          const docLinkHtml = 'Like what you see? Visit the ' +\n",
              "            '<a target=\"_blank\" href=https://colab.research.google.com/notebooks/data_table.ipynb>data table notebook</a>'\n",
              "            + ' to learn more about interactive tables.';\n",
              "          element.innerHTML = '';\n",
              "          dataTable['output_type'] = 'display_data';\n",
              "          await google.colab.output.renderOutput(dataTable, element);\n",
              "          const docLink = document.createElement('div');\n",
              "          docLink.innerHTML = docLinkHtml;\n",
              "          element.appendChild(docLink);\n",
              "        }\n",
              "      </script>\n",
              "    </div>\n",
              "  </div>\n",
              "  "
            ]
          },
          "metadata": {},
          "execution_count": 97
        }
      ]
    },
    {
      "cell_type": "markdown",
      "source": [
        "<div class=\"alert alert-block alert-info\">\n",
        "<b></b> Then we can visualize the model's training progress using the stats stored in the history object.\n",
        "</div>"
      ],
      "metadata": {
        "id": "kROtvUPKdntD"
      }
    },
    {
      "cell_type": "code",
      "source": [
        "def plot_history(history):\n",
        "    hist = pd.DataFrame(history.history)\n",
        "    hist['epoch'] = history.epoch\n",
        "\n",
        "    plt.figure()\n",
        "    plt.xlabel('Epoch')\n",
        "    plt.ylabel('Mean Abs Error [F]')\n",
        "    plt.plot(hist['epoch'], hist['mean_absolute_error'],\n",
        "             label='Train Error')\n",
        "    plt.plot(hist['epoch'], hist['val_mean_absolute_error'],\n",
        "             label='Val Error')\n",
        "    plt.legend()\n",
        "\n",
        "    plt.figure()\n",
        "    plt.xlabel('Epoch')\n",
        "    plt.ylabel('Mean Square Error [$F^2$]')\n",
        "    plt.plot(hist['epoch'], hist['mean_squared_error'],\n",
        "             label='Train Error')\n",
        "    plt.plot(hist['epoch'], hist['val_mean_squared_error'],\n",
        "             label='Val Error')\n",
        "    plt.legend()\n",
        "    plt.show()\n",
        "plot_history(history)\n"
      ],
      "metadata": {
        "id": "4wnLyYJl6IXP",
        "colab": {
          "base_uri": "https://localhost:8080/",
          "height": 541
        },
        "outputId": "df5feede-d2db-46dc-946a-64ca8881b02d"
      },
      "execution_count": 98,
      "outputs": [
        {
          "output_type": "display_data",
          "data": {
            "text/plain": [
              "<Figure size 432x288 with 1 Axes>"
            ],
            "image/png": "[encoded data removed]"
          },
          "metadata": {
            "needs_background": "light"
          }
        },
        {
          "output_type": "display_data",
          "data": {
            "text/plain": [
              "<Figure size 432x288 with 1 Axes>"
            ],
            "image/png": "[encoded data removed]"
          },
          "metadata": {
            "needs_background": "light"
          }
        }
      ]
    },
    {
      "cell_type": "markdown",
      "source": [
        "<div class=\"alert alert-block alert-info\">\n",
        "<b></b> Above graph shows little improvement, or even degradation in the validation error after about 100 epochs. We hope to automatically stop training when the validation score doesn’t improve. We’ll use an EarlyStopping callback that tests a training condition for every epoch. If a set amount of epochs elapses without showing improvement, then automatically stop the training.\n",
        "</div>"
      ],
      "metadata": {
        "id": "HwF1DsusdqvZ"
      }
    },
    {
      "cell_type": "code",
      "source": [
        "model = build_model()\n",
        "# The patience parameter is the amount of epochs to check for improvement\n",
        "early_stop = keras.callbacks.EarlyStopping(monitor='val_loss', patience=10)\n",
        "\n",
        "# Validate\n",
        "history = model.fit(normed_train_data, train_labels, epochs=EPOCHS,\n",
        "                    validation_split=0.2, verbose=0, callbacks=[early_stop, PrintDot()])\n",
        "\n",
        "plot_history(history)"
      ],
      "metadata": {
        "id": "hIBJ9Nx_6SV3",
        "colab": {
          "base_uri": "https://localhost:8080/",
          "height": 577
        },
        "outputId": "0635b971-0b6d-4cf2-99b0-c192234d894a"
      },
      "execution_count": 99,
      "outputs": [
        {
          "output_type": "stream",
          "name": "stdout",
          "text": [
            "\n",
            "..................................................."
          ]
        },
        {
          "output_type": "display_data",
          "data": {
            "text/plain": [
              "<Figure size 432x288 with 1 Axes>"
            ],
            "image/png": "[encoded data removed]"
          },
          "metadata": {
            "needs_background": "light"
          }
        },
        {
          "output_type": "display_data",
          "data": {
            "text/plain": [
              "<Figure size 432x288 with 1 Axes>"
            ],
            "image/png": "[encoded data removed]"
          },
          "metadata": {
            "needs_background": "light"
          }
        }
      ]
    },
    {
      "cell_type": "markdown",
      "source": [
        "<div class=\"alert alert-block alert-info\">\n",
        "<b></b>Let’s see how well the model generalizes by using the test set, which we did not use when training the model. This tells us how well we can expect the model to predict when we use it in the real world.\n",
        "</div>"
      ],
      "metadata": {
        "id": "4GLJJNd_dtsu"
      }
    },
    {
      "cell_type": "code",
      "source": [
        "loss, mae, mse = model.evaluate(normed_test_data, test_labels, verbose=0)\n",
        "\n",
        "print(\"Testing set Mean Abs Error: {:5.2f} F\".format(mae))"
      ],
      "metadata": {
        "id": "GDTMWsau6WJn",
        "colab": {
          "base_uri": "https://localhost:8080/",
          "height": 0
        },
        "outputId": "136d4a7f-76ac-45c8-fafb-9af1f24e0725"
      },
      "execution_count": 100,
      "outputs": [
        {
          "output_type": "stream",
          "name": "stdout",
          "text": [
            "Testing set Mean Abs Error: 25.45 F\n"
          ]
        }
      ]
    },
    {
      "cell_type": "markdown",
      "source": [
        "<div class=\"alert alert-block alert-info\">\n",
        "<b></b> Make predictions: Finally, predict F values using data in the testing set\n",
        "</div>"
      ],
      "metadata": {
        "id": "_--DgwWLdwfN"
      }
    },
    {
      "cell_type": "code",
      "source": [
        "test_predictions = model.predict(normed_test_data).flatten()\n",
        "print(test_labels, test_predictions)\n",
        "plt.scatter(test_labels, test_predictions)\n",
        "plt.xlim([600, 1000])\n",
        "plt.ylim([600, 1000])\n",
        "plt.xlabel('Test data [F]')\n",
        "plt.ylabel('Predictions [F]')\n",
        "plt.axis('equal')\n",
        "plt.axis('square')\n",
        "plt.xlim([500, plt.xlim()[1]])\n",
        "plt.ylim([500, plt.ylim()[1]])\n",
        "_ = plt.plot([500, 1000], [500, 1000])\n",
        "plt.show()"
      ],
      "metadata": {
        "id": "xwFzTloa6YAQ",
        "colab": {
          "base_uri": "https://localhost:8080/",
          "height": 2529
        },
        "outputId": "01d2f6db-67e6-4080-bc19-63863093c7ed"
      },
      "execution_count": 101,
      "outputs": [
        {
          "output_type": "stream",
          "name": "stdout",
          "text": [
            "22/22 [==============================] - 0s 1ms/step\n",
            "5        615.711253\n",
            "14       615.711253\n",
            "16       615.711253\n",
            "17       615.711253\n",
            "19       615.711253\n",
            "           ...     \n",
            "3351     997.876858\n",
            "3363     997.876858\n",
            "3366     997.876858\n",
            "3379    1061.571125\n",
            "3415    1040.339703\n",
            "Name: F, Length: 684, dtype: float64 [ 607.5234   607.4725   607.51776  607.5309   607.5226   607.6279\n",
            "  607.5177   607.4954   607.5215   607.50195  607.54706  607.4265\n",
            "  607.55273  607.50226  607.49695  607.5199   607.5292   607.5373\n",
            "  607.5259   607.7817   607.7165   607.799    607.7943   607.70465\n",
            "  607.9489   607.8571   607.9214   607.6128   607.7238   607.84357\n",
            "  607.7831   607.7585   607.76984  607.7623   608.00824  607.8936\n",
            "  607.76465  607.7606   607.6416   607.811    607.8652   607.7461\n",
            "  607.6558   607.8671   607.6704   607.82043  607.7696   607.8346\n",
            "  607.73566  607.80664  607.8556   607.78674  607.4345   607.6932\n",
            "  607.8637   607.7674   607.79236  607.6622   607.80035  607.7199\n",
            "  607.8711   607.7985   607.6829   607.6939   607.7868   607.7955\n",
            "  607.7729   607.79846  607.8185   607.7733   607.73724  607.80396\n",
            "  607.8745   607.81305  607.76733  607.70166  607.7863   607.6978\n",
            "  607.7324   607.79034  607.8327   607.77277  607.73376  607.7287\n",
            "  607.8551   607.76575  607.8598   607.7236   607.78314  607.846\n",
            "  607.9615   607.92145  607.7368   607.8704   607.8472   607.7341\n",
            "  607.8082   607.72675  607.7142   607.8036   607.84357  607.7308\n",
            "  607.79834  607.7911   607.6266   607.78204  607.66846  607.6957\n",
            "  607.7854   607.6502   608.0286   607.7527   607.66956  607.76636\n",
            "  607.85913  607.79156  607.6431   607.8072   607.7411   608.5421\n",
            "  608.7357   608.41595  608.79535  608.98615  608.7152   608.9673\n",
            "  608.6787   608.3948   608.1747   608.79297  608.1352   608.9017\n",
            "  608.9045   608.60706  608.4062   608.3793   608.4066   608.23096\n",
            "  608.5032   608.4208   608.3734   608.481    609.0566   608.8629\n",
            "  608.68506  608.5507   608.7607   608.4107   609.7783   608.4447\n",
            "  608.48694  608.4671   609.0513   609.40656  608.8913   608.59436\n",
            "  608.4766   608.6273   608.17615  609.2349   608.4322   608.56665\n",
            "  608.70123  608.8543   608.2439   608.7752   611.249    608.4303\n",
            "  608.44824  608.3015   608.2211   608.5559   609.0667   608.88605\n",
            "  608.5073   608.8923   609.09863  608.3447   608.41626  609.0843\n",
            "  609.3038   609.46375  608.1707   610.25366  609.12714  608.8981\n",
            "  608.444    608.56586  608.80756  608.47565  608.51526  608.41077\n",
            "  608.92206  609.0286   608.80524  609.08844  609.018    608.81744\n",
            "  608.473    608.6991   608.26196  608.50507  608.74506  608.7764\n",
            "  608.97424  608.4549   608.3747   608.4567   608.4685   608.7618\n",
            "  609.3341   608.31805  608.44824  608.3329   608.81995  610.0261\n",
            "  608.5484   613.5517   618.9229   613.9157   620.1944   613.84784\n",
            "  614.6266   625.14813  617.02264  617.42975  614.4744   616.9305\n",
            "  615.19653  614.9474   612.4666   615.27997  621.99066  618.80176\n",
            "  614.72833  617.7643   619.7128   617.2012   616.09705  613.9941\n",
            "  614.83655  614.0041   622.6573   616.014    612.29694  619.1513\n",
            "  619.29236  616.91736  616.48016  655.9243   620.2575   616.9854\n",
            "  615.5362   623.28033  614.82074  619.0522   628.5492   617.6568\n",
            "  614.03687  615.5847   621.0206   616.68054  626.4104   615.2672\n",
            "  626.10046  631.3815   612.7362   632.1539   614.6334   610.4808\n",
            "  613.468    622.01624  616.48834  619.54755  613.7053   614.9227\n",
            "  620.2308   615.73987  614.70966  615.19745  623.3286   618.92694\n",
            "  612.2411   627.1324   611.7225   616.4154   615.95166  614.58203\n",
            "  616.9676   616.93726  616.4796   612.7397   621.2913   620.2361\n",
            "  612.7523   618.2865   620.5638   614.9262   636.7324   612.7004\n",
            "  619.7985   611.4373   617.59656  622.9921   633.2333   622.55334\n",
            "  619.6436   616.5555   616.0769   671.39764  674.02325  674.3454\n",
            "  672.88824  672.9931   673.2571   672.33777  673.4353   673.7754\n",
            "  673.79565  671.953    671.73474  672.8008   674.2679   673.891\n",
            "  674.2869   674.0972   674.27234  670.9668   671.34717  673.09863\n",
            "  672.29456  675.24365  674.92676  674.571    673.62476  674.01886\n",
            "  673.651    673.6113   674.3118   673.4839   673.5886   673.26373\n",
            "  672.76935  674.085    673.0509   674.25574  675.33484  673.65643\n",
            "  673.9048   673.59973  674.2075   674.75146  673.8694   673.9846\n",
            "  660.12665  672.9487   674.48755  673.99976  674.0066   673.8728\n",
            "  673.4876   673.5369   673.8267   673.6624   673.19037  673.68713\n",
            "  674.0987   673.927    675.62213  671.3503   686.2436   673.8009\n",
            "  673.53564  673.6543   674.19     674.2514   673.2336   673.8628\n",
            "  672.9505   674.0835   674.01575  674.43445  670.8421   673.8491\n",
            "  674.2479   673.4461   673.00665  674.2845   677.654    674.6241\n",
            "  673.5686   673.77826  674.1643   673.10236  673.3846   674.5972\n",
            "  673.6522   673.19183  673.2616   674.0634   673.936    777.6862\n",
            "  777.6584   763.9166   767.631    785.88544  764.36743  774.656\n",
            "  740.1986   786.0489   766.9968   763.7375   757.07935  763.1769\n",
            "  766.66296  760.8012   763.58057  775.7257   756.01807  779.3883\n",
            "  773.76105  753.36884  781.4357   774.28     763.817    830.03687\n",
            "  760.4871   767.65643  762.4325   762.8661   740.15045  775.12006\n",
            "  772.00964  778.07074  798.77045  763.77673  775.1358   755.57214\n",
            "  761.73096  772.86664  775.0868   798.8713   762.47455  816.92615\n",
            "  771.69257  766.7237   772.2967   757.8646   774.686    766.6681\n",
            "  761.20966  762.35754  750.5208   772.1642   767.96106  767.51154\n",
            "  774.7558   772.3224   766.8473   774.38916  764.0242   762.9446\n",
            "  761.7471   768.8657   777.91284  769.44275  770.5829   768.0762\n",
            "  769.91486  774.7344   755.77875  770.39886  778.0347   778.1008\n",
            "  762.1736   763.6354   770.7518   767.3179   760.32446  783.9426\n",
            "  779.36115  762.3379   831.4224   770.59534  766.1985   762.83344\n",
            "  769.9992   778.1648   792.2418   763.58734  765.2452   773.35626\n",
            "  800.7896   759.8151   757.1132   750.67584  773.21985  764.2841\n",
            "  770.5377   764.03046  772.1927   776.72675  765.7694   776.31616\n",
            "  765.381    781.63873  758.9261   774.1369   752.868    882.04114\n",
            "  775.55164  774.089    917.79663  882.0694   882.06946  922.0548\n",
            "  916.72943  882.06805  882.0694   882.06946  990.6947   882.08636\n",
            "  916.8026   882.0692   861.87317  916.8224   872.9051   882.0699\n",
            "  882.21356  882.0699   893.0572   882.0694   896.4157   882.0695\n",
            "  954.61365  882.0696   882.08136  988.7667   917.14417  916.9044\n",
            "  882.09076  916.8032   882.63654  882.0678   925.83777  882.076\n",
            "  917.03015  882.0692   916.47076  889.839    882.0699   882.0696\n",
            "  882.0694   915.0717   882.07043  990.60046  916.8042   915.72327\n",
            "  917.2367   882.0699   902.73175  882.5319   882.12524  882.0692\n",
            "  882.0822   882.6606   882.0692   956.1902   882.0694   892.3489\n",
            "  885.776    857.3063   882.0696   916.8064   915.53033 1015.0499\n",
            "  882.0699   917.43054  916.8048   914.63776  917.8916   916.14624\n",
            "  916.8019   916.803    916.8013   882.0697   882.0692   882.06915\n",
            "  936.89136  988.15625  906.6925   961.4789   870.6082   882.3862\n",
            "  882.06744  892.94196  916.7031  1025.5735  1025.5834  1025.5834\n",
            " 1025.5834  1025.5834  1025.5834  1025.5829  1025.5834  1025.5834\n",
            " 1025.5834  1025.5834  1025.5834  1025.5834  1025.5834  1025.5834\n",
            " 1025.5834  1025.5834  1025.5804  1025.5834  1025.5834  1025.5834\n",
            " 1025.5834  1025.5834  1025.5815  1025.5834   990.6687  1025.5834\n",
            " 1025.5834   991.6537  1025.5834  1025.5834  1025.5834   991.6315\n",
            " 1025.5834  1025.5834  1025.5834  1025.5834  1022.51025 1025.5834\n",
            " 1025.5834  1025.5834  1025.5834  1025.5834  1019.48376  990.62146\n",
            " 1025.5834  1025.5834  1025.5834  1025.5834  1025.5834  1024.5219\n",
            "  793.7485  1025.5757  1025.5834  1025.5834  1025.5834  1025.5834\n",
            " 1025.5834  1025.5834  1025.5834   976.885   1024.2378  1025.5834\n",
            " 1025.5834  1025.5834  1025.5798  1025.5834  1025.5834  1025.5834\n",
            " 1024.8826  1025.5834  1025.5834  1025.5834  1021.5005  1025.4056\n",
            " 1025.5834  1025.5834  1025.5834  1025.5834  1025.5803  1025.5834\n",
            " 1025.5834  1025.5834  1025.5834  1025.5834  1025.5828   986.7926 ]\n"
          ]
        },
        {
          "output_type": "display_data",
          "data": {
            "text/plain": [
              "<Figure size 432x288 with 1 Axes>"
            ],
            "image/png": "[encoded data removed]"
          },
          "metadata": {
            "needs_background": "light"
          }
        }
      ]
    },
    {
      "cell_type": "markdown",
      "source": [
        "<div class=\"alert alert-block alert-info\">\n",
        "<b></b> It looks like our model predicts reasonably well. Let’s take a look at the error distribution.\n",
        "</div>"
      ],
      "metadata": {
        "id": "VbiySjEAdzB0"
      }
    },
    {
      "cell_type": "code",
      "source": [
        "error = test_predictions - test_labels\n",
        "plt.hist(error, bins=50)\n",
        "plt.xlabel(\"Prediction Error [F]\")\n",
        "_ = plt.ylabel(\"Count\")\n",
        "plt.show()"
      ],
      "metadata": {
        "id": "Ey0Zyjki6aAf",
        "colab": {
          "base_uri": "https://localhost:8080/",
          "height": 279
        },
        "outputId": "95fb4f46-f240-4c04-e2d9-418129ceedeb"
      },
      "execution_count": 102,
      "outputs": [
        {
          "output_type": "display_data",
          "data": {
            "text/plain": [
              "<Figure size 432x288 with 1 Axes>"
            ],
            "image/png": "[encoded data removed]"
          },
          "metadata": {
            "needs_background": "light"
          }
        }
      ]
    },
    {
      "cell_type": "markdown",
      "source": [
        "Done! Congratulation!!!"
      ],
      "metadata": {
        "id": "B64TSTsdd1ai"
      }
    }
  ]
}